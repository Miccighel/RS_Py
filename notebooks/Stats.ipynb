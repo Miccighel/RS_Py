{
 "cells": [
  {
   "cell_type": "code",
   "execution_count": 2,
   "outputs": [
    {
     "name": "stdout",
     "text": [
      "---------- PRINTING PARSED RATING MATRIX (Part of it) ----------\n",
      "---------- PRINTING PARSED IDENTIFIERS ----------\nPAPER:   [0, 1]\nREADER:  [0, 1, 2, 3, 4, 5]\nAUTHOR:  [0]\n---------- PRINTING PARSED QUANTITIES ----------\nPAPER STEADINESS:   [1.000003, 0.5527874045000422]\nPAPER SCORE:        [0.7999988000036001, 0.5]\nREADER STEADINESS:  [1.000003, 1.000003, 1.5527904045000422, 1.5527904045000422, 0.0, 0.0]\nREADER SCORE:       [0.9989045565281977, 0.22540410535324928, 0.5011572610252991, 0.9992945301858136, 1e-06, 1e-06]\nAUTHOR STEADINESS:  [1.5527904045000422]\nAUTHOR SCORE:       [0.6932003824409205]\n"
     ],
     "output_type": "stream"
    },
    {
     "name": "stderr",
     "text": [
      "C:\\Ambienti\\Anaconda3\\lib\\site-packages\\ipykernel_launcher.py:24: FutureWarning: convert_objects is deprecated.  To re-infer data dtypes for object columns, use DataFrame.infer_objects()\nFor all other conversions use the data-type specific converters pd.to_datetime, pd.to_timedelta and pd.to_numeric.\n"
     ],
     "output_type": "stream"
    },
    {
     "data": {
      "text/plain": "     0    1\n0  0.8  0.0\n1  0.2  0.0\n2  0.2  0.5\n3  0.8  0.5",
      "text/html": "<div>\n<style scoped>\n    .dataframe tbody tr th:only-of-type {\n        vertical-align: middle;\n    }\n\n    .dataframe tbody tr th {\n        vertical-align: top;\n    }\n\n    .dataframe thead th {\n        text-align: right;\n    }\n</style>\n<table border=\"1\" class=\"dataframe\">\n  <thead>\n    <tr style=\"text-align: right;\">\n      <th></th>\n      <th>0</th>\n      <th>1</th>\n    </tr>\n  </thead>\n  <tbody>\n    <tr>\n      <th>0</th>\n      <td>0.8</td>\n      <td>0.0</td>\n    </tr>\n    <tr>\n      <th>1</th>\n      <td>0.2</td>\n      <td>0.0</td>\n    </tr>\n    <tr>\n      <th>2</th>\n      <td>0.2</td>\n      <td>0.5</td>\n    </tr>\n    <tr>\n      <th>3</th>\n      <td>0.8</td>\n      <td>0.5</td>\n    </tr>\n  </tbody>\n</table>\n</div>"
     },
     "metadata": {},
     "output_type": "display_data"
    }
   ],
   "source": [
    "\n",
    "import pandas as pd\n",
    "import numpy as np\n",
    "import math as m\n",
    "import collections\n",
    "import os\n",
    "import json\n",
    "import csv\n",
    "import seaborn as sns\n",
    "import random as rn\n",
    "from random import randint\n",
    "from scipy.stats import beta\n",
    "from matplotlib import pyplot as plt\n",
    "\n",
    "# Seed folder path\n",
    "\n",
    "dataset_name = \"ground_truth_1\"\n",
    "dataset_folder_path = f\"../models/{dataset_name}/readersourcing/\"\n",
    "ratings_filename = f\"{dataset_folder_path}ratings.csv\"\n",
    "quantities_filename = f\"{dataset_folder_path}quantities.json\"\n",
    "stats_filename = f\"{dataset_folder_path}stats.csv\"\n",
    "\n",
    "ratings_dataframe = pd.read_csv(ratings_filename, header=None)\n",
    "ratings_dataframe[ratings_dataframe.columns] = ratings_dataframe[ratings_dataframe.columns].convert_objects(convert_numeric=True)\n",
    "\n",
    "stats_dataframe = ratings_dataframe.copy()\n",
    "stats_dataframe[stats_dataframe > 0.0000001] = 1\n",
    "\n",
    "with open(quantities_filename) as f:\n",
    "   quantities = json.load(f)\n",
    "\n",
    "papers = quantities[0][\"Identifiers\"]   \n",
    "readers = quantities[2][\"Identifiers\"]   \n",
    "authors = quantities[4][\"Identifiers\"]   \n",
    "   \n",
    "paper_steadiness = quantities[0][\"Values\"]\n",
    "paper_score = quantities[1][\"Values\"]\n",
    "reader_steadiness = quantities[2][\"Values\"]\n",
    "reader_score = quantities[3][\"Values\"]\n",
    "author_steadiness = quantities[4][\"Values\"]\n",
    "author_score = quantities[5][\"Values\"]\n",
    "\n",
    "print(\"---------- PRINTING PARSED RATING MATRIX (Part of it) ----------\")\n",
    "display(ratings_dataframe.head(10))\n",
    "\n",
    "print(\"---------- PRINTING PARSED IDENTIFIERS ----------\")\n",
    "print(\"PAPER:  \", papers)\n",
    "print(\"READER: \", readers)\n",
    "print(\"AUTHOR: \", authors)\n",
    "\n",
    "print(\"---------- PRINTING PARSED QUANTITIES ----------\")\n",
    "print(\"PAPER STEADINESS:  \", paper_steadiness)\n",
    "print(\"PAPER SCORE:       \", paper_score)\n",
    "print(\"READER STEADINESS: \", reader_steadiness)\n",
    "print(\"READER SCORE:      \", reader_score)\n",
    "print(\"AUTHOR STEADINESS: \", author_steadiness)\n",
    "print(\"AUTHOR SCORE:      \", author_score)"
   ],
   "metadata": {
    "collapsed": false,
    "pycharm": {
     "name": "#%%\n",
     "is_executing": false
    }
   }
  },
  {
   "cell_type": "code",
   "execution_count": 3,
   "outputs": [
    {
     "name": "stdout",
     "text": [
      "---------- STATS GENERATION STARTED ----------\n",
      "MAX NUMBER OF RATINGS FOR A PAPER:  4\nMIN NUMBER OF RATINGS FOR A PAPER:  2\nMEAN NUMBER OF RATINGS FOR A PAPER:  3\nNUMBER OF PAPERS WITH UNIQUE RATING:  0\nCounter({1.0: 2, 2.0: 2})\nMAX NUMBER OF RATINGS FOR A READER:  2\nMIN NUMBER OF RATINGS FOR A READER:  1\nMEAN NUMBER OF RATINGS FOR A READER:  1\nNUMBER OF READERS WITH UNIQUE RATING:  0\n---------- STATS GENERATION COMPLETED ----------\n"
     ],
     "output_type": "stream"
    },
    {
     "data": {
      "text/plain": "<Figure size 432x288 with 1 Axes>",
      "image/png": "[encoded data removed]"
     },
     "metadata": {
      "needs_background": "light"
     },
     "output_type": "display_data"
    }
   ],
   "source": [
    "\n",
    "# stats file generation\n",
    "\n",
    "print(\"---------- STATS GENERATION STARTED ----------\")\n",
    "\n",
    "sums_paper = stats_dataframe.copy().sum(axis=0)\n",
    "sums_paper_dataframe = pd.DataFrame(sums_paper)\n",
    "\n",
    "max_ratings_paper = sums_paper_dataframe.max()\n",
    "min_ratings_paper = sums_paper_dataframe.min()\n",
    "mean_ratings_paper = sums_paper_dataframe.mean(axis=0)\n",
    "\n",
    "sns.distplot(sums_paper_dataframe, kde=False)\n",
    "plt.show()\n",
    "\n",
    "print(\"MAX NUMBER OF RATINGS FOR A PAPER: \", int(max_ratings_paper.values[0]))\n",
    "print(\"MIN NUMBER OF RATINGS FOR A PAPER: \", int(min_ratings_paper.values[0]))\n",
    "print(\"MEAN NUMBER OF RATINGS FOR A PAPER: \", int(mean_ratings_paper.values[0]))\n",
    "\n",
    "ratings_dataframe = ratings_dataframe.T\n",
    "counter = 0\n",
    "for index, row in ratings_dataframe.iterrows():\n",
    "    if len(np.unique(row)) == 1:\n",
    "        counter+=1\n",
    "        \n",
    "print(\"NUMBER OF PAPERS WITH UNIQUE RATING: \", counter)\n",
    "\n",
    "sums_reader = stats_dataframe.copy().sum(axis=1)\n",
    "counter=collections.Counter(sums_reader)\n",
    "print(counter)\n",
    "sums_reader_dataframe = pd.DataFrame(sums_reader)\n",
    "\n",
    "max_ratings_reader = sums_reader_dataframe.max()\n",
    "min_ratings_reader = sums_reader_dataframe.min()\n",
    "mean_ratings_reader = sums_reader_dataframe.mean(axis=1)\n",
    "\n",
    "print(\"MAX NUMBER OF RATINGS FOR A READER: \", int(max_ratings_reader.values[0]))\n",
    "print(\"MIN NUMBER OF RATINGS FOR A READER: \", int(min_ratings_reader.values[0]))\n",
    "print(\"MEAN NUMBER OF RATINGS FOR A READER: \", int(mean_ratings_reader.values[0]))\n",
    "\n",
    "ratings_dataframe = ratings_dataframe\n",
    "counter = 0\n",
    "for index, row in ratings_dataframe.iterrows():\n",
    "    if len(np.unique(row)) == 1:\n",
    "        counter+=1\n",
    "        \n",
    "print(\"NUMBER OF READERS WITH UNIQUE RATING: \", counter)\n",
    "\n",
    "# Stats file generation\n",
    "\n",
    "stats_dataframe = pd.DataFrame(columns=[\n",
    "    \"Dataset\",\n",
    "    \"Max Number Rating Paper\", \n",
    "    \"Min Number Rating Paper\", \n",
    "    \"Mean Number Rating Paper\",\n",
    "    \"Max Number Rating Reader\", \n",
    "    \"Min Number Rating Reader\", \n",
    "    \"Mean Number Rating Reader\"\n",
    "])\n",
    "stats_dataframe = stats_dataframe.append(\n",
    "    {\n",
    "        \"Dataset\": dataset_name, \n",
    "        \"Max Number Rating Paper\": int(max_ratings_paper.values[0]), \n",
    "        \"Min Number Rating Paper\": int(min_ratings_paper.values[0]), \n",
    "        \"Mean Number Rating Paper\": int(mean_ratings_paper.values[0]), \n",
    "        \"Max Number Rating Reader\": int(max_ratings_reader.values[0]), \n",
    "        \"Min Number Rating Reader\": int(min_ratings_reader.values[0]), \n",
    "        \"Mean Number Rating Reader\": int(mean_ratings_reader.values[0]), \n",
    "    }, ignore_index=True)\n",
    "stats_dataframe.to_csv(stats_filename, index=False)\n",
    "\n",
    "print(\"---------- STATS GENERATION COMPLETED ----------\")"
   ],
   "metadata": {
    "collapsed": false,
    "pycharm": {
     "name": "#%%\n",
     "is_executing": false
    }
   }
  },
  {
   "cell_type": "code",
   "execution_count": null,
   "outputs": [],
   "source": [
    "\n"
   ],
   "metadata": {
    "collapsed": false,
    "pycharm": {
     "name": "#%%\n"
    }
   }
  }
 ],
 "metadata": {
  "language_info": {
   "codemirror_mode": {
    "name": "ipython",
    "version": 2
   },
   "file_extension": ".py",
   "mimetype": "text/x-python",
   "name": "python",
   "nbconvert_exporter": "python",
   "pygments_lexer": "ipython2",
   "version": "2.7.6"
  },
  "kernelspec": {
   "name": "python3",
   "language": "python",
   "display_name": "Python 3"
  },
  "pycharm": {
   "stem_cell": {
    "cell_type": "raw",
    "source": [],
    "metadata": {
     "collapsed": false
    }
   }
  }
 },
 "nbformat": 4,
 "nbformat_minor": 0
}