{
 "cells": [
  {
   "cell_type": "code",
   "execution_count": 11,
   "outputs": [
    {
     "name": "stdout",
     "text": [
      "---------- PRINTING PARSED RATING MATRIX (Part of it) ----------\n",
      "---------- PRINTING PARSED IDENTIFIERS ----------\nPAPER:   [0, 1]\nREADER:  [0, 1, 2]\nAUTHOR:  [0, 1]\n---------- PRINTING PARSED QUANTITIES ----------\nPAPER STEADINESS:   [3e-06, 2.7690598923241496]\nPAPER SCORE:        [0.5366666666666666, 0.4741940759062552]\nREADER STEADINESS:  [2.7690628923241496, 2.7690628923241496, 2.7690628923241496]\nREADER SCORE:       [0.6622330287505745, 0.3247363794008299, 0.33352160805166764]\nAUTHOR STEADINESS:  [2.7690628923241496, 2.7690628923241496]\nAUTHOR SCORE:       [0.4741941435889982, 0.4741941435889982]\n"
     ],
     "output_type": "stream"
    },
    {
     "name": "stderr",
     "text": [
      "C:\\Ambienti\\Miniconda3\\lib\\site-packages\\ipykernel_launcher.py:21: FutureWarning: convert_objects is deprecated.  To re-infer data dtypes for object columns, use DataFrame.infer_objects()\nFor all other conversions use the data-type specific converters pd.to_datetime, pd.to_timedelta and pd.to_numeric.\n"
     ],
     "output_type": "stream"
    },
    {
     "data": {
      "text/plain": "      0     1\n0  0.51  0.36\n1  0.51  0.93\n2  0.00  0.00",
      "text/html": "<div>\n<style scoped>\n    .dataframe tbody tr th:only-of-type {\n        vertical-align: middle;\n    }\n\n    .dataframe tbody tr th {\n        vertical-align: top;\n    }\n\n    .dataframe thead th {\n        text-align: right;\n    }\n</style>\n<table border=\"1\" class=\"dataframe\">\n  <thead>\n    <tr style=\"text-align: right;\">\n      <th></th>\n      <th>0</th>\n      <th>1</th>\n    </tr>\n  </thead>\n  <tbody>\n    <tr>\n      <th>0</th>\n      <td>0.51</td>\n      <td>0.36</td>\n    </tr>\n    <tr>\n      <th>1</th>\n      <td>0.51</td>\n      <td>0.93</td>\n    </tr>\n    <tr>\n      <th>2</th>\n      <td>0.00</td>\n      <td>0.00</td>\n    </tr>\n  </tbody>\n</table>\n</div>"
     },
     "metadata": {},
     "output_type": "display_data"
    }
   ],
   "source": [
    "\n",
    "import pandas as pd\n",
    "import numpy as np\n",
    "import math as m\n",
    "import os\n",
    "import json\n",
    "import csv\n",
    "import random as rn\n",
    "from random import randint\n",
    "from scipy.stats import beta\n",
    "\n",
    "# Seed folder path\n",
    "\n",
    "dataset_name = \"ground_truth_2\"\n",
    "dataset_folder_path = f\"../models/{dataset_name}/readersourcing/\"\n",
    "ratings_filename = f\"{dataset_folder_path}ratings.csv\"\n",
    "quantities_filename = f\"{dataset_folder_path}quantities.json\"\n",
    "stats_filename = f\"{dataset_folder_path}stats.csv\"\n",
    "\n",
    "ratings_dataframe = pd.read_csv(ratings_filename, header=None)\n",
    "ratings_dataframe[ratings_dataframe.columns] = ratings_dataframe[ratings_dataframe.columns].convert_objects(convert_numeric=True)\n",
    "\n",
    "stats_dataframe = ratings_dataframe.copy()\n",
    "stats_dataframe[stats_dataframe > 0.0000001] = 1\n",
    "\n",
    "with open(quantities_filename) as f:\n",
    "   quantities = json.load(f)\n",
    "\n",
    "papers = quantities[0][\"Identifiers\"]   \n",
    "readers = quantities[2][\"Identifiers\"]   \n",
    "authors = quantities[4][\"Identifiers\"]   \n",
    "   \n",
    "paper_steadiness = quantities[0][\"Values\"]\n",
    "paper_score = quantities[1][\"Values\"]\n",
    "reader_steadiness = quantities[2][\"Values\"]\n",
    "reader_score = quantities[3][\"Values\"]\n",
    "author_steadiness = quantities[4][\"Values\"]\n",
    "author_score = quantities[5][\"Values\"]\n",
    "\n",
    "print(\"---------- PRINTING PARSED RATING MATRIX (Part of it) ----------\")\n",
    "display(ratings_dataframe.head(10))\n",
    "\n",
    "print(\"---------- PRINTING PARSED IDENTIFIERS ----------\")\n",
    "print(\"PAPER:  \", papers)\n",
    "print(\"READER: \", readers)\n",
    "print(\"AUTHOR: \", authors)\n",
    "\n",
    "print(\"---------- PRINTING PARSED QUANTITIES ----------\")\n",
    "print(\"PAPER STEADINESS:  \", paper_steadiness)\n",
    "print(\"PAPER SCORE:       \", paper_score)\n",
    "print(\"READER STEADINESS: \", reader_steadiness)\n",
    "print(\"READER SCORE:      \", reader_score)\n",
    "print(\"AUTHOR STEADINESS: \", author_steadiness)\n",
    "print(\"AUTHOR SCORE:      \", author_score)"
   ],
   "metadata": {
    "collapsed": false,
    "pycharm": {
     "name": "#%%\n",
     "is_executing": false
    }
   }
  },
  {
   "cell_type": "code",
   "execution_count": 12,
   "outputs": [
    {
     "name": "stdout",
     "text": [
      "---------- STATS GENERATION STARTED ----------\nMAX NUMBER OF RATINGS FOR A PAPER:  2\nMIN NUMBER OF RATINGS FOR A PAPER:  2\nMEAN NUMBER OF RATINGS FOR A PAPER:  2.0\nNUMBER OF PAPERS WITH UNIQUE RATING:  0\n",
      "---------- STATS GENERATION COMPLETED ----------\n"
     ],
     "output_type": "stream"
    }
   ],
   "source": [
    "\n",
    "# stats file generation\n",
    "\n",
    "print(\"---------- STATS GENERATION STARTED ----------\")\n",
    "\n",
    "sums = stats_dataframe.sum(axis=0)\n",
    "sums_dataframe = pd.DataFrame(sums)\n",
    "\n",
    "max_ratings_paper = sums_dataframe.max()\n",
    "min_ratings_paper = sums_dataframe.min()\n",
    "mean_ratings_paper = sums_dataframe.mean(axis=0)\n",
    "\n",
    "print(\"MAX NUMBER OF RATINGS FOR A PAPER: \", int(max_ratings_paper.values[0]))\n",
    "print(\"MIN NUMBER OF RATINGS FOR A PAPER: \", int(min_ratings_paper.values[0]))\n",
    "print(\"MEAN NUMBER OF RATINGS FOR A PAPER: \", mean_ratings_paper.values[0])\n",
    "\n",
    "ratings_dataframe = ratings_dataframe.T\n",
    "counter = 0\n",
    "for index, row in ratings_dataframe.iterrows():\n",
    "    if len(np.unique(row)) == 1:\n",
    "        counter+=1\n",
    "        \n",
    "print(\"NUMBER OF PAPERS WITH UNIQUE RATING: \", counter)\n",
    "\n",
    "# Stats file generation\n",
    "\n",
    "stats_dataframe = pd.DataFrame(columns=[\n",
    "    \"Dataset\", \"Max Rating Paper\", \"Min Rating Paper\", \"Mean Rating Paper\"]\n",
    ")\n",
    "stats_dataframe = stats_dataframe.append(\n",
    "    {\n",
    "        \"Dataset\": dataset_name, \n",
    "        \"Max Rating Paper\": int(max_ratings_paper.values[0]), \n",
    "        \"Min Rating Paper\": int(min_ratings_paper.values[0]), \n",
    "        \"Mean Rating Paper\": mean_ratings_paper.values[0], \n",
    "    }, ignore_index=True)\n",
    "stats_dataframe.to_csv(stats_filename, index=False)\n",
    "\n",
    "print(\"---------- STATS GENERATION COMPLETED ----------\")\n"
   ],
   "metadata": {
    "collapsed": false,
    "pycharm": {
     "name": "#%%\n",
     "is_executing": false
    }
   }
  },
  {
   "cell_type": "code",
   "execution_count": null,
   "outputs": [],
   "source": [
    "\n"
   ],
   "metadata": {
    "collapsed": false,
    "pycharm": {
     "name": "#%%\n"
    }
   }
  }
 ],
 "metadata": {
  "language_info": {
   "codemirror_mode": {
    "name": "ipython",
    "version": 2
   },
   "file_extension": ".py",
   "mimetype": "text/x-python",
   "name": "python",
   "nbconvert_exporter": "python",
   "pygments_lexer": "ipython2",
   "version": "2.7.6"
  },
  "kernelspec": {
   "name": "python3",
   "language": "python",
   "display_name": "Python 3"
  },
  "pycharm": {
   "stem_cell": {
    "cell_type": "raw",
    "source": [],
    "metadata": {
     "collapsed": false
    }
   }
  }
 },
 "nbformat": 4,
 "nbformat_minor": 0
}