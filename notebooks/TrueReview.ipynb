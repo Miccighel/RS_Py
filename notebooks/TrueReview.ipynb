{
  "cells": [
    {
      "cell_type": "code",
      "execution_count": 11,
      "metadata": {
        "collapsed": false,
        "pycharm": {
          "is_executing": false
        }
      },
      "outputs": [
        {
          "name": "stdout",
          "text": [
            "TIMESTAMP 0 - READER 0 - PAPER 0 - SCORE 0.51\nTIMESTAMP 2 - READER 1 - PAPER 0 - SCORE 0.51\nTIMESTAMP 4 - READER 2 - PAPER 0 - SCORE 0.59\nTIMESTAMP 1 - READER 0 - PAPER 1 - SCORE 0.36\nTIMESTAMP 3 - READER 1 - PAPER 1 - SCORE 0.93\nTIMESTAMP 5 - READER 2 - PAPER 1 - SCORE 0.03\n"
          ],
          "output_type": "stream"
        }
      ],
      "source": "import pandas as pd\nimport seaborn as sb\nimport numpy as np\nimport math as m\nfrom matplotlib import pyplot as plt\nimport os\nimport json\n\nnp.set_printoptions(formatter\u003d{\u0027float\u0027: lambda x: \"{0:0.2f}\".format(x)})\n\n# CSV file parsing\n\ndataset_name \u003d \"ground_truth_2\"\ndataset_folder_path \u003d f\"../data/{dataset_name}/\"\ninfo_filename \u003d f\"{dataset_folder_path}info.csv\"\nratings_filename \u003d f\"{dataset_folder_path}ratings.csv\"\nauthors_filename \u003d f\"{dataset_folder_path}authors.csv\"\n\ninfo \u003d pd.read_csv(info_filename)\npaper_authors \u003d pd.read_csv(authors_filename)\npaper_authors \u003d paper_authors.values\npaper_ratings \u003d pd.read_csv(ratings_filename)\npaper_ratings \u003d paper_ratings.values\n\n# Initial setup\n\ndataset_name \u003d info[\"Dataset\"][0] \npapers_number \u003d info[\"Paper\"][0]\nreaders_number \u003d info[\"Reader\"][0] \nratings_number \u003d info[\"Rating\"][0]\npapers \u003d np.arange(papers_number)\nreaders \u003d np.arange(readers_number)\nratings \u003d np.arange(ratings_number)\npaper_score \u003d np.zeros(papers_number)\nrating_informativeness \u003d np.zeros(ratings_number)\nrating_accuracy_loss \u003d np.zeros(ratings_number)\nrating_bonus \u003d np.zeros(ratings_number)\nreader_bonus \u003d np.zeros(readers_number)\nreader_score \u003d np.zeros(readers_number)\n\n\ndef quadratic_loss(a, b):\n    return m.pow((a - b), 2)\n\n\ndef logistic_function(value):\n    return 1 / 1 + (m.exp((-1 * (value - 0.5))))\n\n\nfor current_paper in papers:\n\n    current_paper_ratings \u003d []\n    ratings_sum \u003d 0\n    \n    # For each paper, consider only its ratings and throw away the other ones\n    \n    for index, entry in enumerate(paper_ratings):\n    \n        # Example: \u003c1,1,2,0.8\u003e\n        # At Timestamp 1 Reader 1 gave to Paper 2 a Rating of 0.8\n        timestamp \u003d int(entry[0])\n        reader \u003d int(entry[1])\n        paper \u003d int(entry[2])\n        rating \u003d entry[3]\n        \n        if paper \u003d\u003d current_paper:\n            current_paper_ratings.append(entry)\n\n    # For each rating of the paper under consideration, compute the required quantities\n     \n    for index, entry in enumerate(current_paper_ratings):\n\n        # Example: \u003c1,1,2,0.8\u003e\n        # At Timestamp 1 Reader 1 gave to Paper 2 a Rating of 0.8\n        timestamp \u003d int(entry[0])\n        reader \u003d int(entry[1])\n        paper \u003d int(entry[2])\n        rating \u003d entry[3]\n        \n        print(f\"TIMESTAMP {timestamp} - READER {reader} - PAPER {paper} - SCORE {rating}\")\n    \n        # 0 \u003c i \u003c n\n    \n        if 0 \u003c index \u003c len(current_paper_ratings)-1:\n            \n            # COMPUTATION START: QI_PAST\n            \n            past_ratings \u003d current_paper_ratings[:index] \n            past_scores \u003d []\n            for past_index, past_entry in enumerate(past_ratings):\n                past_rating \u003d past_entry[3]\n                past_scores.append(past_rating)\n                \n            # COMPUTATION START: QI_FUTURE\n                \n            future_ratings \u003d current_paper_ratings[(index+1):]\n            future_scores \u003d []\n            for future_index, future_entry in enumerate(future_ratings):\n                future_rating \u003d future_entry[3]\n                future_scores.append(future_rating)\n            \n            qi_past_ratings \u003d sum(past_scores) / len(past_scores)\n            qi_future_ratings \u003d sum(future_scores) / len(future_scores)\n                                \n            # COMPUTATION START: INFORMATIVENESS and ACCURACY LOSS\n            \n            rating_informativeness[timestamp] \u003d quadratic_loss(qi_past_ratings, qi_future_ratings)\n            rating_accuracy_loss[timestamp] \u003d quadratic_loss(rating, qi_future_ratings)\n            \n            # COMPUTATION START: RATING BONUS\n            \n            rating_bonus[timestamp] \u003d rating_informativeness[timestamp] * logistic_function(rating_accuracy_loss[timestamp])\n            \n            # COMPUTATION START: READER BONUS - it is the sum of the bonus computed for each of its ratings\n            \n            reader_bonus[reader] \u003d reader_bonus[reader] + rating_bonus[timestamp]\n            \n        # Sum the current rating to compute the mean at the end\n            \n        ratings_sum \u003d ratings_sum + rating\n            \n    # COMPUTATION START: PAPER SCORE - scores can be aggregated with an index of your choice\n    \n    paper_score[current_paper] \u003d ratings_sum / len(current_paper_ratings)"
    },
    {
      "cell_type": "code",
      "execution_count": 12,
      "metadata": {
        "collapsed": false,
        "pycharm": {
          "is_executing": false
        }
      },
      "outputs": [
        {
          "name": "stdout",
          "text": [
            "RATING INFORMATIVENESS:  [0.00 0.00 0.01 0.11 0.00 0.00]\nRATING ACCURACY LOSS:    [0.00 0.00 0.01 0.81 0.00 0.00]\nRATING BONUS:            [0.00 0.00 0.02 0.19 0.00 0.00]\nREADER BONUS:            [0.00 0.21 0.00]\nPAPER  SCORE:            [0.54 0.44]\nPRINTING QUANTITIES TO .JSON FILE AT PATH ../models/ground_truth_2/truereview/quantities.json\nPRINTING RATING MATRIX TO .JSON FILE AT PATH ../models/ground_truth_2/truereview/ratings.json\n"
          ],
          "output_type": "stream"
        }
      ],
      "source": "# Summary\n\nprint(\"RATING INFORMATIVENESS: \", rating_informativeness)\nprint(\"RATING ACCURACY LOSS:   \", rating_accuracy_loss)\nprint(\"RATING BONUS:           \", rating_bonus)\nprint(\"READER BONUS:           \", reader_bonus)\nprint(\"PAPER  SCORE:           \", paper_score)\n\nresult_folder_path \u003d f\"../models/{dataset_name}/\"\n\ncolumns \u003d [\u0027Quantity\u0027, \u0027Identifiers\u0027,\u0027Values\u0027]\ndictionary \u003d [\n    {\u0027Quantity\u0027: \u0027Rating Informativeness\u0027, \u0027Identifiers\u0027: ratings.tolist(), \u0027Values\u0027: rating_informativeness.tolist()},\n    {\u0027Quantity\u0027: \u0027Rating Accuracy Loss\u0027, \u0027Identifiers\u0027: ratings.tolist(), \u0027Values\u0027: rating_accuracy_loss.tolist()},\n    {\u0027Quantity\u0027: \u0027Rating Bonus\u0027, \u0027Identifiers\u0027: ratings.tolist(), \u0027Values\u0027: rating_bonus.tolist()},\n    {\u0027Quantity\u0027: \u0027Reader Bonus\u0027, \u0027Identifiers\u0027: readers.tolist(), \u0027Values\u0027: reader_bonus.tolist()},\n    {\u0027Quantity\u0027: \u0027Paper Score\u0027, \u0027Identifiers\u0027: papers.tolist(), \u0027Values\u0027: paper_score.tolist()},\n]\n\nquantities_filename \u003d f\"{result_folder_path}truereview/quantities.json\"\nos.makedirs(f\"{result_folder_path}truereview/\", exist_ok\u003dTrue)\n\nprint(f\"PRINTING QUANTITIES TO .JSON FILE AT PATH {quantities_filename}\")\n\nwith open(quantities_filename, \u0027w\u0027) as outfile:  \n    json.dump(dictionary, outfile)\n\nrating_matrix \u003d np.zeros((readers_number, papers_number))\n\nfor index, entry in enumerate(paper_ratings) :\n\n    # Example: \u003c1,1,2,0.8,0\u003e\n    # At Timestamp 1 Reader 1 gave to Paper 2 a Rating of 0.8\n    timestamp \u003d int(entry[0])\n    reader \u003d int(entry[1])\n    paper \u003d int(entry[2])\n    rating \u003d entry[3]\n    \n    rating_matrix[reader][paper] \u003d rating\n    \nratings_dataframe \u003d pd.DataFrame(rating_matrix)\n\nratings_filename \u003d f\"{result_folder_path}truereview/ratings.json\"\nos.makedirs(f\"{result_folder_path}truereview/\", exist_ok\u003dTrue)\n\nprint(f\"PRINTING RATING MATRIX TO .JSON FILE AT PATH {ratings_filename}\")\n\nratings_dataframe.to_json(ratings_filename)"
    }
  ],
  "metadata": {
    "kernelspec": {
      "name": "pycharm-c574516d",
      "language": "python",
      "display_name": "PyCharm (RS_Py)"
    },
    "language_info": {
      "codemirror_mode": {
        "name": "ipython",
        "version": 2
      },
      "file_extension": ".py",
      "mimetype": "text/x-python",
      "name": "python",
      "nbconvert_exporter": "python",
      "pygments_lexer": "ipython2",
      "version": "2.7.6"
    }
  },
  "nbformat": 4,
  "nbformat_minor": 0
}