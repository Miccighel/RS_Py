{
 "cells": [
  {
   "cell_type": "code",
   "execution_count": 3,
   "metadata": {
    "collapsed": true
   },
   "outputs": [
    {
     "name": "stdout",
     "output_type": "stream",
     "text": [
      "0.8\n0.8\n"
     ]
    },
    {
     "ename": "ZeroDivisionError",
     "evalue": "division by zero",
     "traceback": [
      "\u001b[1;31m---------------------------------------------------------------------------\u001b[0m",
      "\u001b[1;31mZeroDivisionError\u001b[0m                         Traceback (most recent call last)",
      "\u001b[1;32m<ipython-input-3-f021edd1cabf>\u001b[0m in \u001b[0;36m<module>\u001b[1;34m\u001b[0m\n\u001b[0;32m     55\u001b[0m             \u001b[0mtrue_future_ratings\u001b[0m\u001b[1;33m.\u001b[0m\u001b[0mappend\u001b[0m\u001b[1;33m(\u001b[0m\u001b[0mfuture_rating\u001b[0m\u001b[1;33m)\u001b[0m\u001b[1;33m\u001b[0m\u001b[1;33m\u001b[0m\u001b[0m\n\u001b[0;32m     56\u001b[0m \u001b[1;33m\u001b[0m\u001b[0m\n\u001b[1;32m---> 57\u001b[1;33m     \u001b[0mqi_past_ratings\u001b[0m \u001b[1;33m=\u001b[0m \u001b[0msum\u001b[0m\u001b[1;33m(\u001b[0m\u001b[0mtrue_past_ratings\u001b[0m\u001b[1;33m)\u001b[0m \u001b[1;33m/\u001b[0m \u001b[0mlen\u001b[0m\u001b[1;33m(\u001b[0m\u001b[0mtrue_past_ratings\u001b[0m\u001b[1;33m)\u001b[0m\u001b[1;33m\u001b[0m\u001b[1;33m\u001b[0m\u001b[0m\n\u001b[0m\u001b[0;32m     58\u001b[0m     \u001b[0mqi_future_ratings\u001b[0m \u001b[1;33m=\u001b[0m \u001b[0msum\u001b[0m\u001b[1;33m(\u001b[0m\u001b[0mtrue_future_ratings\u001b[0m\u001b[1;33m)\u001b[0m \u001b[1;33m/\u001b[0m \u001b[0mlen\u001b[0m\u001b[1;33m(\u001b[0m\u001b[0mtrue_future_ratings\u001b[0m\u001b[1;33m)\u001b[0m\u001b[1;33m\u001b[0m\u001b[1;33m\u001b[0m\u001b[0m\n\u001b[0;32m     59\u001b[0m \u001b[1;33m\u001b[0m\u001b[0m\n",
      "\u001b[1;31mZeroDivisionError\u001b[0m: division by zero"
     ],
     "output_type": "error"
    }
   ],
   "source": [
    "import pandas as pd\n",
    "import seaborn as sb\n",
    "import numpy as np\n",
    "import math as m\n",
    "from matplotlib import pyplot as plt\n",
    "\n",
    "np.set_printoptions(formatter={'float': lambda x: \"{0:0.2f}\".format(x)})\n",
    "\n",
    "# CSV file parsing\n",
    "\n",
    "info = pd.read_csv(\"data/info.csv\")\n",
    "paper_authors = pd.read_csv(\"data/authors.csv\")\n",
    "paper_authors = paper_authors.values\n",
    "paper_ratings = pd.read_csv(\"data/ratings.csv\")\n",
    "paper_ratings = paper_ratings.values\n",
    "\n",
    "# Initial setup\n",
    "\n",
    "dataset_name = info[\"Dataset\"][0] \n",
    "papers_number = info[\"Paper\"][0]\n",
    "readers_number = info[\"Reader\"][0] \n",
    "ratings_number = info[\"Rating\"][0]\n",
    "papers = np.arange(papers_number)\n",
    "readers = np.arange(readers_number)\n",
    "ratings = np.arange(ratings_number)\n",
    "paper_score = np.zeros(papers_number)\n",
    "rating_bonuses = np.zeros(ratings_number)\n",
    "reader_bonuses = np.zeros(readers_number)\n",
    "reader_score = np.zeros(readers_number)\n",
    "\n",
    "for index, entry in enumerate(paper_ratings):\n",
    "\n",
    "    # Example: <1,1,2,0.8>\n",
    "    # At Timestamp 1 Reader 1 gave to Paper 2 a Rating of 0.8\n",
    "    timestamp = int(entry[0]) \n",
    "    reader = int(entry[1]) \n",
    "    paper = int(entry[2]) \n",
    "    rating = entry[3] \n",
    "    \n",
    "    past_ratings = paper_ratings[:(index-1)] \n",
    "    future_ratings = paper_ratings[(index+1):] \n",
    "    true_past_ratings = [] \n",
    "    true_future_ratings = []\n",
    "    \n",
    "    for past_index, past_entry in enumerate(past_ratings): \n",
    "        past_paper = int(entry[2]) \n",
    "        past_rating = entry[3] \n",
    "        if paper == past_paper: \n",
    "            true_past_ratings.append(past_rating) \n",
    "    \n",
    "    for future_index, future_entry in enumerate(future_ratings): \n",
    "        future_paper = int(entry[2]) \n",
    "        future_rating = entry[3] \n",
    "        if paper == future_paper: \n",
    "            true_future_ratings.append(future_rating) \n",
    "    \n",
    "    qi_past_ratings = sum(true_past_ratings) / len(true_past_ratings) \n",
    "    qi_future_ratings = sum(true_future_ratings) / len(true_future_ratings) \n",
    "    \n",
    "    print(qi_past_ratings) \n",
    "    print(qi_future_ratings)\n"
   ]
  },
  {
   "cell_type": "code",
   "execution_count": null,
   "metadata": {},
   "outputs": [],
   "source": []
  }
 ],
 "metadata": {
  "kernelspec": {
   "display_name": "Python 2",
   "language": "python",
   "name": "python2"
  },
  "language_info": {
   "codemirror_mode": {
    "name": "ipython",
    "version": 2
   },
   "file_extension": ".py",
   "mimetype": "text/x-python",
   "name": "python",
   "nbconvert_exporter": "python",
   "pygments_lexer": "ipython2",
   "version": "2.7.6"
  }
 },
 "nbformat": 4,
 "nbformat_minor": 0
}
