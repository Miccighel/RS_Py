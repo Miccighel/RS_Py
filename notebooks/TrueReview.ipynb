{
 "cells": [
  {
   "cell_type": "code",
   "execution_count": 77,
   "metadata": {
    "collapsed": true
   },
   "outputs": [
    {
     "name": "stdout",
     "output_type": "stream",
     "text": [
      "RATING INFORMATIVENESS:  [0.00 0.09 0.09 0.00 0.00 0.00]\nRATING ACCURACY LOSS:    [0.00 0.09 0.36 0.00 0.00 0.00]\nRATING BONUS:            [0.00 0.23 0.19 0.00 0.00 0.00]\n"
     ]
    }
   ],
   "source": [
    "import pandas as pd\n",
    "import seaborn as sb\n",
    "import numpy as np\n",
    "import math as m\n",
    "from matplotlib import pyplot as plt\n",
    "\n",
    "np.set_printoptions(formatter={'float': lambda x: \"{0:0.2f}\".format(x)})\n",
    "\n",
    "# CSV file parsing\n",
    "\n",
    "info = pd.read_csv(\"data/info.csv\")\n",
    "paper_authors = pd.read_csv(\"data/authors.csv\")\n",
    "paper_authors = paper_authors.values\n",
    "paper_ratings = pd.read_csv(\"data/ratings.csv\")\n",
    "paper_ratings = paper_ratings.values\n",
    "\n",
    "# Initial setup\n",
    "\n",
    "dataset_name = info[\"Dataset\"][0] \n",
    "papers_number = info[\"Paper\"][0]\n",
    "readers_number = info[\"Reader\"][0] \n",
    "ratings_number = info[\"Rating\"][0]\n",
    "papers = np.arange(papers_number)\n",
    "readers = np.arange(readers_number)\n",
    "ratings = np.arange(ratings_number)\n",
    "paper_score = np.zeros(papers_number)\n",
    "rating_informativeness = np.zeros(ratings_number)\n",
    "rating_accuracy_loss = np.zeros(ratings_number)\n",
    "rating_bonus = np.zeros(ratings_number)\n",
    "reader_bonus = np.zeros(readers_number)\n",
    "reader_score = np.zeros(readers_number)\n",
    "\n",
    "\n",
    "def quadratic_loss(a, b):\n",
    "    return m.pow((a - b), 2)\n",
    "\n",
    "\n",
    "def logistic_function(value):\n",
    "    return 1 / 1 + (m.exp((-1 * (value - 0.5))))\n",
    "\n",
    "\n",
    "for current_paper in papers:\n",
    "\n",
    "    current_paper_ratings = []\n",
    "    \n",
    "    for index, entry in enumerate(paper_ratings):\n",
    "    \n",
    "        # Example: <1,1,2,0.8>\n",
    "        # At Timestamp 1 Reader 1 gave to Paper 2 a Rating of 0.8\n",
    "        timestamp = int(entry[0])\n",
    "        reader = int(entry[1])\n",
    "        paper = int(entry[2])\n",
    "        rating = entry[3]\n",
    "        \n",
    "        if paper == current_paper:\n",
    "            current_paper_ratings.append(entry)\n",
    "     \n",
    "    for index, entry in enumerate(current_paper_ratings):\n",
    "    \n",
    "        timestamp = int(entry[0])\n",
    "        reader = int(entry[1])\n",
    "        paper = int(entry[2])\n",
    "        rating = entry[3]\n",
    "    \n",
    "        if 0 < index < len(current_paper_ratings)-1:\n",
    "            \n",
    "            past_ratings = current_paper_ratings[:index] \n",
    "            past_scores = []\n",
    "            for past_index, past_entry in enumerate(past_ratings):\n",
    "                past_rating = past_entry[3]\n",
    "                past_scores.append(past_rating)\n",
    "                \n",
    "            future_ratings = current_paper_ratings[(index+1):]\n",
    "            future_scores = []\n",
    "            for future_index, future_entry in enumerate(future_ratings):\n",
    "                future_rating = future_entry[3]\n",
    "                future_scores.append(future_rating)\n",
    "            \n",
    "            qi_past_ratings = sum(past_scores) / len(past_scores)\n",
    "            qi_future_ratings = sum(future_scores) / len(future_scores)\n",
    "                                \n",
    "            rating_informativeness[timestamp] = quadratic_loss(qi_past_ratings, qi_future_ratings)\n",
    "            rating_accuracy_loss[timestamp] = quadratic_loss(rating, qi_future_ratings)\n",
    "            rating_bonus[timestamp] = rating_informativeness[timestamp] * logistic_function(rating_accuracy_loss[timestamp])\n",
    "            \n",
    "print(\"RATING INFORMATIVENESS: \", rating_informativeness)\n",
    "print(\"RATING ACCURACY LOSS:   \", rating_accuracy_loss)\n",
    "print(\"RATING BONUS:           \", rating_bonus)"
   ]
  },
  {
   "cell_type": "code",
   "execution_count": null,
   "metadata": {},
   "outputs": [],
   "source": []
  }
 ],
 "metadata": {
  "kernelspec": {
   "display_name": "Python 2",
   "language": "python",
   "name": "python2"
  },
  "language_info": {
   "codemirror_mode": {
    "name": "ipython",
    "version": 2
   },
   "file_extension": ".py",
   "mimetype": "text/x-python",
   "name": "python",
   "nbconvert_exporter": "python",
   "pygments_lexer": "ipython2",
   "version": "2.7.6"
  }
 },
 "nbformat": 4,
 "nbformat_minor": 0
}
