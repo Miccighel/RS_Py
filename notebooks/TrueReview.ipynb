{
 "cells": [
  {
   "cell_type": "code",
   "execution_count": null,
   "metadata": {
    "collapsed": true,
    "pycharm": {}
   },
   "outputs": [],
   "source": [
    "import pandas as pd\n",
    "import seaborn as sb\n",
    "import numpy as np\n",
    "import math as m\n",
    "from matplotlib import pyplot as plt\n",
    "%matplotlib qt \n",
    "%matplotlib inline \n",
    "\n",
    "np.set_printoptions(formatter={'float': lambda x: \"{0:0.2f}\".format(x)})\n",
    "\n",
    "# CSV file parsing\n",
    "\n",
    "info = pd.read_csv(\"../data/info.csv\")\n",
    "paper_authors = pd.read_csv(\"../data/authors.csv\")\n",
    "paper_authors = paper_authors.values\n",
    "paper_ratings = pd.read_csv(\"../data/ratings.csv\")\n",
    "paper_ratings = paper_ratings.values\n",
    "\n",
    "# Initial setup\n",
    "\n",
    "dataset_name = info[\"Dataset\"][0] \n",
    "papers_number = info[\"Paper\"][0]\n",
    "readers_number = info[\"Reader\"][0] \n",
    "ratings_number = info[\"Rating\"][0]\n",
    "papers = np.arange(papers_number)\n",
    "readers = np.arange(readers_number)\n",
    "ratings = np.arange(ratings_number)\n",
    "paper_score = np.zeros(papers_number)\n",
    "rating_bonuses = np.zeros(ratings_number)\n",
    "reader_bonuses = np.zeros(readers_number)\n",
    "reader_score = np.zeros(readers_number)\n",
    "\n",
    "for index, entry in enumerate(paper_ratings):\n",
    "               \n",
    "        # Example: <1,1,2,0.8>\n",
    "        # At Timestamp 1 Reader 1 gave to Paper 2 a Rating of 0.8\n",
    "        timestamp = int(entry[0])\n",
    "        reader = int(entry[1])\n",
    "        paper = int(entry[2])\n",
    "        rating = entry[3]\n",
    "        \n",
    "        past_ratings = paper_ratings[:(index-1)]\n",
    "        future_ratings = paper_ratings[(index+1):]\n",
    "        true_past_ratings = []\n",
    "        true_future_ratings = []\n",
    "        \n",
    "        for past_index, past_entry in enumerate(past_ratings):\n",
    "            past_paper = int(entry[2])\n",
    "            past_rating = entry[3]\n",
    "            if paper == past_paper:\n",
    "                true_past_ratings.append(past_rating)\n",
    "                \n",
    "        for future_index, future_entry in enumerate(future_ratings):\n",
    "            future_paper = int(entry[2])\n",
    "            future_rating = entry[3]\n",
    "            if paper == future_paper:\n",
    "                true_future_ratings.append(future_rating)\n",
    "                \n",
    "        qi_past_ratings = sum(true_past_ratings) / len(true_past_ratings) \n",
    "        qi_future_ratings = sum(true_future_ratings) / len(true_future_ratings) \n",
    "        \n",
    "        print(qi_past_ratings)\n",
    "        print(qi_future_ratings)\n"
   ]
  }
 ],
 "metadata": {
  "language_info": {
   "codemirror_mode": {
    "name": "ipython",
    "version": 2
   },
   "file_extension": ".py",
   "mimetype": "text/x-python",
   "name": "python",
   "nbconvert_exporter": "python",
   "pygments_lexer": "ipython2",
   "version": "2.7.6"
  },
  "kernelspec": {
   "name": "pycharm-c574516d",
   "language": "python",
   "display_name": "PyCharm (RS_Py)"
  }
 },
 "nbformat": 4,
 "nbformat_minor": 0
}
