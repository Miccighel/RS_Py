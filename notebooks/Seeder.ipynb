{
 "cells": [
  {
   "cell_type": "code",
   "execution_count": 214,
   "outputs": [
    {
     "name": "stdout",
     "text": [
      "DATASET NAME:  seed_2\nDATASET FOLDER PATH:  ../data/seed_2/\nINFO FILE PATH:  ../data/seed_2/info.csv\nRATINGS FILE PATH:  ../data/seed_2/ratings.csv\nAUTHORS FILE PATH:  ../data/seed_2/authors.csv\n"
     ],
     "output_type": "stream"
    }
   ],
   "source": [
    "import pandas as pd\n",
    "import seaborn as sb\n",
    "import numpy as np\n",
    "import math as m\n",
    "import os\n",
    "import collections\n",
    "import csv\n",
    "import random as rn\n",
    "from pprint import pprint\n",
    "from matplotlib import pyplot as plt\n",
    "import scipy as sp\n",
    "from scipy.stats import truncnorm as tn\n",
    "from scipy.stats import beta as beta\n",
    "\n",
    "# Parameter setting\n",
    "\n",
    "dataset_name = \"seed_2\"\n",
    "papers_number = 60\n",
    "readers_number = 200\n",
    "authors_number = 15\n",
    "months_number = 1\n",
    "paper_frequencies = [\n",
    "    2 * months_number, \n",
    "    6 * months_number, \n",
    "    8 * months_number, \n",
    "    14 * months_number, \n",
    "    20 * months_number\n",
    "]\n",
    "shuffling = True\n",
    "shuffle_number = 100\n",
    "\n",
    "assert (papers_number > (sum(paper_frequencies)) and (papers_number % 10) == 0), \\\n",
    "    f\"ERROR: papers_number must be greater than (equal to) {sum(paper_frequencies)} and it must be a multiple of 10.\" \n",
    "\n",
    "# Seed folder path\n",
    "\n",
    "dataset_folder_path = f\"../data/{dataset_name}/\"\n",
    "dataset_shuffle_folder_path = f\"../data/{dataset_name}/shuffle/\"\n",
    "info_file_path = f\"{dataset_folder_path}info.csv\"\n",
    "ratings_file_path = f\"{dataset_folder_path}ratings.csv\"\n",
    "authors_file_path = f\"{dataset_folder_path}authors.csv\"\n",
    "stats_file_path = f\"{dataset_folder_path}stats.csv\"\n",
    "\n",
    "# Setting up arrays\n",
    "\n",
    "papers = np.arange(papers_number)\n",
    "readers = np.arange(readers_number)\n",
    "authors = np.arange(authors_number)\n",
    "\n",
    "os.makedirs(dataset_folder_path, exist_ok=True)\n",
    "\n",
    "print(\"DATASET NAME: \", dataset_name)\n",
    "print(\"DATASET FOLDER PATH: \", dataset_folder_path)\n",
    "print(\"INFO FILE PATH: \", info_file_path)\n",
    "print(\"RATINGS FILE PATH: \", ratings_file_path)\n",
    "print(\"AUTHORS FILE PATH: \", authors_file_path)"
   ],
   "metadata": {
    "collapsed": false,
    "pycharm": {
     "name": "#%%\n",
     "is_executing": false
    }
   }
  },
  {
   "cell_type": "code",
   "execution_count": 215,
   "outputs": [
    {
     "name": "stdout",
     "text": [
      "---------- PAPER DISTRIBUTIONS GENERATION STARTED ----------\n0/60 (0/100%)",
      "\n6/60 (10/100%)\n12/60 (20/100%)\n18/60 (30/100%)\n24/60 (40/100%)\n30/60 (50/100%)\n36/60 (60/100%)\n42/60 (70/100%)\n48/60 (80/100%)\n54/60 (90/100%)\n60/60 (100/100%)\n---------- PAPER DISTRIBUTIONS GENERATION COMPLETED ----------\n"
     ],
     "output_type": "stream"
    }
   ],
   "source": [
    "# Papers distribution generation with beta distribution\n",
    "\n",
    "print(\"---------- PAPER DISTRIBUTIONS GENERATION STARTED ----------\")\n",
    "\n",
    "# CASE 1: a == b == 1, 5% of papers\n",
    "beta_distributions_frequencies = [(int(round((5*papers_number/100))), (1, 1))]\n",
    "# CASE 2: a == b > 1, 30% of papers\n",
    "a = rn.randint(2, 10)\n",
    "b = a\n",
    "beta_distributions_frequencies.append((int(round(30*papers_number/100)), (a, b)))\n",
    "# CASE 3: 0 < (a ^ b) < 1, 30% of papers\n",
    "a = rn.uniform(0.001, 1)\n",
    "b = rn.uniform(0.001, 1)\n",
    "beta_distributions_frequencies.append((int(round(20*papers_number/100)), (a, b)))\n",
    "# CASE 4: (a V b) == 1, (a > b V b > a), 20% of papers\n",
    "a = 1\n",
    "b = rn.randint(1, 10)\n",
    "if rn.randint(0,1) > 0.5:\n",
    "    a, b = b, a\n",
    "beta_distributions_frequencies.append((int(round(30*papers_number/100)), (a, b)))\n",
    "# CASE 5: (a ^ b) > 1, (a > b V b > a), 15% of papers\n",
    "a = rn.randint(2, 10)\n",
    "b = rn.randint(2 + a, 10 + a)\n",
    "if rn.randint(0,1) > 0.5:\n",
    "    a, b = b, a\n",
    "beta_distributions_frequencies.append((int(round(15*papers_number/100)), (a, b)))\n",
    "\n",
    "papers_set = set(papers)\n",
    "paper_distributions = [None] * papers_number\n",
    "\n",
    "generated_papers_distributions = 0\n",
    "for (papers_amount, (a, b)) in beta_distributions_frequencies:\n",
    "    current_paper_set = rn.sample(papers_set, papers_amount)\n",
    "    for paper in current_paper_set:\n",
    "        percentage = 100*generated_papers_distributions/papers_number\n",
    "        if percentage % 10 == 0:\n",
    "            print(f\"{int(generated_papers_distributions)}/{papers_number} ({int(percentage)}/100%)\")\n",
    "        paper_distributions[paper] = beta(a=a, b=b)\n",
    "        generated_papers_distributions = generated_papers_distributions + 1\n",
    "        papers_set.remove(paper)\n",
    "print(f\"{papers_number}/{papers_number} (100/100%)\")\n",
    "\n",
    "print(\"---------- PAPER DISTRIBUTIONS GENERATION COMPLETED ----------\")"
   ],
   "metadata": {
    "pycharm": {
     "metadata": false,
     "name": "#%%\n",
     "is_executing": false
    }
   }
  },
  {
   "cell_type": "code",
   "execution_count": 216,
   "outputs": [
    {
     "name": "stdout",
     "text": [
      "---------- READERS SETS GENERATION STARTED ----------\nSET 0:  [ 43  65  94 164 174  27  14 120 145  83  75 147 111 194  25 190  29 105\n  88 144 197  81 157 196  52 137  66 131 102 166 129  89   9 172 177 155\n 148  59  79 185]\n",
      "SET 1:  [ 11 159 115 168 116  22  21 123 152 183 154  38 161  26 198 153  18 160\n 169 106 181  80  64  97  55  48 125 176 135  28  86  54  74 178 141 170\n  37 182 138 119]\nSET 2:  [128 136  78 199  84 150 118  13 167  40 110 132 133  58  32  19 112 104\n 163 103  95  17  62 127  45 156  10 126  70  50  92 180  57  34   5 184\n  42   4 173  20]\nSET 3:  [ 44 188  47 162  98 114  99 158  96  90  67 146   0  87  33 122  39  61\n 179  35  63 142 192  12 193  72 186   7 149  24  56  53 130  49  16 108\n  41 140  73 171]\nSET 4:  [ 23 101  77  30 175  91 151  85  46 191 139 187   8   6  82   1 195  60\n 100   3  68  31 165 143  69   2 113  51 121 107  93 134 124 117  76  15\n  71 189 109  36]\n---------- READERS SETS GENERATION COMPLETED ----------\n---------- RATINGS GENERATION STARTED ----------\n0/2000 (0/100%)\n",
      "200/2000 (10/100%)\n400/2000 (20/100%)\n600/2000 (30/100%)\n800/2000 (40/100%)\n",
      "1000/2000 (50/100%)\n1200/2000 (60/100%)",
      "\n1400/2000 (70/100%)\n1600/2000 (80/100%)\n1800/2000 (90/100%)\n2000/2000 (100/100%)\n---------- RATINGS GENERATION ENDED ----------\n"
     ],
     "output_type": "stream"
    }
   ],
   "source": [
    "\n",
    "# Ratings file generation\n",
    "\n",
    "# N sets of readers, each one has X% of the total\n",
    "\n",
    "readers_percent = 20\n",
    "reader_sets_number = m.floor(100 / readers_percent)\n",
    "readers_amount = m.floor((readers_number*readers_percent)/100)\n",
    "\n",
    "readers_sets = []\n",
    "\n",
    "# Readers rate papers with a certain frequency\n",
    "\n",
    "print(\"---------- READERS SETS GENERATION STARTED ----------\")\n",
    "\n",
    "ratings_number = sum(paper_frequencies) * readers_amount\n",
    "\n",
    "for x in range(0, reader_sets_number):\n",
    "    current_readers_set = np.random.choice(readers, readers_amount, False) \n",
    "    readers = np.setdiff1d(readers, current_readers_set)\n",
    "    readers_sets.append(current_readers_set)\n",
    "    print(f\"SET {x}: \", current_readers_set)\n",
    "\n",
    "print(\"---------- READERS SETS GENERATION COMPLETED ----------\")\n",
    "\n",
    "print(\"---------- RATINGS GENERATION STARTED ----------\")\n",
    "\n",
    "generated_ratings = 0\n",
    "rated_papers = []\n",
    "with open(ratings_file_path, mode='w', newline='') as ratings_file:\n",
    "    ratings_writer = csv.writer(ratings_file, delimiter=',', quotechar='\"', quoting=csv.QUOTE_MINIMAL)\n",
    "    ratings_writer.writerow(['Timestamp', 'Reader', 'Paper', 'Score'])\n",
    "    for current_set in range(0, reader_sets_number):\n",
    "        frequency = paper_frequencies[current_set]\n",
    "        readers_set = readers_sets[current_set]\n",
    "        for reader in readers_set:\n",
    "            sample = np.random.choice(papers, frequency, False)     \n",
    "            for paper in sample:    \n",
    "                paper_distribution = paper_distributions[paper]\n",
    "                percentage = 100*generated_ratings/ratings_number\n",
    "                if percentage % 10 == 0:\n",
    "                    print(f\"{int(generated_ratings)}/{ratings_number} ({int(percentage)}/100%)\")\n",
    "                generated_rating = round(paper_distribution.rvs(1)[0], 2)\n",
    "                if generated_rating == 0:\n",
    "                    generated_rating = 0.01\n",
    "                ratings_writer.writerow([\n",
    "                    generated_ratings, \n",
    "                    reader, \n",
    "                    paper, \n",
    "                    generated_rating\n",
    "                ])\n",
    "                rated_papers.append(paper)\n",
    "                generated_ratings+=1\n",
    "    \n",
    "    # Filling gaps\n",
    "    readers = np.arange(readers_number)\n",
    "    unrated_papers = set(papers) - set(rated_papers)    \n",
    "    for paper in unrated_papers:\n",
    "        for reader in np.random.choice(readers, 5, False):\n",
    "            paper_distribution = paper_distributions[paper]\n",
    "            generated_rating = round(paper_distribution.rvs(1)[0], 2)\n",
    "            if generated_rating == 0:\n",
    "                generated_rating = 0.01\n",
    "                ratings_writer.writerow([\n",
    "                    generated_ratings, \n",
    "                    reader, \n",
    "                    paper,\n",
    "                    generated_rating\n",
    "                ])\n",
    "                generated_ratings+=1\n",
    "        \n",
    "    print(f\"{ratings_number}/{ratings_number} (100/100%)\")\n",
    "    \n",
    "ratings_file.close()\n",
    "\n",
    "paper_ratings = pd.read_csv(ratings_file_path)\n",
    "paper_ratings = paper_ratings.sample(frac=1)\n",
    "paper_ratings[\"Timestamp\"] = range(len(paper_ratings))\n",
    "paper_ratings.reset_index(drop=True, inplace=True)\n",
    "\n",
    "paper_ratings.to_csv(ratings_file_path, index=False, header=True, sep=\",\")\n",
    "\n",
    "print(\"---------- RATINGS GENERATION ENDED ----------\")"
   ],
   "metadata": {
    "pycharm": {
     "metadata": false,
     "name": "#%%\n",
     "is_executing": false
    }
   }
  },
  {
   "cell_type": "code",
   "execution_count": 217,
   "outputs": [
    {
     "name": "stdout",
     "text": [
      "---------- RATINGS SHUFFLING STARTED ----------\n0/100 (0/100%)\n",
      "10/100 (10/100%)\n",
      "20/100 (20/100%)\n",
      "30/100 (30/100%)\n",
      "40/100 (40/100%)\n",
      "50/100 (50/100%)\n",
      "60/100 (60/100%)\n",
      "70/100 (70/100%)\n",
      "80/100 (80/100%)\n",
      "90/100 (90/100%)\n",
      "100/100 (100/100%)\n---------- RATINGS SHUFFLING COMPLETED ----------\n"
     ],
     "output_type": "stream"
    }
   ],
   "source": [
    "print(\"---------- RATINGS SHUFFLING STARTED ----------\")\n",
    "\n",
    "if shuffling:\n",
    "    os.makedirs(dataset_shuffle_folder_path, exist_ok=True)\n",
    "    for s in range(shuffle_number):\n",
    "        c = 0\n",
    "        if s % 10 == 0:\n",
    "            print(f\"{s}/{shuffle_number} ({s}/100%)\")\n",
    "        current_shuffle_file_path = f\"{dataset_shuffle_folder_path}/shuffle_{s}.csv\"\n",
    "        shuffled_papers_ratings = paper_ratings.sample(frac=1)\n",
    "        for i, row in shuffled_papers_ratings.iterrows():\n",
    "            shuffled_papers_ratings.at[i,'Timestamp'] = c\n",
    "            c  = c + 1\n",
    "        shuffled_papers_ratings.to_csv(current_shuffle_file_path, index=False, header=True, sep=\",\")\n",
    "    print(f\"{shuffle_number}/{shuffle_number} (100/100%)\")\n",
    "    \n",
    "print(\"---------- RATINGS SHUFFLING COMPLETED ----------\")"
   ],
   "metadata": {
    "collapsed": false,
    "pycharm": {
     "name": "#%%\n",
     "is_executing": false
    }
   }
  },
  {
   "cell_type": "code",
   "execution_count": 218,
   "outputs": [
    {
     "name": "stdout",
     "text": [
      "---------- AUTHORS GENERATION STARTED ----------\n0/15 (0/100%)\n3/15 (20/100%)\n6/15 (40/100%)\n9/15 (60/100%)\n12/15 (80/100%)\n15/15 (100/100%)\n---------- AUTHORS GENERATION ENDED ----------\n"
     ],
     "output_type": "stream"
    }
   ],
   "source": [
    "# Authors file generation\n",
    "\n",
    "print(\"---------- AUTHORS GENERATION STARTED ----------\")\n",
    "\n",
    "with open(authors_file_path, mode='w', newline='') as authors_file:\n",
    "    authors_writer = csv.writer(authors_file, delimiter=',', quotechar='\"', quoting=csv.QUOTE_MINIMAL)\n",
    "    authors_writer.writerow([\"Author\", \"Paper\"])\n",
    "    for index, author in enumerate(authors):\n",
    "        percentage = 100*index/authors_number\n",
    "        if percentage % 10 == 0:\n",
    "            print(f\"{int(index)}/{authors_number} ({int(percentage)}/100%)\")\n",
    "        # An author writes a number of paper between 1 and paper_fraction\n",
    "        author_papers_number = rn.randint(1, (papers_number-1))\n",
    "        papers_written = np.random.choice(papers, author_papers_number).tolist()\n",
    "        papers_written = set(papers_written)\n",
    "        if len(papers_written) > 1:\n",
    "            papers_written = map(str, list(papers_written))\n",
    "            papers_written = \";\".join(papers_written)\n",
    "        else:\n",
    "            papers_written = list(papers_written)[0]\n",
    "        authors_writer.writerow([author, papers_written])\n",
    "    print(f\"{authors_number}/{authors_number} (100/100%)\")\n",
    "authors_file.close()\n",
    "        \n",
    "print(\"---------- AUTHORS GENERATION ENDED ----------\")\n"
   ],
   "metadata": {
    "pycharm": {
     "metadata": false,
     "name": "#%% \n",
     "is_executing": false
    }
   }
  },
  {
   "cell_type": "code",
   "execution_count": 219,
   "outputs": [
    {
     "name": "stdout",
     "text": [
      "---------- INFO GENERATION STARTED ----------\n---------- INFO GENERATION ENDED ----------\n"
     ],
     "output_type": "stream"
    }
   ],
   "source": [
    "# Info file generation\n",
    "\n",
    "print(\"---------- INFO GENERATION STARTED ----------\")\n",
    "\n",
    "info_dataframe = pd.DataFrame(columns=[\"Dataset\", \"Paper\", \"Reader\", \"Rating\", \"Author\"])\n",
    "info_dataframe = info_dataframe.append(\n",
    "    {\n",
    "        \"Dataset\": dataset_name, \n",
    "        \"Paper\": papers_number, \n",
    "        \"Reader\": readers_number, \n",
    "        \"Rating\": ratings_number, \n",
    "        \"Author\": authors_number\n",
    "    }, ignore_index=True)\n",
    "info_dataframe.to_csv(info_file_path, index=False)\n",
    "\n",
    "print(\"---------- INFO GENERATION ENDED ----------\")"
   ],
   "metadata": {
    "pycharm": {
     "metadata": false,
     "name": "#%%\n",
     "is_executing": false
    }
   }
  },
  {
   "cell_type": "code",
   "execution_count": 220,
   "outputs": [
    {
     "name": "stdout",
     "text": [
      "---------- STATS GENERATION STARTED ----------\n---------- COMPUTING STATS FOR PAPERS ----------\n---------- COMPUTING STATS FOR READERS ----------\n---------- STATS GENERATION COMPLETED ----------\n"
     ],
     "output_type": "stream"
    }
   ],
   "source": [
    "# Stats file generation\n",
    "\n",
    "print(\"---------- STATS GENERATION STARTED ----------\")\n",
    "\n",
    "temp_ratings_dataframe = pd.read_csv(ratings_file_path)\n",
    "temp_ratings_dataframe[temp_ratings_dataframe.columns] = temp_ratings_dataframe[temp_ratings_dataframe.columns].apply(pd.to_numeric)\n",
    "\n",
    "stats_dataframe = temp_ratings_dataframe.copy()\n",
    "stats_dataframe[stats_dataframe > 0.0000001] = 1\n",
    "\n",
    "print(\"---------- COMPUTING STATS FOR PAPERS ----------\")\n",
    "\n",
    "sums_paper = stats_dataframe.copy().sum(axis=0)\n",
    "sums_paper_dataframe = pd.DataFrame(sums_paper)\n",
    "\n",
    "max_ratings_paper = sums_paper_dataframe.max()\n",
    "min_ratings_paper = sums_paper_dataframe.min()\n",
    "mean_ratings_paper = sums_paper_dataframe.mean()\n",
    "\n",
    "temp_ratings_dataframe = temp_ratings_dataframe.T\n",
    "paper_counter = 0\n",
    "for index, row in temp_ratings_dataframe.iterrows():\n",
    "    if len(np.unique(row)) == 1:\n",
    "        paper_counter+=1\n",
    "        \n",
    "print(\"---------- COMPUTING STATS FOR READERS ----------\")\n",
    "\n",
    "sums_reader = stats_dataframe.copy().sum(axis=1)\n",
    "counter=collections.Counter(sums_reader)\n",
    "sums_reader_dataframe = pd.DataFrame(sums_reader)\n",
    "\n",
    "max_ratings_reader = sums_reader_dataframe.max()\n",
    "min_ratings_reader = sums_reader_dataframe.min()\n",
    "mean_ratings_reader = sums_reader_dataframe.mean()\n",
    "\n",
    "temp_ratings_dataframe = temp_ratings_dataframe\n",
    "reader_counter = 0\n",
    "for index, row in temp_ratings_dataframe.iterrows():\n",
    "    if len(np.unique(row)) == 1:\n",
    "        reader_counter+=1\n",
    "        \n",
    "# Writing stats to file\n",
    "\n",
    "stats_dataframe = pd.DataFrame(columns=[\n",
    "    \"Dataset\",\n",
    "    \"Max Number Rating Paper\", \n",
    "    \"Min Number Rating Paper\", \n",
    "    \"Mean Number Rating Paper\",\n",
    "    \"Number Papers Unique Ratings\",\n",
    "    \"Max Number Rating Reader\", \n",
    "    \"Min Number Rating Reader\", \n",
    "    \"Mean Number Rating Reader\"\n",
    "    \"Number Readers Unique Rating\"\n",
    "])\n",
    "stats_dataframe = stats_dataframe.append(\n",
    "    {\n",
    "        \"Dataset\": dataset_name, \n",
    "        \"Max Number Rating Paper\": int(max_ratings_paper.values[0]), \n",
    "        \"Min Number Rating Paper\": int(min_ratings_paper.values[0]), \n",
    "        \"Number Papers Unique Ratings\": paper_counter, \n",
    "        \"Mean Number Rating Paper\": int(mean_ratings_paper.values[0]), \n",
    "        \"Max Number Rating Reader\": int(max_ratings_reader.values[0]), \n",
    "        \"Min Number Rating Reader\": int(min_ratings_reader.values[0]), \n",
    "        \"Mean Number Rating Reader\": int(mean_ratings_reader.values[0]), \n",
    "        \"Number Readers Unique Rating\": reader_counter, \n",
    "    }, ignore_index=True)\n",
    "stats_dataframe.to_csv(stats_file_path, index=False)\n",
    "\n",
    "print(\"---------- STATS GENERATION COMPLETED ----------\")"
   ],
   "metadata": {
    "collapsed": false,
    "pycharm": {
     "name": "#%%\n",
     "is_executing": false
    }
   }
  },
  {
   "cell_type": "code",
   "execution_count": null,
   "outputs": [],
   "source": [
    "\n"
   ],
   "metadata": {
    "collapsed": false,
    "pycharm": {
     "name": "#%%\n"
    }
   }
  }
 ],
 "metadata": {
  "kernelspec": {
   "name": "python3",
   "language": "python",
   "display_name": "Python 3"
  },
  "language_info": {
   "codemirror_mode": {
    "name": "ipython",
    "version": 2
   },
   "file_extension": ".py",
   "mimetype": "text/x-python",
   "name": "python",
   "nbconvert_exporter": "python",
   "pygments_lexer": "ipython2",
   "version": "2.7.6"
  },
  "pycharm": {
   "stem_cell": {
    "cell_type": "raw",
    "source": [],
    "metadata": {
     "collapsed": false
    }
   }
  }
 },
 "nbformat": 4,
 "nbformat_minor": 0
}