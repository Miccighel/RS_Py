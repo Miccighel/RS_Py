{
 "cells": [
  {
   "cell_type": "code",
   "execution_count": 9,
   "outputs": [
    {
     "name": "stdout",
     "text": [
      "DATASET NAME:  sample_days\nDATASET FOLDER PATH:  ../data/sample_days/\nINFO FILE PATH:  ../data/sample_days/info.csv\nRATINGS FILE PATH:  ../data/sample_days/ratings.csv\nAUTHORS FILE PATH:  ../data/sample_days/authors.csv\n"
     ],
     "output_type": "stream"
    }
   ],
   "source": [
    "\n",
    "import pandas as pd\n",
    "import seaborn as sb\n",
    "import numpy as np\n",
    "import math as m\n",
    "import os\n",
    "import collections\n",
    "import csv\n",
    "import random as rn\n",
    "from matplotlib import pyplot as plt\n",
    "import scipy as sp\n",
    "from scipy.stats import truncnorm as tn\n",
    "\n",
    "# Parameter setting\n",
    "\n",
    "dataset_name = \"sample_days\"\n",
    "papers_number = 300\n",
    "readers_number = 150\n",
    "authors_number = 25\n",
    "months_number = 1\n",
    "paper_frequencies = [\n",
    "    2 * months_number, \n",
    "    4 * months_number, \n",
    "    8 * months_number, \n",
    "    30 * months_number, \n",
    "    90 * months_number\n",
    "]\n",
    "readers_percent = 20\n",
    "\n",
    "assert papers_number > (90 * months_number), f\"ERROR: papers_number must be greater than (equal to) {(90 * months_number)}\" \n",
    "\n",
    "# Seed folder path\n",
    "\n",
    "dataset_folder_path = f\"../data/{dataset_name}/\"\n",
    "info_file_path = f\"{dataset_folder_path}info.csv\"\n",
    "ratings_file_path = f\"{dataset_folder_path}ratings.csv\"\n",
    "authors_file_path = f\"{dataset_folder_path}authors.csv\"\n",
    "stats_file_path = f\"{dataset_folder_path}stats.csv\"\n",
    "\n",
    "# Setting up arrays\n",
    "\n",
    "papers = np.arange(papers_number)\n",
    "readers = np.arange(readers_number)\n",
    "authors = np.arange(authors_number)\n",
    "\n",
    "os.makedirs(dataset_folder_path, exist_ok=True)\n",
    "\n",
    "print(\"DATASET NAME: \", dataset_name)\n",
    "print(\"DATASET FOLDER PATH: \", dataset_folder_path)\n",
    "print(\"INFO FILE PATH: \", info_file_path)\n",
    "print(\"RATINGS FILE PATH: \", ratings_file_path)\n",
    "print(\"AUTHORS FILE PATH: \", authors_file_path)\n"
   ],
   "metadata": {
    "collapsed": false,
    "pycharm": {
     "name": "#%%\n",
     "is_executing": false
    }
   }
  },
  {
   "cell_type": "code",
   "execution_count": 10,
   "outputs": [
    {
     "name": "stdout",
     "text": [
      "---------- PAPER DISTRIBUTIONS GENERATION STARTED ----------",
      "\n0/300 (0/100%)\n30/300 (10/100%)\n60/300 (20/100%)\n90/300 (30/100%)\n120/300 (40/100%)\n150/300 (50/100%)\n180/300 (60/100%)\n210/300 (70/100%)\n240/300 (80/100%)\n270/300 (90/100%)\n300/300 (100/100%)\n---------- PAPER DISTRIBUTIONS GENERATION COMPLETED ----------\n"
     ],
     "output_type": "stream"
    }
   ],
   "source": [
    "\n",
    "# Papers distribution generation\n",
    "\n",
    "print(\"---------- PAPER DISTRIBUTIONS GENERATION STARTED ----------\")\n",
    "\n",
    "paper_distributions = np.empty(papers_number)\n",
    "for index in range(0, papers_number):\n",
    "    percentage = 100*index/papers_number\n",
    "    if percentage % 10 == 0:\n",
    "        print(f\"{int(index)}/{papers_number} ({int(percentage)}/100%)\")\n",
    "    distribution = tn(0, 1, loc=rn.uniform(0, 1), scale=rn.uniform(0, 0.05)).rvs(1)\n",
    "    paper_distributions[index] = distribution\n",
    "print(f\"{papers_number}/{papers_number} (100/100%)\")\n",
    "    \n",
    "print(\"---------- PAPER DISTRIBUTIONS GENERATION COMPLETED ----------\")\n"
   ],
   "metadata": {
    "pycharm": {
     "metadata": false,
     "name": "#%%\n",
     "is_executing": false
    }
   }
  },
  {
   "cell_type": "code",
   "execution_count": 11,
   "outputs": [
    {
     "name": "stdout",
     "text": [
      "---------- READERS SETS GENERATION STARTED ----------\nSET 0:  [148, 67, 0, 84, 29, 90, 93, 38, 143, 76, 98, 31, 23, 89, 112, 129, 126, 66, 113, 132, 107, 106, 87, 20, 10, 71, 140, 63, 101, 69]\nSET 1:  [58, 80, 109, 136, 130, 3, 96, 61, 62, 70, 36, 7, 145, 91, 25, 35, 24, 74, 43, 117, 79, 15, 5, 131, 8, 14, 59, 37, 86, 88]\nSET 2:  [119, 11, 65, 52, 45, 95, 2, 85, 46, 116, 6, 144, 124, 83, 56, 123, 139, 48, 19, 103, 111, 120, 134, 137, 57, 133, 40, 49, 64, 16]\nSET 3:  [4, 100, 18, 75, 32, 50, 110, 30, 82, 105, 99, 47, 77, 13, 97, 53, 122, 149, 81, 26, 102, 78, 39, 115, 142, 127, 104, 73, 94, 118]\nSET 4:  [51, 17, 1, 128, 12, 22, 21, 121, 92, 9, 60, 34, 44, 54, 146, 72, 55, 33, 68, 114, 141, 138, 28, 125, 41, 147, 108, 27, 42, 135]\n---------- READERS SETS GENERATION COMPLETED ----------\n---------- RATINGS GENERATION STARTED ----------\n0/4020 (0/100%)\n402/4020 (10/100%)\n804/4020 (20/100%)",
      "\n1206/4020 (30/100%)\n1608/4020 (40/100%)\n2010/4020 (50/100%)\n2412/4020 (60/100%)\n2814/4020 (70/100%)\n3216/4020 (80/100%)\n3618/4020 (90/100%)\n4020/4020 (100/100%)\n---------- RATINGS GENERATION ENDED ----------",
      "\n"
     ],
     "output_type": "stream"
    }
   ],
   "source": [
    "\n",
    "# Ratings file generation\n",
    "\n",
    "# N sets of readers, each one has X% of the total\n",
    "\n",
    "reader_sets_number = m.floor(100 / readers_percent)\n",
    "readers_amount = m.floor((readers_number*readers_percent)/100)\n",
    "\n",
    "readers_set = set(readers)\n",
    "readers_sets = []\n",
    "\n",
    "print(\"---------- READERS SETS GENERATION STARTED ----------\")\n",
    "\n",
    "ratings_number = sum(paper_frequencies) * readers_amount\n",
    "for x in range(0, reader_sets_number):\n",
    "    current_readers_set = rn.sample(readers_set, readers_amount)\n",
    "    # Removing last index\n",
    "    if readers_number in current_readers_set: current_readers_set.remove(readers_number)\n",
    "    readers_sets.append(current_readers_set)\n",
    "    for reader in current_readers_set:\n",
    "        readers_set.remove(reader)\n",
    "    print(f\"SET {x}: \", current_readers_set)\n",
    "     \n",
    "print(\"---------- READERS SETS GENERATION COMPLETED ----------\")\n",
    "\n",
    "print(\"---------- RATINGS GENERATION STARTED ----------\")\n",
    "\n",
    "generated_ratings = 0\n",
    "with open(ratings_file_path, mode='w', newline='') as ratings_file:\n",
    "    ratings_writer = csv.writer(ratings_file, delimiter=',', quotechar='\"', quoting=csv.QUOTE_MINIMAL)\n",
    "    ratings_writer.writerow(['Timestamp', 'Reader', 'Paper', 'Score'])\n",
    "    for current_set in range(0, reader_sets_number):\n",
    "        paper_per_reader = paper_frequencies[current_set]\n",
    "        readers_set = readers_sets[current_set]\n",
    "        for reader in readers_set:\n",
    "            for index, paper in enumerate(rn.sample(set(papers), paper_per_reader)):\n",
    "                paper_distribution = paper_distributions[paper]\n",
    "                percentage = 100*generated_ratings/ratings_number\n",
    "                if percentage % 10 == 0:\n",
    "                    print(f\"{int(generated_ratings)}/{ratings_number} ({int(percentage)}/100%)\")\n",
    "                current_tuple = {\n",
    "                    \"Reader\": reader, \n",
    "                    \"Paper\": paper, \n",
    "                    \"Score\": round(paper_distribution, 2), \n",
    "                }\n",
    "                ratings_writer.writerow([generated_ratings, current_tuple[\"Reader\"], current_tuple[\"Paper\"], current_tuple[\"Score\"]])\n",
    "                generated_ratings+=1\n",
    "    print(f\"{ratings_number}/{ratings_number} (100/100%)\")\n",
    "ratings_file.close()\n",
    "\n",
    "print(\"---------- RATINGS GENERATION ENDED ----------\")\n"
   ],
   "metadata": {
    "pycharm": {
     "metadata": false,
     "name": "#%%\n",
     "is_executing": false
    }
   }
  },
  {
   "cell_type": "code",
   "execution_count": 12,
   "outputs": [
    {
     "name": "stdout",
     "text": [
      "---------- AUTHORS GENERATION STARTED ----------\n0/25 (0/100%)\n5/25 (20/100%)\n10/25 (40/100%)\n15/25 (60/100%)\n20/25 (80/100%)\n25/25 (100/100%)\n---------- AUTHORS GENERATION ENDED ----------",
      "\n"
     ],
     "output_type": "stream"
    }
   ],
   "source": [
    "\n",
    "# Authors file generation\n",
    "\n",
    "print(\"---------- AUTHORS GENERATION STARTED ----------\")\n",
    "\n",
    "with open(authors_file_path, mode='w', newline='') as authors_file:\n",
    "    authors_writer = csv.writer(authors_file, delimiter=',', quotechar='\"', quoting=csv.QUOTE_MINIMAL)\n",
    "    authors_writer.writerow([\"Author\", \"Paper\"])\n",
    "    for index, author in enumerate(authors):\n",
    "        percentage = 100*index/authors_number\n",
    "        if percentage % 10 == 0:\n",
    "            print(f\"{int(index)}/{authors_number} ({int(percentage)}/100%)\")\n",
    "        # An author writes a number of paper between 1 and paper_fraction\n",
    "        author_papers_number = rn.randint(1, (papers_number-1))\n",
    "        papers_written = np.random.choice(papers, author_papers_number).tolist()\n",
    "        papers_written = set(papers_written)\n",
    "        if len(papers_written) > 1:\n",
    "            papers_written = map(str, list(papers_written))\n",
    "            papers_written = \";\".join(papers_written)\n",
    "        authors_writer.writerow([author, papers_written])\n",
    "    print(f\"{authors_number}/{authors_number} (100/100%)\")\n",
    "authors_file.close()\n",
    "        \n",
    "print(\"---------- AUTHORS GENERATION ENDED ----------\")\n"
   ],
   "metadata": {
    "pycharm": {
     "metadata": false,
     "name": "#%% \n",
     "is_executing": false
    }
   }
  },
  {
   "cell_type": "code",
   "execution_count": 13,
   "outputs": [
    {
     "name": "stdout",
     "text": [
      "---------- INFO GENERATION STARTED ----------\n---------- INFO GENERATION ENDED ----------",
      "\n"
     ],
     "output_type": "stream"
    }
   ],
   "source": [
    "\n",
    "# Info file generation\n",
    "\n",
    "print(\"---------- INFO GENERATION STARTED ----------\")\n",
    "\n",
    "info_dataframe = pd.DataFrame(columns=[\"Dataset\", \"Paper\", \"Reader\", \"Rating\", \"Author\"])\n",
    "info_dataframe = info_dataframe.append(\n",
    "    {\n",
    "        \"Dataset\": dataset_name, \n",
    "        \"Paper\": papers_number, \n",
    "        \"Reader\": readers_number, \n",
    "        \"Rating\": ratings_number, \n",
    "        \"Author\": authors_number\n",
    "    }, ignore_index=True)\n",
    "info_dataframe.to_csv(info_file_path, index=False)\n",
    "\n",
    "print(\"---------- INFO GENERATION ENDED ----------\")\n"
   ],
   "metadata": {
    "pycharm": {
     "metadata": false,
     "name": "#%%\n",
     "is_executing": false
    }
   }
  },
  {
   "cell_type": "code",
   "execution_count": 14,
   "outputs": [
    {
     "name": "stdout",
     "text": [
      "---------- STATS GENERATION STARTED ----------\n",
      "---------- COMPUTING STATS FOR PAPERS ----------",
      "\n---------- COMPUTING STATS FOR READERS ----------\n---------- STATS GENERATION COMPLETED ----------\n"
     ],
     "output_type": "stream"
    },
    {
     "name": "stderr",
     "text": [
      "C:\\Ambienti\\Miniconda3\\lib\\site-packages\\ipykernel_launcher.py:6: FutureWarning: convert_objects is deprecated.  To re-infer data dtypes for object columns, use DataFrame.infer_objects()\nFor all other conversions use the data-type specific converters pd.to_datetime, pd.to_timedelta and pd.to_numeric.\n  \n"
     ],
     "output_type": "stream"
    }
   ],
   "source": [
    "# Stats file generation\n",
    "\n",
    "print(\"---------- STATS GENERATION STARTED ----------\")\n",
    "\n",
    "temp_ratings_dataframe = pd.read_csv(ratings_file_path, header=None)\n",
    "temp_ratings_dataframe[temp_ratings_dataframe.columns] = temp_ratings_dataframe[temp_ratings_dataframe.columns].convert_objects(convert_numeric=True)\n",
    "\n",
    "stats_dataframe = temp_ratings_dataframe.copy()\n",
    "stats_dataframe[stats_dataframe > 0.0000001] = 1\n",
    "\n",
    "print(\"---------- COMPUTING STATS FOR PAPERS ----------\")\n",
    "\n",
    "sums_paper = stats_dataframe.copy().sum(axis=0)\n",
    "sums_paper_dataframe = pd.DataFrame(sums_paper)\n",
    "\n",
    "max_ratings_paper = sums_paper_dataframe.max()\n",
    "min_ratings_paper = sums_paper_dataframe.min()\n",
    "mean_ratings_paper = sums_paper_dataframe.mean()\n",
    "\n",
    "temp_ratings_dataframe = temp_ratings_dataframe.T\n",
    "paper_counter = 0\n",
    "for index, row in temp_ratings_dataframe.iterrows():\n",
    "    if len(np.unique(row)) == 1:\n",
    "        paper_counter+=1\n",
    "        \n",
    "print(\"---------- COMPUTING STATS FOR READERS ----------\")\n",
    "\n",
    "sums_reader = stats_dataframe.copy().sum(axis=1)\n",
    "counter=collections.Counter(sums_reader)\n",
    "sums_reader_dataframe = pd.DataFrame(sums_reader)\n",
    "\n",
    "max_ratings_reader = sums_reader_dataframe.max()\n",
    "min_ratings_reader = sums_reader_dataframe.min()\n",
    "mean_ratings_reader = sums_reader_dataframe.mean()\n",
    "\n",
    "temp_ratings_dataframe = temp_ratings_dataframe\n",
    "reader_counter = 0\n",
    "for index, row in temp_ratings_dataframe.iterrows():\n",
    "    if len(np.unique(row)) == 1:\n",
    "        reader_counter+=1\n",
    "        \n",
    "# Writing stats to file\n",
    "\n",
    "stats_dataframe = pd.DataFrame(columns=[\n",
    "    \"Dataset\",\n",
    "    \"Max Number Rating Paper\", \n",
    "    \"Min Number Rating Paper\", \n",
    "    \"Mean Number Rating Paper\",\n",
    "    \"Max Number Rating Reader\", \n",
    "    \"Min Number Rating Reader\", \n",
    "    \"Mean Number Rating Reader\"\n",
    "])\n",
    "stats_dataframe = stats_dataframe.append(\n",
    "    {\n",
    "        \"Dataset\": dataset_name, \n",
    "        \"Max Number Rating Paper\": int(max_ratings_paper.values[0]), \n",
    "        \"Min Number Rating Paper\": int(min_ratings_paper.values[0]), \n",
    "        \"Mean Number Rating Paper\": int(mean_ratings_paper.values[0]), \n",
    "        \"Max Number Rating Reader\": int(max_ratings_reader.values[0]), \n",
    "        \"Min Number Rating Reader\": int(min_ratings_reader.values[0]), \n",
    "        \"Mean Number Rating Reader\": int(mean_ratings_reader.values[0]), \n",
    "    }, ignore_index=True)\n",
    "stats_dataframe.to_csv(stats_file_path, index=False)\n",
    "\n",
    "print(\"---------- STATS GENERATION COMPLETED ----------\")"
   ],
   "metadata": {
    "collapsed": false,
    "pycharm": {
     "name": "#%%\n",
     "is_executing": false
    }
   }
  },
  {
   "cell_type": "code",
   "execution_count": 15,
   "outputs": [
    {
     "name": "stdout",
     "text": [
      "MAX NUMBER OF RATINGS FOR A PAPER:  4020\nMIN NUMBER OF RATINGS FOR A PAPER:  4010\nMEAN NUMBER OF RATINGS FOR A PAPER:  4016\nNUMBER OF PAPERS WITH UNIQUE RATING:  0\nMAX NUMBER OF RATINGS FOR A READER:  4\nMIN NUMBER OF RATINGS FOR A READER:  0\nMEAN NUMBER OF RATINGS FOR A READER:  3\nNUMBER OF READERS WITH UNIQUE RATING:  0\n"
     ],
     "output_type": "stream"
    }
   ],
   "source": [
    "# Summary\n",
    "\n",
    "print(\"MAX NUMBER OF RATINGS FOR A PAPER: \", int(max_ratings_paper.values[0]))\n",
    "print(\"MIN NUMBER OF RATINGS FOR A PAPER: \", int(min_ratings_paper.values[0]))\n",
    "print(\"MEAN NUMBER OF RATINGS FOR A PAPER: \", int(mean_ratings_paper.values[0]))\n",
    "print(\"NUMBER OF PAPERS WITH UNIQUE RATING: \", reader_counter)\n",
    "print(\"MAX NUMBER OF RATINGS FOR A READER: \", int(max_ratings_reader.values[0]))\n",
    "print(\"MIN NUMBER OF RATINGS FOR A READER: \", int(min_ratings_reader.values[0]))\n",
    "print(\"MEAN NUMBER OF RATINGS FOR A READER: \", int(mean_ratings_reader.values[0]))\n",
    "print(\"NUMBER OF READERS WITH UNIQUE RATING: \", paper_counter)"
   ],
   "metadata": {
    "pycharm": {
     "metadata": false,
     "name": "#%%\n",
     "is_executing": false
    }
   }
  },
  {
   "cell_type": "code",
   "execution_count": null,
   "outputs": [],
   "source": [
    "\n"
   ],
   "metadata": {
    "collapsed": false,
    "pycharm": {
     "name": "#%%\n"
    }
   }
  }
 ],
 "metadata": {
  "kernelspec": {
   "name": "python3",
   "language": "python",
   "display_name": "Python 3"
  },
  "language_info": {
   "codemirror_mode": {
    "name": "ipython",
    "version": 2
   },
   "file_extension": ".py",
   "mimetype": "text/x-python",
   "name": "python",
   "nbconvert_exporter": "python",
   "pygments_lexer": "ipython2",
   "version": "2.7.6"
  },
  "pycharm": {
   "stem_cell": {
    "cell_type": "raw",
    "source": [],
    "metadata": {
     "collapsed": false
    }
   }
  }
 },
 "nbformat": 4,
 "nbformat_minor": 0
}