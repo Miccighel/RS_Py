{
  "cells": [
    {
      "cell_type": "code",
      "execution_count": 32,
      "metadata": {
        "collapsed": false,
        "pycharm": {
          "is_executing": false
        }
      },
      "outputs": [
        {
          "name": "stdout",
          "text": [
            "DATASET NAME:  seed_1\nDATASET FOLDER PATH:  ../data/seed_1/\nINFO FILE PATH:  ../data/seed_1/info.csv\nRATINGS FILE PATH:  ../data/seed_1/ratings.csv\nAUTHORS FILE PATH:  ../data/seed_1/authors.csv\n"
          ],
          "output_type": "stream"
        }
      ],
      "source": "import pandas as pd\nimport seaborn as sb\nimport numpy as np\nimport math as m\nimport os\nimport random as rn\nfrom matplotlib import pyplot as plt\nimport scipy as sp\nfrom scipy.stats import truncnorm as tn\n\n# Quantities in an year of activity\npapers_number \u003d 150000\nreaders_number \u003d 2000\nauthors_number \u003d 50\n\npapers \u003d np.arange(papers_number)\nreaders \u003d np.arange(readers_number)\nauthors \u003d np.arange(authors_number)\n\n# Seed folder path\n\ndataset_name \u003d \"seed_1\"\ndataset_folder_path \u003d f\"../data/{dataset_name}/\"\ninfo_file_path \u003d f\"{dataset_folder_path}info.csv\"\nratings_file_path \u003d f\"{dataset_folder_path}ratings.csv\"\nauthors_file_path \u003d f\"{dataset_folder_path}authors.csv\"\n\nos.makedirs(dataset_folder_path, exist_ok\u003dTrue)\n\nprint(\"DATASET NAME: \", dataset_name)\nprint(\"DATASET FOLDER PATH: \", dataset_folder_path)\nprint(\"INFO FILE PATH: \", info_file_path)\nprint(\"RATINGS FILE PATH: \", ratings_file_path)\nprint(\"AUTHORS FILE PATH: \", authors_file_path)\n"
    },
    {
      "cell_type": "code",
      "execution_count": null,
      "outputs": [],
      "source": "\n# Ratings file generation\n\nratings_dataframe \u003d pd.DataFrame(columns\u003d[\"Timestamp\", \"Reader\", \"Paper\", \"Score\", \"Author\"])\ntuples \u003d []\n\n# N sets of readers, each one has X% of the total\n\nreaders_percent \u003d 20\nreader_sets_number \u003d m.floor(100 / readers_percent)\nreaders_amount \u003d round((readers_number*readers_percent)/100)\n\nreaders_set \u003d set(readers)\nreaders_sets \u003d []\n\n# Readers of set 0 rate 1 paper every two weeks\n# Readers of set 1 rate 1 paper every week\n# Readers of set 2 rate 2 papers every week\n# Readers of set 3 rate 1 paper every day\n# Readers of set 4 rate 3 papers every day\n\npaper_frequencies \u003d [26, 52, 104, 365, 1098]\npaper_distributions \u003d np.empty(papers_number)\nfor index in range(0, papers_number):\n    distribution \u003d tn(0, 1, loc\u003drn.uniform(0, 1), scale\u003drn.uniform(0, 0.05)).rvs(1)\n    paper_distributions[index] \u003d distribution\n\nratings_number \u003d sum(paper_frequencies) * readers_amount\n\nprint(\"---------- READERS SETS GENERATION STARTED ----------\")\n\nfor x in range(0, reader_sets_number):\n    current_readers_set \u003d rn.sample(readers_set, readers_amount)\n    readers_sets.append(current_readers_set)\n    for reader in current_readers_set:\n        readers_set.remove(reader)\n    print(f\"SET {x}: \", current_readers_set)\n     \nprint(\"---------- READERS SETS GENERATION COMPLETED ----------\")\n\nprint(\"---------- RANDOM RATINGS GENERATION STARTED ----------\")\n\ngenerated_ratings \u003d 0\nfor current_set in range(0, reader_sets_number):\n    paper_per_reader \u003d paper_frequencies[current_set]\n    readers_set \u003d readers_sets[current_set]\n    for reader in readers_set:\n        for index, paper in enumerate(rn.sample(set(papers), paper_per_reader)):\n            paper_distribution \u003d paper_distributions[paper]\n            percentage \u003d 100*generated_ratings/ratings_number\n            if percentage % 10 \u003d\u003d 0:\n                print(f\"{int(generated_ratings)}/{ratings_number} ({int(percentage)}/100%)\")\n            current_tuple \u003d {\n                \"Reader\": reader, \n                \"Paper\": paper, \n                \"Score\": round(paper_distribution, 2), \n            }\n            generated_ratings+\u003d1\n            tuples.append(current_tuple)\nprint(f\"{ratings_number}/{ratings_number} (100/100%)\")\n\nprint(\"---------- RANDOM RATINGS GENERATION ENDED ----------\")\n\nprint(\"---------- RATINGS APPENDING STARTED ----------\")\nfor index, current_tuple in enumerate(tuples):\n    percentage \u003d 100*index/ratings_number\n    if percentage % 10 \u003d\u003d 0:\n        print(f\"{index}/{len(tuples)} ({int(percentage)}/100%)\")\n    ratings_dataframe \u003d ratings_dataframe.append(\n        {\n            \"Timestamp\": index,\n            \"Reader\": current_tuple[\"Reader\"],\n            \"Paper\": current_tuple[\"Paper\"], \n            \"Score\": current_tuple[\"Score\"], \n        }, ignore_index\u003dTrue)\nprint(f\"{len(tuples)}/{len(tuples)} (100/100%)\")\nprint(\"---------- RATINGS APPENDING ENDED ----------\")\n\nratings_dataframe[\"Timestamp\"] \u003d ratings_dataframe[\"Timestamp\"].astype(int)\nratings_dataframe[\"Reader\"] \u003d ratings_dataframe[\"Reader\"].astype(int)\nratings_dataframe[\"Paper\"] \u003d ratings_dataframe[\"Paper\"].astype(int)\nratings_dataframe.to_csv(ratings_file_path, index\u003dFalse)\n",
      "metadata": {
        "pycharm": {
          "metadata": false,
          "name": "#%%\n",
          "is_executing": true
        }
      }
    },
    {
      "cell_type": "code",
      "execution_count": null,
      "outputs": [],
      "source": "\n# Authors file generation\n\nprint(\"---------- RANDOM AUTHORS GENERATION STARTED ----------\")\nprint(\"---------- RATINGS APPENDING STARTED ----------\")\nauthors_dataframe \u003d pd.DataFrame(columns\u003d[\"Author\", \"Papers\"])\nfor author in authors:\n    # An author writes a number of paper between 1 and paper_fraction\n    author_papers_number \u003d rn.randint(1, (papers_number-1))\n    papers_written \u003d np.random.choice(papers, author_papers_number).tolist()\n    papers_written \u003d set(papers_written)\n    if len(papers_written) \u003e 1:\n        papers_written \u003d map(str, list(papers_written))\n        papers_written \u003d \";\".join(papers_written)\n    authors_dataframe \u003d authors_dataframe.append(\n        {\n            \"Author\": author,\n            \"Papers\": papers_written\n        }, ignore_index\u003dTrue)\nprint(\"---------- RANDOM AUTHORS GENERATION ENDED ----------\")\nprint(\"---------- RATINGS APPENDING ENDED ----------\")\nauthors_dataframe.to_csv(authors_file_path, index\u003dFalse)\n",
      "metadata": {
        "pycharm": {
          "metadata": false,
          "name": "#%% \n",
          "is_executing": true
        }
      }
    },
    {
      "cell_type": "code",
      "execution_count": null,
      "outputs": [],
      "source": "\n# Info file generation\n\ninfo_dataframe \u003d pd.DataFrame(columns\u003d[\"Dataset\", \"Paper\", \"Reader\", \"Rating\", \"Author\"])\ninfo_dataframe \u003d info_dataframe.append(\n    {\n        \"Dataset\": dataset_name.capitalize(), \n        \"Paper\": papers_number, \n        \"Reader\": readers_number, \n        \"Rating\": ratings_number, \n        \"Author\": authors_number\n    }, ignore_index\u003dTrue)\ninfo_dataframe.to_csv(info_file_path, index\u003dFalse)\n",
      "metadata": {
        "pycharm": {
          "metadata": false,
          "name": "#%%\n",
          "is_executing": true
        }
      }
    },
    {
      "cell_type": "code",
      "execution_count": null,
      "outputs": [],
      "source": "\n# Summary\n\nprint(\"RANDOM INFO:     \", info_dataframe)\nprint(\"RANDOM RATINGS:  \", ratings_dataframe.head(10))\nprint(\"RANDOM AUTHORS:  \", authors_dataframe.head(10))\n",
      "metadata": {
        "pycharm": {
          "metadata": false,
          "name": "#%%\n",
          "is_executing": true
        }
      }
    }
  ],
  "metadata": {
    "kernelspec": {
      "name": "pycharm-c574516d",
      "language": "python",
      "display_name": "PyCharm (RS_Py)"
    },
    "language_info": {
      "codemirror_mode": {
        "name": "ipython",
        "version": 2
      },
      "file_extension": ".py",
      "mimetype": "text/x-python",
      "name": "python",
      "nbconvert_exporter": "python",
      "pygments_lexer": "ipython2",
      "version": "2.7.6"
    }
  },
  "nbformat": 4,
  "nbformat_minor": 0
}