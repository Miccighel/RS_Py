{
  "cells": [
    {
      "cell_type": "code",
      "execution_count": 1,
      "metadata": {
        "collapsed": false,
        "pycharm": {
          "is_executing": false
        }
      },
      "outputs": [
        {
          "name": "stdout",
          "text": [
            "---------- RANDOM RATINGS GENERATION STARTED ----------\n0/100% 50/100% 100/100%\n---------- RANDOM RATINGS GENERATION ENDED ----------\n---------- RATINGS APPENDING STARTED ----------\n0/100% 50/100% 100/100%\n---------- RATINGS APPENDING ENDED ----------\n---------- RANDOM AUTHORS GENERATION STARTED ----------\n---------- RATINGS APPENDING STARTED ----------\n---------- RANDOM AUTHORS GENERATION ENDED ----------\n---------- RATINGS APPENDING ENDED ----------\n"
          ],
          "output_type": "stream"
        }
      ],
      "source": "import pandas as pd\nimport seaborn as sb\nimport numpy as np\nimport math as m\nimport random as rn\nfrom matplotlib import pyplot as plt\nimport scipy as sp\nfrom scipy.stats import truncnorm as tn\n\npapers_number \u003d 2\nreaders_number \u003d 3\nratings_number \u003d readers_number * papers_number\nauthors_number \u003d 2\n\npapers \u003d np.arange(papers_number)\nreaders \u003d np.arange(readers_number)\nratings \u003d np.arange(ratings_number)\nauthors \u003d np.arange(authors_number)\n\n# Seed folder path\n\ndataset_name \u003d \"seed_1\"\nseed_folder_path \u003d f\"../data/seed/{dataset_name}/\"\ninfo_filename \u003d f\"{seed_folder_path}info.csv\"\nratings_filename \u003d f\"{seed_folder_path}ratings.csv\"\nauthors_filename \u003d f\"{seed_folder_path}authors.csv\"\n\n# Info file generation\n\ninfo_dataframe \u003d pd.DataFrame(columns\u003d[\"Dataset\", \"Paper\", \"Reader\", \"Rating\", \"Author\"])\ninfo_dataframe \u003d info_dataframe.append(\n    {\n        \"Dataset\": dataset_name.capitalize(), \n        \"Paper\": papers_number, \n        \"Reader\": readers_number, \n        \"Rating\": ratings_number, \n        \"Author\": authors_number\n    }, ignore_index\u003dTrue)\ninfo_dataframe.to_csv(info_filename, index\u003dFalse)\n\n# Ratings file generation\n\nratings_dataframe \u003d pd.DataFrame(columns\u003d[\"Timestamp\", \"Reader\", \"Paper\", \"Score\", \"Author\"])\ntuples \u003d []\nprint(\"---------- RANDOM RATINGS GENERATION STARTED ----------\")\ngenerated_ratings \u003d 0\nfor reader in readers:\n    for index, paper in enumerate(papers):\n        percentage \u003d 100*generated_ratings/(readers_number*papers_number)\n        if percentage % 10 \u003d\u003d 0:\n            print(f\"{int(percentage)}/100%\", end\u003d\" \")\n        current_tuple \u003d {\n            \"Reader\": reader, \n            \"Paper\": paper, \n            \"Score\": round((tn(0, 1, scale\u003d1).rvs(1))[0], 2), \n            \"Author\": np.random.choice(authors_number, 1)[0]\n        }\n        generated_ratings+\u003d1\n        tuples.append(current_tuple)\nprint(\"100/100%\")\nprint(\"---------- RANDOM RATINGS GENERATION ENDED ----------\")\nprint(\"---------- RATINGS APPENDING STARTED ----------\")\nfor index, current_tuple in enumerate(tuples):\n    percentage \u003d round((100*index/len(tuples)), 2)\n    if percentage % 10 \u003d\u003d 0:\n        print(f\"{int(percentage)}/100%\", end\u003d\" \")\n    ratings_dataframe \u003d ratings_dataframe.append(\n        {\n            \"Timestamp\": index,\n            \"Reader\": current_tuple[\"Reader\"],\n            \"Paper\": current_tuple[\"Paper\"], \n            \"Score\": current_tuple[\"Score\"], \n            \"Author\": current_tuple[\"Author\"]\n        }, ignore_index\u003dTrue)\nprint(\"100/100%\")\nprint(\"---------- RATINGS APPENDING ENDED ----------\")\nratings_dataframe[\"Timestamp\"] \u003d ratings_dataframe[\"Timestamp\"].astype(int)\nratings_dataframe[\"Reader\"] \u003d ratings_dataframe[\"Reader\"].astype(int)\nratings_dataframe[\"Paper\"] \u003d ratings_dataframe[\"Paper\"].astype(int)\nratings_dataframe[\"Author\"] \u003d ratings_dataframe[\"Author\"].astype(int)\nratings_dataframe.to_csv(ratings_filename, index\u003dFalse)\n\nprint(\"---------- RANDOM AUTHORS GENERATION STARTED ----------\")\nprint(\"---------- RATINGS APPENDING STARTED ----------\")\nauthors_dataframe \u003d pd.DataFrame(columns\u003d[\"Author\", \"Papers\"])\nfor author in authors:\n    # An author writes a number of paper between 1 and paper_fraction\n    author_papers_number \u003d rn.randint(0, (papers_number-1))\n    papers_written \u003d np.random.choice(papers, author_papers_number).tolist()\n    papers_written \u003d set(papers_written)\n    papers_written \u003d map(str, list(papers_written))\n    papers_written \u003d \";\".join(papers_written)\n    authors_dataframe \u003d authors_dataframe.append(\n        {\n            \"Author\": author,\n            \"Papers\": papers_written\n        }, ignore_index\u003dTrue)\nprint(\"---------- RANDOM AUTHORS GENERATION ENDED ----------\")\nprint(\"---------- RATINGS APPENDING ENDED ----------\")\nauthors_dataframe.to_csv(authors_filename, index\u003dFalse)\n"
    },
    {
      "cell_type": "code",
      "execution_count": 4,
      "metadata": {
        "pycharm": {
          "is_executing": false
        }
      },
      "outputs": [
        {
          "name": "stdout",
          "text": [
            "RANDOM INFO:          Dataset Paper Reader Rating Author\n0  Seed_1     2      3      6      2\nRANDOM RATINGS:      Timestamp  Reader  Paper  Score  Author\n0          0       0      0   0.51       1\n1          1       0      1   0.33       1\n2          2       1      0   0.37       1\n3          3       1      1   0.61       1\n4          4       2      0   0.09       1\n5          5       2      1   0.43       0\nRANDOM AUTHORS:     Author Papers\n0      0       \n1      1       \n"
          ],
          "output_type": "stream"
        }
      ],
      "source": "# Summary\n\nprint(\"RANDOM INFO:       \", info_dataframe)\nprint(\"RANDOM RATINGS:  \", ratings_dataframe.head(10))\nprint(\"RANDOM AUTHORS:  \", authors_dataframe.head(10))\n\n"
    }
  ],
  "metadata": {
    "kernelspec": {
      "name": "pycharm-c574516d",
      "language": "python",
      "display_name": "PyCharm (RS_Py)"
    },
    "language_info": {
      "codemirror_mode": {
        "name": "ipython",
        "version": 2
      },
      "file_extension": ".py",
      "mimetype": "text/x-python",
      "name": "python",
      "nbconvert_exporter": "python",
      "pygments_lexer": "ipython2",
      "version": "2.7.6"
    }
  },
  "nbformat": 4,
  "nbformat_minor": 0
}