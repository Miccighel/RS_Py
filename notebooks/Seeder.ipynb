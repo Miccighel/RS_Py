{
 "cells": [
  {
   "cell_type": "code",
   "execution_count": 27,
   "outputs": [
    {
     "name": "stdout",
     "text": [
      "---------- PAPER DISTRIBUTIONS GENERATION STARTED ----------",
      "\n0/1100 (0/100%)\n110/1100 (10/100%)\n220/1100 (20/100%)\n330/1100 (30/100%)\n440/1100 (40/100%)\n550/1100 (50/100%)\n660/1100 (60/100%)\n770/1100 (70/100%)\n880/1100 (80/100%)\n990/1100 (90/100%)\n1100/1100 (100/100%)\n---------- PAPER DISTRIBUTIONS GENERATION COMPLETED ----------\n"
     ],
     "output_type": "stream"
    }
   ],
   "source": [
    "\n",
    "# Papers distribution generation\n",
    "\n",
    "print(\"---------- PAPER DISTRIBUTIONS GENERATION STARTED ----------\")\n",
    "\n",
    "paper_distributions = np.empty(papers_number)\n",
    "for index in range(0, papers_number):\n",
    "    percentage = 100*index/papers_number\n",
    "    if percentage % 10 == 0:\n",
    "        print(f\"{int(index)}/{papers_number} ({int(percentage)}/100%)\")\n",
    "    distribution = tn(0, 1, loc=rn.uniform(0, 1), scale=rn.uniform(0, 0.05)).rvs(1)\n",
    "    paper_distributions[index] = distribution\n",
    "print(f\"{papers_number}/{papers_number} (100/100%)\")\n",
    "    \n",
    "print(\"---------- PAPER DISTRIBUTIONS GENERATION COMPLETED ----------\")\n"
   ],
   "metadata": {
    "pycharm": {
     "metadata": false,
     "name": "#%%\n",
     "is_executing": false
    }
   }
  },
  {
   "cell_type": "code",
   "execution_count": 28,
   "outputs": [
    {
     "name": "stdout",
     "text": [
      "---------- READERS SETS GENERATION STARTED ----------\nSET 0:  [2, 15, 7, 6]\nSET 1:  [17, 8, 5, 0]\nSET 2:  [16, 4, 12, 11]\nSET 3:  [13, 19, 3, 14]\nSET 4:  [10, 1, 9, 18]\n---------- READERS SETS GENERATION COMPLETED ----------\n---------- RATINGS GENERATION STARTED ----------\n0/6580 (0/100%)\n658/6580 (10/100%)\n1316/6580 (20/100%)\n1974/6580 (30/100%)\n2632/6580 (40/100%)\n3290/6580 (50/100%)\n3948/6580 (60/100%)\n4606/6580 (70/100%)\n5264/6580 (80/100%)\n5922/6580 (90/100%)\n6580/6580 (100/100%)\n---------- RATINGS GENERATION ENDED ----------\n"
     ],
     "output_type": "stream"
    }
   ],
   "source": [
    "\n",
    "# Ratings file generation\n",
    "\n",
    "# N sets of readers, each one has X% of the total\n",
    "\n",
    "readers_percent = 20\n",
    "reader_sets_number = m.floor(100 / readers_percent)\n",
    "readers_amount = m.floor((readers_number*readers_percent)/100)\n",
    "\n",
    "readers_set = set(readers)\n",
    "readers_sets = []\n",
    "\n",
    "# Readers of set 0 rate 1 paper every two weeks\n",
    "# Readers of set 1 rate 1 paper every week\n",
    "# Readers of set 2 rate 2 papers every week\n",
    "# Readers of set 3 rate 1 paper every day\n",
    "# Readers of set 4 rate 3 papers every day\n",
    "\n",
    "paper_frequencies = [26, 52, 104, 365, 1098]\n",
    "\n",
    "print(\"---------- READERS SETS GENERATION STARTED ----------\")\n",
    "\n",
    "ratings_number = sum(paper_frequencies) * readers_amount\n",
    "for x in range(0, reader_sets_number):\n",
    "    current_readers_set = rn.sample(readers_set, readers_amount)\n",
    "    readers_sets.append(current_readers_set)\n",
    "    for reader in current_readers_set:\n",
    "        readers_set.remove(reader)\n",
    "    print(f\"SET {x}: \", current_readers_set)\n",
    "     \n",
    "print(\"---------- READERS SETS GENERATION COMPLETED ----------\")\n",
    "\n",
    "print(\"---------- RATINGS GENERATION STARTED ----------\")\n",
    "\n",
    "generated_ratings = 0\n",
    "with open(ratings_file_path, mode='w', newline='') as ratings_file:\n",
    "    ratings_writer = csv.writer(ratings_file, delimiter=',', quotechar='\"', quoting=csv.QUOTE_MINIMAL)\n",
    "    ratings_writer.writerow(['Timestamp', 'Reader', 'Paper', 'Score'])\n",
    "    for current_set in range(0, reader_sets_number):\n",
    "        paper_per_reader = paper_frequencies[current_set]\n",
    "        readers_set = readers_sets[current_set]\n",
    "        for reader in readers_set:\n",
    "            for index, paper in enumerate(rn.sample(set(papers), paper_per_reader)):\n",
    "                paper_distribution = paper_distributions[paper]\n",
    "                percentage = 100*generated_ratings/ratings_number\n",
    "                if percentage % 10 == 0:\n",
    "                    print(f\"{int(generated_ratings)}/{ratings_number} ({int(percentage)}/100%)\")\n",
    "                current_tuple = {\n",
    "                    \"Reader\": reader, \n",
    "                    \"Paper\": paper, \n",
    "                    \"Score\": round(paper_distribution, 2), \n",
    "                }\n",
    "                ratings_writer.writerow([generated_ratings, current_tuple[\"Reader\"], current_tuple[\"Paper\"], current_tuple[\"Score\"]])\n",
    "                generated_ratings+=1\n",
    "    print(f\"{ratings_number}/{ratings_number} (100/100%)\")\n",
    "ratings_file.close()\n",
    "\n",
    "print(\"---------- RATINGS GENERATION ENDED ----------\")\n"
   ],
   "metadata": {
    "pycharm": {
     "metadata": false,
     "name": "#%%\n",
     "is_executing": false
    }
   }
  },
  {
   "cell_type": "code",
   "execution_count": 29,
   "outputs": [
    {
     "name": "stdout",
     "text": [
      "---------- AUTHORS GENERATION STARTED ----------\n0/25 (0/100%)\n5/25 (20/100%)\n10/25 (40/100%)\n15/25 (60/100%)\n20/25 (80/100%)\n25/25 (100/100%)\n---------- AUTHORS GENERATION ENDED ----------\n"
     ],
     "output_type": "stream"
    }
   ],
   "source": [
    "\n",
    "# Authors file generation\n",
    "\n",
    "print(\"---------- AUTHORS GENERATION STARTED ----------\")\n",
    "\n",
    "with open(authors_file_path, mode='w', newline='') as authors_file:\n",
    "    authors_writer = csv.writer(authors_file, delimiter=',', quotechar='\"', quoting=csv.QUOTE_MINIMAL)\n",
    "    authors_writer.writerow([\"Author\", \"Paper\"])\n",
    "    for index, author in enumerate(authors):\n",
    "        percentage = 100*index/authors_number\n",
    "        if percentage % 10 == 0:\n",
    "            print(f\"{int(index)}/{authors_number} ({int(percentage)}/100%)\")\n",
    "        # An author writes a number of paper between 1 and paper_fraction\n",
    "        author_papers_number = rn.randint(1, (papers_number-1))\n",
    "        papers_written = np.random.choice(papers, author_papers_number).tolist()\n",
    "        papers_written = set(papers_written)\n",
    "        if len(papers_written) > 1:\n",
    "            papers_written = map(str, list(papers_written))\n",
    "            papers_written = \";\".join(papers_written)\n",
    "        authors_writer.writerow([author, papers_written])\n",
    "    print(f\"{authors_number}/{authors_number} (100/100%)\")\n",
    "authors_file.close()\n",
    "        \n",
    "print(\"---------- AUTHORS GENERATION ENDED ----------\")\n"
   ],
   "metadata": {
    "pycharm": {
     "metadata": false,
     "name": "#%% \n",
     "is_executing": false
    }
   }
  },
  {
   "cell_type": "code",
   "execution_count": 30,
   "outputs": [
    {
     "name": "stdout",
     "text": [
      "---------- INFO GENERATION STARTED ----------\n---------- INFO GENERATION ENDED ----------\n"
     ],
     "output_type": "stream"
    }
   ],
   "source": [
    "\n",
    "# Info file generation\n",
    "\n",
    "print(\"---------- INFO GENERATION STARTED ----------\")\n",
    "\n",
    "info_dataframe = pd.DataFrame(columns=[\"Dataset\", \"Paper\", \"Reader\", \"Rating\", \"Author\"])\n",
    "info_dataframe = info_dataframe.append(\n",
    "    {\n",
    "        \"Dataset\": dataset_name, \n",
    "        \"Paper\": papers_number, \n",
    "        \"Reader\": readers_number, \n",
    "        \"Rating\": ratings_number, \n",
    "        \"Author\": authors_number\n",
    "    }, ignore_index=True)\n",
    "info_dataframe.to_csv(info_file_path, index=False)\n",
    "\n",
    "print(\"---------- INFO GENERATION ENDED ----------\")"
   ],
   "metadata": {
    "pycharm": {
     "metadata": false,
     "name": "#%%\n",
     "is_executing": false
    }
   }
  },
  {
   "cell_type": "code",
   "execution_count": null,
   "outputs": [],
   "source": "\n",
   "metadata": {
    "pycharm": {
     "metadata": false,
     "name": "#%%\n"
    }
   }
  }
 ],
 "metadata": {
  "kernelspec": {
   "name": "python3",
   "language": "python",
   "display_name": "Python 3"
  },
  "language_info": {
   "codemirror_mode": {
    "name": "ipython",
    "version": 2
   },
   "file_extension": ".py",
   "mimetype": "text/x-python",
   "name": "python",
   "nbconvert_exporter": "python",
   "pygments_lexer": "ipython2",
   "version": "2.7.6"
  },
  "pycharm": {
   "stem_cell": {
    "cell_type": "raw",
    "source": [
     "%%\n",
     "import pandas as pd\n",
     "import seaborn as sb\n",
     "import numpy as np\n",
     "import math as m\n",
     "import os\n",
     "import csv\n",
     "import random as rn\n",
     "from matplotlib import pyplot as plt\n",
     "import scipy as sp\n",
     "from scipy.stats import truncnorm as tn\n",
     "\n",
     "# Quantities in an year of activity\n",
     "# papers_number = 15000\n",
     "# readers_number = 2000\n",
     "#authors_number = 50\n",
     "\n",
     "# Quantities in an year of activity\n",
     "papers_number = 1100\n",
     "readers_number = 20\n",
     "authors_number = 25\n",
     "\n",
     "papers = np.arange(papers_number)\n",
     "readers = np.arange(readers_number)\n",
     "authors = np.arange(authors_number)\n",
     "\n",
     "# Seed folder path\n",
     "\n",
     "dataset_name = \"seed_2\"\n",
     "dataset_folder_path = f\"../data/{dataset_name}/\"\n",
     "info_file_path = f\"{dataset_folder_path}info.csv\"\n",
     "ratings_file_path = f\"{dataset_folder_path}ratings.csv\"\n",
     "authors_file_path = f\"{dataset_folder_path}authors.csv\"\n",
     "\n",
     "os.makedirs(dataset_folder_path, exist_ok=True)\n",
     "\n",
     "print(\"DATASET NAME: \", dataset_name)\n",
     "print(\"DATASET FOLDER PATH: \", dataset_folder_path)\n",
     "print(\"INFO FILE PATH: \", info_file_path)\n",
     "print(\"RATINGS FILE PATH: \", ratings_file_path)\n",
     "print(\"AUTHORS FILE PATH: \", authors_file_path)\n"
    ],
    "metadata": {
     "collapsed": false
    }
   }
  }
 },
 "nbformat": 4,
 "nbformat_minor": 0
}