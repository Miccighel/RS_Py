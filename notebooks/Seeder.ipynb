{
 "cells": [
  {
   "cell_type": "code",
   "execution_count": 249,
   "outputs": [
    {
     "name": "stdout",
     "text": [
      "DATASET NAME:  seed_power_law_1\nDATASET FOLDER PATH:  ../data/seed_power_law_1/\nINFO FILE PATH:  ../data/seed_power_law_1/entries/info.csv\nRATINGS FILE PATH:  ../data/seed_power_law_1/entries/ratings.csv\nAUTHORS FILE PATH:  ../data/seed_power_law_1/entries/authors.csv\n"
     ],
     "output_type": "stream"
    }
   ],
   "source": [
    "import pandas as pd\n",
    "import numpy as np\n",
    "import os\n",
    "import collections\n",
    "import csv\n",
    "import random as rn\n",
    "import seaborn as sns\n",
    "import matplotlib.pyplot as plt\n",
    "import scipy.stats as stats\n",
    "from itertools import islice\n",
    "from scipy.stats import beta as beta\n",
    "\n",
    "# ------------------------------\n",
    "# ----- PARAMETERS & SETUP -----\n",
    "# ------------------------------\n",
    "\n",
    "# Parameter setting\n",
    "\n",
    "dataset_name = \"seed_power_law_1\"\n",
    "authors_number = 20\n",
    "months_number = 1\n",
    "readers_classes = 10\n",
    "papers_classes = 10\n",
    "shuffling = False\n",
    "shuffle_number = 100\n",
    "\n",
    "# Seed folder path\n",
    "\n",
    "dataset_folder_path = \"../data/{}/\".format(dataset_name)\n",
    "dataset_shuffle_folder_path = \"../data/{}/shuffle/\".format(dataset_name)\n",
    "dataset_entries_folder_path = \"../data/{}/entries/\".format(dataset_name)\n",
    "dataset_plots_folder_path = \"../data/{}/plots/\".format(dataset_name)\n",
    "reader_mappings_path = \"{}reader_mappings.csv\".format(dataset_entries_folder_path)\n",
    "paper_mappings_path = \"{}paper_mappings.csv\".format(dataset_entries_folder_path)\n",
    "rp_matrix_df_csv_path = \"{}rp_matrix.csv\".format(dataset_entries_folder_path)\n",
    "ratings_file_path = \"{}ratings.csv\".format(dataset_entries_folder_path)\n",
    "authors_file_path = \"{}authors.csv\".format(dataset_entries_folder_path)\n",
    "info_file_path = \"{}info.csv\".format(dataset_entries_folder_path)\n",
    "stats_file_path = \"{}stats.csv\".format(dataset_entries_folder_path)\n",
    "\n",
    "os.makedirs(dataset_folder_path, exist_ok=True)\n",
    "os.makedirs(dataset_entries_folder_path, exist_ok=True)\n",
    "os.makedirs(dataset_plots_folder_path, exist_ok=True)\n",
    "\n",
    "print(\"DATASET NAME: \", dataset_name)\n",
    "print(\"DATASET FOLDER PATH: \", dataset_folder_path)\n",
    "print(\"INFO FILE PATH: \", info_file_path)\n",
    "print(\"RATINGS FILE PATH: \", ratings_file_path)\n",
    "print(\"AUTHORS FILE PATH: \", authors_file_path)\n",
    "\n",
    "# Functions\n",
    "\n",
    "# Return first n items of the iterable as a list\n",
    "def take(n, iterable):\n",
    "    return list(islice(iterable, n))\n",
    "\n",
    "def truncated_power_law(a, m):\n",
    "    x = np.arange(1, m+1, dtype='float')\n",
    "    pmf = 1/x**a\n",
    "    pmf /= pmf.sum()\n",
    "    return stats.rv_discrete(values=(range(1, m+1), pmf))\n",
    "\n",
    "# ------------------------------\n",
    "# ---- CORE IMPLEMENTATION -----\n",
    "# ------------------------------"
   ],
   "metadata": {
    "collapsed": false,
    "pycharm": {
     "name": "#%%\n",
     "is_executing": false
    }
   }
  },
  {
   "cell_type": "code",
   "execution_count": 250,
   "outputs": [
    {
     "name": "stdout",
     "text": [
      "---------- INTER-READERS DISTRIBUTION GENERATION STARTED ----------\n---------- PRINTING EXPECTED POWER LAW FOR READERS ----------\n",
      "Expected Power Law Plot Saved at Path: ../data/seed_power_law_1/plots/expected-power-law-readers.pdf\nGenerated Readers: 55\nDistinct Readers Classes: 10 (i.e., m)\nTotal Amount of Ratings to Give:  358\nMinimum Number of Papers Required: 29\nThere Are 1 Readers Which Give 29 Ratings\nThere Are 2 Readers Which Give 22 Ratings\nThere Are 4 Readers Which Give 14 Ratings\nThere Are 8 Readers Which Give 8 Ratings\nThere Are 3 Readers Which Give 7 Ratings\nThere Are 5 Readers Which Give 6 Ratings\nThere Are 7 Readers Which Give 5 Ratings\nThere Are 10 Readers Which Give 4 Ratings\nThere Are 9 Readers Which Give 3 Ratings\nThere Are 6 Readers Which Give 2 Ratings\nEtc.\n---------- INTER-READERS DISTRIBUTION GENERATION COMPLETED ----------\n"
     ],
     "output_type": "stream"
    },
    {
     "data": {
      "text/plain": "<Figure size 432x288 with 1 Axes>",
      "image/png": "[encoded data removed]"
     },
     "metadata": {
      "needs_background": "light"
     },
     "output_type": "display_data"
    }
   ],
   "source": [
    "print(\"---------- INTER-READERS DISTRIBUTION GENERATION STARTED ----------\")\n",
    "\n",
    "a, m = .9, readers_classes\n",
    "d = truncated_power_law(a=a, m=m)\n",
    "n = 100\n",
    "\n",
    "check_uniqueness_readers = False\n",
    "while not check_uniqueness_readers:\n",
    "    sample_readers = d.rvs(size=n)\n",
    "    readers_number = int((m*(m+1))/2)\n",
    "    ratings_number = 0\n",
    "    reader_rating_frequency = list(collections.Counter(sample_readers).most_common())\n",
    "    for readers_amount,rating_frequency in reader_rating_frequency:\n",
    "        ratings_number += readers_amount * rating_frequency\n",
    "    min_papers_number = collections.Counter(sample_readers).most_common()[0][1]\n",
    "    check_array = [ x[1] for x in reader_rating_frequency]\n",
    "    if (len(np.unique(check_array)) == len(check_array)) and (0 not in check_array):\n",
    "        check_uniqueness_readers = True\n",
    "\n",
    "print(\"---------- PRINTING EXPECTED POWER LAW FOR READERS ----------\")\n",
    "ax = sns.distplot(sample_readers, bins=np.arange(m)+0.5, kde=False)\n",
    "ax.set(xlabel=\"Reader Class\", ylabel= \"Ratings To Give\")\n",
    "fig = ax.get_figure()\n",
    "path = \"{}expected-power-law-readers.pdf\".format(dataset_plots_folder_path)\n",
    "fig.savefig(path, bbox_inches='tight')\n",
    "\n",
    "print(f\"Expected Power Law Plot Saved at Path: {path}\")\n",
    "print(f\"Generated Readers: {readers_number}\")\n",
    "print(f\"Distinct Readers Classes: {readers_classes} (i.e., m)\")\n",
    "print(f\"Total Amount of Ratings to Give:  {ratings_number}\")\n",
    "print(f\"Minimum Number of Papers Required: {min_papers_number}\")\n",
    "for readers_amount, rating_frequency in take(10, reader_rating_frequency):\n",
    "    print(f\"There Are {readers_amount} Readers Which Give {rating_frequency} Ratings\")\n",
    "print(\"Etc.\")\n",
    "\n",
    "# Setting up arrays\n",
    "\n",
    "readers = np.arange(readers_number)\n",
    "authors = np.arange(authors_number)\n",
    "\n",
    "print(\"---------- INTER-READERS DISTRIBUTION GENERATION COMPLETED ----------\")"
   ],
   "metadata": {
    "pycharm": {
     "metadata": false,
     "name": "#%%\n",
     "is_executing": false
    }
   }
  },
  {
   "cell_type": "code",
   "execution_count": 251,
   "outputs": [
    {
     "name": "stdout",
     "text": [
      "---------- INTER-PAPERS DISTRIBUTION GENERATION STARTED ----------\n---------- PRINTING EXPECTED POWER LAW FOR PAPERS ----------\nExpected Power Law Plot Saved at Path: ../data/seed_power_law_1/plots/expected-power-law-papers.pdf\nGenerated Papers: 55\nDistinct Papers Classes: 10 (i.e., m)\nMinimum Number of Readers Required: 64\nThere Are 1 Papers Which Receive 64 Ratings\nThere Are 2 Papers Which Receive 36 Ratings\nThere Are 6 Papers Which Receive 19 Ratings\nThere Are 5 Papers Which Receive 18 Ratings\n",
      "There Are 3 Papers Which Receive 16 Ratings\nThere Are 4 Papers Which Receive 15 Ratings\nThere Are 8 Papers Which Receive 11 Ratings\nThere Are 7 Papers Which Receive 10 Ratings\nThere Are 9 Papers Which Receive 6 Ratings\nThere Are 10 Papers Which Receive 5 Ratings\nEtc.\n---------- INTER-PAPERS DISTRIBUTION GENERATION COMPLETED ----------\n"
     ],
     "output_type": "stream"
    },
    {
     "data": {
      "text/plain": "<Figure size 432x288 with 1 Axes>",
      "image/png": "[encoded data removed]"
     },
     "metadata": {
      "needs_background": "light"
     },
     "output_type": "display_data"
    }
   ],
   "source": [
    "print(\"---------- INTER-PAPERS DISTRIBUTION GENERATION STARTED ----------\")\n",
    "\n",
    "a, m = .9, papers_classes\n",
    "d = truncated_power_law(a=a, m=m)\n",
    "n = 200\n",
    "\n",
    "check_uniqueness_papers = False\n",
    "while not check_uniqueness_papers:\n",
    "    sample_papers = d.rvs(size=n)\n",
    "    papers_number = int((m*(m+1))/2)\n",
    "    paper_rating_frequency = list(collections.Counter(sample_papers).most_common())\n",
    "    min_readers_number = collections.Counter(sample_papers).most_common()[0][1]\n",
    "    check_array = [ x[1] for x in paper_rating_frequency]\n",
    "    if (len(np.unique(check_array)) == len(check_array)) and (0 not in check_array):\n",
    "        check_uniqueness_papers = True\n",
    "\n",
    "print(\"---------- PRINTING EXPECTED POWER LAW FOR PAPERS ----------\")\n",
    "ax = sns.distplot(sample_papers, bins=np.arange(m)+0.5, kde=False)\n",
    "ax.set(xlabel=\"Paper Class\", ylabel= \"Ratings Expected\")\n",
    "fig = ax.get_figure()\n",
    "path = \"{}expected-power-law-papers.pdf\".format(dataset_plots_folder_path)\n",
    "fig.savefig(path, bbox_inches='tight')\n",
    "\n",
    "print(f\"Expected Power Law Plot Saved at Path: {path}\")\n",
    "print(f\"Generated Papers: {papers_number}\")\n",
    "print(f\"Distinct Papers Classes: {papers_classes} (i.e., m)\")\n",
    "print(f\"Minimum Number of Readers Required: {min_readers_number}\")\n",
    "for paper_amount, rating_frequency in take(10, paper_rating_frequency):\n",
    "    print(f\"There Are {paper_amount} Papers Which Receive {rating_frequency} Ratings\")\n",
    "print(\"Etc.\")\n",
    "\n",
    "# Setting up arrays\n",
    "\n",
    "papers = np.arange(papers_number)\n",
    "\n",
    "print(\"---------- INTER-PAPERS DISTRIBUTION GENERATION COMPLETED ----------\")"
   ],
   "metadata": {
    "collapsed": false,
    "pycharm": {
     "name": "#%%\n",
     "is_executing": false
    }
   }
  },
  {
   "cell_type": "code",
   "execution_count": 252,
   "outputs": [
    {
     "name": "stdout",
     "text": [
      "---------- READER-PAPER MATRIX GENERATION STARTED ----------\nTotal Papers: 55\nTotal Readers: 55\n",
      "---------- PRINTING TRUE POWER LAW FOR READERS ----------\n",
      "---------- PRINTING TRUE POWER LAW FOR PAPERS ----------\n",
      "Ratings Given By Readers: 358\nRatings Received By Papers: 358\nReader Mappings Saved at Path: ../data/seed_power_law_1/entries/reader_mappings.csv\nPaper Mappings Saved at Path: ../data/seed_power_law_1/entries/paper_mappings.csv\nReader-Paper Matrix Saved at Path: ../data/seed_power_law_1/entries/rp_matrix.csv\nTrue Power Law Plot (Readers) Saved at Path: ../data/seed_power_law_1/plots/true-power-law-readers.pdf\nTrue Power Law Plot (Papers) Saved at Path: ../data/seed_power_law_1/plots/true-power-law-papers.pdf\n---------- READER-PAPER MATRIX GENERATION COMPLETED ----------\n"
     ],
     "output_type": "stream"
    },
    {
     "data": {
      "text/plain": "<Figure size 432x288 with 1 Axes>",
      "image/png": "[encoded data removed]"
     },
     "metadata": {
      "needs_background": "light"
     },
     "output_type": "display_data"
    },
    {
     "data": {
      "text/plain": "<Figure size 432x288 with 1 Axes>",
      "image/png": "[encoded data removed]"
     },
     "metadata": {
      "needs_background": "light"
     },
     "output_type": "display_data"
    }
   ],
   "source": [
    "print(\"---------- READER-PAPER MATRIX GENERATION STARTED ----------\")\n",
    "\n",
    "rp_matrix = np.zeros_like(np.arange(readers_number * papers_number).reshape(readers_number, papers_number))\n",
    "\n",
    "paper_mappings = pd.DataFrame(columns=[\"Paper\", \"Rating Frequency\", \"Ratings Received\"])\n",
    "paper_set = set(papers)\n",
    "paper_sampled = set()\n",
    "print(f\"Total Papers: {len(paper_set)}\")\n",
    "for paper_amount, rating_frequency in paper_rating_frequency:\n",
    "    sample = rn.sample(paper_set, paper_amount)\n",
    "    for paper_id in sample:\n",
    "        paper_sampled.add(paper_id)\n",
    "        paper_set.remove(paper_id)\n",
    "        paper_mappings = paper_mappings.append({\"Paper\": paper_id, \"Rating Frequency\": rating_frequency, \"Ratings Received\": 0}, ignore_index=True)\n",
    "    #\n",
    "reader_mappings = pd.DataFrame(columns=[\"Reader\", \"Rating Frequency\", \"Ratings Given\"])\n",
    "reader_set = set(readers)\n",
    "print(f\"Total Readers: {len(reader_set)}\")\n",
    "for reader_amount, rating_frequency in reader_rating_frequency:\n",
    "    sample = rn.sample(reader_set, reader_amount)\n",
    "    for reader_id in sample:\n",
    "        reader_set.remove(reader_id)\n",
    "        reader_mappings = reader_mappings.append({\"Reader\": reader_id, \"Rating Frequency\": rating_frequency, \"Ratings Given\": 0}, ignore_index=True)\n",
    "    #print(f\"Sampled Readers: {reader_amount} Remaining Readers: {len(reader_set)}\")\n",
    "    \n",
    "for reader_index, reader_row in reader_mappings.iterrows():\n",
    "    reader_id = reader_row[\"Reader\"]\n",
    "    papers_to_sample = reader_row[\"Rating Frequency\"]\n",
    "    papers_sampled = paper_mappings[\n",
    "        paper_mappings[\"Ratings Received\"] < paper_mappings[\"Rating Frequency\"]\n",
    "    ].head(papers_to_sample)\n",
    "    ratings_given = reader_row[\"Ratings Given\"]\n",
    "    for paper_index, paper_row in papers_sampled.iterrows():\n",
    "        paper_id = paper_row[\"Paper\"]\n",
    "        ratings_expected = paper_row[\"Rating Frequency\"]\n",
    "        ratings_received = paper_row[\"Ratings Received\"]\n",
    "        if ratings_received < ratings_expected:\n",
    "            rp_matrix[reader_id, paper_id] = 1\n",
    "            ratings_given += 1\n",
    "            paper_mappings.loc[paper_index, \"Ratings Received\"] = ratings_received + 1\n",
    "    reader_mappings.loc[reader_index, \"Ratings Given\"] = ratings_given\n",
    "\n",
    "reader_mappings.to_csv(reader_mappings_path)\n",
    "paper_mappings.to_csv(paper_mappings_path)\n",
    "rp_matrix_df = pd.DataFrame(dtype=int)\n",
    "for paper_configuration in rp_matrix:\n",
    "    rp_matrix_df = rp_matrix_df.append(pd.Series(paper_configuration),ignore_index=True)\n",
    "rp_matrix_df = rp_matrix_df.astype(int)\n",
    "rp_matrix_df.to_csv(rp_matrix_df_csv_path)\n",
    "\n",
    "print(\"---------- PRINTING TRUE POWER LAW FOR READERS ----------\")\n",
    "temp = []\n",
    "ratings_given = rp_matrix_df.sum(axis=1)\n",
    "final_reader_rating_frequency = collections.Counter(ratings_given).most_common()\n",
    "for index, (readers_amount, rating_frequency) in enumerate(final_reader_rating_frequency):\n",
    "    temp.append([rating_frequency] * readers_amount)\n",
    "temp = [item for sublist in temp for item in sublist]\n",
    "ax = sns.distplot(temp, bins=np.arange(readers_classes)+0.5, kde=False)\n",
    "fig = ax.get_figure()\n",
    "path_readers = \"{}true-power-law-readers.pdf\".format(dataset_plots_folder_path)\n",
    "fig.savefig(path_readers, bbox_inches='tight')\n",
    "plt.show()\n",
    "plt.close()\n",
    "\n",
    "# The true power law papers may be different from the expect one because\n",
    "# it is not guaranteed that the full amount of papers will be sampled for\n",
    "# each class; this means that the following instructions will \"merge\" together\n",
    "# two or more classes if the same amount of papers have been sampled.\n",
    "# (i.e, if there are 1 paper with 68 ratings and 1 paper with 5 ratings, the\n",
    "# true power law will say something like \"there are 1 paper which receives 73 ratings\n",
    "\n",
    "print(\"---------- PRINTING TRUE POWER LAW FOR PAPERS ----------\")\n",
    "temp = []\n",
    "ratings_received = rp_matrix_df.sum(axis=0)\n",
    "final_paper_rating_frequency = collections.Counter(ratings_received).most_common()\n",
    "for index, (papers_amount, rating_frequency) in enumerate(final_paper_rating_frequency):\n",
    "    temp.append([rating_frequency] * papers_amount)\n",
    "temp = [item for sublist in temp for item in sublist]\n",
    "ax = sns.distplot(temp, bins=np.arange(papers_classes)+0.5, kde=False)\n",
    "fig = ax.get_figure()\n",
    "path_papers = \"{}true-power-law-papers.pdf\".format(dataset_plots_folder_path)\n",
    "fig.savefig(path_papers, bbox_inches='tight')\n",
    "plt.show()\n",
    "plt.close()\n",
    "\n",
    "print(\"Ratings Given By Readers: {}\".format(sum(reader_mappings[\"Ratings Given\"])))\n",
    "print(\"Ratings Received By Papers: {}\".format(sum(paper_mappings[\"Ratings Received\"])))\n",
    "print(\"Reader Mappings Saved at Path: {}\".format(reader_mappings_path))\n",
    "print(\"Paper Mappings Saved at Path: {}\".format(paper_mappings_path))\n",
    "print(\"Reader-Paper Matrix Saved at Path: {}\".format(rp_matrix_df_csv_path))\n",
    "print(\"True Power Law Plot (Readers) Saved at Path: {}\".format(path_readers))\n",
    "print(\"True Power Law Plot (Papers) Saved at Path: {}\".format(path_papers))\n",
    "\n",
    "print(\"---------- READER-PAPER MATRIX GENERATION COMPLETED ----------\")"
   ],
   "metadata": {
    "collapsed": false,
    "pycharm": {
     "name": "#%%\n",
     "is_executing": false
    }
   }
  },
  {
   "cell_type": "code",
   "execution_count": 253,
   "outputs": [
    {
     "name": "stdout",
     "text": [
      "---------- INTRA-PAPER DISTRIBUTIONS GENERATION STARTED ----------\n0/55 (0/100%)\n11/55 (20/100%)\n22/55 (40/100%)\n33/55 (60/100%)\n44/55 (80/100%)\n55/55 (100/100%)\n---------- INTRA-PAPER DISTRIBUTIONS GENERATION COMPLETED ----------\n"
     ],
     "output_type": "stream"
    }
   ],
   "source": [
    "print(\"---------- INTRA-PAPER DISTRIBUTIONS GENERATION STARTED ----------\")\n",
    "\n",
    "generated_configurations = {\"0\":{},\"1\":{},\"2\":{},\"3\":{},\"4\":{}}\n",
    "\n",
    "beta_distributions_frequencies = [(0, int(round((5*papers_number/100))))]\n",
    "beta_distributions_frequencies.append((1, int(round(30*papers_number/100))))\n",
    "beta_distributions_frequencies.append((2, int(round(20*papers_number/100))))\n",
    "beta_distributions_frequencies.append((3, int(round(30*papers_number/100))))\n",
    "beta_distributions_frequencies.append((4, int(round(15*papers_number/100))))\n",
    "papers_amount = 0\n",
    "for (index, papers_amount) in beta_distributions_frequencies:\n",
    "    papers_amount += papers_amount\n",
    "while papers_amount < papers_number:\n",
    "    current_configuration = list(rn.sample(beta_distributions_frequencies, 1)[0])\n",
    "    current_configuration[1] = current_configuration[1] + 1\n",
    "    beta_distributions_frequencies[current_configuration[0]] = tuple(current_configuration)\n",
    "    papers_amount = 0\n",
    "    for (index, z) in beta_distributions_frequencies:\n",
    "        papers_amount += z\n",
    "\n",
    "papers_set = set(papers)\n",
    "paper_distributions = [None] * papers_number\n",
    "\n",
    "generated_papers_distributions = 0\n",
    "for (index, papers_amount) in beta_distributions_frequencies:\n",
    "    if papers_amount > len(papers_set):\n",
    "        papers_amount = len(papers_set)\n",
    "    current_paper_set = rn.sample(papers_set, papers_amount)\n",
    "    generated_configurations[\"{}\".format(index)][\"papers_ids\"] = current_paper_set\n",
    "    generated_configurations[\"{}\".format(index)][\"papers_amount\"] = papers_amount\n",
    "    for paper in current_paper_set:\n",
    "        a = 0\n",
    "        b = 0\n",
    "        if index==0:\n",
    "            # CASE 1: a == b == 1, 5% of papers\n",
    "            a = 1\n",
    "            b = 1\n",
    "        if index==1:\n",
    "            # CASE 2: a == b > 1, 30% of papers\n",
    "            a = rn.randint(2, 10)\n",
    "            b = a\n",
    "        if index == 2:\n",
    "            # CASE 3: 0 < (a ^ b) < 1, 30% of papers\n",
    "            a = rn.uniform(0.3, 1)\n",
    "            b = rn.uniform(0.001, 1)\n",
    "        if index == 3:\n",
    "            # CASE 4: (a V b) == 1, (a > b V b > a), 20% of papers\n",
    "            a = 1\n",
    "            b = rn.randint(1, 10)\n",
    "            if rn.randint(0,1) > 0.5:\n",
    "                a, b = b, a\n",
    "        if index == 4:\n",
    "            # CASE 5: (a ^ b) > 1, (a > b V b > a), 15% of papers\n",
    "            a = rn.randint(2, 10)\n",
    "            b = rn.randint(2 + a, 10 + a)\n",
    "            if rn.randint(0,1) > 0.5:\n",
    "                a, b = b, a\n",
    "        percentage = 100*generated_papers_distributions/papers_number\n",
    "        if percentage % 10 == 0:\n",
    "            print(\"{}/{} ({}/100%)\".format(int(generated_papers_distributions), papers_number, int(percentage)))\n",
    "        paper_distributions[paper] = [a, b]\n",
    "        generated_papers_distributions = generated_papers_distributions + 1\n",
    "        papers_set.remove(paper)\n",
    "print(\"{}/{} (100/100%)\".format(papers_number, papers_number))\n",
    "\n",
    "print(\"---------- INTRA-PAPER DISTRIBUTIONS GENERATION COMPLETED ----------\")"
   ],
   "metadata": {
    "collapsed": false,
    "pycharm": {
     "name": "#%%\n",
     "is_executing": false
    }
   }
  },
  {
   "cell_type": "code",
   "execution_count": 254,
   "outputs": [
    {
     "name": "stdout",
     "text": [
      "---------- RATINGS GENERATION STARTED ----------\n0/358 (0/100%)\n",
      "179/358 (50/100%)\n",
      "358/358 (100/100%)\nRatings Timeserie Saved at Path: ../data/seed_power_law_1/entries/ratings.csv\n---------- RATINGS GENERATION ENDED ----------\n"
     ],
     "output_type": "stream"
    }
   ],
   "source": [
    "print(\"---------- RATINGS GENERATION STARTED ----------\")\n",
    "\n",
    "generated_ratings = 0\n",
    "with open(ratings_file_path, mode='w', newline='') as ratings_file:\n",
    "    ratings_writer = csv.writer(ratings_file, delimiter=',', quotechar='\"', quoting=csv.QUOTE_MINIMAL)\n",
    "    ratings_writer.writerow(['Timestamp', 'Reader', 'Paper', 'Score','Reader-Label'])\n",
    "    for reader, papers_configuration in rp_matrix_df.iterrows():\n",
    "        for paper in papers:\n",
    "            if papers_configuration[paper] == 1:\n",
    "                paper_distribution = beta(paper_distributions[paper][0],paper_distributions[paper][1])\n",
    "                percentage = 100*generated_ratings/ratings_number\n",
    "                if percentage % 10 == 0:\n",
    "                    print(\"{}/{} ({}/100%)\".format(int(generated_ratings), ratings_number, int(percentage)))\n",
    "                generated_rating = round(paper_distribution.rvs(1)[0], 2)\n",
    "                if generated_rating == 0:\n",
    "                    generated_rating = 0.01\n",
    "                ratings_writer.writerow([\n",
    "                    generated_ratings, \n",
    "                    reader, \n",
    "                    paper, \n",
    "                    generated_rating,\n",
    "                    \"R#{}\".format(reader)\n",
    "                ])\n",
    "                generated_ratings+=1\n",
    "    print(\"{}/{} (100/100%)\".format(ratings_number, ratings_number))\n",
    "    \n",
    "ratings_file.close()\n",
    "\n",
    "paper_ratings = pd.read_csv(ratings_file_path)\n",
    "paper_ratings = paper_ratings.sample(frac=1)\n",
    "paper_ratings[\"Timestamp\"] = range(len(paper_ratings))\n",
    "paper_ratings.reset_index(drop=True, inplace=True)\n",
    "\n",
    "paper_ratings.to_csv(ratings_file_path, index=False, header=True, sep=\",\")\n",
    "\n",
    "print(\"Ratings Timeserie Saved at Path: {}\".format(ratings_file_path))\n",
    "\n",
    "print(\"---------- RATINGS GENERATION ENDED ----------\")"
   ],
   "metadata": {
    "collapsed": false,
    "pycharm": {
     "name": "#%%\n",
     "is_executing": false
    }
   }
  },
  {
   "cell_type": "code",
   "execution_count": 255,
   "outputs": [
    {
     "name": "stdout",
     "text": [
      "---------- AUTHORS GENERATION STARTED ----------\n0/20 (0/100%)",
      "\n2/20 (10/100%)\n4/20 (20/100%)\n6/20 (30/100%)\n8/20 (40/100%)\n10/20 (50/100%)\n12/20 (60/100%)\n14/20 (70/100%)\n16/20 (80/100%)\n18/20 (90/100%)\n20/20 (100/100%)\nAuthors File Saved at Path: ../data/seed_power_law_1/entries/authors.csv\n---------- AUTHORS GENERATION ENDED ----------\n"
     ],
     "output_type": "stream"
    }
   ],
   "source": [
    "# Authors file generation\n",
    "\n",
    "print(\"---------- AUTHORS GENERATION STARTED ----------\")\n",
    "\n",
    "with open(authors_file_path, mode='w', newline='') as authors_file:\n",
    "    authors_writer = csv.writer(authors_file, delimiter=',', quotechar='\"', quoting=csv.QUOTE_MINIMAL)\n",
    "    authors_writer.writerow([\"Author\", \"Paper\"])\n",
    "    for index, author in enumerate(authors):\n",
    "        percentage = 100*index/authors_number\n",
    "        if percentage % 10 == 0:\n",
    "            print(\"{}/{} ({}/100%)\".format(int(index), authors_number, int(percentage)))\n",
    "        # An author writes a number of paper between 1 and paper_fraction\n",
    "        author_papers_number = rn.randint(1, (papers_number-1))\n",
    "        papers_written = np.random.choice(papers, author_papers_number).tolist()\n",
    "        papers_written = set(papers_written)\n",
    "        if len(papers_written) > 1:\n",
    "            papers_written = map(str, list(papers_written))\n",
    "            papers_written = \";\".join(papers_written)\n",
    "        else:\n",
    "            papers_written = list(papers_written)[0]\n",
    "        authors_writer.writerow([author, papers_written])\n",
    "    print(\"{}/{} (100/100%)\".format(authors_number, authors_number))\n",
    "authors_file.close()\n",
    "\n",
    "print(\"Authors File Saved at Path: {}\".format(authors_file_path))\n",
    "        \n",
    "print(\"---------- AUTHORS GENERATION ENDED ----------\")"
   ],
   "metadata": {
    "pycharm": {
     "metadata": false,
     "name": "#%% \n",
     "is_executing": false
    }
   }
  },
  {
   "cell_type": "code",
   "execution_count": 256,
   "outputs": [
    {
     "name": "stdout",
     "text": [
      "---------- INFO GENERATION STARTED ----------\nInfo File Saved at Path: ../data/seed_power_law_1/entries/info.csv\n---------- INFO GENERATION ENDED ----------\n"
     ],
     "output_type": "stream"
    }
   ],
   "source": [
    "# Info file generation\n",
    "\n",
    "print(\"---------- INFO GENERATION STARTED ----------\")\n",
    "\n",
    "info_dataframe = pd.DataFrame(columns=[\"Dataset\", \"Paper\", \"Reader\", \"Rating\", \"Author\"])\n",
    "info_dataframe = info_dataframe.append(\n",
    "    {\n",
    "        \"Dataset\": dataset_name, \n",
    "        \"Paper\": papers_number, \n",
    "        \"Reader\": readers_number, \n",
    "        \"Rating\": ratings_number, \n",
    "        \"Author\": authors_number\n",
    "    }, ignore_index=True)\n",
    "info_dataframe.to_csv(info_file_path, index=False)\n",
    "\n",
    "print(\"Info File Saved at Path: {}\".format(info_file_path))\n",
    "\n",
    "print(\"---------- INFO GENERATION ENDED ----------\")"
   ],
   "metadata": {
    "pycharm": {
     "metadata": false,
     "name": "#%%\n",
     "is_executing": false
    }
   }
  },
  {
   "cell_type": "code",
   "execution_count": 257,
   "outputs": [
    {
     "name": "stdout",
     "text": [
      "---------- STATS GENERATION STARTED ----------\n---------- COMPUTING STATS FOR PAPERS ----------\n---------- COMPUTING STATS FOR READERS ----------\nStats File Saved at Path: ../data/seed_power_law_1/entries/stats.csv\n---------- STATS GENERATION COMPLETED ----------\n"
     ],
     "output_type": "stream"
    }
   ],
   "source": [
    "# Stats file generation\n",
    "\n",
    "print(\"---------- STATS GENERATION STARTED ----------\")\n",
    "\n",
    "temp_ratings_dataframe = pd.read_csv(ratings_file_path)\n",
    "temp_ratings_dataframe = temp_ratings_dataframe.loc[:, temp_ratings_dataframe.columns != \"Reader-Label\"]\n",
    "temp_ratings_dataframe[temp_ratings_dataframe.columns] = temp_ratings_dataframe[temp_ratings_dataframe.columns].apply(pd.to_numeric)\n",
    "\n",
    "stats_dataframe = temp_ratings_dataframe.copy()\n",
    "stats_dataframe[stats_dataframe > 0.0000001] = 1\n",
    "\n",
    "print(\"---------- COMPUTING STATS FOR PAPERS ----------\")\n",
    "\n",
    "sums_paper = stats_dataframe.copy().sum(axis=0)\n",
    "sums_paper_dataframe = pd.DataFrame(sums_paper)\n",
    "\n",
    "max_ratings_paper = sums_paper_dataframe.max()\n",
    "min_ratings_paper = sums_paper_dataframe.min()\n",
    "mean_ratings_paper = sums_paper_dataframe.mean()\n",
    "\n",
    "temp_ratings_dataframe = temp_ratings_dataframe.T\n",
    "paper_counter = 0\n",
    "for index, row in temp_ratings_dataframe.iterrows():\n",
    "    if len(np.unique(row)) == 1:\n",
    "        paper_counter+=1\n",
    "        \n",
    "print(\"---------- COMPUTING STATS FOR READERS ----------\")\n",
    "\n",
    "sums_reader = stats_dataframe.copy().sum(axis=1)\n",
    "counter=collections.Counter(sums_reader)\n",
    "sums_reader_dataframe = pd.DataFrame(sums_reader)\n",
    "\n",
    "max_ratings_reader = sums_reader_dataframe.max()\n",
    "min_ratings_reader = sums_reader_dataframe.min()\n",
    "mean_ratings_reader = sums_reader_dataframe.mean()\n",
    "\n",
    "temp_ratings_dataframe = temp_ratings_dataframe\n",
    "reader_counter = 0\n",
    "for index, row in temp_ratings_dataframe.iterrows():\n",
    "    if len(np.unique(row)) == 1:\n",
    "        reader_counter+=1\n",
    "        \n",
    "# Writing stats to file\n",
    "\n",
    "stats_dataframe = pd.DataFrame(columns=[\n",
    "    \"Dataset\",\n",
    "    \"Max Number Rating Paper\", \n",
    "    \"Min Number Rating Paper\", \n",
    "    \"Mean Number Rating Paper\",\n",
    "    \"Number Papers Unique Ratings\",\n",
    "    \"Max Number Rating Reader\", \n",
    "    \"Min Number Rating Reader\", \n",
    "    \"Mean Number Rating Reader\"\n",
    "    \"Number Readers Unique Rating\"\n",
    "])\n",
    "stats_dataframe = stats_dataframe.append(\n",
    "    {\n",
    "        \"Dataset\": dataset_name, \n",
    "        \"Max Number Rating Paper\": int(max_ratings_paper.values[0]), \n",
    "        \"Min Number Rating Paper\": int(min_ratings_paper.values[0]), \n",
    "        \"Number Papers Unique Ratings\": paper_counter, \n",
    "        \"Mean Number Rating Paper\": int(mean_ratings_paper.values[0]), \n",
    "        \"Max Number Rating Reader\": int(max_ratings_reader.values[0]), \n",
    "        \"Min Number Rating Reader\": int(min_ratings_reader.values[0]), \n",
    "        \"Mean Number Rating Reader\": int(mean_ratings_reader.values[0]), \n",
    "        \"Number Readers Unique Rating\": reader_counter, \n",
    "    }, ignore_index=True)\n",
    "stats_dataframe.to_csv(stats_file_path, index=False)\n",
    "\n",
    "print(\"Stats File Saved at Path: {}\".format(stats_file_path))\n",
    "\n",
    "print(\"---------- STATS GENERATION COMPLETED ----------\")"
   ],
   "metadata": {
    "collapsed": false,
    "pycharm": {
     "name": "#%%\n",
     "is_executing": false
    }
   }
  },
  {
   "cell_type": "code",
   "execution_count": null,
   "outputs": [],
   "source": [
    "# Data generation for experiments\n",
    "\n",
    "# ------------------------------\n",
    "# -- EXP 1-A: DATA GENERATION --\n",
    "# ------------------------------\n",
    "\n",
    "print(\"---------- SPECIAL RATINGS STARTED ----------\")\n",
    "\n",
    "gaussian_beta_distributions = generated_configurations[\"2\"]\n",
    "papers_identifiers = gaussian_beta_distributions[\"papers_ids\"]\n",
    "for paper in papers_identifiers:\n",
    "    mean = (paper_distributions[paper][0]/(paper_distributions[paper][0] + paper_distributions[paper][1]))\n",
    "    SR1_rating_id = generated_ratings\n",
    "    SR1_reader = readers_number\n",
    "    SR1_paper = paper\n",
    "    SR1_rating_score = round(mean,2)\n",
    "    SR1_reader_label = \"SR#1\"\n",
    "    SR2_rating_id = generated_ratings+1\n",
    "    SR2_reader = readers_number+1\n",
    "    SR2_paper = paper\n",
    "    SR2_reader_label = \"SR#2\"\n",
    "    SR3_rating_id = generated_ratings+2\n",
    "    SR3_reader = readers_number+2\n",
    "    SR3_paper = paper\n",
    "    SR3_reader_label = \"SR#3\"\n",
    "    if mean <= 0.5:\n",
    "        SR2_rating_score = 0.01\n",
    "        SR3_rating_score = round(((1-mean)/2),2)\n",
    "    else:\n",
    "        SR2_rating_score = 1.0\n",
    "        SR3_rating_score = round((mean/2),2)\n",
    "    with open(ratings_file_path, mode='a', newline='') as ratings_file:\n",
    "        ratings_writer = csv.writer(ratings_file, delimiter=',', quotechar='\"', quoting=csv.QUOTE_MINIMAL)\n",
    "        ratings_writer.writerow([SR1_rating_id, SR1_reader, SR1_paper, SR1_rating_score, SR1_reader_label])\n",
    "        ratings_writer.writerow([SR2_rating_id, SR2_reader, SR2_paper, SR2_rating_score, SR2_reader_label])\n",
    "        ratings_writer.writerow([SR3_rating_id, SR3_reader, SR3_paper, SR3_rating_score, SR3_reader_label])\n",
    "    ratings_file.close()\n",
    "    generated_ratings = generated_ratings + 3\n",
    "ratings_number = generated_ratings\n",
    "readers_number = readers_number + 3\n",
    "    \n",
    "# Updating info file\n",
    "\n",
    "info_dataframe = pd.DataFrame(columns=[\"Dataset\", \"Paper\", \"Reader\", \"Rating\", \"Author\"])\n",
    "info_dataframe = info_dataframe.append(\n",
    "    {\n",
    "        \"Dataset\": dataset_name, \n",
    "        \"Paper\": papers_number, \n",
    "        \"Reader\": readers_number, \n",
    "        \"Rating\": ratings_number, \n",
    "        \"Author\": authors_number\n",
    "    }, ignore_index=True)\n",
    "info_dataframe.to_csv(info_file_path, index=False)\n",
    "\n",
    "print(\"---------- SPECIAL RATINGS COMPLETED  ----------\")"
   ],
   "metadata": {
    "collapsed": false,
    "pycharm": {
     "name": "#%%\n",
     "is_executing": false
    }
   }
  },
  {
   "cell_type": "code",
   "execution_count": null,
   "outputs": [],
   "source": [
    "# ------------------------------\n",
    "# -- EXP 1-B: DATA GENERATION --\n",
    "# ------------------------------\n",
    "\n",
    "print(\"---------- RATINGS SHUFFLING STARTED ----------\")\n",
    "\n",
    "if shuffling:\n",
    "    paper_ratings = pd.read_csv(ratings_file_path)\n",
    "    os.makedirs(dataset_shuffle_folder_path, exist_ok=True)\n",
    "    for s in range(shuffle_number):\n",
    "        c = 0\n",
    "        if s % 10 == 0:\n",
    "            print(\"{}/{} ({}/100%)\".format(s, shuffle_number, s))\n",
    "        current_shuffle_file_path = \"{}/shuffle_{}.csv\".format(dataset_shuffle_folder_path, s)\n",
    "        shuffled_papers_ratings = paper_ratings.sample(frac=1)\n",
    "        for i, row in shuffled_papers_ratings.iterrows():\n",
    "            shuffled_papers_ratings.at[i,'Timestamp'] = c\n",
    "            c  = c + 1\n",
    "        shuffled_papers_ratings.to_csv(current_shuffle_file_path, index=False, header=True, sep=\",\")\n",
    "    print(\"{}/{} (100/100%)\".format(shuffle_number, shuffle_number))\n",
    "    \n",
    "print(\"---------- RATINGS SHUFFLING COMPLETED ----------\")\n"
   ],
   "metadata": {
    "collapsed": false,
    "pycharm": {
     "name": "#%%\n",
     "is_executing": false
    }
   }
  },
  {
   "cell_type": "code",
   "execution_count": null,
   "outputs": [],
   "source": [],
   "metadata": {
    "collapsed": false,
    "pycharm": {
     "name": "#%%\n",
     "is_executing": false
    }
   }
  }
 ],
 "metadata": {
  "kernelspec": {
   "name": "python3",
   "language": "python",
   "display_name": "Python 3"
  },
  "language_info": {
   "codemirror_mode": {
    "name": "ipython",
    "version": 2
   },
   "file_extension": ".py",
   "mimetype": "text/x-python",
   "name": "python",
   "nbconvert_exporter": "python",
   "pygments_lexer": "ipython2",
   "version": "2.7.6"
  },
  "pycharm": {
   "stem_cell": {
    "cell_type": "raw",
    "source": [],
    "metadata": {
     "collapsed": false
    }
   }
  }
 },
 "nbformat": 4,
 "nbformat_minor": 0
}