{
 "cells": [
  {
   "cell_type": "code",
   "execution_count": 64,
   "metadata": {
    "collapsed": false
   },
   "outputs": [
    {
     "name": "stdout",
     "output_type": "stream",
     "text": [
      "---------- RANDOM RATINGS GENERATION STARTED ----------\n0/100% 10/100% 20/100% 30/100% 40/100% 50/100% 60/100% 70/100% 80/100% 90/100% 100/100%\n---------- RANDOM RATINGS GENERATION ENDED ----------\n---------- RATINGS APPENDING STARTED ----------\n0/100% 10/100% 20/100% 30/100% 40/100% 50/100% 60/100% 70/100% 80/100% 90/100% 100/100%\n---------- RATINGS APPENDING ENDED ----------\n---------- RANDOM AUTHORS GENERATION STARTED ----------\n---------- RATINGS APPENDING STARTED ----------\n---------- RANDOM AUTHORS GENERATION ENDED ----------\n---------- RATINGS APPENDING ENDED ----------\n"
     ]
    }
   ],
   "source": [
    "import pandas as pd\n",
    "import seaborn as sb\n",
    "import numpy as np\n",
    "import math as m\n",
    "import random as rn\n",
    "from matplotlib import pyplot as plt\n",
    "import scipy as sp\n",
    "from scipy.stats import truncnorm as tn\n",
    "\n",
    "papers_number = 2\n",
    "readers_number = 20\n",
    "ratings_number = readers_number * papers_number\n",
    "authors_number = 6\n",
    "\n",
    "papers = np.arange(papers_number)\n",
    "readers = np.arange(readers_number)\n",
    "ratings = np.arange(ratings_number)\n",
    "authors = np.arange(authors_number)\n",
    "\n",
    "# Seed folder path\n",
    "\n",
    "dataset_name = \"seed_1\"\n",
    "seed_folder_path = f\"data/seed/{dataset_name}/\"\n",
    "info_filename = f\"{seed_folder_path}info.csv\"\n",
    "ratings_filename = f\"{seed_folder_path}ratings.csv\"\n",
    "authors_filename = f\"{seed_folder_path}authors.csv\"\n",
    "\n",
    "# Info file generation\n",
    "\n",
    "info_dataframe = pd.DataFrame(columns=[\"Dataset\", \"Paper\", \"Reader\", \"Rating\", \"Author\"])\n",
    "info_dataframe = info_dataframe.append(\n",
    "    {\n",
    "        \"Dataset\": dataset_name.capitalize(), \n",
    "        \"Paper\": papers_number, \n",
    "        \"Reader\": readers_number, \n",
    "        \"Rating\": ratings_number, \n",
    "        \"Author\": authors_number\n",
    "    }, ignore_index=True)\n",
    "info_dataframe.to_csv(info_filename, index=False)\n",
    "\n",
    "# Ratings file generation\n",
    "\n",
    "ratings_dataframe = pd.DataFrame(columns=[\"Timestamp\", \"Reader\", \"Paper\", \"Score\", \"Author\"])\n",
    "tuples = []\n",
    "print(\"---------- RANDOM RATINGS GENERATION STARTED ----------\")\n",
    "generated_ratings = 0\n",
    "for reader in readers:\n",
    "    for index, paper in enumerate(papers):\n",
    "        percentage = 100*generated_ratings/(readers_number*papers_number)\n",
    "        if percentage % 10 == 0:\n",
    "            print(f\"{int(percentage)}/100%\", end=\" \")\n",
    "        current_tuple = {\n",
    "            \"Reader\": reader, \n",
    "            \"Paper\": paper, \n",
    "            \"Score\": (tn(0, 1, scale=1).rvs(1))[0], \n",
    "            \"Author\": np.random.choice(authors_number, 1)[0]\n",
    "        }\n",
    "        generated_ratings+=1\n",
    "        tuples.append(current_tuple)\n",
    "print(\"100/100%\")\n",
    "print(\"---------- RANDOM RATINGS GENERATION ENDED ----------\")\n",
    "print(\"---------- RATINGS APPENDING STARTED ----------\")\n",
    "for index, current_tuple in enumerate(tuples):\n",
    "    percentage = round((100*index/len(tuples)), 2)\n",
    "    if percentage % 10 == 0:\n",
    "        print(f\"{int(percentage)}/100%\", end=\" \")\n",
    "    ratings_dataframe = ratings_dataframe.append(\n",
    "        {\n",
    "            \"Timestamp\": index,\n",
    "            \"Reader\": current_tuple[\"Reader\"],\n",
    "            \"Paper\": current_tuple[\"Paper\"], \n",
    "            \"Score\": current_tuple[\"Score\"], \n",
    "            \"Author\": current_tuple[\"Author\"]\n",
    "        }, ignore_index=True)\n",
    "print(\"100/100%\")\n",
    "print(\"---------- RATINGS APPENDING ENDED ----------\")\n",
    "ratings_dataframe[\"Timestamp\"] = ratings_dataframe[\"Timestamp\"].astype(int)\n",
    "ratings_dataframe[\"Reader\"] = ratings_dataframe[\"Reader\"].astype(int)\n",
    "ratings_dataframe[\"Paper\"] = ratings_dataframe[\"Paper\"].astype(int)\n",
    "ratings_dataframe[\"Author\"] = ratings_dataframe[\"Author\"].astype(int)\n",
    "ratings_dataframe.to_csv(ratings_filename, index=False)\n",
    "\n",
    "print(\"---------- RANDOM AUTHORS GENERATION STARTED ----------\")\n",
    "print(\"---------- RATINGS APPENDING STARTED ----------\")\n",
    "authors_dataframe = pd.DataFrame(columns=[\"Author\", \"Papers\"])\n",
    "for author in authors:\n",
    "    # An author writes a number of paper between 1 and paper_fraction\n",
    "    author_papers_number = rn.randint(0, (papers_number-1))\n",
    "    papers_written = np.random.choice(papers, author_papers_number).tolist()\n",
    "    papers_written = set(papers_written)\n",
    "    papers_written = map(str, list(papers_written))\n",
    "    papers_written = \";\".join(papers_written)\n",
    "    authors_dataframe = authors_dataframe.append(\n",
    "        {\n",
    "            \"Author\": author,\n",
    "            \"Papers\": papers_written\n",
    "        }, ignore_index=True)\n",
    "print(\"---------- RANDOM AUTHORS GENERATION ENDED ----------\")\n",
    "print(\"---------- RATINGS APPENDING ENDED ----------\")\n",
    "authors_dataframe.to_csv(authors_filename, index=False)"
   ]
  },
  {
   "cell_type": "code",
   "execution_count": 63,
   "metadata": {},
   "outputs": [
    {
     "name": "stdout",
     "output_type": "stream",
     "text": [
      "RANDOM INFO:          Dataset Paper Reader Rating Author\n0  Seed_1     2     20     40      2\nRANDOM RATINGS:      Timestamp  Reader  Paper     Score  Author\n0          0       0      0  0.455301       1\n1          1       0      1  0.022488       0\n2          2       1      0  0.917206       0\n3          3       1      1  0.086421       1\n4          4       2      0  0.073629       1\n5          5       2      1  0.201673       0\n6          6       3      0  0.075789       0\n7          7       3      1  0.427372       0\n8          8       4      0  0.011814       0\n9          9       4      1  0.778760       0\nRANDOM AUTHORS:     Author Papers\n0      0       \n1      1      1\n"
     ]
    }
   ],
   "source": [
    "# Summary\n",
    "\n",
    "print(\"RANDOM INFO:       \", info_dataframe)\n",
    "print(\"RANDOM RATINGS:  \", ratings_dataframe.head(10))\n",
    "print(\"RANDOM AUTHORS:  \", authors_dataframe.head(10))"
   ]
  },
  {
   "cell_type": "code",
   "execution_count": 12,
   "metadata": {},
   "outputs": [],
   "source": []
  },
  {
   "cell_type": "code",
   "execution_count": null,
   "metadata": {},
   "outputs": [],
   "source": []
  }
 ],
 "metadata": {
  "kernelspec": {
   "display_name": "Python 2",
   "language": "python",
   "name": "python2"
  },
  "language_info": {
   "codemirror_mode": {
    "name": "ipython",
    "version": 2
   },
   "file_extension": ".py",
   "mimetype": "text/x-python",
   "name": "python",
   "nbconvert_exporter": "python",
   "pygments_lexer": "ipython2",
   "version": "2.7.6"
  }
 },
 "nbformat": 4,
 "nbformat_minor": 0
}
