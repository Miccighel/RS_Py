{
  "cells": [
    {
      "cell_type": "code",
      "execution_count": 21,
      "metadata": {
        "collapsed": false,
        "pycharm": {
          "is_executing": false
        }
      },
      "outputs": [
        {
          "name": "stdout",
          "text": [
            "DATASET NAME:  seed_1\nDATASET FOLDER PATH:  ../data/seed_1/\nINFO FILE PATH:  ../data/seed_1/info.csv\nRATINGS FILE PATH:  ../data/seed_1/ratings.csv\nAUTHORS FILE PATH:  ../data/seed_1/authors.csv\n"
          ],
          "output_type": "stream"
        }
      ],
      "source": "import pandas as pd\nimport seaborn as sb\nimport numpy as np\nimport math as m\nimport os\nimport csv\nimport random as rn\nfrom matplotlib import pyplot as plt\nimport scipy as sp\nfrom scipy.stats import truncnorm as tn\n\n# Quantities in an year of activity\npapers_number \u003d 150000\nreaders_number \u003d 2000\nauthors_number \u003d 50\n\npapers \u003d np.arange(papers_number)\nreaders \u003d np.arange(readers_number)\nauthors \u003d np.arange(authors_number)\n\n# Seed folder path\n\ndataset_name \u003d \"seed_1\"\ndataset_folder_path \u003d f\"../data/{dataset_name}/\"\ninfo_file_path \u003d f\"{dataset_folder_path}info.csv\"\nratings_file_path \u003d f\"{dataset_folder_path}ratings.csv\"\nauthors_file_path \u003d f\"{dataset_folder_path}authors.csv\"\n\nos.makedirs(dataset_folder_path, exist_ok\u003dTrue)\n\nprint(\"DATASET NAME: \", dataset_name)\nprint(\"DATASET FOLDER PATH: \", dataset_folder_path)\nprint(\"INFO FILE PATH: \", info_file_path)\nprint(\"RATINGS FILE PATH: \", ratings_file_path)\nprint(\"AUTHORS FILE PATH: \", authors_file_path)\n"
    },
    {
      "cell_type": "code",
      "execution_count": 22,
      "outputs": [
        {
          "name": "stdout",
          "text": [
            "---------- PAPER DISTRIBUTIONS GENERATION STARTED ----------\n0/150000 (0/100%)\n",
            "15000/150000 (10/100%)\n30000/150000 (20/100%)\n45000/150000 (30/100%)\n",
            "60000/150000 (40/100%)\n75000/150000 (50/100%)\n90000/150000 (60/100%)\n105000/150000 (70/100%)\n120000/150000 (80/100%)\n",
            "135000/150000 (90/100%)\n150000/150000 (100/100%)\n---------- PAPER DISTRIBUTIONS GENERATION COMPLETED ----------\n"
          ],
          "output_type": "stream"
        }
      ],
      "source": "\n# Papers distribution generation\n\nprint(\"---------- PAPER DISTRIBUTIONS GENERATION STARTED ----------\")\n\npaper_distributions \u003d np.empty(papers_number)\nfor index in range(0, papers_number):\n    percentage \u003d 100*index/papers_number\n    if percentage % 10 \u003d\u003d 0:\n        print(f\"{int(index)}/{papers_number} ({int(percentage)}/100%)\")\n    distribution \u003d tn(0, 1, loc\u003drn.uniform(0, 1), scale\u003drn.uniform(0, 0.05)).rvs(1)\n    paper_distributions[index] \u003d distribution\nprint(f\"{papers_number}/{papers_number} (100/100%)\")\n    \nprint(\"---------- PAPER DISTRIBUTIONS GENERATION COMPLETED ----------\")\n",
      "metadata": {
        "pycharm": {
          "metadata": false,
          "name": "#%%\n",
          "is_executing": false
        }
      }
    },
    {
      "cell_type": "code",
      "execution_count": 23,
      "outputs": [
        {
          "name": "stdout",
          "text": [
            "---------- READERS SETS GENERATION STARTED ----------\nSET 0:  [332, 1896, 1856, 1801, 895, 717, 776, 1163, 344, 150, 672, 1243, 1844, 1768, 1906, 1258, 1101, 1275, 699, 1764, 1290, 1779, 968, 1900, 1804, 1897, 349, 732, 1241, 970, 990, 1175, 595, 529, 953, 1763, 980, 1520, 728, 833, 578, 514, 1367, 1518, 1681, 377, 174, 198, 700, 1816, 1917, 503, 1622, 421, 288, 202, 932, 1893, 116, 138, 843, 1144, 348, 208, 1944, 1230, 576, 9, 1209, 223, 1297, 205, 1054, 731, 666, 1205, 510, 123, 998, 1274, 1375, 160, 147, 815, 1416, 360, 1778, 1858, 345, 194, 1961, 119, 1704, 47, 534, 1963, 1272, 1716, 1473, 472, 750, 1160, 1597, 786, 414, 1211, 878, 1606, 1928, 535, 682, 1451, 794, 890, 166, 1200, 860, 778, 1188, 1104, 1559, 1102, 954, 1745, 458, 919, 726, 412, 289, 936, 1383, 1935, 1408, 809, 1835, 1703, 146, 761, 689, 825, 881, 569, 1035, 3, 1555, 72, 1620, 873, 241, 1999, 719, 714, 1509, 212, 1767, 1410, 531, 1360, 963, 1682, 387, 1793, 1826, 1634, 297, 1219, 1345, 692, 427, 107, 413, 454, 548, 1691, 14, 1098, 55, 476, 1643, 1088, 901, 1228, 132, 1720, 1215, 110, 1584, 1843, 1943, 444, 958, 1323, 1572, 1513, 1041, 1552, 802, 1182, 1468, 50, 492, 1673, 1617, 1748, 501, 122, 1413, 1017, 1789, 1339, 1924, 323, 260, 1225, 679, 961, 26, 1333, 1627, 590, 820, 1657, 1530, 1987, 762, 1090, 943, 852, 63, 370, 1614, 1578, 1447, 1550, 197, 908, 892, 1670, 1700, 1351, 1443, 1880, 181, 872, 1784, 190, 1882, 0, 1050, 1868, 380, 477, 556, 611, 44, 31, 770, 322, 1890, 303, 1867, 386, 657, 1190, 921, 1639, 291, 1776, 1708, 1895, 1780, 665, 1735, 600, 1731, 839, 497, 269, 207, 648, 926, 434, 1034, 1766, 1105, 1526, 371, 1055, 1874, 25, 1311, 1612, 1067, 1948, 1869, 1566, 480, 1633, 1081, 800, 334, 1053, 1563, 1783, 1637, 17, 715, 831, 593, 1335, 1106, 1253, 1523, 1264, 658, 94, 247, 733, 1157, 592, 61, 1919, 1131, 1397, 635, 1838, 610, 1474, 183, 446, 1711, 1619, 1094, 1492, 628, 1244, 1387, 521, 182, 1270, 1350, 465, 1368, 842, 399, 354, 1608, 1729, 1117, 301, 1841, 822, 1675, 835, 99, 265, 1019, 1916, 823, 1515, 1925, 78, 639, 236, 52, 708, 950, 1141, 1113, 988, 620, 769, 671, 1754, 1677, 1065, 8, 5, 1591, 945, 1036, 1693, 925, 213, 1762, 864, 1954, 766, 633, 729, 1601, 1486, 916, 524, 929, 746, 718, 1164, 1964, 1505]\nSET 1:  [1051, 1325, 1985, 1194, 1169, 135, 975, 1479, 1226, 1956, 982, 1214, 1548, 137, 577, 1465, 1667, 407, 1651, 1542, 1166, 300, 918, 1710, 388, 579, 103, 522, 1759, 1741, 410, 1332, 121, 1579, 845, 245, 985, 1429, 430, 401, 1441, 673, 485, 629, 1878, 1664, 591, 1239, 355, 1719, 973, 1850, 812, 1701, 1947, 498, 1029, 379, 1742, 952, 559, 1898, 1724, 1359, 1217, 462, 789, 1202, 306, 1695, 993, 625, 1694, 1420, 771, 283, 1589, 108, 1565, 507, 870, 1063, 1446, 1582, 855, 1834, 1522, 1626, 705, 937, 463, 779, 1777, 1453, 1986, 85, 618, 1485, 736, 1431, 931, 1212, 1992, 381, 1951, 1939, 218, 866, 1116, 206, 1511, 365, 1678, 780, 1185, 1823, 907, 1734, 1926, 1855, 621, 1871, 617, 1349, 333, 1861, 1156, 363, 847, 232, 40, 162, 581, 1287, 1449, 849, 1248, 1946, 1517, 1707, 818, 641, 239, 1459, 1756, 1837, 1840, 442, 1832, 1355, 971, 1543, 478, 1170, 1923, 660, 946, 706, 1484, 1008, 246, 1317, 1304, 1256, 669, 176, 98, 608, 1463, 1546, 1949, 1641, 1196, 978, 1127, 622, 29, 64, 358, 145, 1971, 1602, 710, 1173, 1699, 949, 1204, 282, 39, 1389, 1541, 1006, 883, 1902, 1263, 1782, 1594, 1616, 1301, 1960, 1997, 1026, 721, 753, 447, 1031, 1362, 77, 1091, 27, 783, 1607, 95, 224, 515, 1907, 623, 599, 1269, 195, 1532, 6, 1027, 1437, 389, 178, 417, 1391, 481, 1218, 1183, 554, 336, 1845, 1899, 482, 516, 186, 1198, 396, 1625, 199, 634, 1165, 209, 1232, 912, 1942, 1713, 1770, 20, 1663, 583, 585, 964, 804, 305, 1273, 668, 1180, 75, 57, 1519, 739, 911, 1079, 1521, 805, 141, 1171, 1596, 1460, 1133, 1045, 313, 1718, 1013, 1193, 1208, 1407, 602, 1638, 1792, 1736, 192, 1570, 211, 1817, 986, 180, 1095, 796, 24, 114, 999, 1296, 46, 690, 570, 456, 1191, 526, 654, 693, 1788, 1937, 1259, 1073, 747, 1235, 505, 859, 1471, 495, 60, 676, 1392, 267, 327, 558, 544, 1455, 266, 285, 1025, 32, 1372, 887, 1598, 1941, 681, 226, 1021, 645, 93, 1134, 1262, 1167, 652, 1265, 532, 1172, 527, 1979, 549, 1545, 992, 1412, 391, 450, 1087, 1476, 1983, 910, 1569, 542, 372, 1082, 632, 1374, 1450, 1398, 1151, 713, 384, 1162, 1322, 251, 724, 1423, 96, 408, 53, 663, 1857, 316, 1417, 437, 1980, 1593, 1340, 609, 235, 1250, 567, 561, 1862, 1030, 547, 756, 1018, 1084, 539, 1247, 1650, 1052, 686, 1245, 536, 1184]\nSET 2:  [489, 1293, 674, 1421, 1892, 1540, 1809, 1424, 1496, 1885, 82, 1497, 603, 1690, 790, 1697, 1099, 1534, 385, 1955, 81, 615, 1846, 653, 557, 1153, 1820, 928, 704, 1539, 1040, 1883, 216, 1085, 607, 1377, 1623, 1769, 70, 880, 969, 1038, 15, 1889, 1382, 563, 1336, 473, 1884, 1435, 471, 58, 1812, 19, 1494, 1814, 1395, 930, 1427, 1255, 1010, 51, 1439, 1877, 863, 1376, 97, 284, 1440, 506, 373, 1981, 810, 1430, 538, 1689, 234, 1015, 735, 1348, 193, 1276, 1760, 4, 703, 541, 1744, 1914, 1480, 276, 1747, 1615, 935, 1510, 1600, 86, 253, 1331, 1866, 942, 1107, 467, 409, 1292, 850, 101, 795, 1187, 764, 79, 1092, 111, 1472, 1908, 258, 1189, 691, 533, 1291, 439, 1573, 917, 1849, 243, 589, 448, 158, 727, 540, 813, 2, 129, 1237, 856, 1652, 1953, 30, 256, 1655, 1544, 28, 1913, 1965, 435, 1604, 83, 191, 347, 1168, 1150, 1635, 184, 254, 1288, 537, 240, 871, 1334, 1875, 233, 128, 651, 159, 1959, 1903, 392, 1353, 1158, 326, 960, 1749, 698, 1489, 1178, 1554, 709, 782, 647, 1075, 1538, 543, 1227, 962, 118, 670, 1894, 92, 106, 1066, 1659, 1952, 351, 1111, 1676, 1973, 844, 1624, 201, 1800, 696, 175, 1406, 1557, 1434, 1456, 237, 461, 1000, 500, 1007, 740, 604, 259, 649, 1901, 1240, 1888, 109, 443, 1645, 580, 1714, 922, 519, 66, 906, 1775, 33, 342, 350, 882, 1674, 294, 1950, 979, 662, 1781, 1060, 493, 624, 1891, 1312, 279, 824, 1666, 43, 459, 343, 117, 1393, 1836, 261, 457, 1828, 792, 390, 142, 275, 161, 1970, 862, 296, 490, 1958, 272, 1500, 1199, 1580, 1860, 1313, 1298, 1528, 685, 941, 1851, 1564, 1039, 664, 302, 468, 1595, 1461, 274, 989, 11, 760, 1938, 568, 1033, 144, 1524, 1525, 643, 185, 511, 821, 1822, 1260, 1502, 614, 1988, 1574, 1149, 13, 1640, 1302, 1920, 525, 105, 814, 861, 885, 1221, 1738, 1730, 1482, 1072, 1647, 744, 677, 846, 1223, 16, 834, 1328, 867, 133, 1668, 429, 777, 1364, 292, 1945, 1448, 1957, 1394, 1307, 1533, 1630, 1195, 395, 1068, 1283, 566, 1108, 1044, 1181, 1765, 1305, 1452, 179, 889, 996, 755, 904, 695, 573, 438, 200, 1361, 479, 1176, 1428, 1854, 1537, 62, 1279, 994, 1975, 1581, 1827, 1810, 220, 1032, 694, 1750, 1071, 1089, 1213, 1684, 1145, 1433, 1705, 1009, 562, 329, 1536, 338, 1806, 452, 1662, 1373, 1378, 310, 1458, 1571, 383, 1125, 1531, 1093]\nSET 3:  [836, 997, 90, 74, 1934, 1794, 903, 939, 1653, 494, 995, 163, 255, 1097, 1590, 944, 851, 1989, 631, 1415, 464, 1357, 68, 169, 1870, 12, 1753, 126, 1904, 1210, 432, 475, 425, 1177, 1621, 231, 262, 65, 575, 1020, 1656, 376, 91, 748, 564, 1725, 545, 613, 1969, 1686, 1586, 1755, 1558, 555, 1696, 977, 1314, 80, 423, 914, 1599, 940, 418, 1234, 374, 196, 353, 249, 826, 905, 1567, 1881, 325, 1811, 1872, 588, 1498, 1249, 1575, 1918, 88, 299, 1966, 1527, 67, 1011, 1905, 626, 1547, 1475, 1022, 987, 884, 424, 683, 1046, 772, 23, 368, 428, 127, 1802, 1508, 723, 840, 1665, 393, 1118, 168, 751, 308, 1308, 915, 1830, 803, 375, 1326, 1122, 899, 1201, 1873, 702, 369, 1910, 865, 1409, 1683, 730, 1379, 1109, 829, 1146, 405, 1004, 1129, 484, 69, 1411, 572, 745, 470, 1618, 1251, 784, 330, 487, 1341, 893, 1922, 1404, 1654, 1483, 601, 1280, 359, 244, 1495, 1915, 798, 1478, 546, 767, 518, 1080, 1316, 436, 1514, 1815, 655, 426, 598, 172, 1222, 156, 552, 238, 1384, 1005, 1585, 966, 1660, 419, 976, 898, 87, 361, 1576, 574, 311, 853, 312, 720, 49, 785, 171, 488, 1685, 1912, 640, 512, 1070, 1477, 1529, 1371, 1236, 984, 1930, 513, 402, 1048, 612, 321, 112, 155, 41, 1282, 597, 486, 1797, 1114, 1231, 1808, 854, 1994, 1692, 124, 1396, 1709, 102, 1791, 869, 491, 71, 1848, 281, 382, 1723, 951, 1128, 1771, 886, 1715, 1864, 1712, 947, 983, 1203, 1853, 1909, 841, 189, 749, 1499, 1403, 1931, 1727, 1143, 765, 1257, 453, 1469, 1076, 1159, 1876, 923, 1422, 743, 1773, 1329, 398, 1702, 1842, 1426, 36, 1380, 1442, 680, 335, 1487, 1732, 1481, 517, 523, 868, 902, 1083, 1577, 1402, 791, 900, 1824, 10, 113, 797, 948, 1315, 1560, 1733, 152, 1847, 1242, 433, 1743, 1012, 1984, 1740, 1338, 1268, 1592, 754, 1289, 1139, 584, 1058, 217, 616, 1879, 1603, 415, 752, 551, 1462, 1147, 441, 1047, 684, 712, 422, 502, 1636, 897, 315, 1310, 1148, 1344, 474, 1399, 1343, 1470, 1281, 22, 1061, 1002, 7, 1631, 1506, 1445, 678, 1556, 594, 400, 1197, 250, 1911, 1512, 938, 1929, 295, 1991, 1629, 1807, 687, 1216, 774, 499, 1726, 1155, 1852, 1078, 934, 203, 1059, 1829, 21, 337, 763, 1787, 582, 1138, 1611, 204, 991, 1077, 1977, 1728, 1121, 1669, 1112, 781, 956, 378, 1642, 1369, 177, 955, 1285, 807, 1436, 1752, 1306]\nSET 4:  [1037, 1363, 280, 252, 741, 18, 816, 222, 1154, 1990, 1644, 876, 319, 1562, 758, 339, 1327, 1628, 1995, 1648, 828, 1192, 227, 838, 1252, 550, 1819, 1284, 1927, 734, 688, 1785, 1982, 45, 215, 264, 1062, 757, 1220, 1294, 263, 131, 1687, 650, 1130, 1688, 571, 1610, 1324, 1795, 1346, 136, 801, 972, 1074, 341, 366, 981, 1772, 1751, 759, 1096, 34, 1438, 1722, 1466, 469, 560, 806, 42, 1238, 317, 675, 445, 1649, 642, 1507, 909, 1057, 1356, 848, 587, 298, 1337, 1370, 483, 1135, 1490, 1358, 742, 268, 896, 84, 1996, 1976, 320, 362, 830, 1229, 356, 1405, 1758, 1261, 210, 89, 1110, 1137, 1658, 1224, 35, 1933, 273, 1064, 1152, 1932, 1043, 1432, 173, 1140, 59, 837, 637, 1123, 1962, 605, 722, 1790, 1142, 1746, 1503, 565, 530, 520, 1286, 1721, 1124, 1271, 636, 1739, 1549, 1119, 1839, 768, 927, 130, 1206, 1330, 394, 364, 787, 331, 697, 933, 819, 959, 1859, 817, 1418, 1014, 1390, 1414, 1568, 286, 73, 1207, 1042, 1488, 1921, 1583, 1419, 1086, 775, 214, 219, 367, 1321, 1609, 221, 1504, 1186, 1646, 1352, 100, 1309, 701, 271, 277, 140, 646, 1001, 793, 416, 1605, 725, 1342, 1069, 76, 1671, 1757, 504, 1516, 1049, 667, 328, 894, 1974, 1501, 1717, 661, 1672, 496, 832, 811, 1936, 304, 1561, 1706, 1886, 1464, 287, 1535, 1179, 455, 508, 1016, 229, 1761, 1803, 1467, 153, 170, 1103, 808, 1786, 716, 630, 967, 586, 1267, 857, 1968, 596, 1354, 290, 1863, 888, 115, 799, 340, 1799, 1385, 644, 1278, 924, 1798, 1115, 659, 324, 656, 711, 1266, 270, 606, 411, 165, 1174, 120, 293, 1805, 891, 1774, 1588, 357, 1457, 1365, 827, 151, 879, 148, 149, 167, 1796, 1120, 1587, 1233, 134, 528, 1737, 1865, 314, 619, 37, 974, 278, 1978, 1887, 553, 1831, 1632, 56, 1551, 187, 737, 404, 627, 157, 104, 1246, 139, 1553, 164, 1400, 509, 1381, 440, 1347, 1254, 1493, 420, 406, 188, 1388, 1813, 858, 874, 1028, 1818, 1318, 1993, 707, 1023, 38, 1003, 1444, 1295, 228, 307, 1454, 397, 1967, 431, 1386, 788, 1024, 460, 449, 773, 738, 1126, 920, 1132, 1998, 257, 248, 1303, 1277, 1613, 1680, 1821, 1320, 638, 1825, 309, 913, 1319, 1161, 1698, 125, 403, 1679, 965, 1136, 1425, 1972, 54, 143, 451, 1833, 154, 877, 352, 1299, 1491, 242, 225, 1100, 1940, 466, 1056, 48, 1661, 318, 1, 875, 1300, 1366, 957, 1401, 230, 346]\n---------- READERS SETS GENERATION COMPLETED ----------\n---------- RATINGS GENERATION STARTED ----------\n0/658000 (0/100%)\n",
            "65800/658000 (10/100%)\n",
            "131600/658000 (20/100%)\n",
            "197400/658000 (30/100%)\n",
            "263200/658000 (40/100%)\n",
            "329000/658000 (50/100%)\n",
            "394800/658000 (60/100%)\n",
            "460600/658000 (70/100%)\n",
            "526400/658000 (80/100%)\n",
            "592200/658000 (90/100%)\n",
            "658000/658000 (100/100%)\n---------- RATINGS GENERATION ENDED ----------\n"
          ],
          "output_type": "stream"
        }
      ],
      "source": "\n# Ratings file generation\n\n# N sets of readers, each one has X% of the total\n\nreaders_percent \u003d 20\nreader_sets_number \u003d m.floor(100 / readers_percent)\nreaders_amount \u003d round((readers_number*readers_percent)/100)\n\nreaders_set \u003d set(readers)\nreaders_sets \u003d []\n\n# Readers of set 0 rate 1 paper every two weeks\n# Readers of set 1 rate 1 paper every week\n# Readers of set 2 rate 2 papers every week\n# Readers of set 3 rate 1 paper every day\n# Readers of set 4 rate 3 papers every day\n\npaper_frequencies \u003d [26, 52, 104, 365, 1098]\n\nprint(\"---------- READERS SETS GENERATION STARTED ----------\")\n\nratings_number \u003d sum(paper_frequencies) * readers_amount\nfor x in range(0, reader_sets_number):\n    current_readers_set \u003d rn.sample(readers_set, readers_amount)\n    readers_sets.append(current_readers_set)\n    for reader in current_readers_set:\n        readers_set.remove(reader)\n    print(f\"SET {x}: \", current_readers_set)\n     \nprint(\"---------- READERS SETS GENERATION COMPLETED ----------\")\n\nprint(\"---------- RATINGS GENERATION STARTED ----------\")\n\ngenerated_ratings \u003d 0\nwith open(ratings_file_path, mode\u003d\u0027w\u0027, newline\u003d\u0027\u0027) as ratings_file:\n    ratings_writer \u003d csv.writer(ratings_file, delimiter\u003d\u0027,\u0027, quotechar\u003d\u0027\"\u0027, quoting\u003dcsv.QUOTE_MINIMAL)\n    ratings_writer.writerow([\u0027Timestamp\u0027, \u0027Reader\u0027, \u0027Paper\u0027, \u0027Score\u0027])\n    for current_set in range(0, reader_sets_number):\n        paper_per_reader \u003d paper_frequencies[current_set]\n        readers_set \u003d readers_sets[current_set]\n        for reader in readers_set:\n            for index, paper in enumerate(rn.sample(set(papers), paper_per_reader)):\n                paper_distribution \u003d paper_distributions[paper]\n                percentage \u003d 100*generated_ratings/ratings_number\n                if percentage % 10 \u003d\u003d 0:\n                    print(f\"{int(generated_ratings)}/{ratings_number} ({int(percentage)}/100%)\")\n                current_tuple \u003d {\n                    \"Reader\": reader, \n                    \"Paper\": paper, \n                    \"Score\": round(paper_distribution, 2), \n                }\n                ratings_writer.writerow([generated_ratings, current_tuple[\"Reader\"], current_tuple[\"Paper\"], current_tuple[\"Score\"]])\n                generated_ratings+\u003d1\n    print(f\"{ratings_number}/{ratings_number} (100/100%)\")\nratings_file.close()\n\nprint(\"---------- RATINGS GENERATION ENDED ----------\")\n",
      "metadata": {
        "pycharm": {
          "metadata": false,
          "name": "#%%\n",
          "is_executing": false
        }
      }
    },
    {
      "cell_type": "code",
      "execution_count": 24,
      "outputs": [
        {
          "name": "stdout",
          "text": [
            "---------- AUTHORS GENERATION STARTED ----------\n0/50 (0/100%)\n5/50 (10/100%)\n",
            "10/50 (20/100%)\n15/50 (30/100%)\n",
            "20/50 (40/100%)\n25/50 (50/100%)\n",
            "30/50 (60/100%)\n35/50 (70/100%)\n",
            "40/50 (80/100%)\n",
            "45/50 (90/100%)\n",
            "50/50 (100/100%)\n---------- AUTHORS GENERATION ENDED ----------\n"
          ],
          "output_type": "stream"
        }
      ],
      "source": "\n# Authors file generation\n\nprint(\"---------- AUTHORS GENERATION STARTED ----------\")\n\nwith open(authors_file_path, mode\u003d\u0027w\u0027, newline\u003d\u0027\u0027) as authors_file:\n    authors_writer \u003d csv.writer(authors_file, delimiter\u003d\u0027,\u0027, quotechar\u003d\u0027\"\u0027, quoting\u003dcsv.QUOTE_MINIMAL)\n    authors_writer.writerow([\"Author\", \"Paper\"])\n    for index, author in enumerate(authors):\n        percentage \u003d 100*index/authors_number\n        if percentage % 10 \u003d\u003d 0:\n            print(f\"{int(index)}/{authors_number} ({int(percentage)}/100%)\")\n        # An author writes a number of paper between 1 and paper_fraction\n        author_papers_number \u003d rn.randint(1, (papers_number-1))\n        papers_written \u003d np.random.choice(papers, author_papers_number).tolist()\n        papers_written \u003d set(papers_written)\n        if len(papers_written) \u003e 1:\n            papers_written \u003d map(str, list(papers_written))\n            papers_written \u003d \";\".join(papers_written)\n        authors_writer.writerow([author, papers_written])\n    print(f\"{authors_number}/{authors_number} (100/100%)\")\nauthors_file.close()\n        \nprint(\"---------- AUTHORS GENERATION ENDED ----------\")\n",
      "metadata": {
        "pycharm": {
          "metadata": false,
          "name": "#%% \n",
          "is_executing": false
        }
      }
    },
    {
      "cell_type": "code",
      "execution_count": 25,
      "outputs": [
        {
          "name": "stdout",
          "text": [
            "---------- INFO GENERATION STARTED ----------\n---------- INFO GENERATION ENDED ----------\n"
          ],
          "output_type": "stream"
        }
      ],
      "source": "\n# Info file generation\n\nprint(\"---------- INFO GENERATION STARTED ----------\")\n\ninfo_dataframe \u003d pd.DataFrame(columns\u003d[\"Dataset\", \"Paper\", \"Reader\", \"Rating\", \"Author\"])\ninfo_dataframe \u003d info_dataframe.append(\n    {\n        \"Dataset\": dataset_name.capitalize(), \n        \"Paper\": papers_number, \n        \"Reader\": readers_number, \n        \"Rating\": ratings_number, \n        \"Author\": authors_number\n    }, ignore_index\u003dTrue)\ninfo_dataframe.to_csv(info_file_path, index\u003dFalse)\n\nprint(\"---------- INFO GENERATION ENDED ----------\")",
      "metadata": {
        "pycharm": {
          "metadata": false,
          "name": "#%%\n",
          "is_executing": false
        }
      }
    },
    {
      "cell_type": "code",
      "execution_count": null,
      "outputs": [],
      "source": "\n",
      "metadata": {
        "pycharm": {
          "metadata": false,
          "name": "#%%\n"
        }
      }
    }
  ],
  "metadata": {
    "kernelspec": {
      "name": "python3",
      "language": "python",
      "display_name": "Python 3"
    },
    "language_info": {
      "codemirror_mode": {
        "name": "ipython",
        "version": 2
      },
      "file_extension": ".py",
      "mimetype": "text/x-python",
      "name": "python",
      "nbconvert_exporter": "python",
      "pygments_lexer": "ipython2",
      "version": "2.7.6"
    }
  },
  "nbformat": 4,
  "nbformat_minor": 0
}