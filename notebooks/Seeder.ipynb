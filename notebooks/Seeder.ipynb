{
 "cells": [
  {
   "cell_type": "code",
   "execution_count": 18,
   "outputs": [
    {
     "name": "stdout",
     "text": [
      "DATASET NAME:  seed_2/p_1_beta_small\nDATASET FOLDER PATH:  ../data/seed_2/p_1_beta_small/\nINFO FILE PATH:  ../data/seed_2/p_1_beta_small/info.csv\nRATINGS FILE PATH:  ../data/seed_2/p_1_beta_small/ratings.csv\nAUTHORS FILE PATH:  ../data/seed_2/p_1_beta_small/authors.csv\n---------- PAPER DISTRIBUTIONS GENERATION STARTED ----------\n0/500 (0/100%)\n50/500 (10/100%)\n100/500 (20/100%)\n150/500 (30/100%)\n200/500 (40/100%)\n250/500 (50/100%)\n",
      "300/500 (60/100%)\n350/500 (70/100%)\n400/500 (80/100%)\n450/500 (90/100%)\n500/500 (100/100%)\n---------- PAPER DISTRIBUTIONS GENERATION COMPLETED ----------\n"
     ],
     "output_type": "stream"
    }
   ],
   "source": [
    "\n",
    "import pandas as pd\n",
    "import numpy as np\n",
    "import math as m\n",
    "import os\n",
    "import csv\n",
    "import random as rn\n",
    "from random import randint\n",
    "from scipy.stats import beta\n",
    "\n",
    "\n",
    "papers_number = 500\n",
    "readers_number = 250\n",
    "authors_number = 25\n",
    "\n",
    "papers = np.arange(papers_number)\n",
    "readers = np.arange(readers_number)\n",
    "authors = np.arange(authors_number)\n",
    "\n",
    "# Seed folder path\n",
    "\n",
    "dataset_name = \"seed_2/p_1_beta_small\"\n",
    "dataset_folder_path = f\"../data/{dataset_name}/\"\n",
    "info_file_path = f\"{dataset_folder_path}info.csv\"\n",
    "ratings_file_path = f\"{dataset_folder_path}ratings.csv\"\n",
    "authors_file_path = f\"{dataset_folder_path}authors.csv\"\n",
    "\n",
    "os.makedirs(dataset_folder_path, exist_ok=True)\n",
    "\n",
    "print(\"DATASET NAME: \", dataset_name)\n",
    "print(\"DATASET FOLDER PATH: \", dataset_folder_path)\n",
    "print(\"INFO FILE PATH: \", info_file_path)\n",
    "print(\"RATINGS FILE PATH: \", ratings_file_path)\n",
    "print(\"AUTHORS FILE PATH: \", authors_file_path)\n",
    "\n",
    "# Papers distribution generation with beta distribution\n",
    "\n",
    "print(\"---------- PAPER DISTRIBUTIONS GENERATION STARTED ----------\")\n",
    "\n",
    "# CASE 1: a == b == 1, 5% of papers\n",
    "beta_distributions_frequencies = [(m.floor((5*papers_number)/100), (1, 1))]\n",
    "# CASE 2: a == b > 1, 30% of papers\n",
    "a = randint(2, 10)\n",
    "b = a\n",
    "beta_distributions_frequencies.append((m.floor((30*papers_number)/100), (a, b)))\n",
    "# CASE 3: 0 < (a ^ b) < 1, 30% of papers\n",
    "a = rn.uniform(0.001, 1)\n",
    "b = rn.uniform(0.001, 1)\n",
    "beta_distributions_frequencies.append((m.floor((20*papers_number)/100), (a, b)))\n",
    "# CASE 4: (a V b) == 1, (a > b V b > a), 20% of papers\n",
    "a = 1\n",
    "b = randint(1, 10)\n",
    "if rn.randint(0,1) > 0.5:\n",
    "    a, b = b, a\n",
    "beta_distributions_frequencies.append((m.floor((30*papers_number)/100), (a, b)))\n",
    "# CASE 5: (a ^ b) > 1, (a > b V b > a), 15% of papers\n",
    "a = randint(2, 10)\n",
    "b = randint(2 + a, 10 + a)\n",
    "if rn.randint(0,1) > 0.5:\n",
    "    a, b = b, a\n",
    "beta_distributions_frequencies.append((m.floor((15*papers_number)/100), (a, b)))\n",
    "\n",
    "papers_set = set(papers)\n",
    "paper_distributions = [None] * papers_number\n",
    "\n",
    "generated_papers_distributions = 0\n",
    "for (papers_amount, (a, b)) in beta_distributions_frequencies:\n",
    "    current_paper_set = rn.sample(papers_set, papers_amount)\n",
    "    for paper in current_paper_set:\n",
    "        percentage = 100*generated_papers_distributions/papers_number\n",
    "        if percentage % 10 == 0:\n",
    "            print(f\"{int(generated_papers_distributions)}/{papers_number} ({int(percentage)}/100%)\")\n",
    "        paper_distributions[paper] = beta(a=a, b=b)\n",
    "        generated_papers_distributions = generated_papers_distributions + 1\n",
    "        papers_set.remove(paper)\n",
    "print(f\"{papers_number}/{papers_number} (100/100%)\")\n",
    "\n",
    "print(\"---------- PAPER DISTRIBUTIONS GENERATION COMPLETED ----------\")\n"
   ],
   "metadata": {
    "collapsed": false,
    "pycharm": {
     "name": "#%%\n",
     "is_executing": false
    }
   }
  },
  {
   "cell_type": "code",
   "execution_count": 19,
   "outputs": [
    {
     "name": "stdout",
     "text": [
      "---------- READERS SETS GENERATION STARTED ----------\nSET 0:  [154  28 114 233 143  52  76 203   7 219 134 200 133  23 129  73 102  11\n 242  26 194 158 139 210 204  15 183  27  45 161 121 145 107 116  91 186\n 191 179  81 241   3 239 144 135 164 208 123 237 220  75]\nSET 1:  [180 211 115 190  99  51 225 120 223 185  97 105 167  13  64  49 187 181\n 235  96 172 177 193  94 157 156  68 173 216 151  62 136 130 111  58  29\n 249  42 207  92 228  18 128  35 101  72 152  53   9  61]\nSET 2:  [230  10 168 103 150 131  14 160  57  46  77 108   8  12 112  88  25 247\n 234  74 246 196  30 248 215 132  83  98  55 117  78 227 170 182 125 155\n 140 197 162   5 231 229 126 106 243 224  90 206 209 214]\nSET 3:  [212 147 175 188 221 217  48 222 240 189 198 192 148 122 232  50  56 195\n  17  89  33   2 184 110  32 169  63  66  31  86 153 163 137 127 165 100\n  43 142 118  21 176 159  44  37  40   0  16  19  71 205]\nSET 4:  [174 141  85 109  47 238  24   4 201  70  60  38  93 178 124 226  69   1\n 146   6  39 166 245 244  95 119 202 104  36  54  84  34 149 138 218 171\n  41  80  67  79  22  87  20  59 213 199  65  82 236 113]\n---------- READERS SETS GENERATION COMPLETED ----------\n---------- RATINGS GENERATION STARTED ----------\n0/6700 (0/100%)\n",
      "670/6700 (10/100%)\n",
      "1340/6700 (20/100%)\n2010/6700 (30/100%)\n2680/6700 (40/100%)\n",
      "3350/6700 (50/100%)\n4020/6700 (60/100%)\n",
      "4690/6700 (70/100%)\n5360/6700 (80/100%)\n6030/6700 (90/100%)\n6700/6700 (100/100%)\n",
      "---------- RATINGS GENERATION ENDED ----------\n"
     ],
     "output_type": "stream"
    }
   ],
   "source": [
    "\n",
    "# Ratings file generation\n",
    "\n",
    "# N sets of readers, each one has X% of the total\n",
    "\n",
    "readers_percent = 20\n",
    "reader_sets_number = m.floor(100 / readers_percent)\n",
    "readers_amount = m.floor((readers_number*readers_percent)/100)\n",
    "\n",
    "readers_sets = []\n",
    "\n",
    "# Readers rate papers with a certain frequence\n",
    "\n",
    "paper_frequencies = [2, 4, 8, 30, 90]\n",
    "\n",
    "print(\"---------- READERS SETS GENERATION STARTED ----------\")\n",
    "\n",
    "ratings_number = sum(paper_frequencies) * readers_amount\n",
    "for x in range(0, reader_sets_number):\n",
    "    current_readers_set = np.random.choice(readers, readers_amount, False) \n",
    "    readers = np.setdiff1d(readers, current_readers_set)\n",
    "    readers_sets.append(current_readers_set)\n",
    "    print(f\"SET {x}: \", current_readers_set)\n",
    "\n",
    "print(\"---------- READERS SETS GENERATION COMPLETED ----------\")\n",
    "\n",
    "print(\"---------- RATINGS GENERATION STARTED ----------\")\n",
    "\n",
    "generated_ratings = 0\n",
    "rated_papers = []\n",
    "with open(ratings_file_path, mode='w', newline='') as ratings_file:\n",
    "    ratings_writer = csv.writer(ratings_file, delimiter=',', quotechar='\"', quoting=csv.QUOTE_MINIMAL)\n",
    "    ratings_writer.writerow(['Timestamp', 'Reader', 'Paper', 'Score'])\n",
    "    for current_set in range(0, reader_sets_number):\n",
    "        frequency = paper_frequencies[current_set]\n",
    "        readers_set = readers_sets[current_set]\n",
    "        for reader in readers_set:\n",
    "            sample = np.random.choice(papers, frequency, False)     \n",
    "            for paper in sample:    \n",
    "                paper_distribution = paper_distributions[paper]\n",
    "                percentage = 100*generated_ratings/ratings_number\n",
    "                if percentage % 10 == 0:\n",
    "                    print(f\"{int(generated_ratings)}/{ratings_number} ({int(percentage)}/100%)\")\n",
    "                generated_rating = round(paper_distribution.rvs(1)[0], 2)\n",
    "                if generated_rating == 0:\n",
    "                    generated_rating = 0.01\n",
    "                ratings_writer.writerow([\n",
    "                    generated_ratings, \n",
    "                    reader, \n",
    "                    paper, \n",
    "                    generated_rating\n",
    "                ])\n",
    "                rated_papers.append(paper)\n",
    "                generated_ratings+=1\n",
    "    \n",
    "    # Filling gaps\n",
    "    unrated_papers = set(papers) - set(rated_papers)    \n",
    "    for paper in unrated_papers:\n",
    "        for reader in np.random.choice(readers, 5, False):\n",
    "            paper_distribution = paper_distributions[paper]\n",
    "            generated_rating = round(paper_distribution.rvs(1)[0], 2)\n",
    "            if generated_rating == 0:\n",
    "                generated_rating = 0.01\n",
    "                ratings_writer.writerow([\n",
    "                    generated_ratings, \n",
    "                    reader, \n",
    "                    paper,\n",
    "                    generated_rating\n",
    "                ])\n",
    "                generated_ratings+=1\n",
    "        \n",
    "    print(f\"{ratings_number}/{ratings_number} (100/100%)\")\n",
    "    \n",
    "ratings_file.close()\n",
    "\n",
    "print(\"---------- RATINGS GENERATION ENDED ----------\")\n"
   ],
   "metadata": {
    "pycharm": {
     "metadata": false,
     "name": "#%%\n",
     "is_executing": false
    }
   }
  },
  {
   "cell_type": "code",
   "execution_count": 20,
   "outputs": [
    {
     "name": "stdout",
     "text": [
      "---------- AUTHORS GENERATION STARTED ----------\n0/25 (0/100%)\n5/25 (20/100%)\n10/25 (40/100%)\n15/25 (60/100%)\n20/25 (80/100%)\n25/25 (100/100%)\n---------- AUTHORS GENERATION ENDED ----------\n"
     ],
     "output_type": "stream"
    }
   ],
   "source": [
    "\n",
    "# Authors file generation\n",
    "\n",
    "print(\"---------- AUTHORS GENERATION STARTED ----------\")\n",
    "\n",
    "with open(authors_file_path, mode='w', newline='') as authors_file:\n",
    "    authors_writer = csv.writer(authors_file, delimiter=',', quotechar='\"', quoting=csv.QUOTE_MINIMAL)\n",
    "    authors_writer.writerow([\"Author\", \"Paper\"])\n",
    "    for index, author in enumerate(authors):\n",
    "        percentage = 100*index/authors_number\n",
    "        if percentage % 10 == 0:\n",
    "            print(f\"{int(index)}/{authors_number} ({int(percentage)}/100%)\")\n",
    "        # An author writes a number of paper between 1 and paper_fraction\n",
    "        author_papers_number = rn.randint(1, (papers_number-1))\n",
    "        papers_written = np.random.choice(papers, author_papers_number).tolist()\n",
    "        papers_written = set(papers_written)\n",
    "        if len(papers_written) > 1:\n",
    "            papers_written = map(str, list(papers_written))\n",
    "            papers_written = \";\".join(papers_written)\n",
    "        authors_writer.writerow([author, papers_written])\n",
    "    print(f\"{authors_number}/{authors_number} (100/100%)\")\n",
    "authors_file.close()\n",
    "        \n",
    "print(\"---------- AUTHORS GENERATION ENDED ----------\")\n"
   ],
   "metadata": {
    "pycharm": {
     "metadata": false,
     "name": "#%% \n",
     "is_executing": false
    }
   }
  },
  {
   "cell_type": "code",
   "execution_count": 21,
   "outputs": [
    {
     "name": "stdout",
     "text": [
      "---------- INFO GENERATION STARTED ----------\n",
      "---------- INFO GENERATION ENDED ----------\n"
     ],
     "output_type": "stream"
    }
   ],
   "source": [
    "\n",
    "# Info file generation\n",
    "\n",
    "print(\"---------- INFO GENERATION STARTED ----------\")\n",
    "\n",
    "info_dataframe = pd.DataFrame(columns=[\"Dataset\", \"Paper\", \"Reader\", \"Rating\", \"Author\"])\n",
    "info_dataframe = info_dataframe.append(\n",
    "    {\n",
    "        \"Dataset\": dataset_name, \n",
    "        \"Paper\": papers_number, \n",
    "        \"Reader\": readers_number, \n",
    "        \"Rating\": ratings_number, \n",
    "        \"Author\": authors_number\n",
    "    }, ignore_index=True)\n",
    "info_dataframe.to_csv(info_file_path, index=False)\n",
    "\n",
    "print(\"---------- INFO GENERATION ENDED ----------\")"
   ],
   "metadata": {
    "pycharm": {
     "metadata": false,
     "name": "#%%\n",
     "is_executing": false
    }
   }
  },
  {
   "cell_type": "code",
   "execution_count": 1,
   "outputs": [
    {
     "name": "stdout",
     "text": [
      "True\n"
     ],
     "output_type": "stream"
    }
   ],
   "source": [
    "\n"
   ],
   "metadata": {
    "collapsed": false,
    "pycharm": {
     "name": "#%%\n",
     "is_executing": false
    }
   }
  }
 ],
 "metadata": {
  "kernelspec": {
   "name": "python3",
   "language": "python",
   "display_name": "Python 3"
  },
  "language_info": {
   "codemirror_mode": {
    "name": "ipython",
    "version": 2
   },
   "file_extension": ".py",
   "mimetype": "text/x-python",
   "name": "python",
   "nbconvert_exporter": "python",
   "pygments_lexer": "ipython2",
   "version": "2.7.6"
  },
  "pycharm": {
   "stem_cell": {
    "cell_type": "raw",
    "source": [],
    "metadata": {
     "collapsed": false
    }
   }
  }
 },
 "nbformat": 4,
 "nbformat_minor": 0
}