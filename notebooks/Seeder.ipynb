{
 "cells": [
  {
   "cell_type": "code",
   "execution_count": 32,
   "metadata": {
    "collapsed": false
   },
   "outputs": [
    {
     "name": "stdout",
     "output_type": "stream",
     "text": [
      "---------- RANDOM RATINGS GENERATION STARTED ----------\n0/100% 5/100% 10/100% 15/100% 20/100% 25/100% 30/100% 35/100% 40/100% 45/100% 50/100% 55/100% 60/100% 65/100% 70/100% 75/100% 80/100% 85/100% 90/100% 95/100% 100/100%\n---------- RANDOM RATINGS GENERATION ENDED ----------\n---------- RATINGS SHUFFLING STARTED ----------\n---------- RATINGS SHUFFLING ENDED ----------\n---------- RATINGS APPENDING STARTED ----------\n0/100% "
     ]
    },
    {
     "name": "stdout",
     "output_type": "stream",
     "text": [
      "5/100% 10/100%"
     ]
    },
    {
     "name": "stdout",
     "output_type": "stream",
     "text": [
      " 15/100% "
     ]
    },
    {
     "name": "stdout",
     "output_type": "stream",
     "text": [
      "20/100% "
     ]
    },
    {
     "name": "stdout",
     "output_type": "stream",
     "text": [
      "25/100% "
     ]
    },
    {
     "name": "stdout",
     "output_type": "stream",
     "text": [
      "30/100% "
     ]
    },
    {
     "name": "stdout",
     "output_type": "stream",
     "text": [
      "35/100% 40/100%"
     ]
    },
    {
     "name": "stdout",
     "output_type": "stream",
     "text": [
      " 45/100% "
     ]
    },
    {
     "name": "stdout",
     "output_type": "stream",
     "text": [
      "50/100% 55/100% "
     ]
    },
    {
     "name": "stdout",
     "output_type": "stream",
     "text": [
      "60/100% 65/100% "
     ]
    },
    {
     "name": "stdout",
     "output_type": "stream",
     "text": [
      "70/100% 75/100%"
     ]
    },
    {
     "name": "stdout",
     "output_type": "stream",
     "text": [
      " 80/100% "
     ]
    },
    {
     "name": "stdout",
     "output_type": "stream",
     "text": [
      "85/100% 90/100% "
     ]
    },
    {
     "name": "stdout",
     "output_type": "stream",
     "text": [
      "95/100% \n---------- RATINGS APPENDING ENDED ----------\n---------- RANDOM AUTHORS GENERATION STARTED ----------\n---------- RATINGS APPENDING STARTED ----------\n---------- RANDOM AUTHORS GENERATION ENDED ----------\n---------- RATINGS APPENDING ENDED ----------\n"
     ]
    }
   ],
   "source": [
    "import pandas as pd\n",
    "import seaborn as sb\n",
    "import numpy as np\n",
    "import math as m\n",
    "import random as rn\n",
    "from matplotlib import pyplot as plt\n",
    "\n",
    "papers_number = 35\n",
    "readers_number = 80\n",
    "ratings_number = readers_number * papers_number\n",
    "authors_number = 10\n",
    "\n",
    "papers = np.arange(papers_number)\n",
    "readers = np.arange(readers_number)\n",
    "ratings = np.arange(ratings_number)\n",
    "authors = np.arange(authors_number)\n",
    "\n",
    "# Seed folder path\n",
    "\n",
    "dataset_name = \"seed_1\"\n",
    "seed_folder_path = f\"data/seed/{dataset_name}/\"\n",
    "info_filename = f\"{seed_folder_path}info.csv\"\n",
    "ratings_filename = f\"{seed_folder_path}ratings.csv\"\n",
    "authors_filename = f\"{seed_folder_path}authors.csv\"\n",
    "\n",
    "# Info file generation\n",
    "\n",
    "info_dataframe = pd.DataFrame(columns=[\"Dataset\", \"Paper\", \"Reader\", \"Rating\", \"Author\"])\n",
    "info_dataframe = info_dataframe.append(\n",
    "    {\n",
    "        \"Dataset\": dataset_name.capitalize(), \n",
    "        \"Paper\": papers_number, \n",
    "        \"Reader\": readers_number, \n",
    "        \"Rating\": ratings_number, \n",
    "        \"Author\": authors_number\n",
    "    }, ignore_index=True)\n",
    "info_dataframe.to_csv(info_filename, index=False)\n",
    "\n",
    "# Ratings file generation\n",
    "\n",
    "ratings_dataframe = pd.DataFrame(columns=[\"Timestamp\", \"Reader\", \"Paper\", \"Score\", \"Author\"])\n",
    "tuples = []\n",
    "print(\"---------- RANDOM RATINGS GENERATION STARTED ----------\")\n",
    "generated_ratings = 0\n",
    "for reader in readers:\n",
    "    for index, paper in enumerate(papers):\n",
    "        percentage = round((100*generated_ratings/(readers_number*papers_number)),2) \n",
    "        if percentage % 5 == 0:\n",
    "            print(f\"{int(percentage)}/100%\", end=\" \")\n",
    "        current_tuple = {\n",
    "            \"Reader\": reader, \n",
    "            \"Paper\": paper, \n",
    "            \"Score\": round(rn.uniform(0, 1), 2), \n",
    "            \"Author\": np.random.choice(authors_number, 1)[0]\n",
    "        }\n",
    "        generated_ratings+=1\n",
    "        tuples.append(current_tuple)\n",
    "print(\"100/100%\")\n",
    "print(\"---------- RANDOM RATINGS GENERATION ENDED ----------\")\n",
    "print(\"---------- RATINGS SHUFFLING STARTED ----------\")\n",
    "rn.shuffle(tuples)\n",
    "print(\"---------- RATINGS SHUFFLING ENDED ----------\")\n",
    "print(\"---------- RATINGS APPENDING STARTED ----------\")\n",
    "for index, current_tuple in enumerate(tuples):\n",
    "    percentage = round((100*index/len(tuples)),2)\n",
    "    if percentage % 5 == 0:\n",
    "        print(f\"{int(percentage)}/100%\", end=\" \")\n",
    "    ratings_dataframe = ratings_dataframe.append(\n",
    "        {\n",
    "            \"Timestamp\": index,\n",
    "            \"Reader\": current_tuple[\"Reader\"],\n",
    "            \"Paper\": current_tuple[\"Paper\"], \n",
    "            \"Score\": current_tuple[\"Score\"], \n",
    "            \"Author\": current_tuple[\"Author\"]\n",
    "        }, ignore_index=True)\n",
    "print()\n",
    "print(\"---------- RATINGS APPENDING ENDED ----------\")\n",
    "ratings_dataframe[\"Timestamp\"] = ratings_dataframe[\"Timestamp\"].astype(int)\n",
    "ratings_dataframe[\"Reader\"] = ratings_dataframe[\"Reader\"].astype(int)\n",
    "ratings_dataframe[\"Paper\"] = ratings_dataframe[\"Paper\"].astype(int)\n",
    "ratings_dataframe[\"Author\"] = ratings_dataframe[\"Author\"].astype(int)\n",
    "ratings_dataframe.to_csv(ratings_filename, index=False)\n",
    "\n",
    "print(\"---------- RANDOM AUTHORS GENERATION STARTED ----------\")\n",
    "print(\"---------- RATINGS APPENDING STARTED ----------\")\n",
    "authors_dataframe = pd.DataFrame(columns=[\"Author\", \"Papers\"])\n",
    "for author in authors:\n",
    "    # An author writes a number of paper between 1 and paper_fraction\n",
    "    papers_fraction = int(round((100 * (5 / papers_number))))\n",
    "    author_papers_number = rn.randint(1, papers_fraction)\n",
    "    papers_written = np.random.choice(papers, author_papers_number).tolist()\n",
    "    papers_written = set(papers_written)\n",
    "    papers_written = map(str, list(papers_written))\n",
    "    papers_written = \";\".join(papers_written)\n",
    "    authors_dataframe = authors_dataframe.append(\n",
    "        {\n",
    "            \"Author\": author,\n",
    "            \"Papers\": papers_written\n",
    "        }, ignore_index=True)\n",
    "print(\"---------- RANDOM AUTHORS GENERATION ENDED ----------\")\n",
    "print(\"---------- RATINGS APPENDING ENDED ----------\")\n",
    "authors_dataframe.to_csv(authors_filename, index=False)\n",
    "    "
   ]
  },
  {
   "cell_type": "code",
   "execution_count": 33,
   "metadata": {},
   "outputs": [
    {
     "name": "stdout",
     "output_type": "stream",
     "text": [
      "RANDOM INFO:          Dataset Paper Reader Rating Author\n0  Seed_1    35     80   2800     10\nRANDOM RATINGS:      Timestamp  Reader  Paper  Score  Author\n0          0      49      9   0.27       7\n1          1      60      8   0.33       0\n2          2      15     16   0.23       7\n3          3       2     22   0.63       1\n4          4      49      5   0.35       0\n5          5      69      1   0.13       9\n6          6      60     29   0.56       1\n7          7      74     20   0.05       9\n8          8       6     10   0.19       3\n9          9      77     24   0.99       0\nRANDOM AUTHORS:     Author                             Papers\n0      0                          1;18;12;4\n1      1           2;6;17;18;25;26;27;28;31\n2      2  32;33;1;9;14;15;17;18;19;20;25;27\n3      3                      34;4;13;23;26\n4      4                                 29\n5      5                    2;34;6;28;29;31\n6      6       32;0;34;3;4;8;10;12;20;21;23\n7      7                          1;21;9;23\n8      8          33;9;12;14;19;23;25;26;31\n9      9           32;1;0;2;3;5;22;25;27;28\n"
     ]
    }
   ],
   "source": [
    "# Summary\n",
    "\n",
    "print(\"RANDOM INFO:       \", info_dataframe)\n",
    "print(\"RANDOM RATINGS:  \", ratings_dataframe.head(10))\n",
    "print(\"RANDOM AUTHORS:  \", authors_dataframe.head(10))"
   ]
  },
  {
   "cell_type": "code",
   "execution_count": null,
   "metadata": {},
   "outputs": [],
   "source": []
  }
 ],
 "metadata": {
  "kernelspec": {
   "display_name": "Python 2",
   "language": "python",
   "name": "python2"
  },
  "language_info": {
   "codemirror_mode": {
    "name": "ipython",
    "version": 2
   },
   "file_extension": ".py",
   "mimetype": "text/x-python",
   "name": "python",
   "nbconvert_exporter": "python",
   "pygments_lexer": "ipython2",
   "version": "2.7.6"
  }
 },
 "nbformat": 4,
 "nbformat_minor": 0
}
