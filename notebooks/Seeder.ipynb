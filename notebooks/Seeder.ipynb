{
 "cells": [
  {
   "cell_type": "code",
   "execution_count": 21,
   "outputs": [
    {
     "name": "stdout",
     "text": [
      "DATASET NAME:  seed_shuffle_1_special\nDATASET FOLDER PATH:  ../data/seed_shuffle_1_special/\nINFO FILE PATH:  ../data/seed_shuffle_1_special/info.csv\nRATINGS FILE PATH:  ../data/seed_shuffle_1_special/ratings.csv\nAUTHORS FILE PATH:  ../data/seed_shuffle_1_special/authors.csv\n"
     ],
     "output_type": "stream"
    }
   ],
   "source": [
    "import pandas as pd\n",
    "import numpy as np\n",
    "import math as m\n",
    "import os\n",
    "import collections\n",
    "import csv\n",
    "import random as rn\n",
    "from scipy.stats import beta as beta\n",
    "\n",
    "# ------------------------------\n",
    "# ----- PARAMETERS & SETUP -----\n",
    "# ------------------------------\n",
    "\n",
    "# Parameter setting\n",
    "\n",
    "dataset_name = \"seed_shuffle_1_special\"\n",
    "papers_number = 300\n",
    "readers_number = 1000\n",
    "authors_number = 40\n",
    "months_number = 1\n",
    "paper_frequencies = [\n",
    "    2 * months_number, \n",
    "    6 * months_number, \n",
    "    8 * months_number, \n",
    "    14 * months_number, \n",
    "    20 * months_number\n",
    "]\n",
    "shuffling = True\n",
    "shuffle_number = 100\n",
    "\n",
    "assert (papers_number > (sum(paper_frequencies)) and (papers_number % 10) == 0), \\\n",
    "    \"ERROR: papers_number must be greater than (equal to) {} and it must be a multiple of 10.\".format(sum(paper_frequencies)) \n",
    "\n",
    "# Seed folder path\n",
    "\n",
    "dataset_folder_path = \"../data/{}/\".format(dataset_name)\n",
    "dataset_shuffle_folder_path = \"../data/{}/shuffle/\".format(dataset_name)\n",
    "info_file_path = \"{}info.csv\".format(dataset_folder_path)\n",
    "ratings_file_path = \"{}ratings.csv\".format(dataset_folder_path)\n",
    "authors_file_path = \"{}authors.csv\".format(dataset_folder_path)\n",
    "stats_file_path = \"{}stats.csv\".format(dataset_folder_path)\n",
    "\n",
    "# Setting up arrays\n",
    "\n",
    "papers = np.arange(papers_number)\n",
    "readers = np.arange(readers_number)\n",
    "authors = np.arange(authors_number)\n",
    "\n",
    "os.makedirs(dataset_folder_path, exist_ok=True)\n",
    "\n",
    "print(\"DATASET NAME: \", dataset_name)\n",
    "print(\"DATASET FOLDER PATH: \", dataset_folder_path)\n",
    "print(\"INFO FILE PATH: \", info_file_path)\n",
    "print(\"RATINGS FILE PATH: \", ratings_file_path)\n",
    "print(\"AUTHORS FILE PATH: \", authors_file_path)"
   ],
   "metadata": {
    "collapsed": false,
    "pycharm": {
     "name": "#%%\n",
     "is_executing": false
    }
   }
  },
  {
   "cell_type": "code",
   "execution_count": 22,
   "outputs": [
    {
     "name": "stdout",
     "text": [
      "---------- PAPER DISTRIBUTIONS GENERATION STARTED ----------\n0/300 (0/100%)\n30/300 (10/100%)\n60/300 (20/100%)\n90/300 (30/100%)\n120/300 (40/100%)\n150/300 (50/100%)\n180/300 (60/100%)\n210/300 (70/100%)\n240/300 (80/100%)\n270/300 (90/100%)\n300/300 (100/100%)\n---------- PAPER DISTRIBUTIONS GENERATION COMPLETED ----------\n"
     ],
     "output_type": "stream"
    }
   ],
   "source": [
    "# ------------------------------\n",
    "# ---- CORE IMPLEMENTATION -----\n",
    "# ------------------------------\n",
    "\n",
    "# Papers distribution generation with beta distribution\n",
    "\n",
    "print(\"---------- PAPER DISTRIBUTIONS GENERATION STARTED ----------\")\n",
    "\n",
    "generated_configurations = {\"0\":{},\"1\":{},\"2\":{},\"3\":{},\"4\":{}}\n",
    "\n",
    "beta_distributions_frequencies = [(0, int(round((5*papers_number/100))))]\n",
    "beta_distributions_frequencies.append((1, int(round(30*papers_number/100))))\n",
    "beta_distributions_frequencies.append((2, int(round(20*papers_number/100))))\n",
    "beta_distributions_frequencies.append((3, int(round(30*papers_number/100))))\n",
    "beta_distributions_frequencies.append((4, int(round(15*papers_number/100))))\n",
    "\n",
    "papers_set = set(papers)\n",
    "paper_distributions = [None] * papers_number\n",
    "\n",
    "generated_papers_distributions = 0\n",
    "for (index, papers_amount) in beta_distributions_frequencies:\n",
    "    current_paper_set = rn.sample(papers_set, papers_amount)\n",
    "    generated_configurations[\"{}\".format(index)][\"papers_ids\"] = current_paper_set\n",
    "    generated_configurations[\"{}\".format(index)][\"papers_amount\"] = papers_amount\n",
    "    for paper in current_paper_set:\n",
    "        a = 0\n",
    "        b = 0\n",
    "        if index==0:\n",
    "            # CASE 1: a == b == 1, 5% of papers\n",
    "            a = 1\n",
    "            b = 1\n",
    "        if index==1:\n",
    "            # CASE 2: a == b > 1, 30% of papers\n",
    "            a = rn.randint(2, 10)\n",
    "            b = a\n",
    "        if index == 2:\n",
    "            # CASE 3: 0 < (a ^ b) < 1, 30% of papers\n",
    "            a = rn.uniform(0.3, 1)\n",
    "            b = rn.uniform(0.001, 1)\n",
    "        if index == 3:\n",
    "            # CASE 4: (a V b) == 1, (a > b V b > a), 20% of papers\n",
    "            a = 1\n",
    "            b = rn.randint(1, 10)\n",
    "            if rn.randint(0,1) > 0.5:\n",
    "                a, b = b, a\n",
    "        if index == 4:\n",
    "            # CASE 5: (a ^ b) > 1, (a > b V b > a), 15% of papers\n",
    "            a = rn.randint(2, 10)\n",
    "            b = rn.randint(2 + a, 10 + a)\n",
    "            if rn.randint(0,1) > 0.5:\n",
    "                a, b = b, a\n",
    "        percentage = 100*generated_papers_distributions/papers_number\n",
    "        if percentage % 10 == 0:\n",
    "            print(\"{}/{} ({}/100%)\".format(int(generated_papers_distributions), papers_number, int(percentage)))\n",
    "        paper_distributions[paper] = [a, b]\n",
    "        generated_papers_distributions = generated_papers_distributions + 1\n",
    "        papers_set.remove(paper)\n",
    "print(\"{}/{} (100/100%)\".format(papers_number, papers_number))\n",
    "\n",
    "print(\"---------- PAPER DISTRIBUTIONS GENERATION COMPLETED ----------\")"
   ],
   "metadata": {
    "pycharm": {
     "metadata": false,
     "name": "#%%\n",
     "is_executing": false
    }
   }
  },
  {
   "cell_type": "code",
   "execution_count": 23,
   "outputs": [
    {
     "name": "stdout",
     "text": [
      "---------- READERS SETS GENERATION STARTED ----------\n---------- READERS SETS GENERATION COMPLETED ----------\n---------- RATINGS GENERATION STARTED ----------\n0/10000 (0/100%)\n",
      "1000/10000 (10/100%)\n",
      "2000/10000 (20/100%)\n",
      "3000/10000 (30/100%)\n",
      "4000/10000 (40/100%)\n",
      "5000/10000 (50/100%)\n",
      "6000/10000 (60/100%)\n",
      "7000/10000 (70/100%)\n",
      "8000/10000 (80/100%)\n",
      "9000/10000 (90/100%)\n",
      "10000/10000 (100/100%)\n---------- RATINGS GENERATION ENDED ----------\n"
     ],
     "output_type": "stream"
    }
   ],
   "source": [
    "# Ratings file generation\n",
    "\n",
    "# N sets of readers, each one has X% of the total\n",
    "\n",
    "readers_percent = 20\n",
    "reader_sets_number = m.floor(100 / readers_percent)\n",
    "readers_amount = m.floor((readers_number*readers_percent)/100)\n",
    "\n",
    "readers_sets = []\n",
    "\n",
    "# Readers rate papers with a certain frequency\n",
    "\n",
    "print(\"---------- READERS SETS GENERATION STARTED ----------\")\n",
    "\n",
    "ratings_number = sum(paper_frequencies) * readers_amount\n",
    "\n",
    "for x in range(0, reader_sets_number):\n",
    "    current_readers_set = np.random.choice(readers, readers_amount, False) \n",
    "    readers = np.setdiff1d(readers, current_readers_set)\n",
    "    readers_sets.append(current_readers_set)\n",
    "    #print(\"SET {}: {}\".format(x, current_readers_set))\n",
    "\n",
    "print(\"---------- READERS SETS GENERATION COMPLETED ----------\")\n",
    "\n",
    "print(\"---------- RATINGS GENERATION STARTED ----------\")\n",
    "\n",
    "generated_ratings = 0\n",
    "rated_papers = []\n",
    "with open(ratings_file_path, mode='w', newline='') as ratings_file:\n",
    "    ratings_writer = csv.writer(ratings_file, delimiter=',', quotechar='\"', quoting=csv.QUOTE_MINIMAL)\n",
    "    ratings_writer.writerow(['Timestamp', 'Reader', 'Paper', 'Score','Reader-Label'])\n",
    "    for current_set in range(0, reader_sets_number):\n",
    "        frequency = paper_frequencies[current_set]\n",
    "        readers_set = readers_sets[current_set]\n",
    "        for reader in readers_set:\n",
    "            sample = np.random.choice(papers, frequency, False)     \n",
    "            for paper in sample:    \n",
    "                paper_distribution = beta(paper_distributions[paper][0],paper_distributions[paper][1])\n",
    "                percentage = 100*generated_ratings/ratings_number\n",
    "                if percentage % 10 == 0:\n",
    "                    print(\"{}/{} ({}/100%)\".format(int(generated_ratings), ratings_number, int(percentage)))\n",
    "                generated_rating = round(paper_distribution.rvs(1)[0], 2)\n",
    "                if generated_rating == 0:\n",
    "                    generated_rating = 0.01\n",
    "                ratings_writer.writerow([\n",
    "                    generated_ratings, \n",
    "                    reader, \n",
    "                    paper, \n",
    "                    generated_rating,\n",
    "                    \"R#{}\".format(reader)\n",
    "                ])\n",
    "                rated_papers.append(paper)\n",
    "                generated_ratings+=1\n",
    "    \n",
    "    # Filling gaps\n",
    "    readers = np.arange(readers_number)\n",
    "    unrated_papers = set(papers) - set(rated_papers)    \n",
    "    for paper in unrated_papers:\n",
    "        for reader in np.random.choice(readers, 5, False):\n",
    "            paper_distribution = paper_distributions[paper]\n",
    "            generated_rating = round(paper_distribution.rvs(1)[0], 2)\n",
    "            if generated_rating == 0:\n",
    "                generated_rating = 0.01\n",
    "                ratings_writer.writerow([\n",
    "                    generated_ratings, \n",
    "                    reader, \n",
    "                    paper,\n",
    "                    generated_rating,\n",
    "                    \"R#{}\".format(reader)\n",
    "                ])\n",
    "                generated_ratings+=1\n",
    "        \n",
    "    print(\"{}/{} (100/100%)\".format(ratings_number, ratings_number))\n",
    "    \n",
    "ratings_file.close()\n",
    "\n",
    "paper_ratings = pd.read_csv(ratings_file_path)\n",
    "paper_ratings = paper_ratings.sample(frac=1)\n",
    "paper_ratings[\"Timestamp\"] = range(len(paper_ratings))\n",
    "paper_ratings.reset_index(drop=True, inplace=True)\n",
    "\n",
    "paper_ratings.to_csv(ratings_file_path, index=False, header=True, sep=\",\")\n",
    "\n",
    "print(\"---------- RATINGS GENERATION ENDED ----------\")"
   ],
   "metadata": {
    "pycharm": {
     "metadata": false,
     "name": "#%%\n",
     "is_executing": false
    }
   }
  },
  {
   "cell_type": "code",
   "execution_count": 24,
   "outputs": [
    {
     "name": "stdout",
     "text": [
      "---------- AUTHORS GENERATION STARTED ----------\n0/40 (0/100%)\n4/40 (10/100%)\n8/40 (20/100%)\n12/40 (30/100%)\n16/40 (40/100%)\n20/40 (50/100%)\n24/40 (60/100%)\n28/40 (70/100%)\n32/40 (80/100%)\n36/40 (90/100%)\n40/40 (100/100%)\n---------- AUTHORS GENERATION ENDED ----------\n"
     ],
     "output_type": "stream"
    }
   ],
   "source": [
    "# Authors file generation\n",
    "\n",
    "print(\"---------- AUTHORS GENERATION STARTED ----------\")\n",
    "\n",
    "with open(authors_file_path, mode='w', newline='') as authors_file:\n",
    "    authors_writer = csv.writer(authors_file, delimiter=',', quotechar='\"', quoting=csv.QUOTE_MINIMAL)\n",
    "    authors_writer.writerow([\"Author\", \"Paper\"])\n",
    "    for index, author in enumerate(authors):\n",
    "        percentage = 100*index/authors_number\n",
    "        if percentage % 10 == 0:\n",
    "            print(\"{}/{} ({}/100%)\".format(int(index), authors_number, int(percentage)))\n",
    "        # An author writes a number of paper between 1 and paper_fraction\n",
    "        author_papers_number = rn.randint(1, (papers_number-1))\n",
    "        papers_written = np.random.choice(papers, author_papers_number).tolist()\n",
    "        papers_written = set(papers_written)\n",
    "        if len(papers_written) > 1:\n",
    "            papers_written = map(str, list(papers_written))\n",
    "            papers_written = \";\".join(papers_written)\n",
    "        else:\n",
    "            papers_written = list(papers_written)[0]\n",
    "        authors_writer.writerow([author, papers_written])\n",
    "    print(\"{}/{} (100/100%)\".format(authors_number, authors_number))\n",
    "authors_file.close()\n",
    "        \n",
    "print(\"---------- AUTHORS GENERATION ENDED ----------\")"
   ],
   "metadata": {
    "pycharm": {
     "metadata": false,
     "name": "#%% \n",
     "is_executing": false
    }
   }
  },
  {
   "cell_type": "code",
   "execution_count": 25,
   "outputs": [
    {
     "name": "stdout",
     "text": [
      "---------- INFO GENERATION STARTED ----------\n---------- INFO GENERATION ENDED ----------\n"
     ],
     "output_type": "stream"
    }
   ],
   "source": [
    "# Info file generation\n",
    "\n",
    "print(\"---------- INFO GENERATION STARTED ----------\")\n",
    "\n",
    "info_dataframe = pd.DataFrame(columns=[\"Dataset\", \"Paper\", \"Reader\", \"Rating\", \"Author\"])\n",
    "info_dataframe = info_dataframe.append(\n",
    "    {\n",
    "        \"Dataset\": dataset_name, \n",
    "        \"Paper\": papers_number, \n",
    "        \"Reader\": readers_number, \n",
    "        \"Rating\": ratings_number, \n",
    "        \"Author\": authors_number\n",
    "    }, ignore_index=True)\n",
    "info_dataframe.to_csv(info_file_path, index=False)\n",
    "\n",
    "print(\"---------- INFO GENERATION ENDED ----------\")"
   ],
   "metadata": {
    "pycharm": {
     "metadata": false,
     "name": "#%%\n",
     "is_executing": false
    }
   }
  },
  {
   "cell_type": "code",
   "execution_count": 26,
   "outputs": [
    {
     "name": "stdout",
     "text": [
      "---------- STATS GENERATION STARTED ----------\n",
      "---------- COMPUTING STATS FOR PAPERS ----------\n---------- COMPUTING STATS FOR READERS ----------\n",
      "---------- STATS GENERATION COMPLETED ----------\n"
     ],
     "output_type": "stream"
    }
   ],
   "source": [
    "# Stats file generation\n",
    "\n",
    "print(\"---------- STATS GENERATION STARTED ----------\")\n",
    "\n",
    "temp_ratings_dataframe = pd.read_csv(ratings_file_path)\n",
    "temp_ratings_dataframe = temp_ratings_dataframe.loc[:, temp_ratings_dataframe.columns != \"Reader-Label\"]\n",
    "temp_ratings_dataframe[temp_ratings_dataframe.columns] = temp_ratings_dataframe[temp_ratings_dataframe.columns].apply(pd.to_numeric)\n",
    "\n",
    "stats_dataframe = temp_ratings_dataframe.copy()\n",
    "stats_dataframe[stats_dataframe > 0.0000001] = 1\n",
    "\n",
    "print(\"---------- COMPUTING STATS FOR PAPERS ----------\")\n",
    "\n",
    "sums_paper = stats_dataframe.copy().sum(axis=0)\n",
    "sums_paper_dataframe = pd.DataFrame(sums_paper)\n",
    "\n",
    "max_ratings_paper = sums_paper_dataframe.max()\n",
    "min_ratings_paper = sums_paper_dataframe.min()\n",
    "mean_ratings_paper = sums_paper_dataframe.mean()\n",
    "\n",
    "temp_ratings_dataframe = temp_ratings_dataframe.T\n",
    "paper_counter = 0\n",
    "for index, row in temp_ratings_dataframe.iterrows():\n",
    "    if len(np.unique(row)) == 1:\n",
    "        paper_counter+=1\n",
    "        \n",
    "print(\"---------- COMPUTING STATS FOR READERS ----------\")\n",
    "\n",
    "sums_reader = stats_dataframe.copy().sum(axis=1)\n",
    "counter=collections.Counter(sums_reader)\n",
    "sums_reader_dataframe = pd.DataFrame(sums_reader)\n",
    "\n",
    "max_ratings_reader = sums_reader_dataframe.max()\n",
    "min_ratings_reader = sums_reader_dataframe.min()\n",
    "mean_ratings_reader = sums_reader_dataframe.mean()\n",
    "\n",
    "temp_ratings_dataframe = temp_ratings_dataframe\n",
    "reader_counter = 0\n",
    "for index, row in temp_ratings_dataframe.iterrows():\n",
    "    if len(np.unique(row)) == 1:\n",
    "        reader_counter+=1\n",
    "        \n",
    "# Writing stats to file\n",
    "\n",
    "stats_dataframe = pd.DataFrame(columns=[\n",
    "    \"Dataset\",\n",
    "    \"Max Number Rating Paper\", \n",
    "    \"Min Number Rating Paper\", \n",
    "    \"Mean Number Rating Paper\",\n",
    "    \"Number Papers Unique Ratings\",\n",
    "    \"Max Number Rating Reader\", \n",
    "    \"Min Number Rating Reader\", \n",
    "    \"Mean Number Rating Reader\"\n",
    "    \"Number Readers Unique Rating\"\n",
    "])\n",
    "stats_dataframe = stats_dataframe.append(\n",
    "    {\n",
    "        \"Dataset\": dataset_name, \n",
    "        \"Max Number Rating Paper\": int(max_ratings_paper.values[0]), \n",
    "        \"Min Number Rating Paper\": int(min_ratings_paper.values[0]), \n",
    "        \"Number Papers Unique Ratings\": paper_counter, \n",
    "        \"Mean Number Rating Paper\": int(mean_ratings_paper.values[0]), \n",
    "        \"Max Number Rating Reader\": int(max_ratings_reader.values[0]), \n",
    "        \"Min Number Rating Reader\": int(min_ratings_reader.values[0]), \n",
    "        \"Mean Number Rating Reader\": int(mean_ratings_reader.values[0]), \n",
    "        \"Number Readers Unique Rating\": reader_counter, \n",
    "    }, ignore_index=True)\n",
    "stats_dataframe.to_csv(stats_file_path, index=False)\n",
    "\n",
    "print(\"---------- STATS GENERATION COMPLETED ----------\")"
   ],
   "metadata": {
    "collapsed": false,
    "pycharm": {
     "name": "#%%\n",
     "is_executing": false
    }
   }
  },
  {
   "cell_type": "code",
   "execution_count": 27,
   "outputs": [
    {
     "name": "stdout",
     "text": [
      "---------- SPECIAL RATINGS STARTED ----------\n",
      "---------- SPECIAL RATINGS COMPLETED  ----------\n"
     ],
     "output_type": "stream"
    }
   ],
   "source": [
    "# Data generation for experiments\n",
    "\n",
    "# ------------------------------\n",
    "# -- EXP 1-A: DATA GENERATION --\n",
    "# ------------------------------\n",
    "\n",
    "print(\"---------- SPECIAL RATINGS STARTED ----------\")\n",
    "\n",
    "gaussian_beta_distributions = generated_configurations[\"2\"]\n",
    "papers_identifiers = gaussian_beta_distributions[\"papers_ids\"]\n",
    "for paper in papers_identifiers:\n",
    "    mean = (paper_distributions[paper][0]/(paper_distributions[paper][0] + paper_distributions[paper][1]))\n",
    "    SR1_rating_id = generated_ratings\n",
    "    SR1_reader = readers_number\n",
    "    SR1_paper = paper\n",
    "    SR1_rating_score = round(mean,2)\n",
    "    SR1_reader_label = \"SR#1\"\n",
    "    SR2_rating_id = generated_ratings+1\n",
    "    SR2_reader = readers_number+1\n",
    "    SR2_paper = paper\n",
    "    SR2_reader_label = \"SR#2\"\n",
    "    SR3_rating_id = generated_ratings+2\n",
    "    SR3_reader = readers_number+2\n",
    "    SR3_paper = paper\n",
    "    SR3_reader_label = \"SR#3\"\n",
    "    if mean <= 0.5:\n",
    "        SR2_rating_score = 0\n",
    "        SR3_rating_score = round(((1-mean)/2),2)\n",
    "    else:\n",
    "        SR2_rating_score = 1.0\n",
    "        SR3_rating_score = round((mean/2),2)\n",
    "    with open(ratings_file_path, mode='a', newline='') as ratings_file:\n",
    "        ratings_writer = csv.writer(ratings_file, delimiter=',', quotechar='\"', quoting=csv.QUOTE_MINIMAL)\n",
    "        ratings_writer.writerow([SR1_rating_id, SR1_reader, SR1_paper, SR1_rating_score, SR1_reader_label])\n",
    "        ratings_writer.writerow([SR2_rating_id, SR2_reader, SR2_paper, SR2_rating_score, SR2_reader_label])\n",
    "        ratings_writer.writerow([SR3_rating_id, SR3_reader, SR3_paper, SR3_rating_score, SR3_reader_label])\n",
    "    ratings_file.close()\n",
    "    generated_ratings = generated_ratings + 3\n",
    "ratings_number = generated_ratings\n",
    "readers_number = readers_number + 3\n",
    "    \n",
    "# Updating info file\n",
    "\n",
    "info_dataframe = pd.DataFrame(columns=[\"Dataset\", \"Paper\", \"Reader\", \"Rating\", \"Author\"])\n",
    "info_dataframe = info_dataframe.append(\n",
    "    {\n",
    "        \"Dataset\": dataset_name, \n",
    "        \"Paper\": papers_number, \n",
    "        \"Reader\": readers_number, \n",
    "        \"Rating\": ratings_number, \n",
    "        \"Author\": authors_number\n",
    "    }, ignore_index=True)\n",
    "info_dataframe.to_csv(info_file_path, index=False)\n",
    "\n",
    "print(\"---------- SPECIAL RATINGS COMPLETED  ----------\")"
   ],
   "metadata": {
    "collapsed": false,
    "pycharm": {
     "name": "#%%\n",
     "is_executing": false
    }
   }
  },
  {
   "cell_type": "code",
   "execution_count": 28,
   "outputs": [
    {
     "name": "stdout",
     "text": [
      "---------- RATINGS SHUFFLING STARTED ----------\n0/100 (0/100%)\n",
      "10/100 (10/100%)\n",
      "20/100 (20/100%)\n",
      "30/100 (30/100%)\n",
      "40/100 (40/100%)\n",
      "50/100 (50/100%)\n",
      "60/100 (60/100%)\n",
      "70/100 (70/100%)\n",
      "80/100 (80/100%)\n",
      "90/100 (90/100%)\n",
      "100/100 (100/100%)\n---------- RATINGS SHUFFLING COMPLETED ----------\n"
     ],
     "output_type": "stream"
    }
   ],
   "source": [
    "# ------------------------------\n",
    "# -- EXP 1-B: DATA GENERATION --\n",
    "# ------------------------------\n",
    "\n",
    "print(\"---------- RATINGS SHUFFLING STARTED ----------\")\n",
    "\n",
    "if shuffling:\n",
    "    paper_ratings = pd.read_csv(ratings_file_path)\n",
    "    os.makedirs(dataset_shuffle_folder_path, exist_ok=True)\n",
    "    for s in range(shuffle_number):\n",
    "        c = 0\n",
    "        if s % 10 == 0:\n",
    "            print(\"{}/{} ({}/100%)\".format(s, shuffle_number, s))\n",
    "        current_shuffle_file_path = \"{}/shuffle_{}.csv\".format(dataset_shuffle_folder_path, s)\n",
    "        shuffled_papers_ratings = paper_ratings.sample(frac=1)\n",
    "        for i, row in shuffled_papers_ratings.iterrows():\n",
    "            shuffled_papers_ratings.at[i,'Timestamp'] = c\n",
    "            c  = c + 1\n",
    "        shuffled_papers_ratings.to_csv(current_shuffle_file_path, index=False, header=True, sep=\",\")\n",
    "    print(\"{}/{} (100/100%)\".format(shuffle_number, shuffle_number))\n",
    "    \n",
    "print(\"---------- RATINGS SHUFFLING COMPLETED ----------\")\n"
   ],
   "metadata": {
    "collapsed": false,
    "pycharm": {
     "name": "#%%\n",
     "is_executing": false
    }
   }
  },
  {
   "cell_type": "code",
   "execution_count": null,
   "outputs": [],
   "source": [],
   "metadata": {
    "collapsed": false,
    "pycharm": {
     "name": "#%%\n",
     "is_executing": false
    }
   }
  }
 ],
 "metadata": {
  "kernelspec": {
   "name": "python3",
   "language": "python",
   "display_name": "Python 3"
  },
  "language_info": {
   "codemirror_mode": {
    "name": "ipython",
    "version": 2
   },
   "file_extension": ".py",
   "mimetype": "text/x-python",
   "name": "python",
   "nbconvert_exporter": "python",
   "pygments_lexer": "ipython2",
   "version": "2.7.6"
  },
  "pycharm": {
   "stem_cell": {
    "cell_type": "raw",
    "source": [],
    "metadata": {
     "collapsed": false
    }
   }
  }
 },
 "nbformat": 4,
 "nbformat_minor": 0
}