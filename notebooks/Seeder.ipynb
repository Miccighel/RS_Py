{
 "cells": [
  {
   "cell_type": "code",
   "execution_count": 249,
   "outputs": [
    {
     "name": "stdout",
     "text": [
      "DATASET NAME:  seed_power_law_1\nDATASET FOLDER PATH:  ../data/seed_power_law_1/\nINFO FILE PATH:  ../data/seed_power_law_1/info.csv\nRATINGS FILE PATH:  ../data/seed_power_law_1/ratings.csv\nAUTHORS FILE PATH:  ../data/seed_power_law_1/authors.csv\n"
     ],
     "output_type": "stream"
    }
   ],
   "source": [
    "import pandas as pd\n",
    "import numpy as np\n",
    "import math as m\n",
    "import os\n",
    "import collections\n",
    "import csv\n",
    "import random as rn\n",
    "import seaborn as sns\n",
    "import scipy.stats as stats\n",
    "from itertools import islice\n",
    "from scipy.stats import beta as beta\n",
    "import matplotlib.pyplot as plt\n",
    "\n",
    "# ------------------------------\n",
    "# ----- PARAMETERS & SETUP -----\n",
    "# ------------------------------\n",
    "\n",
    "# Parameter setting\n",
    "\n",
    "dataset_name = \"seed_power_law_1\"\n",
    "authors_number = 20\n",
    "months_number = 1\n",
    "readers_classes = 30\n",
    "shuffling = False\n",
    "shuffle_number = 100\n",
    "\n",
    "# Seed folder path\n",
    "\n",
    "dataset_folder_path = \"../data/{}/\".format(dataset_name)\n",
    "dataset_shuffle_folder_path = \"../data/{}/shuffle/\".format(dataset_name)\n",
    "info_file_path = \"{}info.csv\".format(dataset_folder_path)\n",
    "ratings_file_path = \"{}ratings.csv\".format(dataset_folder_path)\n",
    "authors_file_path = \"{}authors.csv\".format(dataset_folder_path)\n",
    "stats_file_path = \"{}stats.csv\".format(dataset_folder_path)\n",
    "\n",
    "os.makedirs(dataset_folder_path, exist_ok=True)\n",
    "\n",
    "print(\"DATASET NAME: \", dataset_name)\n",
    "print(\"DATASET FOLDER PATH: \", dataset_folder_path)\n",
    "print(\"INFO FILE PATH: \", info_file_path)\n",
    "print(\"RATINGS FILE PATH: \", ratings_file_path)\n",
    "print(\"AUTHORS FILE PATH: \", authors_file_path)"
   ],
   "metadata": {
    "collapsed": false,
    "pycharm": {
     "name": "#%%\n",
     "is_executing": false
    }
   }
  },
  {
   "cell_type": "code",
   "execution_count": 250,
   "outputs": [
    {
     "name": "stdout",
     "text": [
      "---------- READERS DISTRIBUTION GENERATION STARTED ----------\n",
      "Generated readers: 465\nDistinct readers classes: 30 (i.e., m)\nTotal amount of ratings to generate:  99404\nMinimum number of papers to generate: 1613\nThere are 1 readers which give 1613 ratings\nThere are 2 readers which give 980 ratings\nThere are 3 readers which give 698 ratings\nThere are 4 readers which give 555 ratings\nThere are 6 readers which give 446 ratings\nThere are 5 readers which give 445 ratings\nThere are 7 readers which give 392 ratings\nThere are 8 readers which give 346 ratings\nThere are 9 readers which give 331 ratings\nThere are 10 readers which give 312 ratings\nEtc.\n---------- READERS DISTRIBUTION GENERATION COMPLETED ----------\n"
     ],
     "output_type": "stream"
    },
    {
     "data": {
      "text/plain": "<Figure size 432x288 with 1 Axes>",
      "image/png": "[encoded data removed]"
     },
     "metadata": {
      "needs_background": "light"
     },
     "output_type": "display_data"
    }
   ],
   "source": [
    "# ------------------------------\n",
    "# ---- CORE IMPLEMENTATION -----\n",
    "# ------------------------------\n",
    "\n",
    "print(\"---------- READERS DISTRIBUTION GENERATION STARTED ----------\")\n",
    "\n",
    "# Return first n items of the iterable as a list\n",
    "\n",
    "def take(n, iterable):\n",
    "    return list(islice(iterable, n))\n",
    "\n",
    "def truncated_power_law(a, m):\n",
    "    x = np.arange(1, m+1, dtype='float')\n",
    "    pmf = 1/x**a\n",
    "    pmf /= pmf.sum()\n",
    "    return stats.rv_discrete(values=(range(1, m+1), pmf))\n",
    "\n",
    "a, m = .7, readers_classes\n",
    "d = truncated_power_law(a=a, m=m)\n",
    "n = 10000\n",
    "sample = d.rvs(size=n)\n",
    "ax = sns.distplot(sample, bins=np.arange(m)+0.5, kde=False)\n",
    "ax.set(xlabel=\"Reader Class\", ylabel= \"Ratings Number\")\n",
    "fig = ax.get_figure()\n",
    "path = \"{}/power-law-readers.pdf\".format(dataset_folder_path)\n",
    "fig.savefig(path, bbox_inches='tight')\n",
    "\n",
    "readers_number = int((m*(m+1))/2)\n",
    "ratings_number = 0\n",
    "reader_rating_frequency = list(collections.Counter(sample).most_common())\n",
    "for readers_amount,rating_frequency in reader_rating_frequency:\n",
    "    ratings_number += readers_amount * rating_frequency\n",
    "min_papers_number = collections.Counter(sample).most_common()[0][1]\n",
    "papers_number = min_papers_number\n",
    "\n",
    "print(f\"Generated readers: {readers_number}\")\n",
    "print(f\"Distinct readers classes: {readers_classes} (i.e., m)\")\n",
    "print(f\"Total amount of ratings to generate:  {ratings_number}\")\n",
    "print(f\"Minimum number of papers to generate: {min_papers_number}\")\n",
    "for readers_amount, rating_frequency in take(10, reader_rating_frequency):\n",
    "    print(f\"There are {readers_amount} readers which give {rating_frequency} ratings\")\n",
    "print(\"Etc.\")\n",
    "\n",
    "# Setting up arrays\n",
    "\n",
    "papers = np.arange(papers_number)\n",
    "readers = np.arange(readers_number)\n",
    "authors = np.arange(authors_number)\n",
    "\n",
    "print(\"---------- READERS DISTRIBUTION GENERATION COMPLETED ----------\")"
   ],
   "metadata": {
    "pycharm": {
     "metadata": false,
     "name": "#%%\n",
     "is_executing": false
    }
   }
  },
  {
   "cell_type": "code",
   "execution_count": 251,
   "outputs": [
    {
     "name": "stdout",
     "text": [
      "---------- INTRA-PAPER DISTRIBUTIONS GENERATION STARTED ----------\n0/1613 (0/100%)\n1613/1613 (100/100%)\n---------- INTRA-PAPER DISTRIBUTIONS GENERATION COMPLETED ----------\n"
     ],
     "output_type": "stream"
    }
   ],
   "source": [
    "# Papers distribution generation with beta distribution\n",
    "\n",
    "print(\"---------- INTRA-PAPER DISTRIBUTIONS GENERATION STARTED ----------\")\n",
    "\n",
    "generated_configurations = {\"0\":{},\"1\":{},\"2\":{},\"3\":{},\"4\":{}}\n",
    "\n",
    "beta_distributions_frequencies = [(0, int(round((5*papers_number/100))))]\n",
    "beta_distributions_frequencies.append((1, int(round(30*papers_number/100))))\n",
    "beta_distributions_frequencies.append((2, int(round(20*papers_number/100))))\n",
    "beta_distributions_frequencies.append((3, int(round(30*papers_number/100))))\n",
    "beta_distributions_frequencies.append((4, int(round(15*papers_number/100))))\n",
    "\n",
    "papers_set = set(papers)\n",
    "paper_distributions = [None] * papers_number\n",
    "\n",
    "generated_papers_distributions = 0\n",
    "for (index, papers_amount) in beta_distributions_frequencies:\n",
    "    if papers_amount > len(papers_set):\n",
    "        papers_amount = len(papers_set)\n",
    "    current_paper_set = rn.sample(papers_set, papers_amount)\n",
    "    generated_configurations[\"{}\".format(index)][\"papers_ids\"] = current_paper_set\n",
    "    generated_configurations[\"{}\".format(index)][\"papers_amount\"] = papers_amount\n",
    "    for paper in current_paper_set:\n",
    "        a = 0\n",
    "        b = 0\n",
    "        if index==0:\n",
    "            # CASE 1: a == b == 1, 5% of papers\n",
    "            a = 1\n",
    "            b = 1\n",
    "        if index==1:\n",
    "            # CASE 2: a == b > 1, 30% of papers\n",
    "            a = rn.randint(2, 10)\n",
    "            b = a\n",
    "        if index == 2:\n",
    "            # CASE 3: 0 < (a ^ b) < 1, 30% of papers\n",
    "            a = rn.uniform(0.3, 1)\n",
    "            b = rn.uniform(0.001, 1)\n",
    "        if index == 3:\n",
    "            # CASE 4: (a V b) == 1, (a > b V b > a), 20% of papers\n",
    "            a = 1\n",
    "            b = rn.randint(1, 10)\n",
    "            if rn.randint(0,1) > 0.5:\n",
    "                a, b = b, a\n",
    "        if index == 4:\n",
    "            # CASE 5: (a ^ b) > 1, (a > b V b > a), 15% of papers\n",
    "            a = rn.randint(2, 10)\n",
    "            b = rn.randint(2 + a, 10 + a)\n",
    "            if rn.randint(0,1) > 0.5:\n",
    "                a, b = b, a\n",
    "        percentage = 100*generated_papers_distributions/papers_number\n",
    "        if percentage % 10 == 0:\n",
    "            print(\"{}/{} ({}/100%)\".format(int(generated_papers_distributions), papers_number, int(percentage)))\n",
    "        paper_distributions[paper] = [a, b]\n",
    "        generated_papers_distributions = generated_papers_distributions + 1\n",
    "        papers_set.remove(paper)\n",
    "print(\"{}/{} (100/100%)\".format(papers_number, papers_number))\n",
    "\n",
    "print(\"---------- INTRA-PAPER DISTRIBUTIONS GENERATION COMPLETED ----------\")"
   ],
   "metadata": {
    "collapsed": false,
    "pycharm": {
     "name": "#%%\n",
     "is_executing": false
    }
   }
  },
  {
   "cell_type": "code",
   "execution_count": 252,
   "outputs": [
    {
     "name": "stdout",
     "text": [
      "---------- READERS SAMPLING STARTED ----------\nSampled Readers: 1 Remaining Readers: 464\nSampled Readers: 3 Remaining Readers: 462\nSampled Readers: 6 Remaining Readers: 459\nSampled Readers: 10 Remaining Readers: 455\nSampled Readers: 16 Remaining Readers: 449\nSampled Readers: 21 Remaining Readers: 444\nSampled Readers: 28 Remaining Readers: 437\nSampled Readers: 36 Remaining Readers: 429\nSampled Readers: 45 Remaining Readers: 420\nSampled Readers: 55 Remaining Readers: 410\nSampled Readers: 68 Remaining Readers: 397\nSampled Readers: 79 Remaining Readers: 386\nSampled Readers: 91 Remaining Readers: 374\nSampled Readers: 105 Remaining Readers: 360\nSampled Readers: 120 Remaining Readers: 345\nSampled Readers: 139 Remaining Readers: 326\nSampled Readers: 155 Remaining Readers: 310\nSampled Readers: 172 Remaining Readers: 293\nSampled Readers: 192 Remaining Readers: 273\nSampled Readers: 210 Remaining Readers: 255\nSampled Readers: 231 Remaining Readers: 234\nSampled Readers: 259 Remaining Readers: 206\nSampled Readers: 281 Remaining Readers: 184\nSampled Readers: 306 Remaining Readers: 159\nSampled Readers: 329 Remaining Readers: 136\nSampled Readers: 353 Remaining Readers: 112\nSampled Readers: 380 Remaining Readers: 85\nSampled Readers: 410 Remaining Readers: 55\nSampled Readers: 436 Remaining Readers: 29\nSampled Readers: 465 Remaining Readers: 0\n---------- READERS SAMPLING COMPLETED ----------\n"
     ],
     "output_type": "stream"
    }
   ],
   "source": [
    "print(\"---------- READERS SAMPLING STARTED ----------\")\n",
    "\n",
    "readers_configurations = []\n",
    "# key: amount of ratings to generate, value: readers identifiers\n",
    "\n",
    "samples_amount = 0\n",
    "for readers_amount, rating_frequency in reader_rating_frequency:\n",
    "    sampled_readers = np.random.choice(readers, readers_amount, False) \n",
    "    readers = np.setdiff1d(readers, sampled_readers)\n",
    "    readers_configurations.append((readers_amount, rating_frequency, sampled_readers))\n",
    "    percentage = round(100*samples_amount/readers_number)\n",
    "    samples_amount += readers_amount\n",
    "    print(f\"Sampled Readers: {samples_amount} Remaining Readers: {len(readers)}\")\n",
    "\n",
    "print(\"---------- READERS SAMPLING COMPLETED ----------\")"
   ],
   "metadata": {
    "collapsed": false,
    "pycharm": {
     "name": "#%%\n",
     "is_executing": false
    }
   }
  },
  {
   "cell_type": "code",
   "execution_count": 253,
   "outputs": [
    {
     "name": "stdout",
     "text": [
      "---------- RATINGS GENERATION STARTED ----------\n0/99404 (0/100%)\n",
      "49702/99404 (50/100%)\n",
      "99404/99404 (100/100%)\n",
      "---------- RATINGS GENERATION ENDED ----------\n"
     ],
     "output_type": "stream"
    }
   ],
   "source": [
    "print(\"---------- RATINGS GENERATION STARTED ----------\")\n",
    "\n",
    "generated_ratings = 0\n",
    "rated_papers = []\n",
    "with open(ratings_file_path, mode='w', newline='') as ratings_file:\n",
    "    ratings_writer = csv.writer(ratings_file, delimiter=',', quotechar='\"', quoting=csv.QUOTE_MINIMAL)\n",
    "    ratings_writer.writerow(['Timestamp', 'Reader', 'Paper', 'Score','Reader-Label'])\n",
    "    for readers_amount, rating_frequency, sampled_readers in readers_configurations:    \n",
    "        for reader in sampled_readers:\n",
    "            sample = np.random.choice(papers, rating_frequency, False)     \n",
    "            for paper in sample:    \n",
    "                paper_distribution = beta(paper_distributions[paper][0],paper_distributions[paper][1])\n",
    "                percentage = 100*generated_ratings/ratings_number\n",
    "                if percentage % 10 == 0:\n",
    "                    print(\"{}/{} ({}/100%)\".format(int(generated_ratings), ratings_number, int(percentage)))\n",
    "                generated_rating = round(paper_distribution.rvs(1)[0], 2)\n",
    "                if generated_rating == 0:\n",
    "                    generated_rating = 0.01\n",
    "                ratings_writer.writerow([\n",
    "                    generated_ratings, \n",
    "                    reader, \n",
    "                    paper, \n",
    "                    generated_rating,\n",
    "                    \"R#{}\".format(reader)\n",
    "                ])\n",
    "                rated_papers.append(paper)\n",
    "                generated_ratings+=1\n",
    "    \n",
    "    # Filling gaps\n",
    "    readers = np.arange(readers_number)\n",
    "    unrated_papers = set(papers) - set(rated_papers)    \n",
    "    for paper in unrated_papers:\n",
    "        for reader in np.random.choice(readers, 5, False):\n",
    "            paper_distribution = paper_distributions[paper]\n",
    "            generated_rating = round(paper_distribution.rvs(1)[0], 2)\n",
    "            if generated_rating == 0:\n",
    "                generated_rating = 0.01\n",
    "                ratings_writer.writerow([\n",
    "                    generated_ratings, \n",
    "                    reader, \n",
    "                    paper,\n",
    "                    generated_rating,\n",
    "                    \"R#{}\".format(reader)\n",
    "                ])\n",
    "                generated_ratings+=1\n",
    "        \n",
    "    print(\"{}/{} (100/100%)\".format(ratings_number, ratings_number))\n",
    "    \n",
    "ratings_file.close()\n",
    "\n",
    "paper_ratings = pd.read_csv(ratings_file_path)\n",
    "paper_ratings = paper_ratings.sample(frac=1)\n",
    "paper_ratings[\"Timestamp\"] = range(len(paper_ratings))\n",
    "paper_ratings.reset_index(drop=True, inplace=True)\n",
    "\n",
    "paper_ratings.to_csv(ratings_file_path, index=False, header=True, sep=\",\")\n",
    "\n",
    "print(\"---------- RATINGS GENERATION ENDED ----------\")"
   ],
   "metadata": {
    "collapsed": false,
    "pycharm": {
     "name": "#%%\n",
     "is_executing": false
    }
   }
  },
  {
   "cell_type": "code",
   "execution_count": 254,
   "outputs": [
    {
     "name": "stdout",
     "text": [
      "---------- AUTHORS GENERATION STARTED ----------\n0/20 (0/100%)\n2/20 (10/100%)\n4/20 (20/100%)\n6/20 (30/100%)\n8/20 (40/100%)\n10/20 (50/100%)\n12/20 (60/100%)\n14/20 (70/100%)\n16/20 (80/100%)\n18/20 (90/100%)\n20/20 (100/100%)\n---------- AUTHORS GENERATION ENDED ----------\n"
     ],
     "output_type": "stream"
    }
   ],
   "source": [
    "# Authors file generation\n",
    "\n",
    "print(\"---------- AUTHORS GENERATION STARTED ----------\")\n",
    "\n",
    "with open(authors_file_path, mode='w', newline='') as authors_file:\n",
    "    authors_writer = csv.writer(authors_file, delimiter=',', quotechar='\"', quoting=csv.QUOTE_MINIMAL)\n",
    "    authors_writer.writerow([\"Author\", \"Paper\"])\n",
    "    for index, author in enumerate(authors):\n",
    "        percentage = 100*index/authors_number\n",
    "        if percentage % 10 == 0:\n",
    "            print(\"{}/{} ({}/100%)\".format(int(index), authors_number, int(percentage)))\n",
    "        # An author writes a number of paper between 1 and paper_fraction\n",
    "        author_papers_number = rn.randint(1, (papers_number-1))\n",
    "        papers_written = np.random.choice(papers, author_papers_number).tolist()\n",
    "        papers_written = set(papers_written)\n",
    "        if len(papers_written) > 1:\n",
    "            papers_written = map(str, list(papers_written))\n",
    "            papers_written = \";\".join(papers_written)\n",
    "        else:\n",
    "            papers_written = list(papers_written)[0]\n",
    "        authors_writer.writerow([author, papers_written])\n",
    "    print(\"{}/{} (100/100%)\".format(authors_number, authors_number))\n",
    "authors_file.close()\n",
    "        \n",
    "print(\"---------- AUTHORS GENERATION ENDED ----------\")"
   ],
   "metadata": {
    "pycharm": {
     "metadata": false,
     "name": "#%% \n",
     "is_executing": false
    }
   }
  },
  {
   "cell_type": "code",
   "execution_count": 255,
   "outputs": [
    {
     "name": "stdout",
     "text": [
      "---------- INFO GENERATION STARTED ----------\n---------- INFO GENERATION ENDED ----------\n"
     ],
     "output_type": "stream"
    }
   ],
   "source": [
    "# Info file generation\n",
    "\n",
    "print(\"---------- INFO GENERATION STARTED ----------\")\n",
    "\n",
    "info_dataframe = pd.DataFrame(columns=[\"Dataset\", \"Paper\", \"Reader\", \"Rating\", \"Author\"])\n",
    "info_dataframe = info_dataframe.append(\n",
    "    {\n",
    "        \"Dataset\": dataset_name, \n",
    "        \"Paper\": papers_number, \n",
    "        \"Reader\": readers_number, \n",
    "        \"Rating\": ratings_number, \n",
    "        \"Author\": authors_number\n",
    "    }, ignore_index=True)\n",
    "info_dataframe.to_csv(info_file_path, index=False)\n",
    "\n",
    "print(\"---------- INFO GENERATION ENDED ----------\")"
   ],
   "metadata": {
    "pycharm": {
     "metadata": false,
     "name": "#%%\n",
     "is_executing": false
    }
   }
  },
  {
   "cell_type": "code",
   "execution_count": 256,
   "outputs": [
    {
     "name": "stdout",
     "text": [
      "---------- STATS GENERATION STARTED ----------\n---------- COMPUTING STATS FOR PAPERS ----------\n---------- COMPUTING STATS FOR READERS ----------",
      "\n",
      "---------- STATS GENERATION COMPLETED ----------",
      "\n"
     ],
     "output_type": "stream"
    }
   ],
   "source": [
    "# Stats file generation\n",
    "\n",
    "print(\"---------- STATS GENERATION STARTED ----------\")\n",
    "\n",
    "temp_ratings_dataframe = pd.read_csv(ratings_file_path)\n",
    "temp_ratings_dataframe = temp_ratings_dataframe.loc[:, temp_ratings_dataframe.columns != \"Reader-Label\"]\n",
    "temp_ratings_dataframe[temp_ratings_dataframe.columns] = temp_ratings_dataframe[temp_ratings_dataframe.columns].apply(pd.to_numeric)\n",
    "\n",
    "stats_dataframe = temp_ratings_dataframe.copy()\n",
    "stats_dataframe[stats_dataframe > 0.0000001] = 1\n",
    "\n",
    "print(\"---------- COMPUTING STATS FOR PAPERS ----------\")\n",
    "\n",
    "sums_paper = stats_dataframe.copy().sum(axis=0)\n",
    "sums_paper_dataframe = pd.DataFrame(sums_paper)\n",
    "\n",
    "max_ratings_paper = sums_paper_dataframe.max()\n",
    "min_ratings_paper = sums_paper_dataframe.min()\n",
    "mean_ratings_paper = sums_paper_dataframe.mean()\n",
    "\n",
    "temp_ratings_dataframe = temp_ratings_dataframe.T\n",
    "paper_counter = 0\n",
    "for index, row in temp_ratings_dataframe.iterrows():\n",
    "    if len(np.unique(row)) == 1:\n",
    "        paper_counter+=1\n",
    "        \n",
    "print(\"---------- COMPUTING STATS FOR READERS ----------\")\n",
    "\n",
    "sums_reader = stats_dataframe.copy().sum(axis=1)\n",
    "counter=collections.Counter(sums_reader)\n",
    "sums_reader_dataframe = pd.DataFrame(sums_reader)\n",
    "\n",
    "max_ratings_reader = sums_reader_dataframe.max()\n",
    "min_ratings_reader = sums_reader_dataframe.min()\n",
    "mean_ratings_reader = sums_reader_dataframe.mean()\n",
    "\n",
    "temp_ratings_dataframe = temp_ratings_dataframe\n",
    "reader_counter = 0\n",
    "for index, row in temp_ratings_dataframe.iterrows():\n",
    "    if len(np.unique(row)) == 1:\n",
    "        reader_counter+=1\n",
    "        \n",
    "# Writing stats to file\n",
    "\n",
    "stats_dataframe = pd.DataFrame(columns=[\n",
    "    \"Dataset\",\n",
    "    \"Max Number Rating Paper\", \n",
    "    \"Min Number Rating Paper\", \n",
    "    \"Mean Number Rating Paper\",\n",
    "    \"Number Papers Unique Ratings\",\n",
    "    \"Max Number Rating Reader\", \n",
    "    \"Min Number Rating Reader\", \n",
    "    \"Mean Number Rating Reader\"\n",
    "    \"Number Readers Unique Rating\"\n",
    "])\n",
    "stats_dataframe = stats_dataframe.append(\n",
    "    {\n",
    "        \"Dataset\": dataset_name, \n",
    "        \"Max Number Rating Paper\": int(max_ratings_paper.values[0]), \n",
    "        \"Min Number Rating Paper\": int(min_ratings_paper.values[0]), \n",
    "        \"Number Papers Unique Ratings\": paper_counter, \n",
    "        \"Mean Number Rating Paper\": int(mean_ratings_paper.values[0]), \n",
    "        \"Max Number Rating Reader\": int(max_ratings_reader.values[0]), \n",
    "        \"Min Number Rating Reader\": int(min_ratings_reader.values[0]), \n",
    "        \"Mean Number Rating Reader\": int(mean_ratings_reader.values[0]), \n",
    "        \"Number Readers Unique Rating\": reader_counter, \n",
    "    }, ignore_index=True)\n",
    "stats_dataframe.to_csv(stats_file_path, index=False)\n",
    "\n",
    "print(\"---------- STATS GENERATION COMPLETED ----------\")"
   ],
   "metadata": {
    "collapsed": false,
    "pycharm": {
     "name": "#%%\n",
     "is_executing": false
    }
   }
  },
  {
   "cell_type": "code",
   "execution_count": null,
   "outputs": [],
   "source": [
    "# Data generation for experiments\n",
    "\n",
    "# ------------------------------\n",
    "# -- EXP 1-A: DATA GENERATION --\n",
    "# ------------------------------\n",
    "\n",
    "print(\"---------- SPECIAL RATINGS STARTED ----------\")\n",
    "\n",
    "gaussian_beta_distributions = generated_configurations[\"2\"]\n",
    "papers_identifiers = gaussian_beta_distributions[\"papers_ids\"]\n",
    "for paper in papers_identifiers:\n",
    "    mean = (paper_distributions[paper][0]/(paper_distributions[paper][0] + paper_distributions[paper][1]))\n",
    "    SR1_rating_id = generated_ratings\n",
    "    SR1_reader = readers_number\n",
    "    SR1_paper = paper\n",
    "    SR1_rating_score = round(mean,2)\n",
    "    SR1_reader_label = \"SR#1\"\n",
    "    SR2_rating_id = generated_ratings+1\n",
    "    SR2_reader = readers_number+1\n",
    "    SR2_paper = paper\n",
    "    SR2_reader_label = \"SR#2\"\n",
    "    SR3_rating_id = generated_ratings+2\n",
    "    SR3_reader = readers_number+2\n",
    "    SR3_paper = paper\n",
    "    SR3_reader_label = \"SR#3\"\n",
    "    if mean <= 0.5:\n",
    "        SR2_rating_score = 0.01\n",
    "        SR3_rating_score = round(((1-mean)/2),2)\n",
    "    else:\n",
    "        SR2_rating_score = 1.0\n",
    "        SR3_rating_score = round((mean/2),2)\n",
    "    with open(ratings_file_path, mode='a', newline='') as ratings_file:\n",
    "        ratings_writer = csv.writer(ratings_file, delimiter=',', quotechar='\"', quoting=csv.QUOTE_MINIMAL)\n",
    "        ratings_writer.writerow([SR1_rating_id, SR1_reader, SR1_paper, SR1_rating_score, SR1_reader_label])\n",
    "        ratings_writer.writerow([SR2_rating_id, SR2_reader, SR2_paper, SR2_rating_score, SR2_reader_label])\n",
    "        ratings_writer.writerow([SR3_rating_id, SR3_reader, SR3_paper, SR3_rating_score, SR3_reader_label])\n",
    "    ratings_file.close()\n",
    "    generated_ratings = generated_ratings + 3\n",
    "ratings_number = generated_ratings\n",
    "readers_number = readers_number + 3\n",
    "    \n",
    "# Updating info file\n",
    "\n",
    "info_dataframe = pd.DataFrame(columns=[\"Dataset\", \"Paper\", \"Reader\", \"Rating\", \"Author\"])\n",
    "info_dataframe = info_dataframe.append(\n",
    "    {\n",
    "        \"Dataset\": dataset_name, \n",
    "        \"Paper\": papers_number, \n",
    "        \"Reader\": readers_number, \n",
    "        \"Rating\": ratings_number, \n",
    "        \"Author\": authors_number\n",
    "    }, ignore_index=True)\n",
    "info_dataframe.to_csv(info_file_path, index=False)\n",
    "\n",
    "print(\"---------- SPECIAL RATINGS COMPLETED  ----------\")"
   ],
   "metadata": {
    "collapsed": false,
    "pycharm": {
     "name": "#%%\n",
     "is_executing": false
    }
   }
  },
  {
   "cell_type": "code",
   "execution_count": null,
   "outputs": [],
   "source": [
    "# ------------------------------\n",
    "# -- EXP 1-B: DATA GENERATION --\n",
    "# ------------------------------\n",
    "\n",
    "print(\"---------- RATINGS SHUFFLING STARTED ----------\")\n",
    "\n",
    "if shuffling:\n",
    "    paper_ratings = pd.read_csv(ratings_file_path)\n",
    "    os.makedirs(dataset_shuffle_folder_path, exist_ok=True)\n",
    "    for s in range(shuffle_number):\n",
    "        c = 0\n",
    "        if s % 10 == 0:\n",
    "            print(\"{}/{} ({}/100%)\".format(s, shuffle_number, s))\n",
    "        current_shuffle_file_path = \"{}/shuffle_{}.csv\".format(dataset_shuffle_folder_path, s)\n",
    "        shuffled_papers_ratings = paper_ratings.sample(frac=1)\n",
    "        for i, row in shuffled_papers_ratings.iterrows():\n",
    "            shuffled_papers_ratings.at[i,'Timestamp'] = c\n",
    "            c  = c + 1\n",
    "        shuffled_papers_ratings.to_csv(current_shuffle_file_path, index=False, header=True, sep=\",\")\n",
    "    print(\"{}/{} (100/100%)\".format(shuffle_number, shuffle_number))\n",
    "    \n",
    "print(\"---------- RATINGS SHUFFLING COMPLETED ----------\")\n"
   ],
   "metadata": {
    "collapsed": false,
    "pycharm": {
     "name": "#%%\n",
     "is_executing": false
    }
   }
  },
  {
   "cell_type": "code",
   "execution_count": null,
   "outputs": [],
   "source": [],
   "metadata": {
    "collapsed": false,
    "pycharm": {
     "name": "#%%\n",
     "is_executing": false
    }
   }
  }
 ],
 "metadata": {
  "kernelspec": {
   "name": "python3",
   "language": "python",
   "display_name": "Python 3"
  },
  "language_info": {
   "codemirror_mode": {
    "name": "ipython",
    "version": 2
   },
   "file_extension": ".py",
   "mimetype": "text/x-python",
   "name": "python",
   "nbconvert_exporter": "python",
   "pygments_lexer": "ipython2",
   "version": "2.7.6"
  },
  "pycharm": {
   "stem_cell": {
    "cell_type": "raw",
    "source": [],
    "metadata": {
     "collapsed": false
    }
   }
  }
 },
 "nbformat": 4,
 "nbformat_minor": 0
}