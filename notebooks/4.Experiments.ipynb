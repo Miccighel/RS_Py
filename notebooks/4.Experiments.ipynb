{
 "cells": [
  {
   "cell_type": "code",
   "metadata": {
    "collapsed": true,
    "pycharm": {
     "is_executing": false
    },
    "ExecuteTime": {
     "end_time": "2024-11-18T22:43:27.767327Z",
     "start_time": "2024-11-18T22:43:27.711200Z"
    }
   },
   "source": [
    "import pandas as pd\n",
    "import os\n",
    "from matplotlib import pyplot as plt\n",
    "import seaborn as sns\n",
    "from ReadersourcingToolkit import ReadersourcingToolkit\n",
    "import numpy as np\n",
    "import math\n",
    "from scipy.stats.stats import pearsonr\n",
    "from scipy.stats.stats import kendalltau\n",
    "from scipy.stats.stats import gmean\n",
    "%load_ext autoreload\n",
    "%autoreload 2"
   ],
   "outputs": [
    {
     "name": "stdout",
     "output_type": "stream",
     "text": [
      "The autoreload extension is already loaded. To reload it, use:\n",
      "  %reload_ext autoreload\n"
     ]
    },
    {
     "name": "stderr",
     "output_type": "stream",
     "text": [
      "C:\\Users\\micha\\AppData\\Local\\Temp\\ipykernel_7568\\909229289.py:8: DeprecationWarning: Please import `pearsonr` from the `scipy.stats` namespace; the `scipy.stats.stats` namespace is deprecated and will be removed in SciPy 2.0.0.\n",
      "  from scipy.stats.stats import pearsonr\n",
      "C:\\Users\\micha\\AppData\\Local\\Temp\\ipykernel_7568\\909229289.py:9: DeprecationWarning: Please import `kendalltau` from the `scipy.stats` namespace; the `scipy.stats.stats` namespace is deprecated and will be removed in SciPy 2.0.0.\n",
      "  from scipy.stats.stats import kendalltau\n",
      "C:\\Users\\micha\\AppData\\Local\\Temp\\ipykernel_7568\\909229289.py:10: DeprecationWarning: Please import `gmean` from the `scipy.stats` namespace; the `scipy.stats.stats` namespace is deprecated and will be removed in SciPy 2.0.0.\n",
      "  from scipy.stats.stats import gmean\n"
     ]
    }
   ],
   "execution_count": 11
  },
  {
   "cell_type": "code",
   "source": [
    "# ------------------------------\n",
    "# ---------- EXP 1-A -----------\n",
    "# ------------------------------\n",
    "\n",
    "# Analizzo l'andamento degli score di tre reader \"speciali\" per X shuffle dei rating di un dato seed.\n",
    "# Reader 1 vota sempre nel modo \"esatto\" (sulla media). \n",
    "# Reader 2 vota sempre a metà scala rispetto a 1001.\n",
    "# Reader 3 vota sempre sugli estremi.\n",
    "# L'ordinamento desiderato degli score è Reader 1 -> Reader 2 -> Reader 3 (decrescente)\n",
    "\n",
    "seed = ReadersourcingToolkit(\n",
    "    dataset_name=\"seed_power_law_1\", \n",
    "    dataset_folder_path=\"../data/{}/\", \n",
    "    data_shuffled=True, \n",
    "    current_shuffle = 0,\n",
    "    shuffle_amount=100,\n",
    "    shuffle_special = True\n",
    ")\n",
    "\n",
    "# Plot parameters\n",
    "\n",
    "linesize = .75\n",
    "jitter = .2\n",
    "alpha = .6\n",
    "linewidth = .6\n",
    "size = 5\n",
    "flatue = {'-1': '#bfbfbf',\n",
    "          '0':'#932727',\n",
    "          '1':'#ffa303', \n",
    "          '2':'#27279f',\n",
    "          '3':'#49e7ff'}\n",
    "\n",
    "shuffle_perc = 100\n",
    "papers_perc = 100\n",
    "readers_perc = 100\n",
    "\n",
    "# Paths\n",
    "\n",
    "result_folder_experiments_path = \"{}/experiments/\".format(seed.result_folder_base_path)\n",
    "result_folder_exp_1_a_path = \"{}/experiment_1-a/\".format(result_folder_experiments_path)\n",
    "os.makedirs(result_folder_experiments_path, exist_ok=True)\n",
    "os.makedirs(result_folder_exp_1_a_path, exist_ok=True)"
   ],
   "metadata": {
    "collapsed": false,
    "pycharm": {
     "name": "#%%\n",
     "is_executing": false
    },
    "ExecuteTime": {
     "end_time": "2024-11-18T22:41:53.594801Z",
     "start_time": "2024-11-18T22:41:53.529078Z"
    }
   },
   "outputs": [],
   "execution_count": 6
  },
  {
   "cell_type": "code",
   "source": [
    "df = seed.build_quantity_df_shuffle(\"Reader Score\", shuffle_perc, readers_perc)\n",
    "\n",
    "readers_number = df[df[\"Shuffle\"] == 0].shape[0]\n",
    "\n",
    "df = df[\n",
    "    (df[\"Identifier\"] == readers_number-1) |\n",
    "    (df[\"Identifier\"] == readers_number-2) |\n",
    "    (df[\"Identifier\"] == readers_number-3) \n",
    "]\n",
    "\n",
    "df['Identifier'][df['Identifier'] == readers_number-3] = \"Reader \\\"Good\\\"\"\n",
    "df['Identifier'][df['Identifier'] == readers_number-2] = \"Reader \\\"Bad\\\"\"\n",
    "df['Identifier'][df['Identifier'] == readers_number-1] = \"Reader \\\"Average\\\"\""
   ],
   "metadata": {
    "collapsed": false,
    "pycharm": {
     "name": "#%%\n",
     "is_executing": false
    },
    "ExecuteTime": {
     "end_time": "2024-11-18T22:43:33.291579Z",
     "start_time": "2024-11-18T22:43:33.225482Z"
    }
   },
   "outputs": [
    {
     "name": "stdout",
     "output_type": "stream",
     "text": [
      "0/0 (100/100%)\n"
     ]
    },
    {
     "name": "stderr",
     "output_type": "stream",
     "text": [
      "C:\\Users\\micha\\AppData\\Local\\Temp\\ipykernel_7568\\2165778046.py:11: FutureWarning: ChainedAssignmentError: behaviour will change in pandas 3.0!\n",
      "You are setting values through chained assignment. Currently this works in certain cases, but when using Copy-on-Write (which will become the default behaviour in pandas 3.0) this will never work to update the original DataFrame or Series, because the intermediate object on which we are setting values will behave as a copy.\n",
      "A typical example is when you are setting values in a column of a DataFrame, like:\n",
      "\n",
      "df[\"col\"][row_indexer] = value\n",
      "\n",
      "Use `df.loc[row_indexer, \"col\"] = values` instead, to perform the assignment in a single step and ensure this keeps updating the original `df`.\n",
      "\n",
      "See the caveats in the documentation: https://pandas.pydata.org/pandas-docs/stable/user_guide/indexing.html#returning-a-view-versus-a-copy\n",
      "\n",
      "  df['Identifier'][df['Identifier'] == readers_number-3] = \"Reader \\\"Good\\\"\"\n",
      "C:\\Users\\micha\\AppData\\Local\\Temp\\ipykernel_7568\\2165778046.py:11: SettingWithCopyWarning: \n",
      "A value is trying to be set on a copy of a slice from a DataFrame\n",
      "\n",
      "See the caveats in the documentation: https://pandas.pydata.org/pandas-docs/stable/user_guide/indexing.html#returning-a-view-versus-a-copy\n",
      "  df['Identifier'][df['Identifier'] == readers_number-3] = \"Reader \\\"Good\\\"\"\n",
      "C:\\Users\\micha\\AppData\\Local\\Temp\\ipykernel_7568\\2165778046.py:12: FutureWarning: ChainedAssignmentError: behaviour will change in pandas 3.0!\n",
      "You are setting values through chained assignment. Currently this works in certain cases, but when using Copy-on-Write (which will become the default behaviour in pandas 3.0) this will never work to update the original DataFrame or Series, because the intermediate object on which we are setting values will behave as a copy.\n",
      "A typical example is when you are setting values in a column of a DataFrame, like:\n",
      "\n",
      "df[\"col\"][row_indexer] = value\n",
      "\n",
      "Use `df.loc[row_indexer, \"col\"] = values` instead, to perform the assignment in a single step and ensure this keeps updating the original `df`.\n",
      "\n",
      "See the caveats in the documentation: https://pandas.pydata.org/pandas-docs/stable/user_guide/indexing.html#returning-a-view-versus-a-copy\n",
      "\n",
      "  df['Identifier'][df['Identifier'] == readers_number-2] = \"Reader \\\"Bad\\\"\"\n",
      "C:\\Users\\micha\\AppData\\Local\\Temp\\ipykernel_7568\\2165778046.py:12: SettingWithCopyWarning: \n",
      "A value is trying to be set on a copy of a slice from a DataFrame\n",
      "\n",
      "See the caveats in the documentation: https://pandas.pydata.org/pandas-docs/stable/user_guide/indexing.html#returning-a-view-versus-a-copy\n",
      "  df['Identifier'][df['Identifier'] == readers_number-2] = \"Reader \\\"Bad\\\"\"\n",
      "C:\\Users\\micha\\AppData\\Local\\Temp\\ipykernel_7568\\2165778046.py:13: FutureWarning: ChainedAssignmentError: behaviour will change in pandas 3.0!\n",
      "You are setting values through chained assignment. Currently this works in certain cases, but when using Copy-on-Write (which will become the default behaviour in pandas 3.0) this will never work to update the original DataFrame or Series, because the intermediate object on which we are setting values will behave as a copy.\n",
      "A typical example is when you are setting values in a column of a DataFrame, like:\n",
      "\n",
      "df[\"col\"][row_indexer] = value\n",
      "\n",
      "Use `df.loc[row_indexer, \"col\"] = values` instead, to perform the assignment in a single step and ensure this keeps updating the original `df`.\n",
      "\n",
      "See the caveats in the documentation: https://pandas.pydata.org/pandas-docs/stable/user_guide/indexing.html#returning-a-view-versus-a-copy\n",
      "\n",
      "  df['Identifier'][df['Identifier'] == readers_number-1] = \"Reader \\\"Average\\\"\"\n",
      "C:\\Users\\micha\\AppData\\Local\\Temp\\ipykernel_7568\\2165778046.py:13: SettingWithCopyWarning: \n",
      "A value is trying to be set on a copy of a slice from a DataFrame\n",
      "\n",
      "See the caveats in the documentation: https://pandas.pydata.org/pandas-docs/stable/user_guide/indexing.html#returning-a-view-versus-a-copy\n",
      "  df['Identifier'][df['Identifier'] == readers_number-1] = \"Reader \\\"Average\\\"\"\n"
     ]
    }
   ],
   "execution_count": 12
  },
  {
   "cell_type": "code",
   "source": [
    "with plt.rc_context({'lines.linewidth': linesize}):\n",
    "   ax = sns.stripplot(x = \"Identifier\", y = \"Quantity\", hue=\"Shuffle\", data = df, \n",
    "                      alpha = .85, size=8, marker=\"$\\circ$\", palette=\"deep\", \n",
    "                      order=[\"Reader \\\"Bad\\\"\", \"Reader \\\"Average\\\"\", \"Reader \\\"Good\\\"\"])\n",
    "   ax.legend_.remove() \n",
    "   ax.set_title(f\"Reader Score\")\n",
    "   fig = ax.get_figure()\n",
    "   path = \"{}/reader-score.pdf\".format(result_folder_exp_1_a_path)\n",
    "   fig.savefig(path, bbox_inches='tight')\n",
    "   plt.close(fig)"
   ],
   "metadata": {
    "collapsed": false,
    "pycharm": {
     "name": "#%%\n",
     "is_executing": false
    },
    "ExecuteTime": {
     "end_time": "2024-11-18T22:43:38.719577Z",
     "start_time": "2024-11-18T22:43:38.508043Z"
    }
   },
   "outputs": [
    {
     "ename": "AttributeError",
     "evalue": "'NoneType' object has no attribute 'remove'",
     "output_type": "error",
     "traceback": [
      "\u001B[1;31m---------------------------------------------------------------------------\u001B[0m",
      "\u001B[1;31mAttributeError\u001B[0m                            Traceback (most recent call last)",
      "Cell \u001B[1;32mIn[13], line 5\u001B[0m\n\u001B[0;32m      1\u001B[0m \u001B[38;5;28;01mwith\u001B[39;00m plt\u001B[38;5;241m.\u001B[39mrc_context({\u001B[38;5;124m'\u001B[39m\u001B[38;5;124mlines.linewidth\u001B[39m\u001B[38;5;124m'\u001B[39m: linesize}):\n\u001B[0;32m      2\u001B[0m    ax \u001B[38;5;241m=\u001B[39m sns\u001B[38;5;241m.\u001B[39mstripplot(x \u001B[38;5;241m=\u001B[39m \u001B[38;5;124m\"\u001B[39m\u001B[38;5;124mIdentifier\u001B[39m\u001B[38;5;124m\"\u001B[39m, y \u001B[38;5;241m=\u001B[39m \u001B[38;5;124m\"\u001B[39m\u001B[38;5;124mQuantity\u001B[39m\u001B[38;5;124m\"\u001B[39m, hue\u001B[38;5;241m=\u001B[39m\u001B[38;5;124m\"\u001B[39m\u001B[38;5;124mShuffle\u001B[39m\u001B[38;5;124m\"\u001B[39m, data \u001B[38;5;241m=\u001B[39m df, \n\u001B[0;32m      3\u001B[0m                       alpha \u001B[38;5;241m=\u001B[39m \u001B[38;5;241m.85\u001B[39m, size\u001B[38;5;241m=\u001B[39m\u001B[38;5;241m8\u001B[39m, marker\u001B[38;5;241m=\u001B[39m\u001B[38;5;124m\"\u001B[39m\u001B[38;5;124m$\u001B[39m\u001B[38;5;124m\\\u001B[39m\u001B[38;5;124mcirc$\u001B[39m\u001B[38;5;124m\"\u001B[39m, palette\u001B[38;5;241m=\u001B[39m\u001B[38;5;124m\"\u001B[39m\u001B[38;5;124mdeep\u001B[39m\u001B[38;5;124m\"\u001B[39m, \n\u001B[0;32m      4\u001B[0m                       order\u001B[38;5;241m=\u001B[39m[\u001B[38;5;124m\"\u001B[39m\u001B[38;5;124mReader \u001B[39m\u001B[38;5;130;01m\\\"\u001B[39;00m\u001B[38;5;124mBad\u001B[39m\u001B[38;5;130;01m\\\"\u001B[39;00m\u001B[38;5;124m\"\u001B[39m, \u001B[38;5;124m\"\u001B[39m\u001B[38;5;124mReader \u001B[39m\u001B[38;5;130;01m\\\"\u001B[39;00m\u001B[38;5;124mAverage\u001B[39m\u001B[38;5;130;01m\\\"\u001B[39;00m\u001B[38;5;124m\"\u001B[39m, \u001B[38;5;124m\"\u001B[39m\u001B[38;5;124mReader \u001B[39m\u001B[38;5;130;01m\\\"\u001B[39;00m\u001B[38;5;124mGood\u001B[39m\u001B[38;5;130;01m\\\"\u001B[39;00m\u001B[38;5;124m\"\u001B[39m])\n\u001B[1;32m----> 5\u001B[0m    \u001B[43max\u001B[49m\u001B[38;5;241;43m.\u001B[39;49m\u001B[43mlegend_\u001B[49m\u001B[38;5;241;43m.\u001B[39;49m\u001B[43mremove\u001B[49m() \n\u001B[0;32m      6\u001B[0m    ax\u001B[38;5;241m.\u001B[39mset_title(\u001B[38;5;124mf\u001B[39m\u001B[38;5;124m\"\u001B[39m\u001B[38;5;124mReader Score\u001B[39m\u001B[38;5;124m\"\u001B[39m)\n\u001B[0;32m      7\u001B[0m    fig \u001B[38;5;241m=\u001B[39m ax\u001B[38;5;241m.\u001B[39mget_figure()\n",
      "\u001B[1;31mAttributeError\u001B[0m: 'NoneType' object has no attribute 'remove'"
     ]
    },
    {
     "data": {
      "text/plain": [
       "<Figure size 640x480 with 1 Axes>"
      ],
      "image/png": "[encoded data removed]"
     },
     "metadata": {},
     "output_type": "display_data"
    }
   ],
   "execution_count": 13
  },
  {
   "cell_type": "code",
   "source": [
    "# ------------------------------\n",
    "# ---------- EXP 1-B -----------\n",
    "# ------------------------------\n",
    "\n",
    "# Analizzo le quantità calcolate da Readersourcing per X shuffle dei rating di un dato seed.\n",
    "# Per ciascuna quantità viene costruito un grafico che mostra i valori della quantità corrente per ciascuno shuffle.\n",
    "\n",
    "seed = ReadersourcingToolkit(\n",
    "    dataset_name=\"seed_power_law_1\", \n",
    "    dataset_folder_path=\"../data/{}/\", \n",
    "    data_shuffled=True, \n",
    "    current_shuffle = 0,\n",
    "    shuffle_amount=100\n",
    ")\n",
    "\n",
    "# Plot parameters\n",
    "\n",
    "linesize = .75\n",
    "jitter = .2\n",
    "alpha = .6\n",
    "linewidth = .6\n",
    "size = 5\n",
    "flatue = {'-1': '#bfbfbf',\n",
    "          '0':'#932727',\n",
    "          '1':'#ffa303', \n",
    "          '2':'#27279f',\n",
    "          '3':'#49e7ff'}\n",
    "\n",
    "shuffle_perc = 100\n",
    "papers_perc = 100\n",
    "readers_perc = 100\n",
    "\n",
    "# Paths\n",
    "\n",
    "result_folder_experiments_path = \"{}/experiments/\".format(seed.result_folder_base_path)\n",
    "result_folder_exp_1_b_path = \"{}/experiment_1-b/\".format(result_folder_experiments_path)\n",
    "os.makedirs(result_folder_experiments_path, exist_ok=True)\n",
    "os.makedirs(result_folder_exp_1_b_path, exist_ok=True)"
   ],
   "metadata": {
    "collapsed": false,
    "pycharm": {
     "name": "#%%\n",
     "is_executing": false
    },
    "ExecuteTime": {
     "end_time": "2024-11-18T22:43:46.254336Z",
     "start_time": "2024-11-18T22:43:46.196040Z"
    }
   },
   "outputs": [],
   "execution_count": 14
  },
  {
   "cell_type": "code",
   "source": [
    "print(\"---------- BUILDING PAPER SCORE PLOTS ----------\")\n",
    "\n",
    "df_paper_score = seed.build_quantity_df_shuffle(\"Paper Score\", shuffle_perc, papers_perc, True)\n",
    "df_paper_score.to_pickle(\"{}df-paper-score.pkl\".format(result_folder_exp_1_b_path))\n",
    "\n",
    "df_std = df_paper_score.groupby('Identifier').agg(\"std\")\n",
    "df_std.sort_values(by=\"Quantity\", ascending=False, inplace=True)\n",
    "identifiers = df_std.head(15).index\n",
    "df_top_std_paper_score = df_paper_score.loc[df_paper_score[\"Identifier\"].isin(identifiers)]\n",
    "df_top_std_paper_score.to_pickle(\"{}df-top-15-std-paper-score.pkl\".format(result_folder_exp_1_b_path))\n",
    "print(\"Final Shape: {}\".format(df_top_std_paper_score.shape))"
   ],
   "metadata": {
    "collapsed": false,
    "pycharm": {
     "name": "#%%\n",
     "is_executing": false
    },
    "ExecuteTime": {
     "end_time": "2024-11-18T22:44:27.982772Z",
     "start_time": "2024-11-18T22:44:27.610250Z"
    }
   },
   "outputs": [
    {
     "name": "stdout",
     "output_type": "stream",
     "text": [
      "---------- BUILDING PAPER SCORE PLOTS ----------\n",
      "0/100 (0/100%)\n",
      "5/100 (5/100%)\n",
      "10/100 (10/100%)\n",
      "15/100 (15/100%)\n",
      "20/100 (20/100%)\n",
      "25/100 (25/100%)\n",
      "30/100 (30/100%)\n",
      "35/100 (35/100%)\n",
      "40/100 (40/100%)\n",
      "45/100 (45/100%)\n",
      "50/100 (50/100%)\n",
      "55/100 (55/100%)\n",
      "60/100 (60/100%)\n",
      "65/100 (65/100%)\n",
      "70/100 (70/100%)\n",
      "75/100 (75/100%)\n",
      "80/100 (80/100%)\n",
      "85/100 (85/100%)\n",
      "90/100 (90/100%)\n",
      "95/100 (95/100%)\n",
      "100/100 (100/100%)\n",
      "Final Shape: (15, 3)\n"
     ]
    }
   ],
   "execution_count": 16
  },
  {
   "cell_type": "code",
   "source": [
    "with plt.rc_context({'lines.linewidth': linesize}):\n",
    "    ax = sns.stripplot(x = \"Identifier\", y = \"Quantity\", hue=\"Shuffle\", data = df_top_std_paper_score,\n",
    "                  dodge = True, jitter = jitter, alpha = .75, size=5, marker=\"$\\circ$\",\n",
    "                       palette=\"deep\")\n",
    "    ax.legend_.remove()\n",
    "    ax = sns.boxplot(x = \"Identifier\", y = \"Quantity\", data = df_top_std_paper_score, \n",
    "                     boxprops = dict(facecolor = '#FFFFFF', alpha=.75))   \n",
    "    ax.set_title(f\"Paper Score\")\n",
    "    ax.set_xticklabels(ax.get_xticklabels(), rotation=45)\n",
    "    fig = ax.get_figure()\n",
    "    path = \"{}/paper-score.pdf\".format(result_folder_exp_1_b_path)\n",
    "    fig.savefig(path, bbox_inches='tight')\n",
    "    plt.close(fig)\n",
    "\n",
    "print(\"---------- PAPER SCORE PLOTS BUILDING COMPLETED ----------\")"
   ],
   "metadata": {
    "collapsed": false,
    "pycharm": {
     "name": "#%%\n",
     "is_executing": false
    },
    "ExecuteTime": {
     "end_time": "2024-11-18T22:44:32.033836Z",
     "start_time": "2024-11-18T22:44:30.815820Z"
    }
   },
   "outputs": [
    {
     "name": "stderr",
     "output_type": "stream",
     "text": [
      "C:\\Users\\micha\\AppData\\Local\\Temp\\ipykernel_7568\\2861740126.py:9: UserWarning: set_ticklabels() should only be used with a fixed number of ticks, i.e. after set_ticks() or using a FixedLocator.\n",
      "  ax.set_xticklabels(ax.get_xticklabels(), rotation=45)\n"
     ]
    },
    {
     "name": "stdout",
     "output_type": "stream",
     "text": [
      "---------- PAPER SCORE PLOTS BUILDING COMPLETED ----------\n"
     ]
    }
   ],
   "execution_count": 17
  },
  {
   "cell_type": "code",
   "source": [
    "print(\"---------- BUILDING PAPER STEADINESS PLOTS ----------\")\n",
    "\n",
    "df_paper_steadiness = seed.build_quantity_df_shuffle(\"Paper Steadiness\", shuffle_perc, papers_perc, True)\n",
    "df_paper_steadiness.to_pickle(\"{}df-paper-steadiness.pkl\".format(result_folder_exp_1_b_path))\n",
    "\n",
    "df_std = df_paper_steadiness.groupby('Identifier').agg(\"std\")\n",
    "df_std.sort_values(by=\"Quantity\", ascending=False, inplace=True)\n",
    "identifiers = df_std.head(15).index\n",
    "df_top_std_paper_steadiness = df_paper_steadiness.loc[df_paper_steadiness[\"Identifier\"].isin(identifiers)]\n",
    "df_top_std_paper_steadiness.to_pickle(\"{}df-top-15-std-paper-steadiness.pkl\".format(result_folder_exp_1_b_path))\n",
    "print(\"Final Shape: {}\".format(df_top_std_paper_steadiness.shape))"
   ],
   "metadata": {
    "collapsed": false,
    "pycharm": {
     "name": "#%%\n",
     "is_executing": false
    },
    "ExecuteTime": {
     "end_time": "2024-11-18T22:44:34.496514Z",
     "start_time": "2024-11-18T22:44:34.129825Z"
    }
   },
   "outputs": [
    {
     "name": "stdout",
     "output_type": "stream",
     "text": [
      "---------- BUILDING PAPER STEADINESS PLOTS ----------\n",
      "0/100 (0/100%)\n",
      "5/100 (5/100%)\n",
      "10/100 (10/100%)\n",
      "15/100 (15/100%)\n",
      "20/100 (20/100%)\n",
      "25/100 (25/100%)\n",
      "30/100 (30/100%)\n",
      "35/100 (35/100%)\n",
      "40/100 (40/100%)\n",
      "45/100 (45/100%)\n",
      "50/100 (50/100%)\n",
      "55/100 (55/100%)\n",
      "60/100 (60/100%)\n",
      "65/100 (65/100%)\n",
      "70/100 (70/100%)\n",
      "75/100 (75/100%)\n",
      "80/100 (80/100%)\n",
      "85/100 (85/100%)\n",
      "90/100 (90/100%)\n",
      "95/100 (95/100%)\n",
      "100/100 (100/100%)\n",
      "Final Shape: (15, 3)\n"
     ]
    }
   ],
   "execution_count": 18
  },
  {
   "cell_type": "code",
   "source": [
    "with plt.rc_context({'lines.linewidth': linesize}):\n",
    "    ax = sns.stripplot(x = \"Identifier\", y = \"Quantity\", hue=\"Shuffle\", data = df_top_std_paper_steadiness,\n",
    "                  dodge = True, jitter = jitter, alpha = .75, size=5, marker=\"$\\circ$\",\n",
    "                       palette=\"deep\")\n",
    "    ax.legend_.remove()\n",
    "    ax = sns.boxplot(x = \"Identifier\", y = \"Quantity\", data = df_top_std_paper_steadiness, \n",
    "                     boxprops = dict(facecolor = '#FFFFFF', alpha=.75))   \n",
    "    ax.set_title(f\"Paper Steadiness\")\n",
    "    ax.set_xticklabels(ax.get_xticklabels(), rotation=45)\n",
    "    fig = ax.get_figure()\n",
    "    path = \"{}/paper-steadiness.pdf\".format(result_folder_exp_1_b_path)\n",
    "    fig.savefig(path, bbox_inches='tight')\n",
    "    plt.close(fig)\n",
    "   \n",
    "print(\"---------- PAPER STEADINESS PLOTS BUILDING COMPLETED ----------\")"
   ],
   "metadata": {
    "collapsed": false,
    "pycharm": {
     "name": "#%%\n",
     "is_executing": false
    },
    "ExecuteTime": {
     "end_time": "2024-11-18T22:44:36.620847Z",
     "start_time": "2024-11-18T22:44:35.867335Z"
    }
   },
   "outputs": [
    {
     "name": "stderr",
     "output_type": "stream",
     "text": [
      "C:\\Users\\micha\\AppData\\Local\\Temp\\ipykernel_7568\\1814752108.py:9: UserWarning: set_ticklabels() should only be used with a fixed number of ticks, i.e. after set_ticks() or using a FixedLocator.\n",
      "  ax.set_xticklabels(ax.get_xticklabels(), rotation=45)\n"
     ]
    },
    {
     "name": "stdout",
     "output_type": "stream",
     "text": [
      "---------- PAPER STEADINESS PLOTS BUILDING COMPLETED ----------\n"
     ]
    }
   ],
   "execution_count": 19
  },
  {
   "cell_type": "code",
   "source": [
    "print(\"---------- BUILDING READER SCORE PLOTS ----------\")\n",
    "\n",
    "df_reader_score = seed.build_quantity_df_shuffle(\"Reader Score\", shuffle_perc, readers_perc, True)\n",
    "df_reader_score.to_pickle(\"{}df-reader-score.pkl\".format(result_folder_exp_1_b_path))\n",
    "\n",
    "df_std = df_reader_score.groupby('Identifier').agg(\"std\")\n",
    "df_std.sort_values(by=\"Quantity\", ascending=False, inplace=True)\n",
    "identifiers = df_std.head(15).index\n",
    "df_top_std_reader_score = df_reader_score.loc[df_reader_score[\"Identifier\"].isin(identifiers)]\n",
    "df_top_std_reader_score.to_pickle(\"{}df-top-15-std-reader-score.pkl\".format(result_folder_exp_1_b_path))\n",
    "print(\"Final Shape: {}\".format(df_top_std_reader_score.shape))"
   ],
   "metadata": {
    "collapsed": false,
    "pycharm": {
     "name": "#%%\n",
     "is_executing": false
    },
    "ExecuteTime": {
     "end_time": "2024-11-18T22:44:37.847767Z",
     "start_time": "2024-11-18T22:44:37.478363Z"
    }
   },
   "outputs": [
    {
     "name": "stdout",
     "output_type": "stream",
     "text": [
      "---------- BUILDING READER SCORE PLOTS ----------\n",
      "0/100 (0/100%)\n",
      "5/100 (5/100%)\n",
      "10/100 (10/100%)\n",
      "15/100 (15/100%)\n",
      "20/100 (20/100%)\n",
      "25/100 (25/100%)\n",
      "30/100 (30/100%)\n",
      "35/100 (35/100%)\n",
      "40/100 (40/100%)\n",
      "45/100 (45/100%)\n",
      "50/100 (50/100%)\n",
      "55/100 (55/100%)\n",
      "60/100 (60/100%)\n",
      "65/100 (65/100%)\n",
      "70/100 (70/100%)\n",
      "75/100 (75/100%)\n",
      "80/100 (80/100%)\n",
      "85/100 (85/100%)\n",
      "90/100 (90/100%)\n",
      "95/100 (95/100%)\n",
      "100/100 (100/100%)\n",
      "Final Shape: (15, 3)\n"
     ]
    }
   ],
   "execution_count": 20
  },
  {
   "cell_type": "code",
   "source": [
    "with plt.rc_context({'lines.linewidth': linesize}):\n",
    "    ax = sns.stripplot(x = \"Identifier\", y = \"Quantity\", hue=\"Shuffle\", data = df_top_std_reader_score,\n",
    "                  dodge = True, jitter = jitter, alpha = .75, size=5, marker=\"$\\circ$\",\n",
    "                       palette=\"deep\")\n",
    "    ax.legend_.remove()\n",
    "    ax = sns.boxplot(x = \"Identifier\", y = \"Quantity\", data = df_top_std_reader_score, \n",
    "                     boxprops = dict(facecolor = '#FFFFFF', alpha=.75))   \n",
    "    ax.set_title(\"Reader Score\")\n",
    "    ax.set_xticklabels(ax.get_xticklabels(), rotation=45)\n",
    "    fig = ax.get_figure()\n",
    "    path = \"{}/reader-score.pdf\".format(result_folder_exp_1_b_path)\n",
    "    fig.savefig(path, bbox_inches='tight')\n",
    "    plt.close(fig)\n",
    "   \n",
    "print(\"---------- READER SCORE PLOTS BUILDING COMPLETED ----------\")"
   ],
   "metadata": {
    "collapsed": false,
    "pycharm": {
     "name": "#%%\n",
     "is_executing": false
    },
    "ExecuteTime": {
     "end_time": "2024-11-18T22:44:39.685370Z",
     "start_time": "2024-11-18T22:44:38.919378Z"
    }
   },
   "outputs": [
    {
     "name": "stderr",
     "output_type": "stream",
     "text": [
      "C:\\Users\\micha\\AppData\\Local\\Temp\\ipykernel_7568\\2515156639.py:9: UserWarning: set_ticklabels() should only be used with a fixed number of ticks, i.e. after set_ticks() or using a FixedLocator.\n",
      "  ax.set_xticklabels(ax.get_xticklabels(), rotation=45)\n"
     ]
    },
    {
     "name": "stdout",
     "output_type": "stream",
     "text": [
      "---------- READER SCORE PLOTS BUILDING COMPLETED ----------\n"
     ]
    }
   ],
   "execution_count": 21
  },
  {
   "cell_type": "code",
   "source": [
    "print(\"---------- BUILDING READER STEADINESS PLOTS ----------\")\n",
    "\n",
    "df_reader_steadiness = seed.build_quantity_df_shuffle(\"Reader Steadiness\", shuffle_perc, readers_perc, True)\n",
    "df_reader_steadiness.to_pickle(\"{}df-reader-steadiness.pkl\".format(result_folder_exp_1_b_path))\n",
    "\n",
    "df_std = df_reader_steadiness.groupby('Identifier').agg(\"std\")\n",
    "df_std.sort_values(by=\"Quantity\", ascending=False, inplace=True)\n",
    "identifiers = df_std.head(15).index\n",
    "df_top_std_reader_steadiness = df_reader_steadiness.loc[df_reader_steadiness[\"Identifier\"].isin(identifiers)]\n",
    "df_top_std_reader_steadiness.to_pickle(\"{}df-top-15-std-reader-steadiness.pkl\".format(result_folder_exp_1_b_path))\n",
    "print(\"Final Shape: {}\".format(df_top_std_reader_score.shape))"
   ],
   "metadata": {
    "collapsed": false,
    "pycharm": {
     "name": "#%%\n",
     "is_executing": false
    },
    "ExecuteTime": {
     "end_time": "2024-11-18T22:44:40.571358Z",
     "start_time": "2024-11-18T22:44:40.232841Z"
    }
   },
   "outputs": [
    {
     "name": "stdout",
     "output_type": "stream",
     "text": [
      "---------- BUILDING READER STEADINESS PLOTS ----------\n",
      "0/100 (0/100%)\n",
      "5/100 (5/100%)\n",
      "10/100 (10/100%)\n",
      "15/100 (15/100%)\n",
      "20/100 (20/100%)\n",
      "25/100 (25/100%)\n",
      "30/100 (30/100%)\n",
      "35/100 (35/100%)\n",
      "40/100 (40/100%)\n",
      "45/100 (45/100%)\n",
      "50/100 (50/100%)\n",
      "55/100 (55/100%)\n",
      "60/100 (60/100%)\n",
      "65/100 (65/100%)\n",
      "70/100 (70/100%)\n",
      "75/100 (75/100%)\n",
      "80/100 (80/100%)\n",
      "85/100 (85/100%)\n",
      "90/100 (90/100%)\n",
      "95/100 (95/100%)\n",
      "100/100 (100/100%)\n",
      "Final Shape: (15, 3)\n"
     ]
    }
   ],
   "execution_count": 22
  },
  {
   "cell_type": "code",
   "execution_count": 67,
   "outputs": [
    {
     "name": "stdout",
     "text": [
      "---------- READER STEADINESS PLOTS BUILDING COMPLETED ----------\n"
     ],
     "output_type": "stream"
    }
   ],
   "source": [
    "with plt.rc_context({'lines.linewidth': linesize}):\n",
    "    ax = sns.stripplot(x = \"Identifier\", y = \"Quantity\", hue=\"Shuffle\", data = df_top_std_reader_steadiness,\n",
    "                  dodge = True, jitter = jitter, alpha = .75, size=5, marker=\"$\\circ$\",\n",
    "                       palette=\"deep\")\n",
    "    ax.legend_.remove()\n",
    "    ax = sns.boxplot(x = \"Identifier\", y = \"Quantity\", data = df_top_std_reader_steadiness, \n",
    "                     boxprops = dict(facecolor = '#FFFFFF', alpha=.75))   \n",
    "    ax.set_title(\"Reader Steadiness\")\n",
    "    ax.set_xticklabels(ax.get_xticklabels(), rotation=45)\n",
    "    fig = ax.get_figure()\n",
    "    path = \"{}/reader-steadiness.pdf\".format(result_folder_exp_1_b_path)\n",
    "    fig.savefig(path, bbox_inches='tight')\n",
    "    plt.close(fig)\n",
    "    \n",
    "print(\"---------- READER STEADINESS PLOTS BUILDING COMPLETED ----------\")"
   ],
   "metadata": {
    "collapsed": false,
    "pycharm": {
     "name": "#%%\n",
     "is_executing": false
    }
   }
  },
  {
   "cell_type": "code",
   "source": [
    "# ------------------------------\n",
    "# ---------- EXP 1-C -----------\n",
    "# ------------------------------\n",
    "\n",
    "# Le quantità calcolate da Readersourcing vengono comparate con la loro media aritmetica, geometrica, bayesiana e con la mediana.\n",
    "# Gli indici standard vengono calcolati sui giudizi ricevuti da ciascun Paper e sui giudizi assegnati da ciascun Reader.\n",
    "\n",
    "seed = ReadersourcingToolkit(\n",
    "    dataset_name=\"seed_power_law_1\", \n",
    "    dataset_folder_path=\"../data/{}/\", \n",
    ")\n",
    "\n",
    "# Plot parameters\n",
    "\n",
    "linesize = .75\n",
    "    \n",
    "# Paths\n",
    "\n",
    "result_folder_experiments_path = \"{}/experiments/\".format(seed.result_folder_base_path)\n",
    "result_folder_exp_1_c_path = \"{}/experiment_1-c/\".format(result_folder_experiments_path)\n",
    "os.makedirs(result_folder_experiments_path, exist_ok=True)\n",
    "os.makedirs(result_folder_exp_1_c_path, exist_ok=True)\n",
    "\n",
    "# Core Functions\n",
    "\n",
    "def compute_means(raw_df, quantity_df, quantity_label, axis):\n",
    "    \n",
    "    raw_df.replace(0, np.nan, inplace=True)\n",
    "        \n",
    "    mean_df = pd.DataFrame(columns=[quantity_label])\n",
    "    mean_df[quantity_label] = quantity_df[\"Quantity\"]\n",
    "    mean_df[\"Arithmetic Mean\"] = raw_df.mean(axis=axis)\n",
    "    mean_df[\"Geometric Mean\"] = np.exp(np.log(raw_df.prod(axis=axis))/raw_df.notna().sum(axis))\n",
    "    mean_df[\"Median\"] = raw_df.median(axis=axis)\n",
    "    \n",
    "    mean_df.dropna(inplace=True)\n",
    "   \n",
    "    corr_df = pd.DataFrame(columns=[\n",
    "        \"Rho (Arithmetic Mean)\",\n",
    "        \"Rho (Geometric Mean)\",\n",
    "        \"Rho (Median)\",\n",
    "        \"Tau (Arithmetic Mean)\",\n",
    "        \"Tau (Geometric Mean)\",\n",
    "        \"Tau (Median)\",\n",
    "    ])\n",
    "    \n",
    "    dict = {}\n",
    "    quantity_column = mean_df[quantity_label]\n",
    "    columns = mean_df.drop(quantity_label, axis=1).columns\n",
    "    for col in columns:\n",
    "        mean_column = mean_df[col]\n",
    "        pearson_corr_val = pearsonr(quantity_column, mean_column)[0]\n",
    "        if math.isnan(pearson_corr_val):\n",
    "            pearson_corr_val = 0\n",
    "        kendall_corr_val = kendalltau(quantity_column, mean_column)[0]\n",
    "        if math.isnan(kendall_corr_val):\n",
    "            kendall_corr_val = 0\n",
    "        dict[f'Rho ({col})'] = pearson_corr_val\n",
    "        dict[f'Tau ({col})'] = kendall_corr_val\n",
    "    new_rows = pd.DataFrame([dict])\n",
    "    corr_df = pd.concat([corr_df, new_rows], ignore_index=True)\n",
    "    \n",
    "    return corr_df, mean_df\n",
    "\n",
    "ratings_df = seed.extract_ratings_df()\n",
    "    \n",
    "print(\"---------- BUILDING PAPER SCORE DATAFRAME ----------\")\n",
    "paper_score_df = seed.build_quantity_df(\"Paper Score\", 100)\n",
    "print(\"---------- BUILDING PAPER STEADINESS DATAFRAME ----------\")\n",
    "paper_steadiness_df = seed.build_quantity_df(\"Paper Steadiness\", 100)\n",
    "print(\"---------- BUILDING READER SCORE DATAFRAME ----------\")\n",
    "reader_score_df = seed.build_quantity_df(\"Reader Score\", 100)\n",
    "print(\"---------- BUILDING READER STEADINESS DATAFRAME ----------\")\n",
    "reader_steadiness_df = seed.build_quantity_df(\"Reader Steadiness\", 100)"
   ],
   "metadata": {
    "collapsed": false,
    "pycharm": {
     "name": "#%%\n",
     "is_executing": false
    },
    "ExecuteTime": {
     "end_time": "2024-11-18T22:46:55.550792Z",
     "start_time": "2024-11-18T22:46:54.919213Z"
    }
   },
   "outputs": [
    {
     "name": "stdout",
     "output_type": "stream",
     "text": [
      "---------- BUILDING PAPER SCORE DATAFRAME ----------\n",
      "---------- BUILDING PAPER STEADINESS DATAFRAME ----------\n",
      "---------- BUILDING READER SCORE DATAFRAME ----------\n"
     ]
    },
    {
     "name": "stderr",
     "output_type": "stream",
     "text": [
      "E:\\Dropbox\\Lavoro\\Progetti\\Readersourcing-2.0\\Sorgenti\\RS_Py\\notebooks\\ReadersourcingToolkit.py:129: FutureWarning: The behavior of DataFrame concatenation with empty or all-NA entries is deprecated. In a future version, this will no longer exclude empty or all-NA columns when determining the result dtypes. To retain the old behavior, exclude the relevant entries before the concat operation.\n",
      "  # Returns a dataframe with three columns\n",
      "E:\\Dropbox\\Lavoro\\Progetti\\Readersourcing-2.0\\Sorgenti\\RS_Py\\notebooks\\ReadersourcingToolkit.py:129: FutureWarning: The behavior of DataFrame concatenation with empty or all-NA entries is deprecated. In a future version, this will no longer exclude empty or all-NA columns when determining the result dtypes. To retain the old behavior, exclude the relevant entries before the concat operation.\n",
      "  # Returns a dataframe with three columns\n",
      "E:\\Dropbox\\Lavoro\\Progetti\\Readersourcing-2.0\\Sorgenti\\RS_Py\\notebooks\\ReadersourcingToolkit.py:129: FutureWarning: The behavior of DataFrame concatenation with empty or all-NA entries is deprecated. In a future version, this will no longer exclude empty or all-NA columns when determining the result dtypes. To retain the old behavior, exclude the relevant entries before the concat operation.\n",
      "  # Returns a dataframe with three columns\n"
     ]
    },
    {
     "name": "stdout",
     "output_type": "stream",
     "text": [
      "---------- BUILDING READER STEADINESS DATAFRAME ----------\n"
     ]
    },
    {
     "name": "stderr",
     "output_type": "stream",
     "text": [
      "E:\\Dropbox\\Lavoro\\Progetti\\Readersourcing-2.0\\Sorgenti\\RS_Py\\notebooks\\ReadersourcingToolkit.py:129: FutureWarning: The behavior of DataFrame concatenation with empty or all-NA entries is deprecated. In a future version, this will no longer exclude empty or all-NA columns when determining the result dtypes. To retain the old behavior, exclude the relevant entries before the concat operation.\n",
      "  # Returns a dataframe with three columns\n"
     ]
    }
   ],
   "execution_count": 26
  },
  {
   "cell_type": "code",
   "source": [
    "# CSV Files Computation\n",
    "\n",
    "os.makedirs(\"{}/csv/\".format(result_folder_exp_1_c_path), exist_ok=True)\n",
    "\n",
    "print(\"---------- BUILDING PAPER SCORE CORRELATION DATAFRAME ----------\")\n",
    "corr_df_1, mean_df_1 = compute_means(ratings_df, paper_score_df, \"Paper Score\", 0)\n",
    "output_path = \"{}csv/Corr_Df_Paper_Score.csv\".format(result_folder_exp_1_c_path)\n",
    "corr_df_1.to_csv(output_path, index=False)\n",
    "print(\"Saved at path: \", output_path)\n",
    "\n",
    "print(\"---------- BUILDING PAPER STEADINESS CORRELATION DATAFRAME ----------\")\n",
    "corr_df_2, mean_df_2 = compute_means(ratings_df, paper_steadiness_df, \"Paper Steadiness\", 0)\n",
    "output_path = \"{}csv/Corr_Df_Paper_Steadiness.csv\".format(result_folder_exp_1_c_path)\n",
    "corr_df_2.to_csv(output_path, index=False)\n",
    "print(\"Saved at path: \", output_path)\n",
    "\n",
    "print(\"---------- BUILDING READER SCORE CORRELATION DATAFRAME ----------\")\n",
    "corr_df_3, mean_df_3 = compute_means(ratings_df, reader_score_df, \"Reader Score\", 1)\n",
    "output_path = \"{}csv/Corr_Df_Reader_Score.csv\".format(result_folder_exp_1_c_path)\n",
    "corr_df_3.to_csv(output_path, index=False)\n",
    "print(\"Saved at path: \", output_path)\n",
    "\n",
    "print(\"---------- BUILDING READER SCORE CORRELATION DATAFRAME ----------\")\n",
    "corr_df_4, mean_df_4 = compute_means(ratings_df, reader_steadiness_df, \"Reader Steadiness\", 1)\n",
    "output_path = \"{}csv/Corr_Df_Reader_Steadiness.csv\".format(result_folder_exp_1_c_path)\n",
    "corr_df_4.to_csv(output_path, index=False)\n",
    "print(\"Saved at path: \", output_path)"
   ],
   "metadata": {
    "collapsed": false,
    "pycharm": {
     "name": "#%%\n",
     "is_executing": false
    },
    "ExecuteTime": {
     "end_time": "2024-11-18T22:47:01.009815Z",
     "start_time": "2024-11-18T22:47:00.885667Z"
    }
   },
   "outputs": [
    {
     "name": "stdout",
     "output_type": "stream",
     "text": [
      "---------- BUILDING PAPER SCORE CORRELATION DATAFRAME ----------\n",
      "Saved at path:  ../models/seed_power_law_1/readersourcing//experiments//experiment_1-c/csv/Corr_Df_Paper_Score.csv\n",
      "---------- BUILDING PAPER STEADINESS CORRELATION DATAFRAME ----------\n",
      "Saved at path:  ../models/seed_power_law_1/readersourcing//experiments//experiment_1-c/csv/Corr_Df_Paper_Steadiness.csv\n",
      "---------- BUILDING READER SCORE CORRELATION DATAFRAME ----------\n",
      "Saved at path:  ../models/seed_power_law_1/readersourcing//experiments//experiment_1-c/csv/Corr_Df_Reader_Score.csv\n",
      "---------- BUILDING READER SCORE CORRELATION DATAFRAME ----------\n",
      "Saved at path:  ../models/seed_power_law_1/readersourcing//experiments//experiment_1-c/csv/Corr_Df_Reader_Steadiness.csv\n"
     ]
    },
    {
     "name": "stderr",
     "output_type": "stream",
     "text": [
      "C:\\Users\\micha\\AppData\\Local\\Temp\\ipykernel_7568\\1574014975.py:61: FutureWarning: The behavior of DataFrame concatenation with empty or all-NA entries is deprecated. In a future version, this will no longer exclude empty or all-NA columns when determining the result dtypes. To retain the old behavior, exclude the relevant entries before the concat operation.\n",
      "  corr_df = pd.concat([corr_df, new_rows], ignore_index=True)\n",
      "C:\\Users\\micha\\AppData\\Local\\Temp\\ipykernel_7568\\1574014975.py:61: FutureWarning: The behavior of DataFrame concatenation with empty or all-NA entries is deprecated. In a future version, this will no longer exclude empty or all-NA columns when determining the result dtypes. To retain the old behavior, exclude the relevant entries before the concat operation.\n",
      "  corr_df = pd.concat([corr_df, new_rows], ignore_index=True)\n",
      "C:\\Users\\micha\\AppData\\Local\\Temp\\ipykernel_7568\\1574014975.py:61: FutureWarning: The behavior of DataFrame concatenation with empty or all-NA entries is deprecated. In a future version, this will no longer exclude empty or all-NA columns when determining the result dtypes. To retain the old behavior, exclude the relevant entries before the concat operation.\n",
      "  corr_df = pd.concat([corr_df, new_rows], ignore_index=True)\n",
      "C:\\Users\\micha\\AppData\\Local\\Temp\\ipykernel_7568\\1574014975.py:61: FutureWarning: The behavior of DataFrame concatenation with empty or all-NA entries is deprecated. In a future version, this will no longer exclude empty or all-NA columns when determining the result dtypes. To retain the old behavior, exclude the relevant entries before the concat operation.\n",
      "  corr_df = pd.concat([corr_df, new_rows], ignore_index=True)\n"
     ]
    }
   ],
   "execution_count": 27
  },
  {
   "cell_type": "code",
   "source": [
    "# Plotting Functions\n",
    "\n",
    "def pformatting(val):\n",
    "    out = 'N.D.'\n",
    "    if val <= 0.05:\n",
    "        out = 'p < .05'\n",
    "    if val <= 0.01:\n",
    "        out = 'p < .01'\n",
    "    if val > 0.05:\n",
    "        out = 'p > .05'\n",
    "    return out\n",
    "\n",
    "def custom_scatter (x, y, ax):\n",
    "    rho, rhoval = pearsonr(x,y)\n",
    "    try:\n",
    "        tau, tauval = kendalltau(x,y)\n",
    "    except OverflowError:\n",
    "        tau = -10\n",
    "        tauval = -10\n",
    "    rhoval = pformatting(rhoval)\n",
    "    tauval = pformatting(tauval)\n",
    "    ax.annotate(r'$\\rho$'+': p={} ({})'.format(np.round(rho,2), rhoval)+'\\n'+\n",
    "                r'$\\tau$'+': p={} ({})'.format(np.round(tau,2), tauval),\n",
    "                xy=(0.05, 0.8), fontsize = 11, xycoords='axes fraction')\n",
    "                #bbox=dict(fc=\"white\", lw= .6) ,)\n",
    "\n",
    "def draw_regplot(quantity, sample, plots_path):\n",
    "    \n",
    "    print (\"---------- COMPUTING PLOTS FOR {} -----------\".format(quantity.upper()))\n",
    "    \n",
    "    quantity_label = quantity.lower().replace(\" \", \"_\")\n",
    "    x_vals = sample[quantity]\n",
    "    \n",
    "    current_path = \"{}{}_arithmetic_mean_regplot.pdf\".format(plots_path, quantity_label)\n",
    "    y_vals = sample[\"Arithmetic Mean\"]\n",
    "    ax = sns.regplot(x=x_vals, y=y_vals)\n",
    "    custom_scatter(x_vals, y_vals, ax)\n",
    "    ax.figure.savefig(current_path, bbox_inches=\"tight\")\n",
    "    plt.close()\n",
    "    print(\"Plot saved at path:\")\n",
    "    print(current_path)\n",
    "    \n",
    "    current_path = \"{}{}_geometric_mean_regplot.pdf\".format(plots_path, quantity_label)\n",
    "    y_vals = sample[\"Geometric Mean\"]\n",
    "    ax = sns.regplot(x=x_vals, y=y_vals)\n",
    "    custom_scatter(x_vals, y_vals, ax)\n",
    "    ax.figure.savefig(current_path, bbox_inches=\"tight\")\n",
    "    plt.close()\n",
    "    print(\"Plot saved at path:\")\n",
    "    print(current_path)\n",
    "    \n",
    "    current_path = \"{}{}_median_regplot.pdf\".format(plots_path, quantity_label)\n",
    "    y_vals = sample[\"Median\"]\n",
    "    ax = sns.regplot(x=x_vals, y=y_vals)\n",
    "    custom_scatter(x_vals, y_vals, ax)\n",
    "    ax.figure.savefig(current_path, bbox_inches=\"tight\")\n",
    "    plt.close()\n",
    "    print(\"Plot saved at path:\")\n",
    "    print(current_path)\n",
    "\n",
    "plots_path = \"{}/plots/\".format(result_folder_exp_1_c_path)\n",
    "os.makedirs(plots_path, exist_ok=True)"
   ],
   "metadata": {
    "collapsed": false,
    "pycharm": {
     "name": "#%%\n",
     "is_executing": false
    },
    "ExecuteTime": {
     "end_time": "2024-11-18T22:47:03.153971Z",
     "start_time": "2024-11-18T22:47:03.085800Z"
    }
   },
   "outputs": [],
   "execution_count": 28
  },
  {
   "cell_type": "code",
   "source": [
    "sample = mean_df_1\n",
    "draw_regplot(\"Paper Score\", sample, plots_path)"
   ],
   "metadata": {
    "collapsed": false,
    "pycharm": {
     "name": "#%%\n",
     "is_executing": false
    },
    "ExecuteTime": {
     "end_time": "2024-11-18T22:47:07.191026Z",
     "start_time": "2024-11-18T22:47:06.160580Z"
    }
   },
   "outputs": [
    {
     "name": "stdout",
     "output_type": "stream",
     "text": [
      "---------- COMPUTING PLOTS FOR PAPER SCORE -----------\n",
      "Plot saved at path:\n",
      "../models/seed_power_law_1/readersourcing//experiments//experiment_1-c//plots/paper_score_arithmetic_mean_regplot.pdf\n",
      "Plot saved at path:\n",
      "../models/seed_power_law_1/readersourcing//experiments//experiment_1-c//plots/paper_score_geometric_mean_regplot.pdf\n",
      "Plot saved at path:\n",
      "../models/seed_power_law_1/readersourcing//experiments//experiment_1-c//plots/paper_score_median_regplot.pdf\n"
     ]
    }
   ],
   "execution_count": 29
  },
  {
   "cell_type": "code",
   "source": [
    "sample = mean_df_2\n",
    "draw_regplot(\"Paper Steadiness\", sample, plots_path)"
   ],
   "metadata": {
    "collapsed": false,
    "pycharm": {
     "name": "#%% \n",
     "is_executing": false
    },
    "ExecuteTime": {
     "end_time": "2024-11-18T22:47:09.775392Z",
     "start_time": "2024-11-18T22:47:08.755953Z"
    }
   },
   "outputs": [
    {
     "name": "stdout",
     "output_type": "stream",
     "text": [
      "---------- COMPUTING PLOTS FOR PAPER STEADINESS -----------\n",
      "Plot saved at path:\n",
      "../models/seed_power_law_1/readersourcing//experiments//experiment_1-c//plots/paper_steadiness_arithmetic_mean_regplot.pdf\n",
      "Plot saved at path:\n",
      "../models/seed_power_law_1/readersourcing//experiments//experiment_1-c//plots/paper_steadiness_geometric_mean_regplot.pdf\n",
      "Plot saved at path:\n",
      "../models/seed_power_law_1/readersourcing//experiments//experiment_1-c//plots/paper_steadiness_median_regplot.pdf\n"
     ]
    }
   ],
   "execution_count": 30
  },
  {
   "cell_type": "code",
   "source": [
    "sample = mean_df_3\n",
    "draw_regplot(\"Reader Score\", sample, plots_path) "
   ],
   "metadata": {
    "collapsed": false,
    "pycharm": {
     "name": "#%%\n",
     "is_executing": false
    },
    "ExecuteTime": {
     "end_time": "2024-11-18T22:47:10.937024Z",
     "start_time": "2024-11-18T22:47:09.791900Z"
    }
   },
   "outputs": [
    {
     "name": "stdout",
     "output_type": "stream",
     "text": [
      "---------- COMPUTING PLOTS FOR READER SCORE -----------\n",
      "Plot saved at path:\n",
      "../models/seed_power_law_1/readersourcing//experiments//experiment_1-c//plots/reader_score_arithmetic_mean_regplot.pdf\n",
      "Plot saved at path:\n",
      "../models/seed_power_law_1/readersourcing//experiments//experiment_1-c//plots/reader_score_geometric_mean_regplot.pdf\n",
      "Plot saved at path:\n",
      "../models/seed_power_law_1/readersourcing//experiments//experiment_1-c//plots/reader_score_median_regplot.pdf\n"
     ]
    }
   ],
   "execution_count": 31
  },
  {
   "cell_type": "code",
   "source": [
    "sample = mean_df_4\n",
    "draw_regplot(\"Reader Steadiness\", sample, plots_path) "
   ],
   "metadata": {
    "collapsed": false,
    "pycharm": {
     "name": "#%%\n",
     "is_executing": false
    },
    "ExecuteTime": {
     "end_time": "2024-11-18T22:47:11.987423Z",
     "start_time": "2024-11-18T22:47:11.026080Z"
    }
   },
   "outputs": [
    {
     "name": "stdout",
     "output_type": "stream",
     "text": [
      "---------- COMPUTING PLOTS FOR READER STEADINESS -----------\n",
      "Plot saved at path:\n",
      "../models/seed_power_law_1/readersourcing//experiments//experiment_1-c//plots/reader_steadiness_arithmetic_mean_regplot.pdf\n",
      "Plot saved at path:\n",
      "../models/seed_power_law_1/readersourcing//experiments//experiment_1-c//plots/reader_steadiness_geometric_mean_regplot.pdf\n",
      "Plot saved at path:\n",
      "../models/seed_power_law_1/readersourcing//experiments//experiment_1-c//plots/reader_steadiness_median_regplot.pdf\n"
     ]
    }
   ],
   "execution_count": 32
  },
  {
   "cell_type": "code",
   "source": [
    "# ------------------------------\n",
    "# ---------- EXP 1-D -----------\n",
    "# ------------------------------\n",
    "\n",
    "# Raccolgo le quantità di Readersourcing calcolate per seed con diverse dimensioni\n",
    "# Tali quantità sono READER SCORE, PAPER SCORE, READER STEADINESS, PAPER STEADINESS\n",
    "# Tali dimensioni sono NUMERO PAPER, NUMERO READER, PARAMETRO A POWER LAW PAPER, PARAMETRO A POWER LAW READER \n",
    "# Le quantità di Readersourcing diventano le colonne di un dataframe\n",
    "# Le dimensioni considerate diventano le righe di un dataframe\n",
    "# Ci saranno 4 colonne per ogni possibile combinazione di dimensioni\n",
    "# Su tale dataframe viene lanciata un analisi ANOVA\n",
    "\n",
    "# Plot parameters\n",
    "\n",
    "linesize = .75\n",
    "jitter = .2\n",
    "alpha = .6\n",
    "linewidth = .6\n",
    "size = 5\n",
    "flatue = {'-1': '#bfbfbf',\n",
    "          '0':'#932727',\n",
    "          '1':'#ffa303', \n",
    "          '2':'#27279f',\n",
    "          '3':'#49e7ff'}\n",
    "\n",
    "shuffle_perc = 100\n",
    "papers_perc = 100\n",
    "readers_perc = 100\n",
    "\n",
    "# Paths\n",
    "\n",
    "result_folder_experiments_path = \"{}/experiments/\".format(\"../models/seed_power_law_batch/\")\n",
    "result_folder_exp_1_d_path = \"{}/experiment_1-d/\".format(result_folder_experiments_path)\n",
    "os.makedirs(result_folder_experiments_path, exist_ok=True)\n",
    "os.makedirs(result_folder_exp_1_d_path, exist_ok=True)"
   ],
   "metadata": {
    "collapsed": false,
    "pycharm": {
     "name": "#%%\n",
     "is_executing": false
    },
    "ExecuteTime": {
     "end_time": "2024-11-18T22:48:06.054673Z",
     "start_time": "2024-11-18T22:48:05.993219Z"
    }
   },
   "outputs": [],
   "execution_count": 33
  },
  {
   "cell_type": "code",
   "source": [
    "print(f\"---------- ANOVA DF BUILDING STARTED ----------\")\n",
    "\n",
    "anova_df_reader = pd.DataFrame(columns=[\"Reader Number\", \"Paper Number\", \"A_Reader\", \"A_Paper\", \"Identifier\", \"Reader Score\", \"Reader Steadiness\"])\n",
    "anova_df_paper = pd.DataFrame(columns=[\"Reader Number\", \"Paper Number\", \"A_Reader\", \"A_Paper\", \"Identifier\", \"Paper Score\", \"Paper Steadiness\"])\n",
    "seed = ReadersourcingToolkit()\n",
    "for current_reader_number in (1000,1500,2000,2500):\n",
    "    for current_paper_number in (1000,1500,2000,2500):\n",
    "        for ar in (0.5,0.7,0.9):\n",
    "            for ap in (0.5,0.7,0.9):\n",
    "                seed = ReadersourcingToolkit(\n",
    "                    dataset_name=f\"seed_power_law_batch/seed_power_law_\"\n",
    "                                 f\"{current_reader_number}_{current_paper_number}_{ar}_{ap}\", \n",
    "                    dataset_folder_path=\"../data/{}/\", \n",
    "                )\n",
    "                if os.path.isdir(seed.result_folder_base_path):\n",
    "                    print(f\"---------- PROCESSING PARAMETERS: {current_reader_number}-{current_paper_number}-{ap}-{ar}  ----------\")                    \n",
    "                    df_reader_score = seed.build_quantity_df(\"Reader Score\", 100)\n",
    "                    df_reader_steadiness = seed.build_quantity_df(\"Reader Steadiness\", 100)\n",
    "                    df_reader_score.rename(columns={'Quantity':'Reader Score'}, inplace=True)\n",
    "                    df_reader_steadiness.rename(columns={'Quantity':'Reader Steadiness'}, inplace=True)\n",
    "                    df_reader = df_reader_score.merge(df_reader_steadiness, on='Identifier', how='left')\n",
    "                    for index, row in df_reader.iterrows():\n",
    "                        anova_df_reader = anova_df_reader.append({\n",
    "                            'Reader Number': current_reader_number,\n",
    "                            'Paper Number': current_paper_number,\n",
    "                            'A_Reader': ar,\n",
    "                            'A_Paper': ap,\n",
    "                            'Identifier': row[\"Identifier\"],\n",
    "                            'Reader Score': row[\"Reader Score\"],\n",
    "                            'Reader Steadiness': row[\"Reader Steadiness\"],\n",
    "                        }, ignore_index=True)\n",
    "                    df_paper_score = seed.build_quantity_df(\"Paper Score\", 100)\n",
    "                    df_paper_steadiness = seed.build_quantity_df(\"Paper Steadiness\", 100)\n",
    "                    df_paper_score.rename(columns={'Quantity':'Paper Score'}, inplace=True)\n",
    "                    df_paper_steadiness.rename(columns={'Quantity':'Paper Steadiness'}, inplace=True)\n",
    "                    df_paper = df_paper_score.merge(df_paper_steadiness, on='Identifier', how='left')\n",
    "                    for index, row in df_paper.iterrows():\n",
    "                        anova_df_paper = anova_df_paper.append({\n",
    "                            'Reader Number': current_reader_number,\n",
    "                            'Paper Number': current_paper_number,\n",
    "                            'A_Reader': ar,\n",
    "                            'A_Paper': ap,\n",
    "                            'Identifier': row[\"Identifier\"],\n",
    "                            'Paper Score': row[\"Paper Score\"],\n",
    "                            'Paper Steadiness': row[\"Paper Steadiness\"],\n",
    "                        }, ignore_index=True)\n",
    "anova_df_reader.rename(columns={\n",
    "    'Reader Number':'Reader_Number', \n",
    "    'Paper Number':'Paper_Number',\n",
    "    'Reader Score': \"Reader_Score\",\n",
    "    'Reader Steadiness': \"Reader_Steadiness\"\n",
    "}, inplace=True)\n",
    "anova_df_reader[[\"Reader_Number\", \"Paper_Number\", \"Identifier\"]] = anova_df_reader[[\"Reader_Number\", \"Paper_Number\", \"Identifier\"]].astype(int)\n",
    "path = f\"{result_folder_exp_1_d_path}anova_df_reader.pkl\"\n",
    "anova_df_reader.to_pickle(path)\n",
    "print(\"Anova reader dataframe saved at path: {}\".format(path))\n",
    "anova_df_paper.rename(columns={\n",
    "    'Reader Number':'Reader_Number', \n",
    "    'Paper Number':'Paper_Number',\n",
    "    'Paper Score': \"Paper_Score\",\n",
    "    'Paper Steadiness': \"Paper_Steadiness\"\n",
    "}, inplace=True)\n",
    "anova_df_paper[[\"Reader_Number\", \"Paper_Number\", \"Identifier\"]] = anova_df_paper[[\"Reader_Number\", \"Paper_Number\", \"Identifier\"]].astype(int)\n",
    "path = f\"{result_folder_exp_1_d_path}anova_df_paper.pkl\"\n",
    "anova_df_paper.to_pickle(path)\n",
    "print(\"Anova paper dataframe saved at path: {}\".format(path))\n",
    "\n",
    "print(f\"---------- ANOVA DF BUILDING COMPLETED ----------\")\n"
   ],
   "metadata": {
    "collapsed": false,
    "pycharm": {
     "name": "#%%\n",
     "is_executing": false
    },
    "ExecuteTime": {
     "end_time": "2024-11-18T22:48:06.613807Z",
     "start_time": "2024-11-18T22:48:06.534330Z"
    }
   },
   "outputs": [
    {
     "name": "stdout",
     "output_type": "stream",
     "text": [
      "---------- ANOVA DF BUILDING STARTED ----------\n",
      "Anova reader dataframe saved at path: ../models/seed_power_law_batch//experiments//experiment_1-d/anova_df_reader.pkl\n",
      "Anova paper dataframe saved at path: ../models/seed_power_law_batch//experiments//experiment_1-d/anova_df_paper.pkl\n",
      "---------- ANOVA DF BUILDING COMPLETED ----------\n"
     ]
    }
   ],
   "execution_count": 34
  },
  {
   "metadata": {},
   "cell_type": "code",
   "outputs": [],
   "execution_count": null,
   "source": ""
  }
 ],
 "metadata": {
  "language_info": {
   "codemirror_mode": {
    "name": "ipython",
    "version": 2
   },
   "file_extension": ".py",
   "mimetype": "text/x-python",
   "name": "python",
   "nbconvert_exporter": "python",
   "pygments_lexer": "ipython2",
   "version": "2.7.6"
  },
  "kernelspec": {
   "name": "python3",
   "language": "python",
   "display_name": "Python 3"
  },
  "pycharm": {
   "stem_cell": {
    "cell_type": "raw",
    "source": [],
    "metadata": {
     "collapsed": false
    }
   }
  }
 },
 "nbformat": 4,
 "nbformat_minor": 0
}
