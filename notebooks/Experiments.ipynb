{
 "cells": [
  {
   "cell_type": "code",
   "execution_count": 41,
   "metadata": {
    "collapsed": true,
    "pycharm": {
     "is_executing": false
    }
   },
   "outputs": [],
   "source": [
    "import pandas as pd\n",
    "import os\n",
    "import statistics\n",
    "from matplotlib import pyplot as plt\n",
    "import seaborn as sns\n",
    "from ReadersourcingToolkit import ReadersourcingToolkit\n",
    "import numpy as np\n",
    "import math\n",
    "from scipy.stats.stats import pearsonr\n",
    "from scipy.stats.stats import kendalltau"
   ]
  },
  {
   "cell_type": "code",
   "execution_count": 2,
   "outputs": [],
   "source": [
    "# ------------------------------\n",
    "# ---------- EXP 1-A -----------\n",
    "# ------------------------------\n",
    "\n",
    "# Analizzo l'andamento degli score di tre reader \"speciali\" per X shuffle dei rating di un dato seed.\n",
    "# Reader 1 vota sempre nel modo \"esatto\" (sulla media). \n",
    "# Reader 2 vota sempre a metà scala rispetto a 1001.\n",
    "# Reader 3 vota sempre sugli estremi.\n",
    "# L'ordinamento desiderato degli score è Reader 1 -> Reader 2 -> Reader 3 (ordine crescente)\n",
    "\n",
    "seed = ReadersourcingToolkit(\n",
    "    dataset_name=\"seed_shuffle_1_special\", \n",
    "    dataset_folder_path=\"../data/{}/\", \n",
    "    data_shuffled=True, \n",
    "    current_shuffle = 0,\n",
    "    shuffle_amount=100\n",
    ")\n",
    "\n",
    "# Plot parameters\n",
    "\n",
    "plt.rcParams['figure.figsize']=(6,6)\n",
    "linesize = .5\n",
    "\n",
    "# Paths\n",
    "\n",
    "result_folder_experiments_path = \"{}/experiments/\".format(seed.result_folder_base_path)\n",
    "result_folder_exp_1_a_path = \"{}/experiment_1-a/\".format(result_folder_experiments_path)\n",
    "os.makedirs(result_folder_experiments_path, exist_ok=True)\n",
    "os.makedirs(result_folder_exp_1_a_path, exist_ok=True)"
   ],
   "metadata": {
    "collapsed": false,
    "pycharm": {
     "name": "#%%\n",
     "is_executing": false
    }
   }
  },
  {
   "cell_type": "code",
   "execution_count": 17,
   "outputs": [
    {
     "name": "stdout",
     "text": [
      "0/100 (0/100%)\n"
     ],
     "output_type": "stream"
    },
    {
     "traceback": [
      "\u001b[1;31m---------------------------------------------------------------------------\u001b[0m",
      "\u001b[1;31mValueError\u001b[0m                                Traceback (most recent call last)",
      "\u001b[1;32m<ipython-input-17-298714711f90>\u001b[0m in \u001b[0;36m<module>\u001b[1;34m\u001b[0m\n\u001b[0;32m      1\u001b[0m \u001b[0mshuffle_perc\u001b[0m \u001b[1;33m=\u001b[0m \u001b[1;36m5\u001b[0m\u001b[1;33m\u001b[0m\u001b[1;33m\u001b[0m\u001b[0m\n\u001b[0;32m      2\u001b[0m \u001b[0mpapers_perc\u001b[0m \u001b[1;33m=\u001b[0m \u001b[1;36m5\u001b[0m\u001b[1;33m\u001b[0m\u001b[1;33m\u001b[0m\u001b[0m\n\u001b[1;32m----> 3\u001b[1;33m \u001b[0mdf\u001b[0m \u001b[1;33m=\u001b[0m \u001b[0mseed\u001b[0m\u001b[1;33m.\u001b[0m\u001b[0mbuild_quantity_df_shuffle\u001b[0m\u001b[1;33m(\u001b[0m\u001b[1;34m\"Reader Score\"\u001b[0m\u001b[1;33m,\u001b[0m \u001b[0mshuffle_perc\u001b[0m\u001b[1;33m,\u001b[0m \u001b[1;36m0\u001b[0m\u001b[1;33m)\u001b[0m\u001b[1;33m\u001b[0m\u001b[1;33m\u001b[0m\u001b[0m\n\u001b[0m\u001b[0;32m      4\u001b[0m \u001b[1;33m\u001b[0m\u001b[0m\n\u001b[0;32m      5\u001b[0m \u001b[0mreaders_number\u001b[0m \u001b[1;33m=\u001b[0m \u001b[0mdf\u001b[0m\u001b[1;33m[\u001b[0m\u001b[0mdf\u001b[0m\u001b[1;33m[\u001b[0m\u001b[1;34m\"Shuffle\"\u001b[0m\u001b[1;33m]\u001b[0m \u001b[1;33m==\u001b[0m \u001b[1;36m0\u001b[0m\u001b[1;33m]\u001b[0m\u001b[1;33m.\u001b[0m\u001b[0mshape\u001b[0m\u001b[1;33m[\u001b[0m\u001b[1;36m0\u001b[0m\u001b[1;33m]\u001b[0m\u001b[1;33m\u001b[0m\u001b[1;33m\u001b[0m\u001b[0m\n",
      "\u001b[1;32mE:\\Dropbox\\Universita\\Assegno\\Progetti\\Readersourcing-2.0\\Sorgenti\\RS_Py\\notebooks\\Readersourcing.py\u001b[0m in \u001b[0;36mbuild_quantity_df_shuffle\u001b[1;34m(self, quantity, shuffle_perc, identifiers_perc)\u001b[0m\n\u001b[0;32m     83\u001b[0m                 \u001b[0mprint\u001b[0m\u001b[1;33m(\u001b[0m\u001b[1;34m\"{}/{} ({}/100%)\"\u001b[0m\u001b[1;33m.\u001b[0m\u001b[0mformat\u001b[0m\u001b[1;33m(\u001b[0m\u001b[0mint\u001b[0m\u001b[1;33m(\u001b[0m\u001b[0mindex_shuffle\u001b[0m\u001b[1;33m)\u001b[0m\u001b[1;33m,\u001b[0m \u001b[0mself\u001b[0m\u001b[1;33m.\u001b[0m\u001b[0mshuffle_amount\u001b[0m\u001b[1;33m,\u001b[0m \u001b[0mint\u001b[0m\u001b[1;33m(\u001b[0m\u001b[0mpercentage\u001b[0m\u001b[1;33m)\u001b[0m\u001b[1;33m)\u001b[0m\u001b[1;33m)\u001b[0m\u001b[1;33m\u001b[0m\u001b[1;33m\u001b[0m\u001b[0m\n\u001b[0;32m     84\u001b[0m             \u001b[0mprint\u001b[0m\u001b[1;33m(\u001b[0m \u001b[1;34m\"{}/shuffle/shuffle_{}/quantities.json\"\u001b[0m\u001b[1;33m.\u001b[0m\u001b[0mformat\u001b[0m\u001b[1;33m(\u001b[0m\u001b[0mself\u001b[0m\u001b[1;33m.\u001b[0m\u001b[0mresult_folder_base_path\u001b[0m\u001b[1;33m,\u001b[0m \u001b[0mindex_shuffle\u001b[0m\u001b[1;33m)\u001b[0m\u001b[1;33m)\u001b[0m\u001b[1;33m\u001b[0m\u001b[1;33m\u001b[0m\u001b[0m\n\u001b[1;32m---> 85\u001b[1;33m             quantities = pd.read_json(\n\u001b[0m\u001b[0;32m     86\u001b[0m                 \"{}/shuffle/shuffle_{}/quantities.json\".format(self.result_folder_base_path, index_shuffle))\n\u001b[0;32m     87\u001b[0m             \u001b[0mrow\u001b[0m \u001b[1;33m=\u001b[0m \u001b[0mquantities\u001b[0m\u001b[1;33m.\u001b[0m\u001b[0mloc\u001b[0m\u001b[1;33m[\u001b[0m\u001b[0mquantities\u001b[0m\u001b[1;33m[\u001b[0m\u001b[1;34m\"Quantity\"\u001b[0m\u001b[1;33m]\u001b[0m \u001b[1;33m==\u001b[0m \u001b[0mquantity\u001b[0m\u001b[1;33m]\u001b[0m\u001b[1;33m\u001b[0m\u001b[1;33m\u001b[0m\u001b[0m\n",
      "\u001b[1;32mC:\\Ambienti\\Anaconda3\\lib\\site-packages\\pandas\\io\\json\\_json.py\u001b[0m in \u001b[0;36mread_json\u001b[1;34m(path_or_buf, orient, typ, dtype, convert_axes, convert_dates, keep_default_dates, numpy, precise_float, date_unit, encoding, lines, chunksize, compression)\u001b[0m\n\u001b[0;32m    590\u001b[0m         \u001b[1;32mreturn\u001b[0m \u001b[0mjson_reader\u001b[0m\u001b[1;33m\u001b[0m\u001b[1;33m\u001b[0m\u001b[0m\n\u001b[0;32m    591\u001b[0m \u001b[1;33m\u001b[0m\u001b[0m\n\u001b[1;32m--> 592\u001b[1;33m     \u001b[0mresult\u001b[0m \u001b[1;33m=\u001b[0m \u001b[0mjson_reader\u001b[0m\u001b[1;33m.\u001b[0m\u001b[0mread\u001b[0m\u001b[1;33m(\u001b[0m\u001b[1;33m)\u001b[0m\u001b[1;33m\u001b[0m\u001b[1;33m\u001b[0m\u001b[0m\n\u001b[0m\u001b[0;32m    593\u001b[0m     \u001b[1;32mif\u001b[0m \u001b[0mshould_close\u001b[0m\u001b[1;33m:\u001b[0m\u001b[1;33m\u001b[0m\u001b[1;33m\u001b[0m\u001b[0m\n\u001b[0;32m    594\u001b[0m         \u001b[1;32mtry\u001b[0m\u001b[1;33m:\u001b[0m\u001b[1;33m\u001b[0m\u001b[1;33m\u001b[0m\u001b[0m\n",
      "\u001b[1;32mC:\\Ambienti\\Anaconda3\\lib\\site-packages\\pandas\\io\\json\\_json.py\u001b[0m in \u001b[0;36mread\u001b[1;34m(self)\u001b[0m\n\u001b[0;32m    715\u001b[0m             \u001b[0mobj\u001b[0m \u001b[1;33m=\u001b[0m \u001b[0mself\u001b[0m\u001b[1;33m.\u001b[0m\u001b[0m_get_object_parser\u001b[0m\u001b[1;33m(\u001b[0m\u001b[0mself\u001b[0m\u001b[1;33m.\u001b[0m\u001b[0m_combine_lines\u001b[0m\u001b[1;33m(\u001b[0m\u001b[0mdata\u001b[0m\u001b[1;33m.\u001b[0m\u001b[0msplit\u001b[0m\u001b[1;33m(\u001b[0m\u001b[1;34m\"\\n\"\u001b[0m\u001b[1;33m)\u001b[0m\u001b[1;33m)\u001b[0m\u001b[1;33m)\u001b[0m\u001b[1;33m\u001b[0m\u001b[1;33m\u001b[0m\u001b[0m\n\u001b[0;32m    716\u001b[0m         \u001b[1;32melse\u001b[0m\u001b[1;33m:\u001b[0m\u001b[1;33m\u001b[0m\u001b[1;33m\u001b[0m\u001b[0m\n\u001b[1;32m--> 717\u001b[1;33m             \u001b[0mobj\u001b[0m \u001b[1;33m=\u001b[0m \u001b[0mself\u001b[0m\u001b[1;33m.\u001b[0m\u001b[0m_get_object_parser\u001b[0m\u001b[1;33m(\u001b[0m\u001b[0mself\u001b[0m\u001b[1;33m.\u001b[0m\u001b[0mdata\u001b[0m\u001b[1;33m)\u001b[0m\u001b[1;33m\u001b[0m\u001b[1;33m\u001b[0m\u001b[0m\n\u001b[0m\u001b[0;32m    718\u001b[0m         \u001b[0mself\u001b[0m\u001b[1;33m.\u001b[0m\u001b[0mclose\u001b[0m\u001b[1;33m(\u001b[0m\u001b[1;33m)\u001b[0m\u001b[1;33m\u001b[0m\u001b[1;33m\u001b[0m\u001b[0m\n\u001b[0;32m    719\u001b[0m         \u001b[1;32mreturn\u001b[0m \u001b[0mobj\u001b[0m\u001b[1;33m\u001b[0m\u001b[1;33m\u001b[0m\u001b[0m\n",
      "\u001b[1;32mC:\\Ambienti\\Anaconda3\\lib\\site-packages\\pandas\\io\\json\\_json.py\u001b[0m in \u001b[0;36m_get_object_parser\u001b[1;34m(self, json)\u001b[0m\n\u001b[0;32m    737\u001b[0m         \u001b[0mobj\u001b[0m \u001b[1;33m=\u001b[0m \u001b[1;32mNone\u001b[0m\u001b[1;33m\u001b[0m\u001b[1;33m\u001b[0m\u001b[0m\n\u001b[0;32m    738\u001b[0m         \u001b[1;32mif\u001b[0m \u001b[0mtyp\u001b[0m \u001b[1;33m==\u001b[0m \u001b[1;34m\"frame\"\u001b[0m\u001b[1;33m:\u001b[0m\u001b[1;33m\u001b[0m\u001b[1;33m\u001b[0m\u001b[0m\n\u001b[1;32m--> 739\u001b[1;33m             \u001b[0mobj\u001b[0m \u001b[1;33m=\u001b[0m \u001b[0mFrameParser\u001b[0m\u001b[1;33m(\u001b[0m\u001b[0mjson\u001b[0m\u001b[1;33m,\u001b[0m \u001b[1;33m**\u001b[0m\u001b[0mkwargs\u001b[0m\u001b[1;33m)\u001b[0m\u001b[1;33m.\u001b[0m\u001b[0mparse\u001b[0m\u001b[1;33m(\u001b[0m\u001b[1;33m)\u001b[0m\u001b[1;33m\u001b[0m\u001b[1;33m\u001b[0m\u001b[0m\n\u001b[0m\u001b[0;32m    740\u001b[0m \u001b[1;33m\u001b[0m\u001b[0m\n\u001b[0;32m    741\u001b[0m         \u001b[1;32mif\u001b[0m \u001b[0mtyp\u001b[0m \u001b[1;33m==\u001b[0m \u001b[1;34m\"series\"\u001b[0m \u001b[1;32mor\u001b[0m \u001b[0mobj\u001b[0m \u001b[1;32mis\u001b[0m \u001b[1;32mNone\u001b[0m\u001b[1;33m:\u001b[0m\u001b[1;33m\u001b[0m\u001b[1;33m\u001b[0m\u001b[0m\n",
      "\u001b[1;32mC:\\Ambienti\\Anaconda3\\lib\\site-packages\\pandas\\io\\json\\_json.py\u001b[0m in \u001b[0;36mparse\u001b[1;34m(self)\u001b[0m\n\u001b[0;32m    847\u001b[0m \u001b[1;33m\u001b[0m\u001b[0m\n\u001b[0;32m    848\u001b[0m         \u001b[1;32melse\u001b[0m\u001b[1;33m:\u001b[0m\u001b[1;33m\u001b[0m\u001b[1;33m\u001b[0m\u001b[0m\n\u001b[1;32m--> 849\u001b[1;33m             \u001b[0mself\u001b[0m\u001b[1;33m.\u001b[0m\u001b[0m_parse_no_numpy\u001b[0m\u001b[1;33m(\u001b[0m\u001b[1;33m)\u001b[0m\u001b[1;33m\u001b[0m\u001b[1;33m\u001b[0m\u001b[0m\n\u001b[0m\u001b[0;32m    850\u001b[0m \u001b[1;33m\u001b[0m\u001b[0m\n\u001b[0;32m    851\u001b[0m         \u001b[1;32mif\u001b[0m \u001b[0mself\u001b[0m\u001b[1;33m.\u001b[0m\u001b[0mobj\u001b[0m \u001b[1;32mis\u001b[0m \u001b[1;32mNone\u001b[0m\u001b[1;33m:\u001b[0m\u001b[1;33m\u001b[0m\u001b[1;33m\u001b[0m\u001b[0m\n",
      "\u001b[1;32mC:\\Ambienti\\Anaconda3\\lib\\site-packages\\pandas\\io\\json\\_json.py\u001b[0m in \u001b[0;36m_parse_no_numpy\u001b[1;34m(self)\u001b[0m\n\u001b[0;32m   1091\u001b[0m         \u001b[1;32mif\u001b[0m \u001b[0morient\u001b[0m \u001b[1;33m==\u001b[0m \u001b[1;34m\"columns\"\u001b[0m\u001b[1;33m:\u001b[0m\u001b[1;33m\u001b[0m\u001b[1;33m\u001b[0m\u001b[0m\n\u001b[0;32m   1092\u001b[0m             self.obj = DataFrame(\n\u001b[1;32m-> 1093\u001b[1;33m                 \u001b[0mloads\u001b[0m\u001b[1;33m(\u001b[0m\u001b[0mjson\u001b[0m\u001b[1;33m,\u001b[0m \u001b[0mprecise_float\u001b[0m\u001b[1;33m=\u001b[0m\u001b[0mself\u001b[0m\u001b[1;33m.\u001b[0m\u001b[0mprecise_float\u001b[0m\u001b[1;33m)\u001b[0m\u001b[1;33m,\u001b[0m \u001b[0mdtype\u001b[0m\u001b[1;33m=\u001b[0m\u001b[1;32mNone\u001b[0m\u001b[1;33m\u001b[0m\u001b[1;33m\u001b[0m\u001b[0m\n\u001b[0m\u001b[0;32m   1094\u001b[0m             )\n\u001b[0;32m   1095\u001b[0m         \u001b[1;32melif\u001b[0m \u001b[0morient\u001b[0m \u001b[1;33m==\u001b[0m \u001b[1;34m\"split\"\u001b[0m\u001b[1;33m:\u001b[0m\u001b[1;33m\u001b[0m\u001b[1;33m\u001b[0m\u001b[0m\n",
      "\u001b[1;31mValueError\u001b[0m: Expected object or value"
     ],
     "ename": "ValueError",
     "evalue": "Expected object or value",
     "output_type": "error"
    }
   ],
   "source": [
    "shuffle_perc = 5\n",
    "papers_perc = 5\n",
    "df = seed.build_quantity_df_shuffle(\"Reader Score\", shuffle_perc, 0)\n",
    "\n",
    "readers_number = df[df[\"Shuffle\"] == 0].shape[0]\n",
    "\n",
    "df = df[\n",
    "    (df[\"Identifier\"] == readers_number-1) |\n",
    "    (df[\"Identifier\"] == readers_number-2) |\n",
    "    (df[\"Identifier\"] == readers_number-3) \n",
    "]"
   ],
   "metadata": {
    "collapsed": false,
    "pycharm": {
     "name": "#%%\n",
     "is_executing": false
    }
   }
  },
  {
   "cell_type": "code",
   "execution_count": 73,
   "outputs": [],
   "source": [
    "with plt.rc_context({'lines.linewidth': linesize}):\n",
    "    ax = sns.pointplot(x=\"Identifier\", y=\"Quantity\", hue=\"Shuffle\", \n",
    "                       data=df, order=[readers_number-3,readers_number-2,readers_number-1])\n",
    "    ax.set_title(f\"shuffle_perc: {shuffle_perc}%\")\n",
    "fig = ax.get_figure()\n",
    "path = \"{}/special-reader-score-lineplot.pdf\".format(result_folder_exp_1_a_path)\n",
    "fig.savefig(path, bbox_inches='tight')\n",
    "plt.close(fig)"
   ],
   "metadata": {
    "collapsed": false,
    "pycharm": {
     "name": "#%%\n",
     "is_executing": false
    }
   }
  },
  {
   "cell_type": "code",
   "execution_count": 55,
   "outputs": [],
   "source": [
    "# ------------------------------\n",
    "# ---------- EXP 1-B -----------\n",
    "# ------------------------------\n",
    "\n",
    "# Analizzo le quantità calcolate da Readersourcing per X shuffle dei rating di un dato seed.\n",
    "# Per ciascuna quantità viene costruito un grafico che mostra i valori della quantità corrente per ciascuno shuffle.\n",
    "\n",
    "seed_shuffle_1 = ReadersourcingToolkit(\n",
    "    dataset_name=\"seed_shuffle_1\", \n",
    "    dataset_folder_path=\"../data/{}/\", \n",
    "    data_shuffled=True, \n",
    "    current_shuffle = 0,\n",
    "    shuffle_amount=100\n",
    ")\n",
    "\n",
    "# Plot parameters\n",
    "\n",
    "linesize = .75\n",
    "\n",
    "# Paths\n",
    "\n",
    "result_folder_experiments_path = \"{}/experiments/\".format(seed_shuffle_1.result_folder_base_path)\n",
    "result_folder_exp_1_b_path = \"{}/experiment_1-b/\".format(result_folder_experiments_path)\n",
    "os.makedirs(result_folder_experiments_path, exist_ok=True)\n",
    "os.makedirs(result_folder_exp_1_b_path, exist_ok=True)"
   ],
   "metadata": {
    "collapsed": false,
    "pycharm": {
     "name": "#%%\n",
     "is_executing": false
    }
   }
  },
  {
   "cell_type": "code",
   "execution_count": 56,
   "outputs": [
    {
     "name": "stdout",
     "text": [
      "0/100 (0/100%)\n100/100 (100/100%)\n---------- BUILDING PAPER SCORE LINE PLOT ----------\n"
     ],
     "output_type": "stream"
    }
   ],
   "source": [
    "shuffle_perc = 5\n",
    "papers_perc = 5\n",
    "df = seed.build_quantity_df_shuffle(\"Paper Score\", seed_shuffle_1, shuffle_perc, papers_perc)\n",
    "\n",
    "print(\"---------- BUILDING PAPER SCORE LINE PLOT ----------\")\n",
    "with plt.rc_context({'lines.linewidth': linesize}):\n",
    "    ax = sns.pointplot(x=\"Identifier\", y=\"Quantity\", hue=\"Shuffle\", data=df)\n",
    "    ax.set_title(f\"shuffle_perc: {shuffle_perc}%, papers_perc: {papers_perc}%\")\n",
    "fig = ax.get_figure()\n",
    "path = \"{}/paper-score-lineplot.pdf\".format(result_folder_exp_1_b_path)\n",
    "fig.savefig(path, bbox_inches='tight')\n",
    "plt.close(fig)"
   ],
   "metadata": {
    "collapsed": false,
    "pycharm": {
     "name": "#%%\n",
     "is_executing": false
    }
   }
  },
  {
   "cell_type": "code",
   "execution_count": 57,
   "outputs": [
    {
     "name": "stdout",
     "text": [
      "0/100 (0/100%)\n100/100 (100/100%)\n---------- BUILDING PAPER STEADINESS LINE PLOT ----------\n"
     ],
     "output_type": "stream"
    }
   ],
   "source": [
    "shuffle_perc = 5\n",
    "papers_perc = 5\n",
    "df = seed.build_quantity_df_shuffle(\"Paper Steadiness\", seed_shuffle_1, shuffle_perc, papers_perc)\n",
    "\n",
    "print(\"---------- BUILDING PAPER STEADINESS LINE PLOT ----------\")\n",
    "with plt.rc_context({'lines.linewidth': linesize}):\n",
    "    ax = sns.pointplot(x=\"Identifier\", y=\"Quantity\", hue=\"Shuffle\", data=df)\n",
    "    ax.set_title(f\"shuffle_perc: {shuffle_perc}%, papers_perc: {papers_perc}%\")\n",
    "fig = ax.get_figure()\n",
    "path = \"{}/paper-steadiness-lineplot.pdf\".format(result_folder_exp_1_b_path)\n",
    "fig.savefig(path, bbox_inches='tight')\n",
    "plt.close(fig)"
   ],
   "metadata": {
    "collapsed": false,
    "pycharm": {
     "name": "#%%\n",
     "is_executing": false
    }
   }
  },
  {
   "cell_type": "code",
   "execution_count": 58,
   "outputs": [
    {
     "name": "stdout",
     "text": [
      "0/100 (0/100%)\n",
      "100/100 (100/100%)\n---------- BUILDING READER SCORE LINE PLOT ----------\n"
     ],
     "output_type": "stream"
    }
   ],
   "source": [
    "shuffle_perc = 5\n",
    "readers_perc = 2\n",
    "df = seed.build_quantity_df_shuffle(\"Reader Score\", seed_shuffle_1, shuffle_perc, readers_perc)\n",
    "\n",
    "print(\"---------- BUILDING READER SCORE LINE PLOT ----------\")\n",
    "with plt.rc_context({'lines.linewidth': linesize}):\n",
    "    ax = sns.pointplot(x=\"Identifier\", y=\"Quantity\", hue=\"Shuffle\", data=df)\n",
    "    ax.set_title(f\"shuffle_perc: {shuffle_perc}%, readers_perc: {readers_perc}%\")\n",
    "fig = ax.get_figure()\n",
    "path = \"{}/reader-score-lineplot.pdf\".format(result_folder_exp_1_b_path)\n",
    "fig.savefig(path, bbox_inches='tight')\n",
    "plt.close(fig)"
   ],
   "metadata": {
    "collapsed": false,
    "pycharm": {
     "name": "#%%\n",
     "is_executing": false
    }
   }
  },
  {
   "cell_type": "code",
   "execution_count": 60,
   "outputs": [
    {
     "name": "stdout",
     "text": [
      "0/100 (0/100%)\n100/100 (100/100%)\n---------- BUILDING READER STEADINESS LINE PLOT ----------\n"
     ],
     "output_type": "stream"
    }
   ],
   "source": [
    "shuffle_perc = 5\n",
    "readers_perc = 2\n",
    "df = seed.build_quantity_df_shuffle(\"Reader Steadiness\", seed_shuffle_1, shuffle_perc, readers_perc)\n",
    "\n",
    "print(\"---------- BUILDING READER STEADINESS LINE PLOT ----------\")\n",
    "with plt.rc_context({'lines.linewidth': linesize}):\n",
    "    ax = sns.pointplot(x=\"Identifier\", y=\"Quantity\", hue=\"Shuffle\", data=df)\n",
    "    ax.set_title(f\"shuffle_perc: {shuffle_perc}%, readers_perc: {readers_perc}%\")\n",
    "fig = ax.get_figure()\n",
    "path = \"{}/reader-steadiness-lineplot.pdf\".format(result_folder_exp_1_b_path)\n",
    "fig.savefig(path, bbox_inches='tight')\n",
    "plt.close(fig)"
   ],
   "metadata": {
    "collapsed": false,
    "pycharm": {
     "name": "#%%\n",
     "is_executing": false
    }
   }
  },
  {
   "cell_type": "code",
   "execution_count": 35,
   "outputs": [
    {
     "name": "stdout",
     "text": [
      "---------- BUILDING PAPER SCORE DATAFRAME ----------\n",
      "500/5000 (10/100%)\n",
      "1000/5000 (20/100%)\n",
      "1500/5000 (30/100%)\n",
      "2000/5000 (40/100%)\n",
      "2500/5000 (50/100%)\n",
      "3000/5000 (60/100%)\n",
      "3500/5000 (70/100%)\n",
      "4000/5000 (80/100%)\n",
      "4500/5000 (90/100%)\n",
      "5000/5000 (100/100%)\n5000/5000 (100/100%)\n---------- BUILDING PAPER STEADINESS DATAFRAME ----------\n",
      "500/5000 (10/100%)\n",
      "1000/5000 (20/100%)\n",
      "1500/5000 (30/100%)\n",
      "2000/5000 (40/100%)\n",
      "2500/5000 (50/100%)\n",
      "3000/5000 (60/100%)\n",
      "3500/5000 (70/100%)\n",
      "4000/5000 (80/100%)\n",
      "4500/5000 (90/100%)\n",
      "5000/5000 (100/100%)\n5000/5000 (100/100%)\n---------- BUILDING READER SCORE DATAFRAME ----------\n",
      "250/2500 (10/100%)\n",
      "500/2500 (20/100%)\n",
      "750/2500 (30/100%)\n",
      "1000/2500 (40/100%)\n",
      "1250/2500 (50/100%)\n",
      "1500/2500 (60/100%)\n",
      "1750/2500 (70/100%)\n",
      "2000/2500 (80/100%)\n",
      "2250/2500 (90/100%)\n",
      "2500/2500 (100/100%)\n2500/2500 (100/100%)\n---------- BUILDING READER STEADINESS DATAFRAME ----------\n",
      "250/2500 (10/100%)\n",
      "500/2500 (20/100%)\n",
      "750/2500 (30/100%)\n",
      "1000/2500 (40/100%)\n",
      "1250/2500 (50/100%)\n",
      "1500/2500 (60/100%)\n",
      "1750/2500 (70/100%)\n",
      "2000/2500 (80/100%)\n",
      "2250/2500 (90/100%)\n",
      "2500/2500 (100/100%)\n2500/2500 (100/100%)\n"
     ],
     "output_type": "stream"
    }
   ],
   "source": [
    "# ------------------------------\n",
    "# ---------- EXP 1-C -----------\n",
    "# ------------------------------\n",
    "\n",
    "# Le quantità calcolate da Readersourcing vengono comparate con la loro media aritmetica, geometrica, bayesiana e con la mediana.\n",
    "# Gli indici standard vengono calcolati sui giudizi ricevuti da ciascun Paper e sui giudizi assegnati da ciascun Reader.\n",
    "\n",
    "seed = ReadersourcingToolkit(\n",
    "    dataset_name=\"seed_1/p_1_beta/\", \n",
    "    dataset_folder_path=\"../data/{}/\", \n",
    ")\n",
    "\n",
    "# Plot parameters\n",
    "\n",
    "linesize = .75\n",
    "    \n",
    "# Paths\n",
    "\n",
    "result_folder_experiments_path = \"{}/experiments/\".format(seed.result_folder_base_path)\n",
    "result_folder_exp_1_c_path = \"{}/experiment_1-c/\".format(result_folder_experiments_path)\n",
    "os.makedirs(result_folder_experiments_path, exist_ok=True)\n",
    "os.makedirs(result_folder_exp_1_c_path, exist_ok=True)\n",
    "\n",
    "# Functions\n",
    "\n",
    "def geo_mean(iterable):\n",
    "    a = np.array(iterable)\n",
    "    return a.prod()**(1.0/len(a))\n",
    "\n",
    "def compute_means(raw_df, quantity_df, quantity_label, axis):\n",
    "        \n",
    "    mean_df = pd.DataFrame(columns=[quantity_label])\n",
    "    mean_df[quantity_label] = quantity_df[\"Quantity\"]\n",
    "    mean_df[\"Arithmetic Mean\"] = raw_df.mean(axis=axis)\n",
    "    mean_df[\"Geometric Mean\"] = raw_df.apply(geo_mean, axis=axis)\n",
    "    mean_df[\"Median\"] = raw_df.mean(axis=axis)\n",
    "    cols = []\n",
    "    for col in raw_df.columns.values:\n",
    "        cols.append(col)\n",
    "    raw_df[\"v\"] = raw_df[cols].count(axis=1)    \n",
    "    m = np.mean(raw_df['v'])\n",
    "    raw_df['w'] = raw_df['v']/(raw_df['v'] + m)\n",
    "    raw_df['r'] = np.mean(raw_df[cols], axis=1)\n",
    "    c = np.mean(raw_df[cols].values.flatten())\n",
    "    raw_df['b'] = raw_df['w']*raw_df['r'] + (1 - raw_df['w'])*c\n",
    "    raw_df = raw_df.drop(['v', 'w', 'r'], axis=1)\n",
    "    mean_df[\"Bayesian Mean\"] = raw_df[\"b\"]\n",
    "    mean_df = mean_df.fillna(0)\n",
    "        \n",
    "    corr_df = pd.DataFrame(columns=[\n",
    "        \"Rho (Arithmetic Mean)\",\n",
    "        \"Rho (Geometric Mean)\",\n",
    "        \"Rho (Bayesian Mean)\",\n",
    "        \"Rho (Median)\",\n",
    "        \"Tau (Arithmetic Mean)\",\n",
    "        \"Tau (Geometric Mean)\",\n",
    "        \"Tau (Bayesian Mean)\",\n",
    "        \"Tau (Median)\",\n",
    "    ])\n",
    "    \n",
    "    dict = {}\n",
    "    quantity_column = mean_df[quantity_label]\n",
    "    columns = mean_df.drop(quantity_label, axis=1).columns\n",
    "    for col in columns:\n",
    "        mean_column = mean_df[col]\n",
    "        pearson_corr_val = pearsonr(quantity_column, mean_column)[0]\n",
    "        if math.isnan(pearson_corr_val):\n",
    "            pearson_corr_val = 0\n",
    "        kendall_corr_val = kendalltau(quantity_column, mean_column)[0]\n",
    "        if math.isnan(kendall_corr_val):\n",
    "            kendall_corr_val = 0\n",
    "        dict[f'Rho ({col})'] = pearson_corr_val\n",
    "        dict[f'Tau ({col})'] = kendall_corr_val\n",
    "    corr_df = corr_df.append(dict, ignore_index=True)\n",
    "    \n",
    "    return corr_df, mean_df\n",
    "    \n",
    "ratings_df = seed.extract_ratings_df()\n",
    "\n",
    "print(\"---------- BUILDING PAPER SCORE DATAFRAME ----------\")\n",
    "paper_score_df = seed.build_quantity_df(\"Paper Score\", 100)\n",
    "print(\"---------- BUILDING PAPER STEADINESS DATAFRAME ----------\")\n",
    "paper_steadiness_df = seed.build_quantity_df(\"Paper Steadiness\", 100)\n",
    "print(\"---------- BUILDING READER SCORE DATAFRAME ----------\")\n",
    "reader_score_df = seed.build_quantity_df(\"Reader Score\", 100)\n",
    "print(\"---------- BUILDING READER STEADINESS DATAFRAME ----------\")\n",
    "reader_steadiness_df = seed.build_quantity_df(\"Reader Steadiness\", 100)"
   ],
   "metadata": {
    "collapsed": false,
    "pycharm": {
     "name": "#%%\n",
     "is_executing": false
    }
   }
  },
  {
   "cell_type": "code",
   "execution_count": 36,
   "outputs": [
    {
     "name": "stdout",
     "text": [
      "---------- BUILDING PAPER SCORE CORRELATION DATAFRAME ----------\n",
      "Saved at path:  ../models/seed_1/p_1_beta//readersourcing//experiments//experiment_1-c/csv/Corr_Df_Paper_Score.csv\n---------- BUILDING PAPER STEADINESS CORRELATION DATAFRAME ----------\n",
      "Saved at path:  ../models/seed_1/p_1_beta//readersourcing//experiments//experiment_1-c/csv/Corr_Df_Paper_Steadiness.csv\n---------- BUILDING READER SCORE CORRELATION DATAFRAME ----------\n",
      "Saved at path:  ../models/seed_1/p_1_beta//readersourcing//experiments//experiment_1-c/csv/Corr_Df_Reader_Score.csv\n---------- BUILDING READER SCORE CORRELATION DATAFRAME ----------\n",
      "Saved at path:  ../models/seed_1/p_1_beta//readersourcing//experiments//experiment_1-c/csv/Corr_Df_Reader_Steadiness.csv\n"
     ],
     "output_type": "stream"
    }
   ],
   "source": [
    "# CSV Files Computation\n",
    "\n",
    "os.makedirs(\"{}/csv/\".format(result_folder_exp_1_c_path), exist_ok=True)\n",
    "\n",
    "print(\"---------- BUILDING PAPER SCORE CORRELATION DATAFRAME ----------\")\n",
    "corr_df_1, mean_df_1 = compute_means(ratings_df, paper_score_df, \"Paper Score\", 0)\n",
    "output_path = \"{}csv/Corr_Df_Paper_Score.csv\".format(result_folder_exp_1_c_path)\n",
    "corr_df_1.to_csv(output_path, index=False)\n",
    "print(\"Saved at path: \", output_path)\n",
    "\n",
    "print(\"---------- BUILDING PAPER STEADINESS CORRELATION DATAFRAME ----------\")\n",
    "corr_df_2, mean_df_2 = compute_means(ratings_df, paper_steadiness_df, \"Paper Steadiness\", 0)\n",
    "output_path = \"{}csv/Corr_Df_Paper_Steadiness.csv\".format(result_folder_exp_1_c_path)\n",
    "corr_df_2.to_csv(output_path, index=False)\n",
    "print(\"Saved at path: \", output_path)\n",
    "\n",
    "print(\"---------- BUILDING READER SCORE CORRELATION DATAFRAME ----------\")\n",
    "corr_df_3, mean_df_3 = compute_means(ratings_df, reader_score_df, \"Reader Score\", 1)\n",
    "output_path = \"{}csv/Corr_Df_Reader_Score.csv\".format(result_folder_exp_1_c_path)\n",
    "corr_df_3.to_csv(output_path, index=False)\n",
    "print(\"Saved at path: \", output_path)\n",
    "\n",
    "print(\"---------- BUILDING READER SCORE CORRELATION DATAFRAME ----------\")\n",
    "corr_df_4, mean_df_4 = compute_means(ratings_df, reader_steadiness_df, \"Reader Steadiness\", 1)\n",
    "output_path = \"{}csv/Corr_Df_Reader_Steadiness.csv\".format(result_folder_exp_1_c_path)\n",
    "corr_df_4.to_csv(output_path, index=False)\n",
    "print(\"Saved at path: \", output_path)"
   ],
   "metadata": {
    "collapsed": false,
    "pycharm": {
     "name": "#%%\n",
     "is_executing": false
    }
   }
  },
  {
   "cell_type": "code",
   "execution_count": 43,
   "outputs": [
    {
     "data": {
      "text/plain": "<Figure size 432x432 with 1 Axes>",
      "image/png": "[encoded data removed]"
     },
     "metadata": {
      "needs_background": "light"
     },
     "output_type": "display_data"
    }
   ],
   "source": [
    "os.makedirs(\"{}/plots/\".format(result_folder_exp_1_c_path), exist_ok=True)\n",
    "\n",
    "ax = sns.lineplot(x=mean_df_1[\"Paper Score\"], y=mean_df_1[\"Arithmetic Mean\"])\n",
    "plt.show()\n",
    "\n",
    " # regplot paper score asse x media asse y\n",
    " \n",
    " \n",
    " "
   ],
   "metadata": {
    "collapsed": false,
    "pycharm": {
     "name": "#%%\n",
     "is_executing": false
    }
   }
  },
  {
   "cell_type": "code",
   "execution_count": null,
   "outputs": [],
   "source": [
    "\n"
   ],
   "metadata": {
    "collapsed": false,
    "pycharm": {
     "name": "#%%\n"
    }
   }
  }
 ],
 "metadata": {
  "language_info": {
   "codemirror_mode": {
    "name": "ipython",
    "version": 2
   },
   "file_extension": ".py",
   "mimetype": "text/x-python",
   "name": "python",
   "nbconvert_exporter": "python",
   "pygments_lexer": "ipython2",
   "version": "2.7.6"
  },
  "kernelspec": {
   "name": "python3",
   "language": "python",
   "display_name": "Python 3"
  },
  "pycharm": {
   "stem_cell": {
    "cell_type": "raw",
    "source": [],
    "metadata": {
     "collapsed": false
    }
   }
  }
 },
 "nbformat": 4,
 "nbformat_minor": 0
}