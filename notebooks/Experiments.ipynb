{
 "cells": [
  {
   "cell_type": "code",
   "execution_count": 91,
   "metadata": {
    "collapsed": true,
    "pycharm": {
     "is_executing": false
    }
   },
   "outputs": [],
   "source": [
    "import pandas as pd\n",
    "import os\n",
    "from matplotlib import pyplot as plt\n",
    "import seaborn as sns\n",
    "from ReadersourcingParameters import ReadersourcingParameters\n",
    "\n",
    "plt.rcParams['figure.figsize']=(9,9)\n",
    "plt.ioff()\n",
    "\n",
    "def build_df(quantity_label, seed):\n",
    "    quantity_df = pd.DataFrame(columns=[\"Shuffle\", \"Identifier\", \"Quantity\"])\n",
    "    for index_shuffle in range(seed.shuffle_amount):\n",
    "        percentage = 100*index_shuffle/seed.shuffle_amount\n",
    "        if percentage % 5 == 0:\n",
    "            print(\"{}/{} ({}/100%)\".format(int(index_shuffle), seed.shuffle_amount, int(percentage)))\n",
    "        quantities = pd.read_json(\"{}/shuffle/shuffle_{}/quantities.json\".format(seed.result_folder_base_path, index_shuffle))\n",
    "        row = quantities.loc[quantities[\"Quantity\"] == quantity_label]\n",
    "        row = row.reset_index()\n",
    "        identifiers = row.at[0, \"Identifiers\"]\n",
    "        quantity = row.at[0, \"Values\"]\n",
    "        for index, identifier in enumerate(identifiers):\n",
    "            quantity_df = quantity_df.append({\"Shuffle\": index_shuffle, \"Identifier\": identifier, \"Quantity\": quantity[index]}, ignore_index=True)\n",
    "    quantity_df[\"Shuffle\"] = quantity_df[\"Shuffle\"].astype(int)\n",
    "    quantity_df[\"Identifier\"] = quantity_df[\"Identifier\"].astype(int)\n",
    "    print(\"{}/{} (100/100%)\".format(seed.shuffle_amount, seed.shuffle_amount))\n",
    "    return quantity_df"
   ]
  },
  {
   "cell_type": "code",
   "execution_count": 94,
   "outputs": [
    {
     "name": "stdout",
     "text": [
      "0/100 (0/100%)\n",
      "5/100 (5/100%)\n",
      "10/100 (10/100%)\n",
      "15/100 (15/100%)\n",
      "20/100 (20/100%)\n",
      "25/100 (25/100%)\n",
      "30/100 (30/100%)\n",
      "35/100 (35/100%)\n",
      "40/100 (40/100%)\n",
      "45/100 (45/100%)\n",
      "50/100 (50/100%)\n",
      "55/100 (55/100%)\n",
      "60/100 (60/100%)\n",
      "65/100 (65/100%)\n",
      "70/100 (70/100%)\n",
      "75/100 (75/100%)\n",
      "80/100 (80/100%)\n",
      "85/100 (85/100%)\n",
      "90/100 (90/100%)\n",
      "95/100 (95/100%)\n",
      "100/100 (100/100%)\n(100300, 3)\n"
     ],
     "output_type": "stream"
    }
   ],
   "source": [
    "# ------------------------------\n",
    "# ---------- EXP 1-A -----------\n",
    "# ------------------------------\n",
    "\n",
    "seed_shuffle_1_special = ReadersourcingParameters(\n",
    "    dataset_name=\"seed_shuffle_1_special\", \n",
    "    dataset_folder_path=\"../data/{}/\", \n",
    "    data_shuffled=True, \n",
    "    current_shuffle = 0,\n",
    "    shuffle_amount=100\n",
    ")\n",
    "\n",
    "df = build_df(\"Reader Score\", seed_shuffle_1_special)\n",
    "\n",
    "readers_number = df[df[\"Shuffle\"] == 0].shape[0]\n",
    "df = df[\n",
    "    (df[\"Identifier\"] == readers_number-1) |\n",
    "    (df[\"Identifier\"] == readers_number-2) |\n",
    "    (df[\"Identifier\"] == readers_number-3) \n",
    "]\n",
    "\n",
    "for shuffle_index in range(seed_shuffle_1_special.shuffle_amount):\n",
    "    df_shuffle = df[df[\"Shuffle\"] == shuffle_index]\n",
    "    reader_1_rating = df_shuffle.at[readers_number-1, \"Identifier\"]\n",
    "    reader_2_rating = df_shuffle.at[readers_number-2, \"Identifier\"]\n",
    "    reader_3_rating = df_shuffle.at[readers_number-3, \"Identifier\"]\n",
    "    assert False"
   ],
   "metadata": {
    "collapsed": false,
    "pycharm": {
     "name": "#%%\n",
     "is_executing": false
    }
   }
  },
  {
   "cell_type": "code",
   "execution_count": 68,
   "outputs": [],
   "source": [
    "# ------------------------------\n",
    "# ---------- EXP 1-B -----------\n",
    "# ------------------------------\n",
    "\n",
    "seed_shuffle_1 = ReadersourcingParameters(\n",
    "    dataset_name=\"seed_shuffle_1\", \n",
    "    dataset_folder_path=\"../data/{}/\", \n",
    "    data_shuffled=True, \n",
    "    current_shuffle = 0,\n",
    "    shuffle_amount=100\n",
    ")\n",
    "\n",
    "result_folder_experiments_path = \"{}/experiments/\".format(seed_shuffle_1.result_folder_base_path)\n",
    "result_folder_exp_1_path = \"{}/experiment_1-b/\".format(result_folder_experiments_path)\n",
    "\n",
    "os.makedirs(result_folder_experiments_path, exist_ok=True)"
   ],
   "metadata": {
    "collapsed": false,
    "pycharm": {
     "name": "#%%\n",
     "is_executing": false
    }
   }
  },
  {
   "cell_type": "code",
   "execution_count": 69,
   "outputs": [
    {
     "name": "stdout",
     "text": [
      "0/100 (0/100%)\n",
      "5/100 (5/100%)\n",
      "10/100 (10/100%)\n",
      "15/100 (15/100%)\n",
      "20/100 (20/100%)\n",
      "25/100 (25/100%)\n",
      "30/100 (30/100%)\n",
      "35/100 (35/100%)\n",
      "40/100 (40/100%)\n",
      "45/100 (45/100%)\n",
      "50/100 (50/100%)\n",
      "55/100 (55/100%)\n",
      "60/100 (60/100%)\n",
      "65/100 (65/100%)\n",
      "70/100 (70/100%)\n",
      "75/100 (75/100%)\n",
      "80/100 (80/100%)\n",
      "85/100 (85/100%)\n",
      "90/100 (90/100%)\n",
      "95/100 (95/100%)\n",
      "100/100 (100/100%)\n---------- BUILDING PAPER SCORE SCATTER PLOT ----------\n",
      "---------- BUILDING PAPER SCORE LINE PLOT ----------\n"
     ],
     "output_type": "stream"
    }
   ],
   "source": [
    "df = build_df(\"Paper Score\", seed_shuffle_1)\n",
    "\n",
    "print(\"---------- BUILDING PAPER SCORE SCATTER PLOT ----------\")\n",
    "os.makedirs(result_folder_exp_1_path, exist_ok=True)\n",
    "ax = sns.scatterplot(x=\"Identifier\", y=\"Quantity\", data=df)\n",
    "fig = ax.get_figure()\n",
    "path = \"{}/paper-score-scatterplot.pdf\".format(result_folder_exp_1_path)\n",
    "fig.savefig(path, bbox_inches='tight')\n",
    "plt.close(fig)\n",
    "\n",
    "print(\"---------- BUILDING PAPER SCORE LINE PLOT ----------\")\n",
    "df = df[df[\"Shuffle\"] < 6]\n",
    "df = df[df[\"Identifier\"] < 20]\n",
    "ax = sns.pointplot(x=\"Identifier\", y=\"Quantity\", hue=\"Shuffle\", data=df)\n",
    "fig = ax.get_figure()\n",
    "path = \"{}/paper-score-lineplot.pdf\".format(result_folder_exp_1_path)\n",
    "fig.savefig(path, bbox_inches='tight')\n",
    "plt.close(fig)"
   ],
   "metadata": {
    "collapsed": false,
    "pycharm": {
     "name": "#%%\n",
     "is_executing": false
    }
   }
  },
  {
   "cell_type": "code",
   "execution_count": 70,
   "outputs": [
    {
     "name": "stdout",
     "text": [
      "0/100 (0/100%)\n",
      "5/100 (5/100%)\n",
      "10/100 (10/100%)\n",
      "15/100 (15/100%)\n",
      "20/100 (20/100%)\n",
      "25/100 (25/100%)\n",
      "30/100 (30/100%)\n",
      "35/100 (35/100%)\n",
      "40/100 (40/100%)\n",
      "45/100 (45/100%)\n",
      "50/100 (50/100%)\n",
      "55/100 (55/100%)\n",
      "60/100 (60/100%)\n",
      "65/100 (65/100%)\n",
      "70/100 (70/100%)\n",
      "75/100 (75/100%)\n",
      "80/100 (80/100%)\n",
      "85/100 (85/100%)\n",
      "90/100 (90/100%)\n",
      "95/100 (95/100%)\n",
      "100/100 (100/100%)\n---------- BUILDING PAPER STEADINESS SCATTER PLOT ----------\n",
      "---------- BUILDING PAPER STEADINESS LINE PLOT ----------\n"
     ],
     "output_type": "stream"
    }
   ],
   "source": [
    "df = build_df(\"Paper Steadiness\", seed_shuffle_1)\n",
    "\n",
    "print(\"---------- BUILDING PAPER STEADINESS SCATTER PLOT ----------\")\n",
    "os.makedirs(result_folder_exp_1_path, exist_ok=True)\n",
    "ax = sns.scatterplot(x=\"Identifier\", y=\"Quantity\", data=df)\n",
    "fig = ax.get_figure()\n",
    "path = \"{}/paper-steadiness-scatterplot.pdf\".format(result_folder_exp_1_path)\n",
    "fig.savefig(path, bbox_inches='tight')\n",
    "plt.close(fig)\n",
    "\n",
    "print(\"---------- BUILDING PAPER STEADINESS LINE PLOT ----------\")\n",
    "df = df[df[\"Shuffle\"] < 6]\n",
    "df = df[df[\"Identifier\"] < 20]\n",
    "ax = sns.pointplot(x=\"Identifier\", y=\"Quantity\", hue=\"Shuffle\", data=df)\n",
    "fig = ax.get_figure()\n",
    "path = \"{}/paper-steadiness-lineplot.pdf\".format(result_folder_exp_1_path)\n",
    "fig.savefig(path, bbox_inches='tight')\n",
    "plt.close(fig)"
   ],
   "metadata": {
    "collapsed": false,
    "pycharm": {
     "name": "#%%\n",
     "is_executing": false
    }
   }
  },
  {
   "cell_type": "code",
   "execution_count": 71,
   "outputs": [
    {
     "name": "stdout",
     "text": [
      "0/100 (0/100%)\n",
      "5/100 (5/100%)\n",
      "10/100 (10/100%)\n",
      "15/100 (15/100%)\n",
      "20/100 (20/100%)\n",
      "25/100 (25/100%)\n",
      "30/100 (30/100%)\n",
      "35/100 (35/100%)\n",
      "40/100 (40/100%)\n",
      "45/100 (45/100%)\n",
      "50/100 (50/100%)\n",
      "55/100 (55/100%)\n",
      "60/100 (60/100%)\n",
      "65/100 (65/100%)\n",
      "70/100 (70/100%)\n",
      "75/100 (75/100%)\n",
      "80/100 (80/100%)\n",
      "85/100 (85/100%)\n",
      "90/100 (90/100%)\n",
      "95/100 (95/100%)\n",
      "100/100 (100/100%)\n---------- BUILDING READER SCORE SCATTER PLOT ----------\n",
      "---------- BUILDING READER SCORE LINE PLOT ----------\n"
     ],
     "output_type": "stream"
    }
   ],
   "source": [
    "df = build_df(\"Reader Score\", seed_shuffle_1)\n",
    "\n",
    "print(\"---------- BUILDING READER SCORE SCATTER PLOT ----------\")\n",
    "os.makedirs(result_folder_exp_1_path, exist_ok=True)\n",
    "ax = sns.scatterplot(x=\"Identifier\", y=\"Quantity\", data=df)\n",
    "fig = ax.get_figure()\n",
    "path = \"{}/reader-score-scatterplot.pdf\".format(result_folder_exp_1_path)\n",
    "fig.savefig(path, bbox_inches='tight')\n",
    "plt.close(fig)\n",
    "\n",
    "print(\"---------- BUILDING READER SCORE LINE PLOT ----------\")\n",
    "df = df[df[\"Shuffle\"] < 6]\n",
    "df = df[df[\"Identifier\"] < 20]\n",
    "ax = sns.pointplot(x=\"Identifier\", y=\"Quantity\", hue=\"Shuffle\", data=df)\n",
    "fig = ax.get_figure()\n",
    "path = \"{}/reader-score-lineplot.pdf\".format(result_folder_exp_1_path)\n",
    "fig.savefig(path, bbox_inches='tight')\n",
    "plt.close(fig)"
   ],
   "metadata": {
    "collapsed": false,
    "pycharm": {
     "name": "#%%\n",
     "is_executing": false
    }
   }
  },
  {
   "cell_type": "code",
   "execution_count": 72,
   "outputs": [
    {
     "name": "stdout",
     "text": [
      "0/100 (0/100%)\n",
      "5/100 (5/100%)\n",
      "10/100 (10/100%)\n",
      "15/100 (15/100%)\n",
      "20/100 (20/100%)\n",
      "25/100 (25/100%)\n",
      "30/100 (30/100%)\n",
      "35/100 (35/100%)\n",
      "40/100 (40/100%)\n",
      "45/100 (45/100%)\n",
      "50/100 (50/100%)\n",
      "55/100 (55/100%)\n",
      "60/100 (60/100%)\n",
      "65/100 (65/100%)\n",
      "70/100 (70/100%)\n",
      "75/100 (75/100%)\n",
      "80/100 (80/100%)\n",
      "85/100 (85/100%)\n",
      "90/100 (90/100%)\n",
      "95/100 (95/100%)\n",
      "100/100 (100/100%)\n---------- BUILDING READER STEADINESS SCATTER PLOT ----------\n",
      "---------- BUILDING READER STEADINESS LINE PLOT ----------\n"
     ],
     "output_type": "stream"
    }
   ],
   "source": [
    "df = build_df(\"Reader Steadiness\", seed_shuffle_1)\n",
    "\n",
    "print(\"---------- BUILDING READER STEADINESS SCATTER PLOT ----------\")\n",
    "os.makedirs(result_folder_exp_1_path, exist_ok=True)\n",
    "ax = sns.scatterplot(x=\"Identifier\", y=\"Quantity\", data=df)\n",
    "fig = ax.get_figure()\n",
    "path = \"{}/reader-steadiness-scatterplot.pdf\".format(result_folder_exp_1_path)\n",
    "fig.savefig(path, bbox_inches='tight')\n",
    "plt.close(fig)\n",
    "\n",
    "print(\"---------- BUILDING READER STEADINESS LINE PLOT ----------\")\n",
    "df = df[df[\"Shuffle\"] < 6]\n",
    "df = df[df[\"Identifier\"] < 20]\n",
    "ax = sns.pointplot(x=\"Identifier\", y=\"Quantity\", hue=\"Shuffle\", data=df)\n",
    "fig = ax.get_figure()\n",
    "path = \"{}/reader-steadiness-lineplot.pdf\".format(result_folder_exp_1_path)\n",
    "fig.savefig(path, bbox_inches='tight')\n",
    "plt.close(fig)"
   ],
   "metadata": {
    "collapsed": false,
    "pycharm": {
     "name": "#%%\n",
     "is_executing": false
    }
   }
  },
  {
   "cell_type": "code",
   "execution_count": null,
   "outputs": [],
   "source": [
    "\n"
   ],
   "metadata": {
    "collapsed": false,
    "pycharm": {
     "name": "#%%\n"
    }
   }
  }
 ],
 "metadata": {
  "language_info": {
   "codemirror_mode": {
    "name": "ipython",
    "version": 2
   },
   "file_extension": ".py",
   "mimetype": "text/x-python",
   "name": "python",
   "nbconvert_exporter": "python",
   "pygments_lexer": "ipython2",
   "version": "2.7.6"
  },
  "kernelspec": {
   "name": "python3",
   "language": "python",
   "display_name": "Python 3"
  },
  "pycharm": {
   "stem_cell": {
    "cell_type": "raw",
    "source": [],
    "metadata": {
     "collapsed": false
    }
   }
  }
 },
 "nbformat": 4,
 "nbformat_minor": 0
}