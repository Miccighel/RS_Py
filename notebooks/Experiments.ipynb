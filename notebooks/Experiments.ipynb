{
 "cells": [
  {
   "cell_type": "code",
   "execution_count": 1,
   "metadata": {
    "collapsed": true,
    "pycharm": {
     "is_executing": false
    }
   },
   "outputs": [],
   "source": [
    "import pandas as pd\n",
    "import os\n",
    "from matplotlib import pyplot as plt\n",
    "import seaborn as sns\n",
    "from ReadersourcingToolkit import ReadersourcingToolkit\n",
    "import numpy as np\n",
    "import math\n",
    "from scipy.stats.stats import pearsonr\n",
    "from scipy.stats.stats import kendalltau\n",
    "from scipy.stats.stats import gmean\n",
    "%load_ext autoreload\n",
    "%autoreload 2"
   ]
  },
  {
   "cell_type": "code",
   "execution_count": 6,
   "outputs": [],
   "source": [
    "# ------------------------------\n",
    "# ---------- EXP 1-A -----------\n",
    "# ------------------------------\n",
    "\n",
    "# Analizzo l'andamento degli score di tre reader \"speciali\" per X shuffle dei rating di un dato seed.\n",
    "# Reader 1 vota sempre nel modo \"esatto\" (sulla media). \n",
    "# Reader 2 vota sempre a metà scala rispetto a 1001.\n",
    "# Reader 3 vota sempre sugli estremi.\n",
    "# L'ordinamento desiderato degli score è Reader 1 -> Reader 2 -> Reader 3 (decrescente)\n",
    "\n",
    "seed = ReadersourcingToolkit(\n",
    "    dataset_name=\"seed_power_law_1\", \n",
    "    dataset_folder_path=\"../data/{}/\", \n",
    "    data_shuffled=True, \n",
    "    current_shuffle = 0,\n",
    "    shuffle_amount=30,\n",
    "    shuffle_special = True\n",
    ")\n",
    "\n",
    "# Plot parameters\n",
    "\n",
    "linesize = .75\n",
    "jitter = .2\n",
    "alpha = .6\n",
    "linewidth = .6\n",
    "size = 5\n",
    "flatue = {'-1': '#bfbfbf',\n",
    "          '0':'#932727',\n",
    "          '1':'#ffa303', \n",
    "          '2':'#27279f',\n",
    "          '3':'#49e7ff'}\n",
    "\n",
    "shuffle_perc = 100\n",
    "papers_perc = 100\n",
    "readers_perc = 100\n",
    "\n",
    "# Paths\n",
    "\n",
    "result_folder_experiments_path = \"{}/experiments/\".format(seed.result_folder_base_path)\n",
    "result_folder_exp_1_a_path = \"{}/experiment_1-a/\".format(result_folder_experiments_path)\n",
    "os.makedirs(result_folder_experiments_path, exist_ok=True)\n",
    "os.makedirs(result_folder_exp_1_a_path, exist_ok=True)"
   ],
   "metadata": {
    "collapsed": false,
    "pycharm": {
     "name": "#%%\n",
     "is_executing": false
    }
   }
  },
  {
   "cell_type": "code",
   "execution_count": 7,
   "outputs": [
    {
     "name": "stdout",
     "text": [
      "0/30 (0/100%)\n",
      "3/30 (10/100%)\n",
      "6/30 (20/100%)\n",
      "9/30 (30/100%)\n",
      "12/30 (40/100%)\n",
      "15/30 (50/100%)\n",
      "18/30 (60/100%)\n",
      "21/30 (70/100%)\n",
      "24/30 (80/100%)\n",
      "27/30 (90/100%)\n",
      "30/30 (100/100%)\n"
     ],
     "output_type": "stream"
    }
   ],
   "source": [
    "df = seed.build_quantity_df_shuffle(\"Reader Score\", shuffle_perc, readers_perc)\n",
    "\n",
    "readers_number = df[df[\"Shuffle\"] == 0].shape[0]\n",
    "\n",
    "df = df[\n",
    "    (df[\"Identifier\"] == readers_number-1) |\n",
    "    (df[\"Identifier\"] == readers_number-2) |\n",
    "    (df[\"Identifier\"] == readers_number-3) \n",
    "]\n",
    "\n",
    "df['Identifier'][df['Identifier'] == readers_number-3] = \"Reader \\\"Good\\\"\"\n",
    "df['Identifier'][df['Identifier'] == readers_number-2] = \"Reader \\\"Bad\\\"\"\n",
    "df['Identifier'][df['Identifier'] == readers_number-1] = \"Reader \\\"Average\\\"\""
   ],
   "metadata": {
    "collapsed": false,
    "pycharm": {
     "name": "#%%\n",
     "is_executing": false
    }
   }
  },
  {
   "cell_type": "code",
   "execution_count": 18,
   "outputs": [],
   "source": [
    "with plt.rc_context({'lines.linewidth': linesize}):\n",
    "   ax = sns.stripplot(x = \"Identifier\", y = \"Quantity\", hue=\"Shuffle\", data = df, \n",
    "                      alpha = .85, size=8, marker=\"$\\circ$\", palette=\"deep\", \n",
    "                      order=[\"Reader \\\"Bad\\\"\", \"Reader \\\"Average\\\"\", \"Reader \\\"Good\\\"\"])\n",
    "   ax.legend_.remove() \n",
    "   ax.set_title(f\"Reader Score\")\n",
    "   fig = ax.get_figure()\n",
    "   path = \"{}/reader-score.pdf\".format(result_folder_exp_1_a_path)\n",
    "   fig.savefig(path, bbox_inches='tight')\n",
    "   plt.close(fig)"
   ],
   "metadata": {
    "collapsed": false,
    "pycharm": {
     "name": "#%%\n",
     "is_executing": false
    }
   }
  },
  {
   "cell_type": "code",
   "execution_count": 61,
   "outputs": [],
   "source": [
    "# ------------------------------\n",
    "# ---------- EXP 1-B -----------\n",
    "# ------------------------------\n",
    "\n",
    "# Analizzo le quantità calcolate da Readersourcing per X shuffle dei rating di un dato seed.\n",
    "# Per ciascuna quantità viene costruito un grafico che mostra i valori della quantità corrente per ciascuno shuffle.\n",
    "\n",
    "seed = ReadersourcingToolkit(\n",
    "    dataset_name=\"seed_power_law_1\", \n",
    "    dataset_folder_path=\"../data/{}/\", \n",
    "    data_shuffled=True, \n",
    "    current_shuffle = 0,\n",
    "    shuffle_amount=100\n",
    ")\n",
    "\n",
    "# Plot parameters\n",
    "\n",
    "linesize = .75\n",
    "jitter = .2\n",
    "alpha = .6\n",
    "linewidth = .6\n",
    "size = 5\n",
    "flatue = {'-1': '#bfbfbf',\n",
    "          '0':'#932727',\n",
    "          '1':'#ffa303', \n",
    "          '2':'#27279f',\n",
    "          '3':'#49e7ff'}\n",
    "\n",
    "shuffle_perc = 100\n",
    "papers_perc = 100\n",
    "readers_perc = 100\n",
    "\n",
    "# Paths\n",
    "\n",
    "result_folder_experiments_path = \"{}/experiments/\".format(seed.result_folder_base_path)\n",
    "result_folder_exp_1_b_path = \"{}/experiment_1-b/\".format(result_folder_experiments_path)\n",
    "os.makedirs(result_folder_experiments_path, exist_ok=True)\n",
    "os.makedirs(result_folder_exp_1_b_path, exist_ok=True)"
   ],
   "metadata": {
    "collapsed": false,
    "pycharm": {
     "name": "#%%\n",
     "is_executing": false
    }
   }
  },
  {
   "cell_type": "code",
   "execution_count": 58,
   "outputs": [
    {
     "name": "stdout",
     "text": [
      "---------- BUILDING PAPER SCORE PLOTS ----------\n0/100 (0/100%)\n",
      "5/100 (5/100%)\n",
      "10/100 (10/100%)\n",
      "15/100 (15/100%)\n",
      "20/100 (20/100%)\n",
      "25/100 (25/100%)\n",
      "30/100 (30/100%)\n",
      "35/100 (35/100%)\n",
      "40/100 (40/100%)\n",
      "45/100 (45/100%)\n",
      "50/100 (50/100%)\n",
      "55/100 (55/100%)\n",
      "60/100 (60/100%)\n",
      "65/100 (65/100%)\n",
      "70/100 (70/100%)\n",
      "75/100 (75/100%)\n",
      "80/100 (80/100%)\n",
      "85/100 (85/100%)\n",
      "90/100 (90/100%)\n",
      "95/100 (95/100%)\n",
      "100/100 (100/100%)\nFinal Shape: (1500, 3)\n"
     ],
     "output_type": "stream"
    }
   ],
   "source": [
    "print(\"---------- BUILDING PAPER SCORE PLOTS ----------\")\n",
    "\n",
    "df_paper_score = seed.build_quantity_df_shuffle(\"Paper Score\", shuffle_perc, papers_perc, True)\n",
    "df_paper_score.to_pickle(\"{}df-paper-score.pkl\".format(result_folder_exp_1_b_path))\n",
    "\n",
    "df_std = df_paper_score.groupby('Identifier').agg(\"std\")\n",
    "df_std.sort_values(by=\"Quantity\", ascending=False, inplace=True)\n",
    "identifiers = df_std.head(15).index\n",
    "df_top_std_paper_score = df_paper_score.loc[df_paper_score[\"Identifier\"].isin(identifiers)]\n",
    "df_top_std_paper_score.to_pickle(\"{}df-top-15-std-paper-score.pkl\".format(result_folder_exp_1_b_path))\n",
    "print(\"Final Shape: {}\".format(df_top_std_paper_score.shape))"
   ],
   "metadata": {
    "collapsed": false,
    "pycharm": {
     "name": "#%%\n",
     "is_executing": false
    }
   }
  },
  {
   "cell_type": "code",
   "execution_count": 59,
   "outputs": [
    {
     "name": "stdout",
     "text": [
      "---------- PAPER SCORE PLOTS BUILDING COMPLETED ----------\n"
     ],
     "output_type": "stream"
    }
   ],
   "source": [
    "with plt.rc_context({'lines.linewidth': linesize}):\n",
    "    ax = sns.stripplot(x = \"Identifier\", y = \"Quantity\", hue=\"Shuffle\", data = df_top_std_paper_score,\n",
    "                  dodge = True, jitter = jitter, alpha = .75, size=5, marker=\"$\\circ$\",\n",
    "                       palette=\"deep\")\n",
    "    ax.legend_.remove()\n",
    "    ax = sns.boxplot(x = \"Identifier\", y = \"Quantity\", data = df_top_std_paper_score, \n",
    "                     boxprops = dict(facecolor = '#FFFFFF', alpha=.75))   \n",
    "    ax.set_title(f\"Paper Score\")\n",
    "    ax.set_xticklabels(ax.get_xticklabels(), rotation=45)\n",
    "    fig = ax.get_figure()\n",
    "    path = \"{}/paper-score.pdf\".format(result_folder_exp_1_b_path)\n",
    "    fig.savefig(path, bbox_inches='tight')\n",
    "    plt.close(fig)\n",
    "\n",
    "print(\"---------- PAPER SCORE PLOTS BUILDING COMPLETED ----------\")"
   ],
   "metadata": {
    "collapsed": false,
    "pycharm": {
     "name": "#%%\n",
     "is_executing": false
    }
   }
  },
  {
   "cell_type": "code",
   "execution_count": 62,
   "outputs": [
    {
     "name": "stdout",
     "text": [
      "---------- BUILDING PAPER STEADINESS PLOTS ----------\n0/100 (0/100%)\n",
      "5/100 (5/100%)\n",
      "10/100 (10/100%)\n",
      "15/100 (15/100%)\n",
      "20/100 (20/100%)\n",
      "25/100 (25/100%)\n",
      "30/100 (30/100%)\n",
      "35/100 (35/100%)\n",
      "40/100 (40/100%)\n",
      "45/100 (45/100%)\n",
      "50/100 (50/100%)\n",
      "55/100 (55/100%)\n",
      "60/100 (60/100%)\n",
      "65/100 (65/100%)\n",
      "70/100 (70/100%)\n",
      "75/100 (75/100%)\n",
      "80/100 (80/100%)\n",
      "85/100 (85/100%)\n",
      "90/100 (90/100%)\n",
      "95/100 (95/100%)\n",
      "100/100 (100/100%)\nFinal Shape: (1500, 3)\n"
     ],
     "output_type": "stream"
    }
   ],
   "source": [
    "print(\"---------- BUILDING PAPER STEADINESS PLOTS ----------\")\n",
    "\n",
    "df_paper_steadiness = seed.build_quantity_df_shuffle(\"Paper Steadiness\", shuffle_perc, papers_perc, True)\n",
    "df_paper_steadiness.to_pickle(\"{}df-paper-steadiness.pkl\".format(result_folder_exp_1_b_path))\n",
    "\n",
    "df_std = df_paper_steadiness.groupby('Identifier').agg(\"std\")\n",
    "df_std.sort_values(by=\"Quantity\", ascending=False, inplace=True)\n",
    "identifiers = df_std.head(15).index\n",
    "df_top_std_paper_steadiness = df_paper_steadiness.loc[df_paper_steadiness[\"Identifier\"].isin(identifiers)]\n",
    "df_top_std_paper_steadiness.to_pickle(\"{}df-top-15-std-paper-steadiness.pkl\".format(result_folder_exp_1_b_path))\n",
    "print(\"Final Shape: {}\".format(df_top_std_paper_steadiness.shape))"
   ],
   "metadata": {
    "collapsed": false,
    "pycharm": {
     "name": "#%%\n",
     "is_executing": false
    }
   }
  },
  {
   "cell_type": "code",
   "execution_count": 63,
   "outputs": [
    {
     "name": "stdout",
     "text": [
      "---------- PAPER STEADINESS PLOTS BUILDING COMPLETED ----------\n"
     ],
     "output_type": "stream"
    }
   ],
   "source": [
    "with plt.rc_context({'lines.linewidth': linesize}):\n",
    "    ax = sns.stripplot(x = \"Identifier\", y = \"Quantity\", hue=\"Shuffle\", data = df_top_std_paper_steadiness,\n",
    "                  dodge = True, jitter = jitter, alpha = .75, size=5, marker=\"$\\circ$\",\n",
    "                       palette=\"deep\")\n",
    "    ax.legend_.remove()\n",
    "    ax = sns.boxplot(x = \"Identifier\", y = \"Quantity\", data = df_top_std_paper_steadiness, \n",
    "                     boxprops = dict(facecolor = '#FFFFFF', alpha=.75))   \n",
    "    ax.set_title(f\"Paper Steadiness\")\n",
    "    ax.set_xticklabels(ax.get_xticklabels(), rotation=45)\n",
    "    fig = ax.get_figure()\n",
    "    path = \"{}/paper-steadiness.pdf\".format(result_folder_exp_1_b_path)\n",
    "    fig.savefig(path, bbox_inches='tight')\n",
    "    plt.close(fig)\n",
    "   \n",
    "print(\"---------- PAPER STEADINESS PLOTS BUILDING COMPLETED ----------\")"
   ],
   "metadata": {
    "collapsed": false,
    "pycharm": {
     "name": "#%%\n",
     "is_executing": false
    }
   }
  },
  {
   "cell_type": "code",
   "execution_count": 64,
   "outputs": [
    {
     "name": "stdout",
     "text": [
      "---------- BUILDING READER SCORE PLOTS ----------\n0/100 (0/100%)\n",
      "5/100 (5/100%)\n",
      "10/100 (10/100%)\n",
      "15/100 (15/100%)\n",
      "20/100 (20/100%)\n",
      "25/100 (25/100%)\n",
      "30/100 (30/100%)\n",
      "35/100 (35/100%)\n",
      "40/100 (40/100%)\n",
      "45/100 (45/100%)\n",
      "50/100 (50/100%)\n",
      "55/100 (55/100%)\n",
      "60/100 (60/100%)\n",
      "65/100 (65/100%)\n",
      "70/100 (70/100%)\n",
      "75/100 (75/100%)\n",
      "80/100 (80/100%)\n",
      "85/100 (85/100%)\n",
      "90/100 (90/100%)\n",
      "95/100 (95/100%)\n",
      "100/100 (100/100%)\nFinal Shape: (1500, 3)\n"
     ],
     "output_type": "stream"
    }
   ],
   "source": [
    "print(\"---------- BUILDING READER SCORE PLOTS ----------\")\n",
    "\n",
    "df_reader_score = seed.build_quantity_df_shuffle(\"Reader Score\", shuffle_perc, readers_perc, True)\n",
    "df_reader_score.to_pickle(\"{}df-reader-score.pkl\".format(result_folder_exp_1_b_path))\n",
    "\n",
    "df_std = df_reader_score.groupby('Identifier').agg(\"std\")\n",
    "df_std.sort_values(by=\"Quantity\", ascending=False, inplace=True)\n",
    "identifiers = df_std.head(15).index\n",
    "df_top_std_reader_score = df_reader_score.loc[df_reader_score[\"Identifier\"].isin(identifiers)]\n",
    "df_top_std_reader_score.to_pickle(\"{}df-top-15-std-reader-score.pkl\".format(result_folder_exp_1_b_path))\n",
    "print(\"Final Shape: {}\".format(df_top_std_reader_score.shape))"
   ],
   "metadata": {
    "collapsed": false,
    "pycharm": {
     "name": "#%%\n",
     "is_executing": false
    }
   }
  },
  {
   "cell_type": "code",
   "execution_count": 65,
   "outputs": [
    {
     "name": "stdout",
     "text": [
      "---------- READER SCORE PLOTS BUILDING COMPLETED ----------\n"
     ],
     "output_type": "stream"
    }
   ],
   "source": [
    "with plt.rc_context({'lines.linewidth': linesize}):\n",
    "    ax = sns.stripplot(x = \"Identifier\", y = \"Quantity\", hue=\"Shuffle\", data = df_top_std_reader_score,\n",
    "                  dodge = True, jitter = jitter, alpha = .75, size=5, marker=\"$\\circ$\",\n",
    "                       palette=\"deep\")\n",
    "    ax.legend_.remove()\n",
    "    ax = sns.boxplot(x = \"Identifier\", y = \"Quantity\", data = df_top_std_reader_score, \n",
    "                     boxprops = dict(facecolor = '#FFFFFF', alpha=.75))   \n",
    "    ax.set_title(\"Reader Score\")\n",
    "    ax.set_xticklabels(ax.get_xticklabels(), rotation=45)\n",
    "    fig = ax.get_figure()\n",
    "    path = \"{}/reader-score.pdf\".format(result_folder_exp_1_b_path)\n",
    "    fig.savefig(path, bbox_inches='tight')\n",
    "    plt.close(fig)\n",
    "   \n",
    "print(\"---------- READER SCORE PLOTS BUILDING COMPLETED ----------\")"
   ],
   "metadata": {
    "collapsed": false,
    "pycharm": {
     "name": "#%%\n",
     "is_executing": false
    }
   }
  },
  {
   "cell_type": "code",
   "execution_count": 66,
   "outputs": [
    {
     "name": "stdout",
     "text": [
      "---------- BUILDING READER STEADINESS PLOTS ----------\n0/100 (0/100%)\n",
      "5/100 (5/100%)\n",
      "10/100 (10/100%)\n",
      "15/100 (15/100%)\n",
      "20/100 (20/100%)\n",
      "25/100 (25/100%)\n",
      "30/100 (30/100%)\n",
      "35/100 (35/100%)\n",
      "40/100 (40/100%)\n",
      "45/100 (45/100%)\n",
      "50/100 (50/100%)\n",
      "55/100 (55/100%)\n",
      "60/100 (60/100%)\n",
      "65/100 (65/100%)\n",
      "70/100 (70/100%)\n",
      "75/100 (75/100%)\n",
      "80/100 (80/100%)\n",
      "85/100 (85/100%)\n",
      "90/100 (90/100%)\n",
      "95/100 (95/100%)\n",
      "100/100 (100/100%)\nFinal Shape: (1500, 3)\n"
     ],
     "output_type": "stream"
    }
   ],
   "source": [
    "print(\"---------- BUILDING READER STEADINESS PLOTS ----------\")\n",
    "\n",
    "df_reader_steadiness = seed.build_quantity_df_shuffle(\"Reader Steadiness\", shuffle_perc, readers_perc, True)\n",
    "df_reader_steadiness.to_pickle(\"{}df-reader-steadiness.pkl\".format(result_folder_exp_1_b_path))\n",
    "\n",
    "df_std = df_reader_steadiness.groupby('Identifier').agg(\"std\")\n",
    "df_std.sort_values(by=\"Quantity\", ascending=False, inplace=True)\n",
    "identifiers = df_std.head(15).index\n",
    "df_top_std_reader_steadiness = df_reader_steadiness.loc[df_reader_steadiness[\"Identifier\"].isin(identifiers)]\n",
    "df_top_std_reader_steadiness.to_pickle(\"{}df-top-15-std-reader-steadiness.pkl\".format(result_folder_exp_1_b_path))\n",
    "print(\"Final Shape: {}\".format(df_top_std_reader_score.shape))"
   ],
   "metadata": {
    "collapsed": false,
    "pycharm": {
     "name": "#%%\n",
     "is_executing": false
    }
   }
  },
  {
   "cell_type": "code",
   "execution_count": 67,
   "outputs": [
    {
     "name": "stdout",
     "text": [
      "---------- READER STEADINESS PLOTS BUILDING COMPLETED ----------\n"
     ],
     "output_type": "stream"
    }
   ],
   "source": [
    "with plt.rc_context({'lines.linewidth': linesize}):\n",
    "    ax = sns.stripplot(x = \"Identifier\", y = \"Quantity\", hue=\"Shuffle\", data = df_top_std_reader_steadiness,\n",
    "                  dodge = True, jitter = jitter, alpha = .75, size=5, marker=\"$\\circ$\",\n",
    "                       palette=\"deep\")\n",
    "    ax.legend_.remove()\n",
    "    ax = sns.boxplot(x = \"Identifier\", y = \"Quantity\", data = df_top_std_reader_steadiness, \n",
    "                     boxprops = dict(facecolor = '#FFFFFF', alpha=.75))   \n",
    "    ax.set_title(\"Reader Steadiness\")\n",
    "    ax.set_xticklabels(ax.get_xticklabels(), rotation=45)\n",
    "    fig = ax.get_figure()\n",
    "    path = \"{}/reader-steadiness.pdf\".format(result_folder_exp_1_b_path)\n",
    "    fig.savefig(path, bbox_inches='tight')\n",
    "    plt.close(fig)\n",
    "    \n",
    "print(\"---------- READER STEADINESS PLOTS BUILDING COMPLETED ----------\")"
   ],
   "metadata": {
    "collapsed": false,
    "pycharm": {
     "name": "#%%\n",
     "is_executing": false
    }
   }
  },
  {
   "cell_type": "code",
   "execution_count": 77,
   "outputs": [
    {
     "name": "stdout",
     "text": [
      "---------- BUILDING PAPER SCORE DATAFRAME ----------\n",
      "---------- BUILDING PAPER STEADINESS DATAFRAME ----------\n",
      "---------- BUILDING READER SCORE DATAFRAME ----------\n",
      "---------- BUILDING READER STEADINESS DATAFRAME ----------\n"
     ],
     "output_type": "stream"
    }
   ],
   "source": [
    "# ------------------------------\n",
    "# ---------- EXP 1-C -----------\n",
    "# ------------------------------\n",
    "\n",
    "# Le quantità calcolate da Readersourcing vengono comparate con la loro media aritmetica, geometrica, bayesiana e con la mediana.\n",
    "# Gli indici standard vengono calcolati sui giudizi ricevuti da ciascun Paper e sui giudizi assegnati da ciascun Reader.\n",
    "\n",
    "seed = ReadersourcingToolkit(\n",
    "    dataset_name=\"seed_power_law_1\", \n",
    "    dataset_folder_path=\"../data/{}/\", \n",
    ")\n",
    "\n",
    "# Plot parameters\n",
    "\n",
    "linesize = .75\n",
    "    \n",
    "# Paths\n",
    "\n",
    "result_folder_experiments_path = \"{}/experiments/\".format(seed.result_folder_base_path)\n",
    "result_folder_exp_1_c_path = \"{}/experiment_1-c/\".format(result_folder_experiments_path)\n",
    "os.makedirs(result_folder_experiments_path, exist_ok=True)\n",
    "os.makedirs(result_folder_exp_1_c_path, exist_ok=True)\n",
    "\n",
    "# Core Functions\n",
    "\n",
    "def compute_means(raw_df, quantity_df, quantity_label, axis):\n",
    "    \n",
    "    raw_df.replace(0, np.nan, inplace=True)\n",
    "        \n",
    "    mean_df = pd.DataFrame(columns=[quantity_label])\n",
    "    mean_df[quantity_label] = quantity_df[\"Quantity\"]\n",
    "    mean_df[\"Arithmetic Mean\"] = raw_df.mean(axis=axis)\n",
    "    mean_df[\"Geometric Mean\"] = np.exp(np.log(raw_df.prod(axis=axis))/raw_df.notna().sum(axis))\n",
    "    mean_df[\"Median\"] = raw_df.median(axis=axis)\n",
    "    \n",
    "    mean_df.dropna(inplace=True)\n",
    "   \n",
    "    corr_df = pd.DataFrame(columns=[\n",
    "        \"Rho (Arithmetic Mean)\",\n",
    "        \"Rho (Geometric Mean)\",\n",
    "        \"Rho (Median)\",\n",
    "        \"Tau (Arithmetic Mean)\",\n",
    "        \"Tau (Geometric Mean)\",\n",
    "        \"Tau (Median)\",\n",
    "    ])\n",
    "    \n",
    "    dict = {}\n",
    "    quantity_column = mean_df[quantity_label]\n",
    "    columns = mean_df.drop(quantity_label, axis=1).columns\n",
    "    for col in columns:\n",
    "        mean_column = mean_df[col]\n",
    "        pearson_corr_val = pearsonr(quantity_column, mean_column)[0]\n",
    "        if math.isnan(pearson_corr_val):\n",
    "            pearson_corr_val = 0\n",
    "        kendall_corr_val = kendalltau(quantity_column, mean_column)[0]\n",
    "        if math.isnan(kendall_corr_val):\n",
    "            kendall_corr_val = 0\n",
    "        dict[f'Rho ({col})'] = pearson_corr_val\n",
    "        dict[f'Tau ({col})'] = kendall_corr_val\n",
    "    corr_df = corr_df.append(dict, ignore_index=True)\n",
    "    \n",
    "    return corr_df, mean_df\n",
    "\n",
    "ratings_df = seed.extract_ratings_df()\n",
    "    \n",
    "print(\"---------- BUILDING PAPER SCORE DATAFRAME ----------\")\n",
    "paper_score_df = seed.build_quantity_df(\"Paper Score\", 100)\n",
    "print(\"---------- BUILDING PAPER STEADINESS DATAFRAME ----------\")\n",
    "paper_steadiness_df = seed.build_quantity_df(\"Paper Steadiness\", 100)\n",
    "print(\"---------- BUILDING READER SCORE DATAFRAME ----------\")\n",
    "reader_score_df = seed.build_quantity_df(\"Reader Score\", 100)\n",
    "print(\"---------- BUILDING READER STEADINESS DATAFRAME ----------\")\n",
    "reader_steadiness_df = seed.build_quantity_df(\"Reader Steadiness\", 100)"
   ],
   "metadata": {
    "collapsed": false,
    "pycharm": {
     "name": "#%%\n",
     "is_executing": false
    }
   }
  },
  {
   "cell_type": "code",
   "execution_count": 78,
   "outputs": [
    {
     "name": "stdout",
     "text": [
      "---------- BUILDING PAPER SCORE CORRELATION DATAFRAME ----------\n",
      "Saved at path:  ../models/seed_power_law_1/readersourcing//experiments//experiment_1-c/csv/Corr_Df_Paper_Score.csv\n---------- BUILDING PAPER STEADINESS CORRELATION DATAFRAME ----------\n",
      "Saved at path:  ../models/seed_power_law_1/readersourcing//experiments//experiment_1-c/csv/Corr_Df_Paper_Steadiness.csv\n---------- BUILDING READER SCORE CORRELATION DATAFRAME ----------\n",
      "Saved at path:  ../models/seed_power_law_1/readersourcing//experiments//experiment_1-c/csv/Corr_Df_Reader_Score.csv\n---------- BUILDING READER SCORE CORRELATION DATAFRAME ----------\n",
      "Saved at path:  ../models/seed_power_law_1/readersourcing//experiments//experiment_1-c/csv/Corr_Df_Reader_Steadiness.csv\n"
     ],
     "output_type": "stream"
    },
    {
     "name": "stderr",
     "text": [
      "C:\\Ambienti\\Anaconda3\\lib\\site-packages\\numpy\\lib\\nanfunctions.py:959: RuntimeWarning: All-NaN slice encountered\n  result = np.apply_along_axis(_nanmedian1d, axis, a, overwrite_input)\n"
     ],
     "output_type": "stream"
    }
   ],
   "source": [
    "# CSV Files Computation\n",
    "\n",
    "os.makedirs(\"{}/csv/\".format(result_folder_exp_1_c_path), exist_ok=True)\n",
    "\n",
    "print(\"---------- BUILDING PAPER SCORE CORRELATION DATAFRAME ----------\")\n",
    "corr_df_1, mean_df_1 = compute_means(ratings_df, paper_score_df, \"Paper Score\", 0)\n",
    "output_path = \"{}csv/Corr_Df_Paper_Score.csv\".format(result_folder_exp_1_c_path)\n",
    "corr_df_1.to_csv(output_path, index=False)\n",
    "print(\"Saved at path: \", output_path)\n",
    "\n",
    "print(\"---------- BUILDING PAPER STEADINESS CORRELATION DATAFRAME ----------\")\n",
    "corr_df_2, mean_df_2 = compute_means(ratings_df, paper_steadiness_df, \"Paper Steadiness\", 0)\n",
    "output_path = \"{}csv/Corr_Df_Paper_Steadiness.csv\".format(result_folder_exp_1_c_path)\n",
    "corr_df_2.to_csv(output_path, index=False)\n",
    "print(\"Saved at path: \", output_path)\n",
    "\n",
    "print(\"---------- BUILDING READER SCORE CORRELATION DATAFRAME ----------\")\n",
    "corr_df_3, mean_df_3 = compute_means(ratings_df, reader_score_df, \"Reader Score\", 1)\n",
    "output_path = \"{}csv/Corr_Df_Reader_Score.csv\".format(result_folder_exp_1_c_path)\n",
    "corr_df_3.to_csv(output_path, index=False)\n",
    "print(\"Saved at path: \", output_path)\n",
    "\n",
    "print(\"---------- BUILDING READER SCORE CORRELATION DATAFRAME ----------\")\n",
    "corr_df_4, mean_df_4 = compute_means(ratings_df, reader_steadiness_df, \"Reader Steadiness\", 1)\n",
    "output_path = \"{}csv/Corr_Df_Reader_Steadiness.csv\".format(result_folder_exp_1_c_path)\n",
    "corr_df_4.to_csv(output_path, index=False)\n",
    "print(\"Saved at path: \", output_path)"
   ],
   "metadata": {
    "collapsed": false,
    "pycharm": {
     "name": "#%%\n",
     "is_executing": false
    }
   }
  },
  {
   "cell_type": "code",
   "execution_count": 79,
   "outputs": [],
   "source": [
    "# Plotting Functions\n",
    "\n",
    "def pformatting(val):\n",
    "    out = 'N.D.'\n",
    "    if val <= 0.05:\n",
    "        out = 'p < .05'\n",
    "    if val <= 0.01:\n",
    "        out = 'p < .01'\n",
    "    if val > 0.05:\n",
    "        out = 'p > .05'\n",
    "    return out\n",
    "\n",
    "def custom_scatter (x, y, ax):\n",
    "    rho, rhoval = pearsonr(x,y)\n",
    "    try:\n",
    "        tau, tauval = kendalltau(x,y)\n",
    "    except OverflowError:\n",
    "        tau = -10\n",
    "        tauval = -10\n",
    "    rhoval = pformatting(rhoval)\n",
    "    tauval = pformatting(tauval)\n",
    "    ax.annotate(r'$\\rho$'+': p={} ({})'.format(np.round(rho,2), rhoval)+'\\n'+\n",
    "                r'$\\tau$'+': p={} ({})'.format(np.round(tau,2), tauval),\n",
    "                xy=(0.05, 0.8), fontsize = 11, xycoords='axes fraction')\n",
    "                #bbox=dict(fc=\"white\", lw= .6) ,)\n",
    "\n",
    "def draw_regplot(quantity, sample, plots_path):\n",
    "    \n",
    "    print (\"---------- COMPUTING PLOTS FOR {} -----------\".format(quantity.upper()))\n",
    "    \n",
    "    quantity_label = quantity.lower().replace(\" \", \"_\")\n",
    "    x_vals = sample[quantity]\n",
    "    \n",
    "    current_path = \"{}{}_arithmetic_mean_regplot.pdf\".format(plots_path, quantity_label)\n",
    "    y_vals = sample[\"Arithmetic Mean\"]\n",
    "    ax = sns.regplot(x=x_vals, y=y_vals)\n",
    "    custom_scatter(x_vals, y_vals, ax)\n",
    "    ax.figure.savefig(current_path, bbox_inches=\"tight\")\n",
    "    plt.close()\n",
    "    print(\"Plot saved at path:\")\n",
    "    print(current_path)\n",
    "    \n",
    "    current_path = \"{}{}_geometric_mean_regplot.pdf\".format(plots_path, quantity_label)\n",
    "    y_vals = sample[\"Geometric Mean\"]\n",
    "    ax = sns.regplot(x=x_vals, y=y_vals)\n",
    "    custom_scatter(x_vals, y_vals, ax)\n",
    "    ax.figure.savefig(current_path, bbox_inches=\"tight\")\n",
    "    plt.close()\n",
    "    print(\"Plot saved at path:\")\n",
    "    print(current_path)\n",
    "    \n",
    "    current_path = \"{}{}_median_regplot.pdf\".format(plots_path, quantity_label)\n",
    "    y_vals = sample[\"Median\"]\n",
    "    ax = sns.regplot(x=x_vals, y=y_vals)\n",
    "    custom_scatter(x_vals, y_vals, ax)\n",
    "    ax.figure.savefig(current_path, bbox_inches=\"tight\")\n",
    "    plt.close()\n",
    "    print(\"Plot saved at path:\")\n",
    "    print(current_path)\n",
    "\n",
    "plots_path = \"{}/plots/\".format(result_folder_exp_1_c_path)\n",
    "os.makedirs(plots_path, exist_ok=True)"
   ],
   "metadata": {
    "collapsed": false,
    "pycharm": {
     "name": "#%%\n",
     "is_executing": false
    }
   }
  },
  {
   "cell_type": "code",
   "execution_count": 80,
   "outputs": [
    {
     "name": "stdout",
     "text": [
      "---------- COMPUTING PLOTS FOR PAPER SCORE -----------\n",
      "Plot saved at path:\n../models/seed_power_law_1/readersourcing//experiments//experiment_1-c//plots/paper_score_arithmetic_mean_regplot.pdf\n",
      "Plot saved at path:\n../models/seed_power_law_1/readersourcing//experiments//experiment_1-c//plots/paper_score_geometric_mean_regplot.pdf\n",
      "Plot saved at path:\n../models/seed_power_law_1/readersourcing//experiments//experiment_1-c//plots/paper_score_median_regplot.pdf\n"
     ],
     "output_type": "stream"
    }
   ],
   "source": [
    "sample = mean_df_1\n",
    "draw_regplot(\"Paper Score\", sample, plots_path)"
   ],
   "metadata": {
    "collapsed": false,
    "pycharm": {
     "name": "#%%\n",
     "is_executing": false
    }
   }
  },
  {
   "cell_type": "code",
   "execution_count": 81,
   "outputs": [
    {
     "name": "stdout",
     "text": [
      "---------- COMPUTING PLOTS FOR PAPER STEADINESS -----------\n",
      "Plot saved at path:\n../models/seed_power_law_1/readersourcing//experiments//experiment_1-c//plots/paper_steadiness_arithmetic_mean_regplot.pdf\n",
      "Plot saved at path:\n../models/seed_power_law_1/readersourcing//experiments//experiment_1-c//plots/paper_steadiness_geometric_mean_regplot.pdf\n",
      "Plot saved at path:\n../models/seed_power_law_1/readersourcing//experiments//experiment_1-c//plots/paper_steadiness_median_regplot.pdf\n"
     ],
     "output_type": "stream"
    }
   ],
   "source": [
    "sample = mean_df_2\n",
    "draw_regplot(\"Paper Steadiness\", sample, plots_path)"
   ],
   "metadata": {
    "collapsed": false,
    "pycharm": {
     "name": "#%% \n",
     "is_executing": false
    }
   }
  },
  {
   "cell_type": "code",
   "execution_count": 82,
   "outputs": [
    {
     "name": "stdout",
     "text": [
      "---------- COMPUTING PLOTS FOR READER SCORE -----------\n",
      "Plot saved at path:\n../models/seed_power_law_1/readersourcing//experiments//experiment_1-c//plots/reader_score_arithmetic_mean_regplot.pdf\n",
      "Plot saved at path:\n../models/seed_power_law_1/readersourcing//experiments//experiment_1-c//plots/reader_score_geometric_mean_regplot.pdf\n",
      "Plot saved at path:\n../models/seed_power_law_1/readersourcing//experiments//experiment_1-c//plots/reader_score_median_regplot.pdf\n"
     ],
     "output_type": "stream"
    }
   ],
   "source": [
    "sample = mean_df_3\n",
    "draw_regplot(\"Reader Score\", sample, plots_path) "
   ],
   "metadata": {
    "collapsed": false,
    "pycharm": {
     "name": "#%%\n",
     "is_executing": false
    }
   }
  },
  {
   "cell_type": "code",
   "execution_count": 83,
   "outputs": [
    {
     "name": "stdout",
     "text": [
      "---------- COMPUTING PLOTS FOR READER STEADINESS -----------\n",
      "Plot saved at path:\n../models/seed_power_law_1/readersourcing//experiments//experiment_1-c//plots/reader_steadiness_arithmetic_mean_regplot.pdf\n",
      "Plot saved at path:\n../models/seed_power_law_1/readersourcing//experiments//experiment_1-c//plots/reader_steadiness_geometric_mean_regplot.pdf\n",
      "Plot saved at path:\n../models/seed_power_law_1/readersourcing//experiments//experiment_1-c//plots/reader_steadiness_median_regplot.pdf\n"
     ],
     "output_type": "stream"
    }
   ],
   "source": [
    "sample = mean_df_4\n",
    "draw_regplot(\"Reader Steadiness\", sample, plots_path) "
   ],
   "metadata": {
    "collapsed": false,
    "pycharm": {
     "name": "#%%\n",
     "is_executing": false
    }
   }
  },
  {
   "cell_type": "code",
   "execution_count": 8,
   "outputs": [],
   "source": [
    "# ------------------------------\n",
    "# ---------- EXP 1-D -----------\n",
    "# ------------------------------\n",
    "\n",
    "# Raccolgo le quantità di Readersourcing calcolate per seed con diverse dimensioni\n",
    "# Tali quantità sono READER SCORE, PAPER SCORE, READER STEADINESS, PAPER STEADINESS\n",
    "# Tali dimensioni sono NUMERO PAPER, NUMERO READER, PARAMETRO A POWER LAW PAPER, PARAMETRO A POWER LAW READER \n",
    "# Le quantità di Readersourcing diventano le colonne di un dataframe\n",
    "# Le dimensioni considerate diventano le righe di un dataframe\n",
    "# Ci saranno 4 colonne per ogni possibile combinazione di dimensioni\n",
    "# Su tale dataframe viene lanciata un analisi ANOVA\n",
    "\n",
    "# Plot parameters\n",
    "\n",
    "linesize = .75\n",
    "jitter = .2\n",
    "alpha = .6\n",
    "linewidth = .6\n",
    "size = 5\n",
    "flatue = {'-1': '#bfbfbf',\n",
    "          '0':'#932727',\n",
    "          '1':'#ffa303', \n",
    "          '2':'#27279f',\n",
    "          '3':'#49e7ff'}\n",
    "\n",
    "shuffle_perc = 100\n",
    "papers_perc = 100\n",
    "readers_perc = 100\n",
    "\n",
    "# Paths\n",
    "\n",
    "result_folder_experiments_path = \"{}/experiments/\".format(\"../models/seed_power_law_batch/\")\n",
    "result_folder_exp_1_d_path = \"{}/experiment_1-d/\".format(result_folder_experiments_path)\n",
    "os.makedirs(result_folder_experiments_path, exist_ok=True)\n",
    "os.makedirs(result_folder_exp_1_d_path, exist_ok=True)"
   ],
   "metadata": {
    "collapsed": false,
    "pycharm": {
     "name": "#%%\n",
     "is_executing": false
    }
   }
  },
  {
   "cell_type": "code",
   "execution_count": 3,
   "outputs": [
    {
     "name": "stdout",
     "text": [
      "---------- ANOVA DF BUILDING STARTED ----------\n---------- PROCESSING PARAMETERS: 1000-1000-0.5-0.5  ----------\n",
      "---------- PROCESSING PARAMETERS: 1000-1000-0.7-0.5  ----------\n",
      "---------- PROCESSING PARAMETERS: 1000-1000-0.9-0.5  ----------\n",
      "---------- PROCESSING PARAMETERS: 1000-1000-0.5-0.7  ----------\n",
      "---------- PROCESSING PARAMETERS: 1000-1000-0.7-0.7  ----------\n",
      "---------- PROCESSING PARAMETERS: 1000-1000-0.9-0.7  ----------\n",
      "---------- PROCESSING PARAMETERS: 1000-1000-0.5-0.9  ----------\n",
      "---------- PROCESSING PARAMETERS: 1000-1000-0.7-0.9  ----------\n",
      "---------- PROCESSING PARAMETERS: 1000-1000-0.9-0.9  ----------\n",
      "---------- PROCESSING PARAMETERS: 1000-1500-0.5-0.5  ----------\n",
      "---------- PROCESSING PARAMETERS: 1000-1500-0.7-0.5  ----------\n",
      "---------- PROCESSING PARAMETERS: 1000-1500-0.9-0.5  ----------\n",
      "---------- PROCESSING PARAMETERS: 1000-1500-0.5-0.7  ----------\n",
      "---------- PROCESSING PARAMETERS: 1000-1500-0.7-0.7  ----------\n",
      "---------- PROCESSING PARAMETERS: 1000-1500-0.9-0.7  ----------\n",
      "---------- PROCESSING PARAMETERS: 1000-1500-0.5-0.9  ----------\n",
      "---------- PROCESSING PARAMETERS: 1000-1500-0.7-0.9  ----------\n",
      "---------- PROCESSING PARAMETERS: 1000-1500-0.9-0.9  ----------\n",
      "---------- PROCESSING PARAMETERS: 1000-2000-0.5-0.5  ----------\n",
      "---------- PROCESSING PARAMETERS: 1000-2000-0.7-0.5  ----------\n",
      "---------- PROCESSING PARAMETERS: 1000-2000-0.9-0.5  ----------\n",
      "---------- PROCESSING PARAMETERS: 1000-2000-0.5-0.7  ----------\n",
      "---------- PROCESSING PARAMETERS: 1000-2000-0.7-0.7  ----------\n",
      "---------- PROCESSING PARAMETERS: 1000-2000-0.9-0.7  ----------\n",
      "---------- PROCESSING PARAMETERS: 1000-2000-0.5-0.9  ----------\n",
      "---------- PROCESSING PARAMETERS: 1000-2000-0.7-0.9  ----------\n",
      "---------- PROCESSING PARAMETERS: 1000-2000-0.9-0.9  ----------\n",
      "---------- PROCESSING PARAMETERS: 1000-2500-0.5-0.5  ----------\n",
      "---------- PROCESSING PARAMETERS: 1000-2500-0.7-0.5  ----------\n",
      "---------- PROCESSING PARAMETERS: 1000-2500-0.9-0.5  ----------\n",
      "---------- PROCESSING PARAMETERS: 1000-2500-0.5-0.7  ----------\n",
      "---------- PROCESSING PARAMETERS: 1000-2500-0.7-0.7  ----------\n",
      "---------- PROCESSING PARAMETERS: 1000-2500-0.9-0.7  ----------\n",
      "---------- PROCESSING PARAMETERS: 1000-2500-0.5-0.9  ----------\n",
      "---------- PROCESSING PARAMETERS: 1000-2500-0.7-0.9  ----------\n",
      "---------- PROCESSING PARAMETERS: 1000-2500-0.9-0.9  ----------\n",
      "---------- PROCESSING PARAMETERS: 1500-1000-0.5-0.5  ----------\n",
      "---------- PROCESSING PARAMETERS: 1500-1000-0.7-0.5  ----------\n",
      "---------- PROCESSING PARAMETERS: 1500-1000-0.9-0.5  ----------\n",
      "---------- PROCESSING PARAMETERS: 1500-1000-0.5-0.7  ----------\n",
      "---------- PROCESSING PARAMETERS: 1500-1000-0.7-0.7  ----------\n",
      "---------- PROCESSING PARAMETERS: 1500-1000-0.9-0.7  ----------\n",
      "---------- PROCESSING PARAMETERS: 1500-1000-0.5-0.9  ----------\n",
      "---------- PROCESSING PARAMETERS: 1500-1000-0.7-0.9  ----------\n",
      "---------- PROCESSING PARAMETERS: 1500-1000-0.9-0.9  ----------\n",
      "---------- PROCESSING PARAMETERS: 1500-1500-0.5-0.5  ----------\n",
      "---------- PROCESSING PARAMETERS: 1500-1500-0.7-0.5  ----------\n",
      "---------- PROCESSING PARAMETERS: 1500-1500-0.9-0.5  ----------\n",
      "---------- PROCESSING PARAMETERS: 1500-1500-0.5-0.7  ----------\n",
      "---------- PROCESSING PARAMETERS: 1500-1500-0.7-0.7  ----------\n",
      "---------- PROCESSING PARAMETERS: 1500-1500-0.9-0.7  ----------\n",
      "---------- PROCESSING PARAMETERS: 1500-1500-0.5-0.9  ----------\n",
      "---------- PROCESSING PARAMETERS: 1500-1500-0.7-0.9  ----------\n",
      "---------- PROCESSING PARAMETERS: 1500-1500-0.9-0.9  ----------\n",
      "---------- PROCESSING PARAMETERS: 1500-2000-0.5-0.5  ----------\n",
      "---------- PROCESSING PARAMETERS: 1500-2000-0.7-0.5  ----------\n",
      "---------- PROCESSING PARAMETERS: 1500-2000-0.9-0.5  ----------\n",
      "---------- PROCESSING PARAMETERS: 1500-2000-0.5-0.7  ----------\n",
      "---------- PROCESSING PARAMETERS: 1500-2000-0.7-0.7  ----------\n",
      "---------- PROCESSING PARAMETERS: 1500-2000-0.9-0.7  ----------\n",
      "---------- PROCESSING PARAMETERS: 1500-2000-0.5-0.9  ----------\n",
      "---------- PROCESSING PARAMETERS: 1500-2000-0.7-0.9  ----------\n",
      "---------- PROCESSING PARAMETERS: 1500-2000-0.9-0.9  ----------\n",
      "---------- PROCESSING PARAMETERS: 1500-2500-0.5-0.5  ----------\n",
      "---------- PROCESSING PARAMETERS: 1500-2500-0.7-0.5  ----------\n",
      "---------- PROCESSING PARAMETERS: 1500-2500-0.9-0.5  ----------\n",
      "---------- PROCESSING PARAMETERS: 1500-2500-0.5-0.7  ----------\n",
      "---------- PROCESSING PARAMETERS: 1500-2500-0.7-0.7  ----------\n",
      "---------- PROCESSING PARAMETERS: 1500-2500-0.9-0.7  ----------\n",
      "---------- PROCESSING PARAMETERS: 1500-2500-0.5-0.9  ----------\n",
      "---------- PROCESSING PARAMETERS: 1500-2500-0.7-0.9  ----------\n",
      "---------- PROCESSING PARAMETERS: 1500-2500-0.9-0.9  ----------\n",
      "---------- PROCESSING PARAMETERS: 2000-1000-0.5-0.5  ----------\n",
      "---------- PROCESSING PARAMETERS: 2000-1000-0.7-0.5  ----------\n",
      "---------- PROCESSING PARAMETERS: 2000-1000-0.9-0.5  ----------\n",
      "---------- PROCESSING PARAMETERS: 2000-1000-0.5-0.7  ----------\n",
      "---------- PROCESSING PARAMETERS: 2000-1000-0.7-0.7  ----------\n",
      "---------- PROCESSING PARAMETERS: 2000-1000-0.9-0.7  ----------\n",
      "---------- PROCESSING PARAMETERS: 2000-1000-0.5-0.9  ----------\n",
      "---------- PROCESSING PARAMETERS: 2000-1000-0.7-0.9  ----------\n",
      "---------- PROCESSING PARAMETERS: 2000-1000-0.9-0.9  ----------\n",
      "---------- PROCESSING PARAMETERS: 2000-1500-0.5-0.5  ----------\n",
      "---------- PROCESSING PARAMETERS: 2000-1500-0.7-0.5  ----------\n",
      "---------- PROCESSING PARAMETERS: 2000-1500-0.9-0.5  ----------\n",
      "---------- PROCESSING PARAMETERS: 2000-1500-0.5-0.7  ----------\n",
      "---------- PROCESSING PARAMETERS: 2000-1500-0.7-0.7  ----------\n",
      "---------- PROCESSING PARAMETERS: 2000-1500-0.9-0.7  ----------\n",
      "---------- PROCESSING PARAMETERS: 2000-1500-0.5-0.9  ----------\n",
      "---------- PROCESSING PARAMETERS: 2000-1500-0.7-0.9  ----------\n",
      "---------- PROCESSING PARAMETERS: 2000-1500-0.9-0.9  ----------\n",
      "---------- PROCESSING PARAMETERS: 2000-2000-0.5-0.5  ----------\n",
      "---------- PROCESSING PARAMETERS: 2000-2000-0.7-0.5  ----------\n",
      "---------- PROCESSING PARAMETERS: 2000-2000-0.9-0.5  ----------\n",
      "---------- PROCESSING PARAMETERS: 2000-2000-0.5-0.7  ----------\n",
      "---------- PROCESSING PARAMETERS: 2000-2000-0.7-0.7  ----------\n",
      "---------- PROCESSING PARAMETERS: 2000-2000-0.9-0.7  ----------\n",
      "---------- PROCESSING PARAMETERS: 2000-2000-0.5-0.9  ----------\n",
      "---------- PROCESSING PARAMETERS: 2000-2000-0.7-0.9  ----------\n",
      "---------- PROCESSING PARAMETERS: 2000-2000-0.9-0.9  ----------\n",
      "---------- PROCESSING PARAMETERS: 2000-2500-0.5-0.5  ----------\n",
      "---------- PROCESSING PARAMETERS: 2000-2500-0.7-0.5  ----------\n",
      "---------- PROCESSING PARAMETERS: 2000-2500-0.9-0.5  ----------\n",
      "---------- PROCESSING PARAMETERS: 2000-2500-0.5-0.7  ----------\n",
      "---------- PROCESSING PARAMETERS: 2000-2500-0.7-0.7  ----------\n",
      "---------- PROCESSING PARAMETERS: 2000-2500-0.9-0.7  ----------\n",
      "---------- PROCESSING PARAMETERS: 2000-2500-0.5-0.9  ----------\n",
      "---------- PROCESSING PARAMETERS: 2000-2500-0.7-0.9  ----------\n",
      "---------- PROCESSING PARAMETERS: 2000-2500-0.9-0.9  ----------\n",
      "---------- PROCESSING PARAMETERS: 2500-1000-0.5-0.5  ----------\n",
      "---------- PROCESSING PARAMETERS: 2500-1000-0.7-0.5  ----------\n",
      "---------- PROCESSING PARAMETERS: 2500-1000-0.9-0.5  ----------\n",
      "---------- PROCESSING PARAMETERS: 2500-1000-0.5-0.7  ----------\n",
      "---------- PROCESSING PARAMETERS: 2500-1000-0.7-0.7  ----------\n",
      "---------- PROCESSING PARAMETERS: 2500-1000-0.9-0.7  ----------\n",
      "---------- PROCESSING PARAMETERS: 2500-1000-0.5-0.9  ----------\n",
      "---------- PROCESSING PARAMETERS: 2500-1000-0.7-0.9  ----------\n",
      "---------- PROCESSING PARAMETERS: 2500-1000-0.9-0.9  ----------\n",
      "---------- PROCESSING PARAMETERS: 2500-1500-0.5-0.5  ----------\n",
      "---------- PROCESSING PARAMETERS: 2500-1500-0.7-0.5  ----------\n",
      "---------- PROCESSING PARAMETERS: 2500-1500-0.9-0.5  ----------\n",
      "---------- PROCESSING PARAMETERS: 2500-1500-0.5-0.7  ----------\n",
      "---------- PROCESSING PARAMETERS: 2500-1500-0.7-0.7  ----------\n",
      "---------- PROCESSING PARAMETERS: 2500-1500-0.9-0.7  ----------\n",
      "---------- PROCESSING PARAMETERS: 2500-1500-0.5-0.9  ----------\n",
      "---------- PROCESSING PARAMETERS: 2500-1500-0.7-0.9  ----------\n",
      "---------- PROCESSING PARAMETERS: 2500-2500-0.9-0.7  ----------\n",
      "---------- PROCESSING PARAMETERS: 2500-2500-0.7-0.9  ----------\n",
      "---------- PROCESSING PARAMETERS: 2500-2500-0.9-0.9  ----------\n"
     ],
     "output_type": "stream"
    },
    {
     "traceback": [
      "\u001b[1;31m---------------------------------------------------------------------------\u001b[0m",
      "\u001b[1;31mNameError\u001b[0m                                 Traceback (most recent call last)",
      "\u001b[1;32m<ipython-input-3-0e402c196ad1>\u001b[0m in \u001b[0;36m<module>\u001b[1;34m\u001b[0m\n\u001b[0;32m     51\u001b[0m     \u001b[1;34m'Reader Steadiness'\u001b[0m\u001b[1;33m:\u001b[0m \u001b[1;34m\"Reader_Steadiness\"\u001b[0m\u001b[1;33m\u001b[0m\u001b[1;33m\u001b[0m\u001b[0m\n\u001b[0;32m     52\u001b[0m }, inplace=True)\n\u001b[1;32m---> 53\u001b[1;33m \u001b[0manova_df_reader\u001b[0m\u001b[1;33m[\u001b[0m\u001b[1;33m[\u001b[0m\u001b[1;34m\"Reader_Number\"\u001b[0m\u001b[1;33m,\u001b[0m \u001b[1;34m\"Paper_Number\"\u001b[0m\u001b[1;33m,\u001b[0m \u001b[1;34m\"Identifier\"\u001b[0m\u001b[1;33m]\u001b[0m\u001b[1;33m]\u001b[0m \u001b[1;33m=\u001b[0m \u001b[0mdf\u001b[0m\u001b[1;33m[\u001b[0m\u001b[1;33m[\u001b[0m\u001b[1;34m\"Reader_Number\"\u001b[0m\u001b[1;33m,\u001b[0m \u001b[1;34m\"Paper_Number\"\u001b[0m\u001b[1;33m,\u001b[0m \u001b[1;34m\"Identifier\"\u001b[0m\u001b[1;33m]\u001b[0m\u001b[1;33m]\u001b[0m\u001b[1;33m.\u001b[0m\u001b[0mastype\u001b[0m\u001b[1;33m(\u001b[0m\u001b[0mint\u001b[0m\u001b[1;33m)\u001b[0m\u001b[1;33m\u001b[0m\u001b[1;33m\u001b[0m\u001b[0m\n\u001b[0m\u001b[0;32m     54\u001b[0m \u001b[0mpath\u001b[0m \u001b[1;33m=\u001b[0m \u001b[1;34mf\"{result_folder_exp_1_d_path}anova_df_reader.pkl\"\u001b[0m\u001b[1;33m\u001b[0m\u001b[1;33m\u001b[0m\u001b[0m\n\u001b[0;32m     55\u001b[0m \u001b[0manova_df_reader\u001b[0m\u001b[1;33m.\u001b[0m\u001b[0mto_pickle\u001b[0m\u001b[1;33m(\u001b[0m\u001b[0mpath\u001b[0m\u001b[1;33m)\u001b[0m\u001b[1;33m\u001b[0m\u001b[1;33m\u001b[0m\u001b[0m\n",
      "\u001b[1;31mNameError\u001b[0m: name 'df' is not defined"
     ],
     "ename": "NameError",
     "evalue": "name 'df' is not defined",
     "output_type": "error"
    }
   ],
   "source": [
    "print(f\"---------- ANOVA DF BUILDING STARTED ----------\")\n",
    "\n",
    "anova_df_reader = pd.DataFrame(columns=[\"Reader Number\", \"Paper Number\", \"A_Reader\", \"A_Paper\", \"Identifier\", \"Reader Score\", \"Reader Steadiness\"])\n",
    "anova_df_paper = pd.DataFrame(columns=[\"Reader Number\", \"Paper Number\", \"A_Reader\", \"A_Paper\", \"Identifier\", \"Paper Score\", \"Paper Steadiness\"])\n",
    "seed = ReadersourcingToolkit()\n",
    "for current_reader_number in (1000,1500,2000,2500):\n",
    "    for current_paper_number in (1000,1500,2000,2500):\n",
    "        for ar in (0.5,0.7,0.9):\n",
    "            for ap in (0.5,0.7,0.9):\n",
    "                seed = ReadersourcingToolkit(\n",
    "                    dataset_name=f\"seed_power_law_batch/seed_power_law_\"\n",
    "                                 f\"{current_reader_number}_{current_paper_number}_{ar}_{ap}\", \n",
    "                    dataset_folder_path=\"../data/{}/\", \n",
    "                )\n",
    "                if os.path.isdir(seed.result_folder_base_path):\n",
    "                    print(f\"---------- PROCESSING PARAMETERS: {current_reader_number}-{current_paper_number}-{ap}-{ar}  ----------\")                    \n",
    "                    df_reader_score = seed.build_quantity_df(\"Reader Score\", 100)\n",
    "                    df_reader_steadiness = seed.build_quantity_df(\"Reader Steadiness\", 100)\n",
    "                    df_reader_score.rename(columns={'Quantity':'Reader Score'}, inplace=True)\n",
    "                    df_reader_steadiness.rename(columns={'Quantity':'Reader Steadiness'}, inplace=True)\n",
    "                    df_reader = df_reader_score.merge(df_reader_steadiness, on='Identifier', how='left')\n",
    "                    for index, row in df_reader.iterrows():\n",
    "                        anova_df_reader = anova_df_reader.append({\n",
    "                            'Reader Number': current_reader_number,\n",
    "                            'Paper Number': current_paper_number,\n",
    "                            'A_Reader': ar,\n",
    "                            'A_Paper': ap,\n",
    "                            'Identifier': row[\"Identifier\"],\n",
    "                            'Reader Score': row[\"Reader Score\"],\n",
    "                            'Reader Steadiness': row[\"Reader Steadiness\"],\n",
    "                        }, ignore_index=True)\n",
    "                    df_paper_score = seed.build_quantity_df(\"Paper Score\", 100)\n",
    "                    df_paper_steadiness = seed.build_quantity_df(\"Paper Steadiness\", 100)\n",
    "                    df_paper_score.rename(columns={'Quantity':'Paper Score'}, inplace=True)\n",
    "                    df_paper_steadiness.rename(columns={'Quantity':'Paper Steadiness'}, inplace=True)\n",
    "                    df_paper = df_paper_score.merge(df_paper_steadiness, on='Identifier', how='left')\n",
    "                    for index, row in df_paper.iterrows():\n",
    "                        anova_df_paper = anova_df_paper.append({\n",
    "                            'Reader Number': current_reader_number,\n",
    "                            'Paper Number': current_paper_number,\n",
    "                            'A_Reader': ar,\n",
    "                            'A_Paper': ap,\n",
    "                            'Identifier': row[\"Identifier\"],\n",
    "                            'Paper Score': row[\"Paper Score\"],\n",
    "                            'Paper Steadiness': row[\"Paper Steadiness\"],\n",
    "                        }, ignore_index=True)\n",
    "anova_df_reader.rename(columns={\n",
    "    'Reader Number':'Reader_Number', \n",
    "    'Paper Number':'Paper_Number',\n",
    "    'Reader Score': \"Reader_Score\",\n",
    "    'Reader Steadiness': \"Reader_Steadiness\"\n",
    "}, inplace=True)\n",
    "anova_df_reader[[\"Reader_Number\", \"Paper_Number\", \"Identifier\"]] = anova_df_reader[[\"Reader_Number\", \"Paper_Number\", \"Identifier\"]].astype(int)\n",
    "path = f\"{result_folder_exp_1_d_path}anova_df_reader.pkl\"\n",
    "anova_df_reader.to_pickle(path)\n",
    "print(\"Anova reader dataframe saved at path: {}\".format(path))\n",
    "anova_df_paper.rename(columns={\n",
    "    'Reader Number':'Reader_Number', \n",
    "    'Paper Number':'Paper_Number',\n",
    "    'Paper Score': \"Paper_Score\",\n",
    "    'Paper Steadiness': \"Paper_Steadiness\"\n",
    "}, inplace=True)\n",
    "anova_df_paper[[\"Reader_Number\", \"Paper_Number\", \"Identifier\"]] = anova_df_paper[[\"Reader_Number\", \"Paper_Number\", \"Identifier\"]].astype(int)\n",
    "path = f\"{result_folder_exp_1_d_path}anova_df_paper.pkl\"\n",
    "anova_df_paper.to_pickle(path)\n",
    "print(\"Anova paper dataframe saved at path: {}\".format(path))\n",
    "\n",
    "print(f\"---------- ANOVA DF BUILDING COMPLETED ----------\")\n"
   ],
   "metadata": {
    "collapsed": false,
    "pycharm": {
     "name": "#%%\n",
     "is_executing": false
    }
   }
  }
 ],
 "metadata": {
  "language_info": {
   "codemirror_mode": {
    "name": "ipython",
    "version": 2
   },
   "file_extension": ".py",
   "mimetype": "text/x-python",
   "name": "python",
   "nbconvert_exporter": "python",
   "pygments_lexer": "ipython2",
   "version": "2.7.6"
  },
  "kernelspec": {
   "name": "python3",
   "language": "python",
   "display_name": "Python 3"
  },
  "pycharm": {
   "stem_cell": {
    "cell_type": "raw",
    "source": [],
    "metadata": {
     "collapsed": false
    }
   }
  }
 },
 "nbformat": 4,
 "nbformat_minor": 0
}