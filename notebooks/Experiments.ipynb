{
 "cells": [
  {
   "cell_type": "code",
   "execution_count": 87,
   "metadata": {
    "collapsed": true,
    "pycharm": {
     "is_executing": false
    }
   },
   "outputs": [],
   "source": [
    "import pandas as pd\n",
    "import os\n",
    "from matplotlib import pyplot as plt\n",
    "import seaborn as sns\n",
    "from ReadersourcingParameters import ReadersourcingParameters\n",
    "\n",
    "plt.ioff()\n",
    "\n",
    "def build_df_shuffle(quantity_label, seed, shuffle_perc, identifiers_perc):\n",
    "    quantity_df = pd.DataFrame(columns=[\"Shuffle\", \"Identifier\", \"Quantity\"])\n",
    "    shuffle_amount = round((seed.shuffle_amount * shuffle_perc) / 100) \n",
    "    for index_shuffle in range(shuffle_amount):\n",
    "        percentage = 100*index_shuffle/seed.shuffle_amount\n",
    "        if percentage % 5 == 0:\n",
    "            print(\"{}/{} ({}/100%)\".format(int(index_shuffle), seed.shuffle_amount, int(percentage)))\n",
    "        quantities = pd.read_json(\"{}/shuffle/shuffle_{}/quantities.json\".format(seed.result_folder_base_path, index_shuffle))\n",
    "        row = quantities.loc[quantities[\"Quantity\"] == quantity_label]\n",
    "        row = row.reset_index()\n",
    "        identifiers = row.at[0, \"Identifiers\"]\n",
    "        if identifiers_perc != 0:\n",
    "            identifiers_amount = round((len(identifiers) * identifiers_perc) / 100)\n",
    "            identifiers = identifiers[:identifiers_amount]\n",
    "        quantity = row.at[0, \"Values\"]\n",
    "        for index, identifier in enumerate(identifiers):\n",
    "            quantity_df = quantity_df.append({\"Shuffle\": index_shuffle, \"Identifier\": identifier, \"Quantity\": quantity[index]}, ignore_index=True)\n",
    "    quantity_df[\"Shuffle\"] = quantity_df[\"Shuffle\"].astype(int)\n",
    "    quantity_df[\"Identifier\"] = quantity_df[\"Identifier\"].astype(int)\n",
    "    print(\"{}/{} (100/100%)\".format(seed.shuffle_amount, seed.shuffle_amount))\n",
    "    return quantity_df\n",
    "\n",
    "def build_df(quantity_label, seed, identifiers_perc):\n",
    "    quantity_df = pd.DataFrame(columns=[\"Identifier\", \"Quantity\"])\n",
    "    quantities = pd.read_json(\"{}/quantities.json\".format(seed.result_folder_base_path))\n",
    "    display(quantities)\n",
    "    row = quantities.loc[quantities[\"Quantity\"] == quantity_label]\n",
    "    row = row.reset_index()\n",
    "    identifiers = row.at[0, \"Identifiers\"]\n",
    "    if identifiers_perc != 0:\n",
    "        identifiers_amount = round((len(identifiers) * identifiers_perc) / 100)\n",
    "        identifiers = identifiers[:identifiers_amount]\n",
    "    quantity = row.at[0, \"Values\"]\n",
    "    for index, identifier in enumerate(identifiers):\n",
    "        quantity_df = quantity_df.append({\"Identifier\": identifier, \"Quantity\": quantity[index]}, ignore_index=True)\n",
    "    quantity_df[\"Identifier\"] = quantity_df[\"Identifier\"].astype(int)\n",
    "    print(\"{}/{} (100/100%)\".format(seed.shuffle_amount, seed.shuffle_amount))\n",
    "    return quantity_df"
   ]
  },
  {
   "cell_type": "code",
   "execution_count": 68,
   "outputs": [],
   "source": [
    "# ------------------------------\n",
    "# ---------- EXP 1-A -----------\n",
    "# ------------------------------\n",
    "\n",
    "# Analizzo l'andamento degli score di tre reader \"speciali\" per X shuffle dei rating di un dato seed.\n",
    "# Reader 1 vota sempre nel modo \"esatto\" (sulla media). \n",
    "# Reader 2 vota sempre a metà scala rispetto a 1001.\n",
    "# Reader 3 vota sempre sugli estremi.\n",
    "# L'ordinamento desiderato degli score è Reader 1 -> Reader 2 -> Reader 3 (ordine crescente)\n",
    "\n",
    "seed = ReadersourcingParameters(\n",
    "    dataset_name=\"seed_shuffle_1_special\", \n",
    "    dataset_folder_path=\"../data/{}/\", \n",
    "    data_shuffled=True, \n",
    "    current_shuffle = 0,\n",
    "    shuffle_amount=100\n",
    ")\n",
    "\n",
    "# Plot parameters\n",
    "\n",
    "plt.rcParams['figure.figsize']=(6,6)\n",
    "linesize = .5\n",
    "\n",
    "# Paths\n",
    "\n",
    "result_folder_experiments_path = \"{}/experiments/\".format(seed.result_folder_base_path)\n",
    "result_folder_exp_1_a_path = \"{}/experiment_1-a/\".format(result_folder_experiments_path)\n",
    "os.makedirs(result_folder_experiments_path, exist_ok=True)\n",
    "os.makedirs(result_folder_exp_1_a_path, exist_ok=True)"
   ],
   "metadata": {
    "collapsed": false,
    "pycharm": {
     "name": "#%%\n",
     "is_executing": false
    }
   }
  },
  {
   "cell_type": "code",
   "execution_count": 72,
   "outputs": [
    {
     "name": "stdout",
     "text": [
      "0/100 (0/100%)\n",
      "100/100 (100/100%)\n"
     ],
     "output_type": "stream"
    }
   ],
   "source": [
    "shuffle_perc = 5\n",
    "papers_perc = 5\n",
    "df = build_df_shuffle(\"Reader Score\", seed, shuffle_perc, 0)\n",
    "\n",
    "readers_number = df[df[\"Shuffle\"] == 0].shape[0]\n",
    "\n",
    "df = df[\n",
    "    (df[\"Identifier\"] == readers_number-1) |\n",
    "    (df[\"Identifier\"] == readers_number-2) |\n",
    "    (df[\"Identifier\"] == readers_number-3) \n",
    "]"
   ],
   "metadata": {
    "collapsed": false,
    "pycharm": {
     "name": "#%%\n",
     "is_executing": false
    }
   }
  },
  {
   "cell_type": "code",
   "execution_count": 73,
   "outputs": [],
   "source": [
    "with plt.rc_context({'lines.linewidth': linesize}):\n",
    "    ax = sns.pointplot(x=\"Identifier\", y=\"Quantity\", hue=\"Shuffle\", \n",
    "                       data=df, order=[readers_number-3,readers_number-2,readers_number-1])\n",
    "    ax.set_title(f\"shuffle_perc: {shuffle_perc}%\")\n",
    "fig = ax.get_figure()\n",
    "path = \"{}/special-reader-score-lineplot.pdf\".format(result_folder_exp_1_a_path)\n",
    "fig.savefig(path, bbox_inches='tight')\n",
    "plt.close(fig)"
   ],
   "metadata": {
    "collapsed": false,
    "pycharm": {
     "name": "#%%\n",
     "is_executing": false
    }
   }
  },
  {
   "cell_type": "code",
   "execution_count": 55,
   "outputs": [],
   "source": [
    "# ------------------------------\n",
    "# ---------- EXP 1-B -----------\n",
    "# ------------------------------\n",
    "\n",
    "# Analizzo le quantità calcolate da Readersourcing per X shuffle dei rating di un dato seed.\n",
    "# Per ciascuna quantità viene costruito un grafico che mostra i valori della quantità corrente per ciascuno shuffle.\n",
    "\n",
    "seed_shuffle_1 = ReadersourcingParameters(\n",
    "    dataset_name=\"seed_shuffle_1\", \n",
    "    dataset_folder_path=\"../data/{}/\", \n",
    "    data_shuffled=True, \n",
    "    current_shuffle = 0,\n",
    "    shuffle_amount=100\n",
    ")\n",
    "\n",
    "# Plot parameters\n",
    "\n",
    "linesize = .75\n",
    "\n",
    "# Paths\n",
    "\n",
    "result_folder_experiments_path = \"{}/experiments/\".format(seed_shuffle_1.result_folder_base_path)\n",
    "result_folder_exp_1_b_path = \"{}/experiment_1-b/\".format(result_folder_experiments_path)\n",
    "os.makedirs(result_folder_experiments_path, exist_ok=True)\n",
    "os.makedirs(result_folder_exp_1_b_path, exist_ok=True)"
   ],
   "metadata": {
    "collapsed": false,
    "pycharm": {
     "name": "#%%\n",
     "is_executing": false
    }
   }
  },
  {
   "cell_type": "code",
   "execution_count": 56,
   "outputs": [
    {
     "name": "stdout",
     "text": [
      "0/100 (0/100%)\n100/100 (100/100%)\n---------- BUILDING PAPER SCORE LINE PLOT ----------\n"
     ],
     "output_type": "stream"
    }
   ],
   "source": [
    "shuffle_perc = 5\n",
    "papers_perc = 5\n",
    "df = build_df_shuffle(\"Paper Score\", seed_shuffle_1, shuffle_perc, papers_perc)\n",
    "\n",
    "print(\"---------- BUILDING PAPER SCORE LINE PLOT ----------\")\n",
    "with plt.rc_context({'lines.linewidth': linesize}):\n",
    "    ax = sns.pointplot(x=\"Identifier\", y=\"Quantity\", hue=\"Shuffle\", data=df)\n",
    "    ax.set_title(f\"shuffle_perc: {shuffle_perc}%, papers_perc: {papers_perc}%\")\n",
    "fig = ax.get_figure()\n",
    "path = \"{}/paper-score-lineplot.pdf\".format(result_folder_exp_1_b_path)\n",
    "fig.savefig(path, bbox_inches='tight')\n",
    "plt.close(fig)"
   ],
   "metadata": {
    "collapsed": false,
    "pycharm": {
     "name": "#%%\n",
     "is_executing": false
    }
   }
  },
  {
   "cell_type": "code",
   "execution_count": 57,
   "outputs": [
    {
     "name": "stdout",
     "text": [
      "0/100 (0/100%)\n100/100 (100/100%)\n---------- BUILDING PAPER STEADINESS LINE PLOT ----------\n"
     ],
     "output_type": "stream"
    }
   ],
   "source": [
    "shuffle_perc = 5\n",
    "papers_perc = 5\n",
    "df = build_df_shuffle(\"Paper Steadiness\", seed_shuffle_1, shuffle_perc, papers_perc)\n",
    "\n",
    "print(\"---------- BUILDING PAPER STEADINESS LINE PLOT ----------\")\n",
    "with plt.rc_context({'lines.linewidth': linesize}):\n",
    "    ax = sns.pointplot(x=\"Identifier\", y=\"Quantity\", hue=\"Shuffle\", data=df)\n",
    "    ax.set_title(f\"shuffle_perc: {shuffle_perc}%, papers_perc: {papers_perc}%\")\n",
    "fig = ax.get_figure()\n",
    "path = \"{}/paper-steadiness-lineplot.pdf\".format(result_folder_exp_1_b_path)\n",
    "fig.savefig(path, bbox_inches='tight')\n",
    "plt.close(fig)"
   ],
   "metadata": {
    "collapsed": false,
    "pycharm": {
     "name": "#%%\n",
     "is_executing": false
    }
   }
  },
  {
   "cell_type": "code",
   "execution_count": 58,
   "outputs": [
    {
     "name": "stdout",
     "text": [
      "0/100 (0/100%)\n",
      "100/100 (100/100%)\n---------- BUILDING READER SCORE LINE PLOT ----------\n"
     ],
     "output_type": "stream"
    }
   ],
   "source": [
    "shuffle_perc = 5\n",
    "readers_perc = 2\n",
    "df = build_df_shuffle(\"Reader Score\", seed_shuffle_1, shuffle_perc, readers_perc)\n",
    "\n",
    "print(\"---------- BUILDING READER SCORE LINE PLOT ----------\")\n",
    "with plt.rc_context({'lines.linewidth': linesize}):\n",
    "    ax = sns.pointplot(x=\"Identifier\", y=\"Quantity\", hue=\"Shuffle\", data=df)\n",
    "    ax.set_title(f\"shuffle_perc: {shuffle_perc}%, readers_perc: {readers_perc}%\")\n",
    "fig = ax.get_figure()\n",
    "path = \"{}/reader-score-lineplot.pdf\".format(result_folder_exp_1_b_path)\n",
    "fig.savefig(path, bbox_inches='tight')\n",
    "plt.close(fig)"
   ],
   "metadata": {
    "collapsed": false,
    "pycharm": {
     "name": "#%%\n",
     "is_executing": false
    }
   }
  },
  {
   "cell_type": "code",
   "execution_count": 60,
   "outputs": [
    {
     "name": "stdout",
     "text": [
      "0/100 (0/100%)\n100/100 (100/100%)\n---------- BUILDING READER STEADINESS LINE PLOT ----------\n"
     ],
     "output_type": "stream"
    }
   ],
   "source": [
    "shuffle_perc = 5\n",
    "readers_perc = 2\n",
    "df = build_df_shuffle(\"Reader Steadiness\", seed_shuffle_1, shuffle_perc, readers_perc)\n",
    "\n",
    "print(\"---------- BUILDING READER STEADINESS LINE PLOT ----------\")\n",
    "with plt.rc_context({'lines.linewidth': linesize}):\n",
    "    ax = sns.pointplot(x=\"Identifier\", y=\"Quantity\", hue=\"Shuffle\", data=df)\n",
    "    ax.set_title(f\"shuffle_perc: {shuffle_perc}%, readers_perc: {readers_perc}%\")\n",
    "fig = ax.get_figure()\n",
    "path = \"{}/reader-steadiness-lineplot.pdf\".format(result_folder_exp_1_b_path)\n",
    "fig.savefig(path, bbox_inches='tight')\n",
    "plt.close(fig)"
   ],
   "metadata": {
    "collapsed": false,
    "pycharm": {
     "name": "#%%\n",
     "is_executing": false
    }
   }
  },
  {
   "cell_type": "code",
   "execution_count": 90,
   "outputs": [],
   "source": [
    "# ------------------------------\n",
    "# ---------- EXP 1-C -----------\n",
    "# ------------------------------\n",
    "\n",
    "# Le quantità calcolate da Readersourcing vengono comparate con la loro media aritmetica, geometrica, bayesiana e con la mediana.\n",
    "# Gli indici standard vengono calcolati sui giudizi ricevuti da ciascun Paper e sui giudizi assegnati da ciascun Reader.\n",
    "\n",
    "seed = ReadersourcingParameters(\n",
    "    dataset_name=\"ground_truth_2\", \n",
    "    dataset_folder_path=\"../data/{}/\", \n",
    ")\n",
    "\n",
    "# Plot parameters\n",
    "\n",
    "linesize = .75\n",
    "\n",
    "# Paths\n",
    "\n",
    "result_folder_experiments_path = \"{}/experiments/\".format(seed.result_folder_base_path)\n",
    "result_folder_exp_1_c_path = \"{}/experiment_1-c/\".format(result_folder_experiments_path)\n",
    "os.makedirs(result_folder_experiments_path, exist_ok=True)\n",
    "os.makedirs(result_folder_exp_1_c_path, exist_ok=True)"
   ],
   "metadata": {
    "collapsed": false,
    "pycharm": {
     "name": "#%%\n",
     "is_executing": false
    }
   }
  },
  {
   "cell_type": "code",
   "execution_count": 91,
   "outputs": [
    {
     "data": {
      "text/plain": "            Quantity Identifiers  \\\n0   Paper Steadiness      [0, 1]   \n1        Paper Score      [0, 1]   \n2  Reader Steadiness   [0, 1, 2]   \n3       Reader Score   [0, 1, 2]   \n4  Author Steadiness      [0, 1]   \n5       Author Score      [0, 1]   \n\n                                              Values  \n0                         [3e-06, 2.769059892324149]  \n1          [0.5366666666666661, 0.47419407590625506]  \n2  [2.769062892324149, 2.769062892324149, 2.76906...  \n3  [0.6620740494702401, 0.32486654997562003, 0.33...  \n4             [2.769062892324149, 2.769062892324149]  \n5         [0.47419414358899803, 0.47419414358899803]  ",
      "text/html": "<div>\n<style scoped>\n    .dataframe tbody tr th:only-of-type {\n        vertical-align: middle;\n    }\n\n    .dataframe tbody tr th {\n        vertical-align: top;\n    }\n\n    .dataframe thead th {\n        text-align: right;\n    }\n</style>\n<table border=\"1\" class=\"dataframe\">\n  <thead>\n    <tr style=\"text-align: right;\">\n      <th></th>\n      <th>Quantity</th>\n      <th>Identifiers</th>\n      <th>Values</th>\n    </tr>\n  </thead>\n  <tbody>\n    <tr>\n      <th>0</th>\n      <td>Paper Steadiness</td>\n      <td>[0, 1]</td>\n      <td>[3e-06, 2.769059892324149]</td>\n    </tr>\n    <tr>\n      <th>1</th>\n      <td>Paper Score</td>\n      <td>[0, 1]</td>\n      <td>[0.5366666666666661, 0.47419407590625506]</td>\n    </tr>\n    <tr>\n      <th>2</th>\n      <td>Reader Steadiness</td>\n      <td>[0, 1, 2]</td>\n      <td>[2.769062892324149, 2.769062892324149, 2.76906...</td>\n    </tr>\n    <tr>\n      <th>3</th>\n      <td>Reader Score</td>\n      <td>[0, 1, 2]</td>\n      <td>[0.6620740494702401, 0.32486654997562003, 0.33...</td>\n    </tr>\n    <tr>\n      <th>4</th>\n      <td>Author Steadiness</td>\n      <td>[0, 1]</td>\n      <td>[2.769062892324149, 2.769062892324149]</td>\n    </tr>\n    <tr>\n      <th>5</th>\n      <td>Author Score</td>\n      <td>[0, 1]</td>\n      <td>[0.47419414358899803, 0.47419414358899803]</td>\n    </tr>\n  </tbody>\n</table>\n</div>"
     },
     "metadata": {},
     "output_type": "display_data"
    },
    {
     "name": "stdout",
     "text": [
      "0/0 (100/100%)\n"
     ],
     "output_type": "stream"
    },
    {
     "data": {
      "text/plain": "   Identifier  Quantity\n0           0  0.536667\n1           1  0.474194",
      "text/html": "<div>\n<style scoped>\n    .dataframe tbody tr th:only-of-type {\n        vertical-align: middle;\n    }\n\n    .dataframe tbody tr th {\n        vertical-align: top;\n    }\n\n    .dataframe thead th {\n        text-align: right;\n    }\n</style>\n<table border=\"1\" class=\"dataframe\">\n  <thead>\n    <tr style=\"text-align: right;\">\n      <th></th>\n      <th>Identifier</th>\n      <th>Quantity</th>\n    </tr>\n  </thead>\n  <tbody>\n    <tr>\n      <th>0</th>\n      <td>0</td>\n      <td>0.536667</td>\n    </tr>\n    <tr>\n      <th>1</th>\n      <td>1</td>\n      <td>0.474194</td>\n    </tr>\n  </tbody>\n</table>\n</div>"
     },
     "metadata": {},
     "output_type": "display_data"
    }
   ],
   "source": [
    "df = build_df(\"Paper Score\", seed, 100)\n",
    "display(df)"
   ],
   "metadata": {
    "collapsed": false,
    "pycharm": {
     "name": "#%%\n",
     "is_executing": false
    }
   }
  }
 ],
 "metadata": {
  "language_info": {
   "codemirror_mode": {
    "name": "ipython",
    "version": 2
   },
   "file_extension": ".py",
   "mimetype": "text/x-python",
   "name": "python",
   "nbconvert_exporter": "python",
   "pygments_lexer": "ipython2",
   "version": "2.7.6"
  },
  "kernelspec": {
   "name": "python3",
   "language": "python",
   "display_name": "Python 3"
  },
  "pycharm": {
   "stem_cell": {
    "cell_type": "raw",
    "source": [],
    "metadata": {
     "collapsed": false
    }
   }
  }
 },
 "nbformat": 4,
 "nbformat_minor": 0
}