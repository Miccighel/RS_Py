{
 "cells": [
  {
   "cell_type": "code",
   "execution_count": 15,
   "metadata": {
    "collapsed": true,
    "pycharm": {
     "is_executing": false
    }
   },
   "outputs": [],
   "source": [
    "import pandas as pd\n",
    "import os\n",
    "import json\n",
    "from matplotlib import pyplot as plt\n",
    "import seaborn as sns\n",
    "from ReadersourcingParameters import ReadersourcingParameters\n",
    "\n",
    "plt.rcParams['figure.figsize']=(9,9)\n",
    "plt.ioff()\n",
    "\n",
    "def build_df(quantity_label, seed):\n",
    "    quantity_df = pd.DataFrame(columns=[\"Shuffle\", \"Identifier\", \"Quantity\"])\n",
    "    for index_shuffle in range(seed.shuffle_amount):\n",
    "        percentage = 100*index_shuffle/seed.shuffle_amount\n",
    "        if percentage % 5 == 0:\n",
    "            print(\"{}/{} ({}/100%)\".format(int(index_shuffle), seed.shuffle_amount, int(percentage)))\n",
    "        quantities = pd.read_json(\"{}/shuffle/shuffle_{}/quantities.json\".format(seed.result_folder_base_path, index_shuffle))\n",
    "        row = quantities.loc[quantities[\"Quantity\"] == quantity_label]\n",
    "        row = row.reset_index()\n",
    "        identifiers = row.at[0, \"Identifiers\"]\n",
    "        quantity = row.at[0, \"Values\"]\n",
    "        for index, identifier in enumerate(identifiers):\n",
    "            quantity_df = quantity_df.append({\"Shuffle\": index_shuffle, \"Identifier\": identifier, \"Quantity\": quantity[index]}, ignore_index=True)\n",
    "    quantity_df[\"Shuffle\"] = quantity_df[\"Shuffle\"].astype(int)\n",
    "    quantity_df[\"Identifier\"] = quantity_df[\"Identifier\"].astype(int)\n",
    "    print(\"{}/{} (100/100%)\".format(seed.shuffle_amount, seed.shuffle_amount))\n",
    "    return quantity_df"
   ]
  },
  {
   "cell_type": "code",
   "execution_count": 16,
   "outputs": [
    {
     "name": "stdout",
     "text": [
      "0/100 (0/100%)\n{'Values': [-45.254051230472214, 0.863910569825657, 0.49299976452371685, 0.6644034872831285, 0.3378666984074914, -105.22016726261715, 0.1083881082083535, 0.48514590934072854, 0.2476717243527222, 0.6235055263622776, 0.5053968766215179, 0.9149066826145429, 0.709674286585878, 0.9201507132654091, 0.48068601237988823, 1.0409107850250152, 0.4962902585379341, 0.4372544936396318, 0.5035464755716988, 0.5794770122301093, 0.11786015559401146, 0.4719970797185512, 0.11184980607386595, 0.14863739351599256, 0.22001048550103958, 0.4902920779750107, -44.26664445463439, -56.174812538563664, 0.3473181035395917, 0.4603157896771629, 0.4552257102319284, 0.26329545658696063, -0.04630040448105346, 1.0089034193778825, 0.4107923657359918, 0.6802888201508723, 0.5469151052047103, 0.43544930369771184, 1.0457778100157054, 0.7566512759087833, -0.27281871636255656, 0.0768902323599087, 0.5677467009503885, 0.5972118744278135, 0.14415204321743613, 0.6118453648743446, 0.5272388023166386, 0.131519241578141, 0.2720750082281001, 15.961771000791739, 0.8729861601007274, 0.5693122743541064, 0.5598651875789159, 178.77032379424008, 0.5093907545741503, 2.1170126567128364, 0.46719758955464186, 0.45704891372877204, -386.38190590258165, 0.8988055834531329, 0.3146530387103115, 0.5117995373620066, -2.1717224183943795, -170.7203334278634, -118.06446533684148, 0.484819008138923, 0.6529722253360716, 0.11707189557867329, -60.790259926519695, 0.48017026558731957, 0.5435719776929626, 0.8816939152877162, 0.2359623870195089, 0.6091839856046359, -0.09694458085527938, -76.81955110009635, 0.42834554896116106, 0.3815349463190189, 0.7763419506537844, -1.3675931491053237, 0.3504212886304495, 0.8444242436651765, 0.37904378279578377, 15.076258602942852, 0.8347976699054855, 0.6291251373864516, 0.7322229452793241, 0.8924701034420099, 0.5256439804619418, 0.36751685872286066, 0.5656109293585126, 0.6644398223733835, 0.8707980494823978, 0.6435634032408859, 0.35830117534802475, 18.342698316247958, 0.11903090008779747, 0.09972548894542138, 0.0911727805945283, 0.4620829272790487, 0.5104607568794945, 0.9043243344621406, 0.38120501246551086, 0.48886770842239596, 0.366313276973286, 0.5182412316222942, 0.896180437098933, 0.49371084972152, 0.0719191841022536, 0.8991660401979853, -1.2128842568708085, 0.005576088803267927, 1.1708359281659078, 0.5215101529123323, 0.8521009407966617, 13.146560947451455, 0.5395807902765778, -0.0910921221320397, 0.41341858706510304, 0.4631957806413493, 0.11021421004697082, 0.17817913589358372, -0.3740604196298722, 0.7413574081288464, 0.8915436396447975, 0.4623179446198959, 1.1627734370171208, 0.5848896435263693, 0.5051032420191613, 0.47365917038522304, -34884.374514013696, 0.6176825296371374, 0.4079117519033911, 0.2957235661657252, 0.4420485482972886, 0.6436237849955044, 0.8027687746906516, 0.4988357578293346, 0.7871337305456619, 0.5616427079262178, -21.008038128741372, 0.46664354464138746, 0.24418967982956447, 0.5346165580009994, 11.945187168183164, 0.3639604565473287, 0.8848152676628607, 0.5243528402699953, 0.7959421029951275, 0.550030896058261, 0.656584022935065, 0.10233092824347541, 0.6855504942024974, 0.5161489961709076, 0.4410713969518275, -1.471989597374069, -1.100059067944553, -155.65073536872418, 0.4170353323226567, 0.5453605112143997, 0.2617242462989079, 0.8296707318025784, -0.2803410106752187, 0.4781863718637373, 0.4754174909613612, 0.5087091785532477, 0.14193365168103184, -98.36986889979015, 0.5128915461972352, 0.5571132067682252, 0.5123080076241534, 0.45515652549133123, 12.975766229741087, 4.982869337599706, 0.4878351494611096, 0.7749511790635009, 0.5360205504297532, 0.2284137154709687, -44.40758250036934, 11.051774908994874, 0.46549527360999926, 0.5096408020297064, -0.1756167935668389, 0.41068043970856893, 0.47098042878162144, 0.5510386870517101, 0.41300887050654383, 0.5256939744624939, 0.16915977730039022, 508.5273886888034, 0.8992904008934307, -0.2526252459657558, 0.10505327449647797, 0.719422920679228, 0.6163206027503775, 0.15218777875511952, 0.5120738843974612, -39.60592258237778, 0.5194324286353696, 117.65401626202551, 0.5412704983562819, 0.6203620172744655, 0.1417783556472682, -63.00205728773759, 0.4843148560800698, 0.517791935191279, 0.4484449160346127, 0.4385713837351244, 0.7153767593057198, 0.657594994231182, 3.5008856961557306, 0.26180454723131796, 0.9187327626248853, 0.8310586620488085, 0.7230350302095885, 0.4710774753414519, -76.48258266921947, 0.4036157752280548, 0.6382533217435636, 0.7971078974035002, -1739.3223281932605, 0.6297660480997301, 0.5618159380787671, 0.5065235939743032, 0.17738086873647343, -381.8396215451039, 1.326532793188299, -32.249520339944134, -43.27492091088452, 0.5550972970883246, 13.369081740320365, 2.9532608611078044, 0.2208277992150015, 0.45608561355309646, 10.31273601163339, 0.5044184621125191, 0.18011426905482608, 0.5214830964283463, 0.14421030584384348, 6.5303155060460965, 0.8675442523994387, 0.9449922719335877, 0.4999618957776961, -174.3459823037411, 0.46486294577047516, 0.28391271201298424, 0.3548303059122418, 0.5013142656815857, 0.7497517157185243, 0.5644592622993243, 0.5053526371930502, 0.16265774608643355, 0.23342564327383486, 0.3242389365563568, 0.6847299963409454, 0.5990231599451326, 0.9025458810023177, 0.8391298985670149, 0.5265451164719953, 0.48129638850143225, 0.6449173857626891, 0.2631460407537259, 1.1386668236920863, 0.7760100539016844, 0.40694751870356016, 0.18294633285580555, -55.047379923126115, 0.6703914818572908, 0.7695143467188202, 0.7405447744657958, 0.4079430249920082, 0.9883020444559419, 0.7095361389578478, 0.5819640062345522, 0.5337211846069387, 0.8727300997000256, 0.8156596742097394, 0.7636924150519899, 0.5142158730623686, 0.540551615939822, 0.07447335915417704, 18.40269135412725, 0.7666932607289714, 2.0977152228992195, 0.9448010001274726, 0.884807613940591, 0.6344594915416836, 0.8564804873193397, -62.52868376402246, 0.4394337420311297, 0.4904755452024841, 0.46646864390309495, 0.36148024573402426, 0.4662330010590564, 0.4626972359625125, 0.8558275587772968, 0.16469976434977893, 0.8078410446166153, 0.621391386920569, -87.4625415503762], 'Identifiers': [0, 1, 2, 3, 4, 5, 6, 7, 8, 9, 10, 11, 12, 13, 14, 15, 16, 17, 18, 19, 20, 21, 22, 23, 24, 25, 26, 27, 28, 29, 30, 31, 32, 33, 34, 35, 36, 37, 38, 39, 40, 41, 42, 43, 44, 45, 46, 47, 48, 49, 50, 51, 52, 53, 54, 55, 56, 57, 58, 59, 60, 61, 62, 63, 64, 65, 66, 67, 68, 69, 70, 71, 72, 73, 74, 75, 76, 77, 78, 79, 80, 81, 82, 83, 84, 85, 86, 87, 88, 89, 90, 91, 92, 93, 94, 95, 96, 97, 98, 99, 100, 101, 102, 103, 104, 105, 106, 107, 108, 109, 110, 111, 112, 113, 114, 115, 116, 117, 118, 119, 120, 121, 122, 123, 124, 125, 126, 127, 128, 129, 130, 131, 132, 133, 134, 135, 136, 137, 138, 139, 140, 141, 142, 143, 144, 145, 146, 147, 148, 149, 150, 151, 152, 153, 154, 155, 156, 157, 158, 159, 160, 161, 162, 163, 164, 165, 166, 167, 168, 169, 170, 171, 172, 173, 174, 175, 176, 177, 178, 179, 180, 181, 182, 183, 184, 185, 186, 187, 188, 189, 190, 191, 192, 193, 194, 195, 196, 197, 198, 199, 200, 201, 202, 203, 204, 205, 206, 207, 208, 209, 210, 211, 212, 213, 214, 215, 216, 217, 218, 219, 220, 221, 222, 223, 224, 225, 226, 227, 228, 229, 230, 231, 232, 233, 234, 235, 236, 237, 238, 239, 240, 241, 242, 243, 244, 245, 246, 247, 248, 249, 250, 251, 252, 253, 254, 255, 256, 257, 258, 259, 260, 261, 262, 263, 264, 265, 266, 267, 268, 269, 270, 271, 272, 273, 274, 275, 276, 277, 278, 279, 280, 281, 282, 283, 284, 285, 286, 287, 288, 289, 290, 291, 292, 293, 294, 295, 296, 297, 298, 299], 'Quantity': 'Paper Score'}\n"
     ],
     "output_type": "stream"
    },
    {
     "traceback": [
      "\u001b[1;31m---------------------------------------------------------------------------\u001b[0m",
      "\u001b[1;31mAssertionError\u001b[0m                            Traceback (most recent call last)",
      "\u001b[1;32m<ipython-input-16-d50543601b7a>\u001b[0m in \u001b[0;36m<module>\u001b[1;34m\u001b[0m\n\u001b[0;32m     11\u001b[0m )\n\u001b[0;32m     12\u001b[0m \u001b[1;33m\u001b[0m\u001b[0m\n\u001b[1;32m---> 13\u001b[1;33m \u001b[0mdf\u001b[0m \u001b[1;33m=\u001b[0m \u001b[0mbuild_df\u001b[0m\u001b[1;33m(\u001b[0m\u001b[1;34m\"Reader Score\"\u001b[0m\u001b[1;33m,\u001b[0m \u001b[0mseed_shuffle_1_special\u001b[0m\u001b[1;33m)\u001b[0m\u001b[1;33m\u001b[0m\u001b[1;33m\u001b[0m\u001b[0m\n\u001b[0m\u001b[0;32m     14\u001b[0m \u001b[1;33m\u001b[0m\u001b[0m\n",
      "\u001b[1;32m<ipython-input-15-58aa8b022db1>\u001b[0m in \u001b[0;36mbuild_df\u001b[1;34m(quantity_label, seed)\u001b[0m\n\u001b[0;32m     19\u001b[0m             \u001b[0mdata\u001b[0m \u001b[1;33m=\u001b[0m \u001b[0mjson\u001b[0m\u001b[1;33m.\u001b[0m\u001b[0mload\u001b[0m\u001b[1;33m(\u001b[0m\u001b[0mjson_file\u001b[0m\u001b[1;33m)\u001b[0m\u001b[1;33m\u001b[0m\u001b[1;33m\u001b[0m\u001b[0m\n\u001b[0;32m     20\u001b[0m             \u001b[0mprint\u001b[0m\u001b[1;33m(\u001b[0m\u001b[0mdata\u001b[0m\u001b[1;33m[\u001b[0m\u001b[1;36m1\u001b[0m\u001b[1;33m]\u001b[0m\u001b[1;33m)\u001b[0m\u001b[1;33m\u001b[0m\u001b[1;33m\u001b[0m\u001b[0m\n\u001b[1;32m---> 21\u001b[1;33m         \u001b[1;32massert\u001b[0m \u001b[1;32mFalse\u001b[0m\u001b[1;33m\u001b[0m\u001b[1;33m\u001b[0m\u001b[0m\n\u001b[0m\u001b[0;32m     22\u001b[0m         \u001b[0mrow\u001b[0m \u001b[1;33m=\u001b[0m \u001b[0mquantities\u001b[0m\u001b[1;33m.\u001b[0m\u001b[0mloc\u001b[0m\u001b[1;33m[\u001b[0m\u001b[0mquantities\u001b[0m\u001b[1;33m[\u001b[0m\u001b[1;34m\"Quantity\"\u001b[0m\u001b[1;33m]\u001b[0m \u001b[1;33m==\u001b[0m \u001b[0mquantity_label\u001b[0m\u001b[1;33m]\u001b[0m\u001b[1;33m\u001b[0m\u001b[1;33m\u001b[0m\u001b[0m\n\u001b[0;32m     23\u001b[0m         \u001b[0mrow\u001b[0m \u001b[1;33m=\u001b[0m \u001b[0mrow\u001b[0m\u001b[1;33m.\u001b[0m\u001b[0mreset_index\u001b[0m\u001b[1;33m(\u001b[0m\u001b[1;33m)\u001b[0m\u001b[1;33m\u001b[0m\u001b[1;33m\u001b[0m\u001b[0m\n",
      "\u001b[1;31mAssertionError\u001b[0m: "
     ],
     "ename": "AssertionError",
     "evalue": "",
     "output_type": "error"
    }
   ],
   "source": [
    "# ------------------------------\n",
    "# ---------- EXP 1-A -----------\n",
    "# ------------------------------\n",
    "\n",
    "# Reader 1 dev essere il migliore, seguito da quello che vota a metà scala e da quello che vota agli estremi\n",
    "\n",
    "seed_shuffle_1_special = ReadersourcingParameters(\n",
    "    dataset_name=\"seed_shuffle_1_special\", \n",
    "    dataset_folder_path=\"../data/{}/\", \n",
    "    data_shuffled=True, \n",
    "    current_shuffle = 0,\n",
    "    shuffle_amount=100\n",
    ")\n",
    "\n",
    "df = build_df(\"Reader Score\", seed_shuffle_1_special)\n",
    "\n",
    "readers_number = df[df[\"Shuffle\"] == 0].shape[0]\n",
    "df = df[\n",
    "    (df[\"Identifier\"] == readers_number-1) |\n",
    "    (df[\"Identifier\"] == readers_number-2) |\n",
    "    (df[\"Identifier\"] == readers_number-3) \n",
    "]\n",
    "\n",
    "for shuffle_index in range(seed_shuffle_1_special.shuffle_amount):\n",
    "    df_shuffle = df[df[\"Shuffle\"] == shuffle_index]\n",
    "    display(df_shuffle)\n",
    "    reader_1_rating = df_shuffle.at[readers_number-1, \"Quantity\"]\n",
    "    reader_2_rating = df_shuffle.at[readers_number-2, \"Quantity\"]\n",
    "    reader_3_rating = df_shuffle.at[readers_number-3, \"Quantity\"]\n",
    "    print(reader_1_rating, reader_2_rating, reader_3_rating)\n",
    "    assert False"
   ],
   "metadata": {
    "collapsed": false,
    "pycharm": {
     "name": "#%%\n",
     "is_executing": false
    }
   }
  },
  {
   "cell_type": "code",
   "execution_count": 68,
   "outputs": [],
   "source": [
    "# ------------------------------\n",
    "# ---------- EXP 1-B -----------\n",
    "# ------------------------------\n",
    "\n",
    "seed_shuffle_1 = ReadersourcingParameters(\n",
    "    dataset_name=\"seed_shuffle_1\", \n",
    "    dataset_folder_path=\"../data/{}/\", \n",
    "    data_shuffled=True, \n",
    "    current_shuffle = 0,\n",
    "    shuffle_amount=100\n",
    ")\n",
    "\n",
    "result_folder_experiments_path = \"{}/experiments/\".format(seed_shuffle_1.result_folder_base_path)\n",
    "result_folder_exp_1_path = \"{}/experiment_1-b/\".format(result_folder_experiments_path)\n",
    "\n",
    "os.makedirs(result_folder_experiments_path, exist_ok=True)"
   ],
   "metadata": {
    "collapsed": false,
    "pycharm": {
     "name": "#%%\n",
     "is_executing": false
    }
   }
  },
  {
   "cell_type": "code",
   "execution_count": 69,
   "outputs": [
    {
     "name": "stdout",
     "text": [
      "0/100 (0/100%)\n",
      "5/100 (5/100%)\n",
      "10/100 (10/100%)\n",
      "15/100 (15/100%)\n",
      "20/100 (20/100%)\n",
      "25/100 (25/100%)\n",
      "30/100 (30/100%)\n",
      "35/100 (35/100%)\n",
      "40/100 (40/100%)\n",
      "45/100 (45/100%)\n",
      "50/100 (50/100%)\n",
      "55/100 (55/100%)\n",
      "60/100 (60/100%)\n",
      "65/100 (65/100%)\n",
      "70/100 (70/100%)\n",
      "75/100 (75/100%)\n",
      "80/100 (80/100%)\n",
      "85/100 (85/100%)\n",
      "90/100 (90/100%)\n",
      "95/100 (95/100%)\n",
      "100/100 (100/100%)\n---------- BUILDING PAPER SCORE SCATTER PLOT ----------\n",
      "---------- BUILDING PAPER SCORE LINE PLOT ----------\n"
     ],
     "output_type": "stream"
    }
   ],
   "source": [
    "df = build_df(\"Paper Score\", seed_shuffle_1)\n",
    "\n",
    "print(\"---------- BUILDING PAPER SCORE SCATTER PLOT ----------\")\n",
    "os.makedirs(result_folder_exp_1_path, exist_ok=True)\n",
    "ax = sns.scatterplot(x=\"Identifier\", y=\"Quantity\", data=df)\n",
    "fig = ax.get_figure()\n",
    "path = \"{}/paper-score-scatterplot.pdf\".format(result_folder_exp_1_path)\n",
    "fig.savefig(path, bbox_inches='tight')\n",
    "plt.close(fig)\n",
    "\n",
    "print(\"---------- BUILDING PAPER SCORE LINE PLOT ----------\")\n",
    "df = df[df[\"Shuffle\"] < 6]\n",
    "df = df[df[\"Identifier\"] < 20]\n",
    "ax = sns.pointplot(x=\"Identifier\", y=\"Quantity\", hue=\"Shuffle\", data=df)\n",
    "fig = ax.get_figure()\n",
    "path = \"{}/paper-score-lineplot.pdf\".format(result_folder_exp_1_path)\n",
    "fig.savefig(path, bbox_inches='tight')\n",
    "plt.close(fig)"
   ],
   "metadata": {
    "collapsed": false,
    "pycharm": {
     "name": "#%%\n",
     "is_executing": false
    }
   }
  },
  {
   "cell_type": "code",
   "execution_count": 70,
   "outputs": [
    {
     "name": "stdout",
     "text": [
      "0/100 (0/100%)\n",
      "5/100 (5/100%)\n",
      "10/100 (10/100%)\n",
      "15/100 (15/100%)\n",
      "20/100 (20/100%)\n",
      "25/100 (25/100%)\n",
      "30/100 (30/100%)\n",
      "35/100 (35/100%)\n",
      "40/100 (40/100%)\n",
      "45/100 (45/100%)\n",
      "50/100 (50/100%)\n",
      "55/100 (55/100%)\n",
      "60/100 (60/100%)\n",
      "65/100 (65/100%)\n",
      "70/100 (70/100%)\n",
      "75/100 (75/100%)\n",
      "80/100 (80/100%)\n",
      "85/100 (85/100%)\n",
      "90/100 (90/100%)\n",
      "95/100 (95/100%)\n",
      "100/100 (100/100%)\n---------- BUILDING PAPER STEADINESS SCATTER PLOT ----------\n",
      "---------- BUILDING PAPER STEADINESS LINE PLOT ----------\n"
     ],
     "output_type": "stream"
    }
   ],
   "source": [
    "df = build_df(\"Paper Steadiness\", seed_shuffle_1)\n",
    "\n",
    "print(\"---------- BUILDING PAPER STEADINESS SCATTER PLOT ----------\")\n",
    "os.makedirs(result_folder_exp_1_path, exist_ok=True)\n",
    "ax = sns.scatterplot(x=\"Identifier\", y=\"Quantity\", data=df)\n",
    "fig = ax.get_figure()\n",
    "path = \"{}/paper-steadiness-scatterplot.pdf\".format(result_folder_exp_1_path)\n",
    "fig.savefig(path, bbox_inches='tight')\n",
    "plt.close(fig)\n",
    "\n",
    "print(\"---------- BUILDING PAPER STEADINESS LINE PLOT ----------\")\n",
    "df = df[df[\"Shuffle\"] < 6]\n",
    "df = df[df[\"Identifier\"] < 20]\n",
    "ax = sns.pointplot(x=\"Identifier\", y=\"Quantity\", hue=\"Shuffle\", data=df)\n",
    "fig = ax.get_figure()\n",
    "path = \"{}/paper-steadiness-lineplot.pdf\".format(result_folder_exp_1_path)\n",
    "fig.savefig(path, bbox_inches='tight')\n",
    "plt.close(fig)"
   ],
   "metadata": {
    "collapsed": false,
    "pycharm": {
     "name": "#%%\n",
     "is_executing": false
    }
   }
  },
  {
   "cell_type": "code",
   "execution_count": 71,
   "outputs": [
    {
     "name": "stdout",
     "text": [
      "0/100 (0/100%)\n",
      "5/100 (5/100%)\n",
      "10/100 (10/100%)\n",
      "15/100 (15/100%)\n",
      "20/100 (20/100%)\n",
      "25/100 (25/100%)\n",
      "30/100 (30/100%)\n",
      "35/100 (35/100%)\n",
      "40/100 (40/100%)\n",
      "45/100 (45/100%)\n",
      "50/100 (50/100%)\n",
      "55/100 (55/100%)\n",
      "60/100 (60/100%)\n",
      "65/100 (65/100%)\n",
      "70/100 (70/100%)\n",
      "75/100 (75/100%)\n",
      "80/100 (80/100%)\n",
      "85/100 (85/100%)\n",
      "90/100 (90/100%)\n",
      "95/100 (95/100%)\n",
      "100/100 (100/100%)\n---------- BUILDING READER SCORE SCATTER PLOT ----------\n",
      "---------- BUILDING READER SCORE LINE PLOT ----------\n"
     ],
     "output_type": "stream"
    }
   ],
   "source": [
    "df = build_df(\"Reader Score\", seed_shuffle_1)\n",
    "\n",
    "print(\"---------- BUILDING READER SCORE SCATTER PLOT ----------\")\n",
    "os.makedirs(result_folder_exp_1_path, exist_ok=True)\n",
    "ax = sns.scatterplot(x=\"Identifier\", y=\"Quantity\", data=df)\n",
    "fig = ax.get_figure()\n",
    "path = \"{}/reader-score-scatterplot.pdf\".format(result_folder_exp_1_path)\n",
    "fig.savefig(path, bbox_inches='tight')\n",
    "plt.close(fig)\n",
    "\n",
    "print(\"---------- BUILDING READER SCORE LINE PLOT ----------\")\n",
    "df = df[df[\"Shuffle\"] < 6]\n",
    "df = df[df[\"Identifier\"] < 20]\n",
    "ax = sns.pointplot(x=\"Identifier\", y=\"Quantity\", hue=\"Shuffle\", data=df)\n",
    "fig = ax.get_figure()\n",
    "path = \"{}/reader-score-lineplot.pdf\".format(result_folder_exp_1_path)\n",
    "fig.savefig(path, bbox_inches='tight')\n",
    "plt.close(fig)"
   ],
   "metadata": {
    "collapsed": false,
    "pycharm": {
     "name": "#%%\n",
     "is_executing": false
    }
   }
  },
  {
   "cell_type": "code",
   "execution_count": 72,
   "outputs": [
    {
     "name": "stdout",
     "text": [
      "0/100 (0/100%)\n",
      "5/100 (5/100%)\n",
      "10/100 (10/100%)\n",
      "15/100 (15/100%)\n",
      "20/100 (20/100%)\n",
      "25/100 (25/100%)\n",
      "30/100 (30/100%)\n",
      "35/100 (35/100%)\n",
      "40/100 (40/100%)\n",
      "45/100 (45/100%)\n",
      "50/100 (50/100%)\n",
      "55/100 (55/100%)\n",
      "60/100 (60/100%)\n",
      "65/100 (65/100%)\n",
      "70/100 (70/100%)\n",
      "75/100 (75/100%)\n",
      "80/100 (80/100%)\n",
      "85/100 (85/100%)\n",
      "90/100 (90/100%)\n",
      "95/100 (95/100%)\n",
      "100/100 (100/100%)\n---------- BUILDING READER STEADINESS SCATTER PLOT ----------\n",
      "---------- BUILDING READER STEADINESS LINE PLOT ----------\n"
     ],
     "output_type": "stream"
    }
   ],
   "source": [
    "df = build_df(\"Reader Steadiness\", seed_shuffle_1)\n",
    "\n",
    "print(\"---------- BUILDING READER STEADINESS SCATTER PLOT ----------\")\n",
    "os.makedirs(result_folder_exp_1_path, exist_ok=True)\n",
    "ax = sns.scatterplot(x=\"Identifier\", y=\"Quantity\", data=df)\n",
    "fig = ax.get_figure()\n",
    "path = \"{}/reader-steadiness-scatterplot.pdf\".format(result_folder_exp_1_path)\n",
    "fig.savefig(path, bbox_inches='tight')\n",
    "plt.close(fig)\n",
    "\n",
    "print(\"---------- BUILDING READER STEADINESS LINE PLOT ----------\")\n",
    "df = df[df[\"Shuffle\"] < 6]\n",
    "df = df[df[\"Identifier\"] < 20]\n",
    "ax = sns.pointplot(x=\"Identifier\", y=\"Quantity\", hue=\"Shuffle\", data=df)\n",
    "fig = ax.get_figure()\n",
    "path = \"{}/reader-steadiness-lineplot.pdf\".format(result_folder_exp_1_path)\n",
    "fig.savefig(path, bbox_inches='tight')\n",
    "plt.close(fig)"
   ],
   "metadata": {
    "collapsed": false,
    "pycharm": {
     "name": "#%%\n",
     "is_executing": false
    }
   }
  },
  {
   "cell_type": "code",
   "execution_count": null,
   "outputs": [],
   "source": [
    "\n"
   ],
   "metadata": {
    "collapsed": false,
    "pycharm": {
     "name": "#%%\n"
    }
   }
  }
 ],
 "metadata": {
  "language_info": {
   "codemirror_mode": {
    "name": "ipython",
    "version": 2
   },
   "file_extension": ".py",
   "mimetype": "text/x-python",
   "name": "python",
   "nbconvert_exporter": "python",
   "pygments_lexer": "ipython2",
   "version": "2.7.6"
  },
  "kernelspec": {
   "name": "python3",
   "language": "python",
   "display_name": "Python 3"
  },
  "pycharm": {
   "stem_cell": {
    "cell_type": "raw",
    "source": [],
    "metadata": {
     "collapsed": false
    }
   }
  }
 },
 "nbformat": 4,
 "nbformat_minor": 0
}