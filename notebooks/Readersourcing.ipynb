{
  "cells": [
    {
      "cell_type": "code",
      "execution_count": 2,
      "metadata": {
        "collapsed": true,
        "pycharm": {
          "is_executing": false
        }
      },
      "outputs": [
        {
          "name": "stdout",
          "text": [
            "   Paper1  Paper2  Paper3\n0     0.8     0.0     0.8\n1     0.2     0.5     0.0\n2     0.2     0.5     0.0\n"
          ],
          "output_type": "stream"
        }
      ],
      "source": "\nimport pandas as pd\nimport numpy as np\nimport math as m\n\npaper_ratings \u003d pd.read_csv(\"../data/ratings.csv\")\npapers_number, readers_number \u003d paper_ratings.shape\n\nepsilon \u003d 0.000001\n\npaper_steadiness \u003d np.zeros(papers_number)\npaper_score \u003d np.zeros(papers_number)\nreader_steadiness \u003d np.zeros(readers_number)\nreader_score \u003d np.full(readers_number, epsilon)\n\nprint(paper_ratings)\n\n### PAPER STEADINESS COMPUTATION\n\npapers_indexes \u003d range(0, papers_number)\n\nfor index in papers_indexes:\n    \n    current_ratings \u003d paper_ratings.iloc[:, index]\n    \n    for rating in current_ratings:\n        \n        old_paper_steadiness \u003d paper_steadiness[index]\n        old_paper_score \u003d paper_score[index]\n        old_reader_steadiness \u003d reader_steadiness[index]\n        old_rating_goodness \u003d 1 - (m.sqrt(abs(rating-old_paper_score)))\n        old_reader_score \u003d reader_score[index]"
    }
  ],
  "metadata": {
    "language_info": {
      "codemirror_mode": {
        "name": "ipython",
        "version": 2
      },
      "file_extension": ".py",
      "mimetype": "text/x-python",
      "name": "python",
      "nbconvert_exporter": "python",
      "pygments_lexer": "ipython2",
      "version": "2.7.6"
    },
    "kernelspec": {
      "name": "python3",
      "language": "python",
      "display_name": "Python 3"
    }
  },
  "nbformat": 4,
  "nbformat_minor": 0
}