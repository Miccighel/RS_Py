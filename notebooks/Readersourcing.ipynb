{
 "cells": [
  {
   "cell_type": "code",
   "execution_count": 1,
   "metadata": {
    "collapsed": true,
    "pycharm": {
     "is_executing": false
    }
   },
   "outputs": [
    {
     "name": "stdout",
     "output_type": "stream",
     "text": [
      "   Paper1  Paper2  Paper3\n0     0.8     0.0     0.8\n1     0.2     0.5     0.0\n2     0.2     0.5     0.0\n"
     ]
    }
   ],
   "source": [
    "import pandas as pd\n",
    "import numpy as np\n",
    "import math as m\n",
    "\n",
    "paper_ratings = pd.read_csv(\"../data/ratings.csv\")\n",
    "papers_number, readers_number = paper_ratings.shape\n",
    "\n",
    "epsilon = 0.000001\n",
    "\n",
    "paper_steadiness = np.zeros(papers_number)\n",
    "paper_score = np.zeros(papers_number)\n",
    "reader_steadiness = np.zeros(readers_number)\n",
    "reader_score = np.full(readers_number, epsilon)\n",
    "\n",
    "\n",
    "print(paper_ratings)\n",
    "\n",
    "# PAPER STEADINESS COMPUTATION\n",
    "\n",
    "papers_indexes = range(0, papers_number)\n",
    "\n",
    "for index in papers_indexes:\n",
    "    \n",
    "    current_ratings = paper_ratings.iloc[:, index]\n",
    "    \n",
    "    for rating in current_ratings:\n",
    "        \n",
    "        old_paper_steadiness = paper_steadiness[index]\n",
    "        old_paper_score = paper_score[index]\n",
    "        old_reader_steadiness = reader_steadiness[index]\n",
    "        old_rating_goodness = 1 - (m.sqrt(abs(rating-old_paper_score)))\n",
    "        old_reader_score = reader_score[index]"
   ]
  },
  {
   "cell_type": "code",
   "execution_count": null,
   "metadata": {},
   "outputs": [],
   "source": []
  }
 ],
 "metadata": {
  "language_info": {
   "codemirror_mode": {
    "name": "ipython",
    "version": 2
   },
   "file_extension": ".py",
   "mimetype": "text/x-python",
   "name": "python",
   "nbconvert_exporter": "python",
   "pygments_lexer": "ipython2",
   "version": "2.7.6"
  },
  "kernelspec": {
   "name": "python3",
   "language": "python",
   "display_name": "Python 3"
  }
 },
 "nbformat": 4,
 "nbformat_minor": 0
}
