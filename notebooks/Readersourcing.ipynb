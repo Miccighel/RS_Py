{
  "cells": [
    {
      "cell_type": "code",
      "execution_count": 49,
      "metadata": {
        "collapsed": true,
        "pycharm": {
          "is_executing": false
        }
      },
      "outputs": [
        {
          "name": "stdout",
          "text": [
            "0\n0\n2\n0\n0\n0\n3\n0\n0\n0\n3\n1\n0\n0\n3\n2\n[0.7999988 0.5      ]\n[1.000003  0.5527874]\n[0.99891046 0.22540764 0.50115955 0.99929453]\n[1.000002  1.000002  1.5527894 1.5527904]\n"
          ],
          "output_type": "stream"
        },
        {
          "name": "stderr",
          "text": [
            "C:\\Ambienti\\Anaconda3\\lib\\site-packages\\ipykernel_launcher.py:6: FutureWarning: Method .as_matrix will be removed in a future version. Use .values instead.\n  \n"
          ],
          "output_type": "stream"
        }
      ],
      "source": "import pandas as pd\nimport numpy as np\nimport math as m\n\npaper_ratings \u003d pd.read_csv(\"../data/ratings.csv\")\npaper_ratings \u003d paper_ratings.as_matrix()\n\npapers_number, readers_number, ratings_number \u003d 2, 4, 6\n\nepsilon \u003d 0.000001\n\npaper_steadiness \u003d np.zeros(papers_number)\npaper_score \u003d np.zeros(papers_number)\nrating_goodness \u003d np.empty(ratings_number)\nreader_steadiness \u003d np.zeros(readers_number)\nreader_score \u003d np.zeros(readers_number)\nreader_score.fill(epsilon)\n\nfor index, quad in enumerate(paper_ratings):\n                \n        timestamp \u003d int(quad[0])\n        reader \u003d int(quad[1])\n        paper \u003d int(quad[2])\n        rating \u003d quad[3]\n        \n        # Saving values at time t(i)\n        \n        old_paper_steadiness \u003d paper_steadiness[paper]\n        old_paper_score \u003d paper_score[paper]\n        old_reader_steadiness \u003d reader_steadiness[reader]\n        old_rating_goodness \u003d rating_goodness[timestamp]\n        old_reader_score \u003d reader_score[reader]                \n        \n        # Updating values at time t(i+1)\n                          \n        paper_steadiness[paper] \u003d old_paper_steadiness + reader_score[reader]\n        paper_score[paper] \u003d ((old_paper_steadiness * old_paper_score) + (old_reader_score * rating))/ paper_steadiness[paper] \n        reader_steadiness[reader] \u003d (old_reader_steadiness + paper_steadiness[paper])\n        rating_goodness[timestamp] \u003d 1 - (m.sqrt(abs(rating-paper_score[paper])))\n        reader_score[reader] \u003d ((old_reader_steadiness * old_reader_score) + (paper_steadiness[paper]*rating_goodness[timestamp]))/reader_steadiness[reader]\n        \n        if index \u003e 0 :\n            \n            previous_paper_ratings \u003d paper_ratings[:(index-1)]\n            \n            for previous_index, previous_quad in enumerate(previous_paper_ratings):\n            \n                previous_timestamp \u003d int(previous_quad[0])\n                previous_reader \u003d int(previous_quad[1])\n                previous_paper \u003d int(previous_quad[2])\n                previous_rating \u003d previous_quad[3]\n                \n                if paper \u003d\u003d previous_paper and reader !\u003d previous_reader:\n                    \n                    print(paper )\n                    print(previous_paper )\n                    \n                    print(reader)\n                    print(previous_reader)\n                \n                    # Saving previous values at time t(i)\n            \n                    old_previous_reader_steadiness \u003d reader_steadiness[previous_reader]\n                    old_previous_reader_score \u003d reader_score[previous_reader]\n                    old_previous_rating \u003d previous_rating\n                    old_previous_rating_goodness \u003d rating_goodness[previous_timestamp]\n                    \n                    # Updating previous values at time t(i+1)\n                    \n                    previous_rating_goodness \u003d 1 - (m.sqrt(abs(previous_rating-paper_score[paper])))\n                    reader_steadiness[previous_reader] \u003d (old_previous_reader_steadiness + old_reader_score)\n                    reader_score[previous_reader] \u003d ((old_previous_reader_steadiness * old_previous_reader_score) + (old_paper_steadiness * old_rating_goodness) + (paper_steadiness[paper] * previous_rating_goodness)) / reader_steadiness[previous_reader]\n                \nprint(paper_score)\nprint(paper_steadiness)\nprint(reader_score)\nprint(reader_steadiness)                "
    }
  ],
  "metadata": {
    "language_info": {
      "codemirror_mode": {
        "name": "ipython",
        "version": 2
      },
      "file_extension": ".py",
      "mimetype": "text/x-python",
      "name": "python",
      "nbconvert_exporter": "python",
      "pygments_lexer": "ipython2",
      "version": "2.7.6"
    },
    "kernelspec": {
      "name": "python3",
      "language": "python",
      "display_name": "Python 3"
    }
  },
  "nbformat": 4,
  "nbformat_minor": 0
}